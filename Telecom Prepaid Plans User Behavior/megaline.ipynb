{
 "cells": [
  {
   "cell_type": "markdown",
   "metadata": {},
   "source": [
    "# Which one is a better plan?\n",
    "\n",
    "You work as an analyst for the telecom operator Megaline. The company offers its clients two prepaid plans, Surf and Ultimate. The commercial department wants to know which of the plans brings in more revenue in order to adjust the advertising budget.\n",
    "\n",
    "You are going to carry out a preliminary analysis of the plans based on a relatively small client selection. You'll have the data on 500 Megaline clients: who the clients are, where they're from, which plan they use, and the number of calls they made and text messages they sent in 2018. Your job is to analyze the clients' behavior and determine which prepaid plan brings in more revenue."
   ]
  },
  {
   "cell_type": "markdown",
   "metadata": {},
   "source": [
    "## Initialization"
   ]
  },
  {
   "cell_type": "markdown",
   "metadata": {},
   "source": [
    "We'll need:\n",
    "- Pandas library to load, prepare, and analyze the data\n",
    "- Numpy to simplify sorting and math operations for arrays & series\n",
    "- Stats from Scipy to compare sample means and obtain p-value\n",
    "- Pyplot from matplotlib & Seaborn to plot data"
   ]
  },
  {
   "cell_type": "code",
   "execution_count": 1,
   "metadata": {},
   "outputs": [],
   "source": [
    "import pandas as pd\n",
    "import numpy as np\n",
    "from scipy import stats as st\n",
    "from matplotlib import pyplot as plt\n",
    "import seaborn as sns"
   ]
  },
  {
   "cell_type": "markdown",
   "metadata": {},
   "source": [
    "## Load data"
   ]
  },
  {
   "cell_type": "code",
   "execution_count": 2,
   "metadata": {},
   "outputs": [],
   "source": [
    "# Load the data files into different DataFrames\n",
    "\n",
    "df_calls = pd.read_csv('./megaline_calls.csv')\n",
    "df_data = pd.read_csv('./megaline_internet.csv')\n",
    "df_messages = pd.read_csv('./megaline_messages.csv')\n",
    "df_plans = pd.read_csv('./megaline_plans.csv')\n",
    "df_users = pd.read_csv('./megaline_users.csv')"
   ]
  },
  {
   "cell_type": "markdown",
   "metadata": {},
   "source": [
    "## Prepare the data"
   ]
  },
  {
   "cell_type": "code",
   "execution_count": 3,
   "metadata": {},
   "outputs": [
    {
     "name": "stdout",
     "output_type": "stream",
     "text": [
      "<class 'pandas.core.frame.DataFrame'>\n",
      "RangeIndex: 137735 entries, 0 to 137734\n",
      "Data columns (total 4 columns):\n",
      " #   Column     Non-Null Count   Dtype  \n",
      "---  ------     --------------   -----  \n",
      " 0   id         137735 non-null  object \n",
      " 1   user_id    137735 non-null  int64  \n",
      " 2   call_date  137735 non-null  object \n",
      " 3   duration   137735 non-null  float64\n",
      "dtypes: float64(1), int64(1), object(2)\n",
      "memory usage: 4.2+ MB\n"
     ]
    },
    {
     "data": {
      "text/html": [
       "<div>\n",
       "<style scoped>\n",
       "    .dataframe tbody tr th:only-of-type {\n",
       "        vertical-align: middle;\n",
       "    }\n",
       "\n",
       "    .dataframe tbody tr th {\n",
       "        vertical-align: top;\n",
       "    }\n",
       "\n",
       "    .dataframe thead th {\n",
       "        text-align: right;\n",
       "    }\n",
       "</style>\n",
       "<table border=\"1\" class=\"dataframe\">\n",
       "  <thead>\n",
       "    <tr style=\"text-align: right;\">\n",
       "      <th></th>\n",
       "      <th>id</th>\n",
       "      <th>user_id</th>\n",
       "      <th>call_date</th>\n",
       "      <th>duration</th>\n",
       "    </tr>\n",
       "  </thead>\n",
       "  <tbody>\n",
       "    <tr>\n",
       "      <th>0</th>\n",
       "      <td>1000_93</td>\n",
       "      <td>1000</td>\n",
       "      <td>2018-12-27</td>\n",
       "      <td>8.52</td>\n",
       "    </tr>\n",
       "    <tr>\n",
       "      <th>1</th>\n",
       "      <td>1000_145</td>\n",
       "      <td>1000</td>\n",
       "      <td>2018-12-27</td>\n",
       "      <td>13.66</td>\n",
       "    </tr>\n",
       "    <tr>\n",
       "      <th>2</th>\n",
       "      <td>1000_247</td>\n",
       "      <td>1000</td>\n",
       "      <td>2018-12-27</td>\n",
       "      <td>14.48</td>\n",
       "    </tr>\n",
       "    <tr>\n",
       "      <th>3</th>\n",
       "      <td>1000_309</td>\n",
       "      <td>1000</td>\n",
       "      <td>2018-12-28</td>\n",
       "      <td>5.76</td>\n",
       "    </tr>\n",
       "    <tr>\n",
       "      <th>4</th>\n",
       "      <td>1000_380</td>\n",
       "      <td>1000</td>\n",
       "      <td>2018-12-30</td>\n",
       "      <td>4.22</td>\n",
       "    </tr>\n",
       "  </tbody>\n",
       "</table>\n",
       "</div>"
      ],
      "text/plain": [
       "         id  user_id   call_date  duration\n",
       "0   1000_93     1000  2018-12-27      8.52\n",
       "1  1000_145     1000  2018-12-27     13.66\n",
       "2  1000_247     1000  2018-12-27     14.48\n",
       "3  1000_309     1000  2018-12-28      5.76\n",
       "4  1000_380     1000  2018-12-30      4.22"
      ]
     },
     "execution_count": 3,
     "metadata": {},
     "output_type": "execute_result"
    }
   ],
   "source": [
    "# Using info() method to get familiar with dataframe size, columns, values, null values, and data types\n",
    "\n",
    "df_calls.info(show_counts=True)\n",
    "df_calls.head()"
   ]
  },
  {
   "cell_type": "code",
   "execution_count": 4,
   "metadata": {},
   "outputs": [
    {
     "name": "stdout",
     "output_type": "stream",
     "text": [
      "<class 'pandas.core.frame.DataFrame'>\n",
      "RangeIndex: 104825 entries, 0 to 104824\n",
      "Data columns (total 4 columns):\n",
      " #   Column        Non-Null Count   Dtype  \n",
      "---  ------        --------------   -----  \n",
      " 0   id            104825 non-null  object \n",
      " 1   user_id       104825 non-null  int64  \n",
      " 2   session_date  104825 non-null  object \n",
      " 3   mb_used       104825 non-null  float64\n",
      "dtypes: float64(1), int64(1), object(2)\n",
      "memory usage: 3.2+ MB\n"
     ]
    },
    {
     "data": {
      "text/html": [
       "<div>\n",
       "<style scoped>\n",
       "    .dataframe tbody tr th:only-of-type {\n",
       "        vertical-align: middle;\n",
       "    }\n",
       "\n",
       "    .dataframe tbody tr th {\n",
       "        vertical-align: top;\n",
       "    }\n",
       "\n",
       "    .dataframe thead th {\n",
       "        text-align: right;\n",
       "    }\n",
       "</style>\n",
       "<table border=\"1\" class=\"dataframe\">\n",
       "  <thead>\n",
       "    <tr style=\"text-align: right;\">\n",
       "      <th></th>\n",
       "      <th>id</th>\n",
       "      <th>user_id</th>\n",
       "      <th>session_date</th>\n",
       "      <th>mb_used</th>\n",
       "    </tr>\n",
       "  </thead>\n",
       "  <tbody>\n",
       "    <tr>\n",
       "      <th>0</th>\n",
       "      <td>1000_13</td>\n",
       "      <td>1000</td>\n",
       "      <td>2018-12-29</td>\n",
       "      <td>89.86</td>\n",
       "    </tr>\n",
       "    <tr>\n",
       "      <th>1</th>\n",
       "      <td>1000_204</td>\n",
       "      <td>1000</td>\n",
       "      <td>2018-12-31</td>\n",
       "      <td>0.00</td>\n",
       "    </tr>\n",
       "    <tr>\n",
       "      <th>2</th>\n",
       "      <td>1000_379</td>\n",
       "      <td>1000</td>\n",
       "      <td>2018-12-28</td>\n",
       "      <td>660.40</td>\n",
       "    </tr>\n",
       "    <tr>\n",
       "      <th>3</th>\n",
       "      <td>1000_413</td>\n",
       "      <td>1000</td>\n",
       "      <td>2018-12-26</td>\n",
       "      <td>270.99</td>\n",
       "    </tr>\n",
       "    <tr>\n",
       "      <th>4</th>\n",
       "      <td>1000_442</td>\n",
       "      <td>1000</td>\n",
       "      <td>2018-12-27</td>\n",
       "      <td>880.22</td>\n",
       "    </tr>\n",
       "  </tbody>\n",
       "</table>\n",
       "</div>"
      ],
      "text/plain": [
       "         id  user_id session_date  mb_used\n",
       "0   1000_13     1000   2018-12-29    89.86\n",
       "1  1000_204     1000   2018-12-31     0.00\n",
       "2  1000_379     1000   2018-12-28   660.40\n",
       "3  1000_413     1000   2018-12-26   270.99\n",
       "4  1000_442     1000   2018-12-27   880.22"
      ]
     },
     "execution_count": 4,
     "metadata": {},
     "output_type": "execute_result"
    }
   ],
   "source": [
    "df_data.info(show_counts=True)\n",
    "df_data.head()"
   ]
  },
  {
   "cell_type": "code",
   "execution_count": 5,
   "metadata": {},
   "outputs": [
    {
     "name": "stdout",
     "output_type": "stream",
     "text": [
      "<class 'pandas.core.frame.DataFrame'>\n",
      "RangeIndex: 76051 entries, 0 to 76050\n",
      "Data columns (total 3 columns):\n",
      " #   Column        Non-Null Count  Dtype \n",
      "---  ------        --------------  ----- \n",
      " 0   id            76051 non-null  object\n",
      " 1   user_id       76051 non-null  int64 \n",
      " 2   message_date  76051 non-null  object\n",
      "dtypes: int64(1), object(2)\n",
      "memory usage: 1.7+ MB\n"
     ]
    },
    {
     "data": {
      "text/html": [
       "<div>\n",
       "<style scoped>\n",
       "    .dataframe tbody tr th:only-of-type {\n",
       "        vertical-align: middle;\n",
       "    }\n",
       "\n",
       "    .dataframe tbody tr th {\n",
       "        vertical-align: top;\n",
       "    }\n",
       "\n",
       "    .dataframe thead th {\n",
       "        text-align: right;\n",
       "    }\n",
       "</style>\n",
       "<table border=\"1\" class=\"dataframe\">\n",
       "  <thead>\n",
       "    <tr style=\"text-align: right;\">\n",
       "      <th></th>\n",
       "      <th>id</th>\n",
       "      <th>user_id</th>\n",
       "      <th>message_date</th>\n",
       "    </tr>\n",
       "  </thead>\n",
       "  <tbody>\n",
       "    <tr>\n",
       "      <th>0</th>\n",
       "      <td>1000_125</td>\n",
       "      <td>1000</td>\n",
       "      <td>2018-12-27</td>\n",
       "    </tr>\n",
       "    <tr>\n",
       "      <th>1</th>\n",
       "      <td>1000_160</td>\n",
       "      <td>1000</td>\n",
       "      <td>2018-12-31</td>\n",
       "    </tr>\n",
       "    <tr>\n",
       "      <th>2</th>\n",
       "      <td>1000_223</td>\n",
       "      <td>1000</td>\n",
       "      <td>2018-12-31</td>\n",
       "    </tr>\n",
       "    <tr>\n",
       "      <th>3</th>\n",
       "      <td>1000_251</td>\n",
       "      <td>1000</td>\n",
       "      <td>2018-12-27</td>\n",
       "    </tr>\n",
       "    <tr>\n",
       "      <th>4</th>\n",
       "      <td>1000_255</td>\n",
       "      <td>1000</td>\n",
       "      <td>2018-12-26</td>\n",
       "    </tr>\n",
       "  </tbody>\n",
       "</table>\n",
       "</div>"
      ],
      "text/plain": [
       "         id  user_id message_date\n",
       "0  1000_125     1000   2018-12-27\n",
       "1  1000_160     1000   2018-12-31\n",
       "2  1000_223     1000   2018-12-31\n",
       "3  1000_251     1000   2018-12-27\n",
       "4  1000_255     1000   2018-12-26"
      ]
     },
     "execution_count": 5,
     "metadata": {},
     "output_type": "execute_result"
    }
   ],
   "source": [
    "df_messages.info(show_counts=True)\n",
    "df_messages.head()"
   ]
  },
  {
   "cell_type": "code",
   "execution_count": 6,
   "metadata": {},
   "outputs": [
    {
     "name": "stdout",
     "output_type": "stream",
     "text": [
      "<class 'pandas.core.frame.DataFrame'>\n",
      "RangeIndex: 500 entries, 0 to 499\n",
      "Data columns (total 8 columns):\n",
      " #   Column      Non-Null Count  Dtype \n",
      "---  ------      --------------  ----- \n",
      " 0   user_id     500 non-null    int64 \n",
      " 1   first_name  500 non-null    object\n",
      " 2   last_name   500 non-null    object\n",
      " 3   age         500 non-null    int64 \n",
      " 4   city        500 non-null    object\n",
      " 5   reg_date    500 non-null    object\n",
      " 6   plan        500 non-null    object\n",
      " 7   churn_date  34 non-null     object\n",
      "dtypes: int64(2), object(6)\n",
      "memory usage: 31.4+ KB\n"
     ]
    },
    {
     "data": {
      "text/html": [
       "<div>\n",
       "<style scoped>\n",
       "    .dataframe tbody tr th:only-of-type {\n",
       "        vertical-align: middle;\n",
       "    }\n",
       "\n",
       "    .dataframe tbody tr th {\n",
       "        vertical-align: top;\n",
       "    }\n",
       "\n",
       "    .dataframe thead th {\n",
       "        text-align: right;\n",
       "    }\n",
       "</style>\n",
       "<table border=\"1\" class=\"dataframe\">\n",
       "  <thead>\n",
       "    <tr style=\"text-align: right;\">\n",
       "      <th></th>\n",
       "      <th>user_id</th>\n",
       "      <th>first_name</th>\n",
       "      <th>last_name</th>\n",
       "      <th>age</th>\n",
       "      <th>city</th>\n",
       "      <th>reg_date</th>\n",
       "      <th>plan</th>\n",
       "      <th>churn_date</th>\n",
       "    </tr>\n",
       "  </thead>\n",
       "  <tbody>\n",
       "    <tr>\n",
       "      <th>0</th>\n",
       "      <td>1000</td>\n",
       "      <td>Anamaria</td>\n",
       "      <td>Bauer</td>\n",
       "      <td>45</td>\n",
       "      <td>Atlanta-Sandy Springs-Roswell, GA MSA</td>\n",
       "      <td>2018-12-24</td>\n",
       "      <td>ultimate</td>\n",
       "      <td>NaN</td>\n",
       "    </tr>\n",
       "    <tr>\n",
       "      <th>1</th>\n",
       "      <td>1001</td>\n",
       "      <td>Mickey</td>\n",
       "      <td>Wilkerson</td>\n",
       "      <td>28</td>\n",
       "      <td>Seattle-Tacoma-Bellevue, WA MSA</td>\n",
       "      <td>2018-08-13</td>\n",
       "      <td>surf</td>\n",
       "      <td>NaN</td>\n",
       "    </tr>\n",
       "    <tr>\n",
       "      <th>2</th>\n",
       "      <td>1002</td>\n",
       "      <td>Carlee</td>\n",
       "      <td>Hoffman</td>\n",
       "      <td>36</td>\n",
       "      <td>Las Vegas-Henderson-Paradise, NV MSA</td>\n",
       "      <td>2018-10-21</td>\n",
       "      <td>surf</td>\n",
       "      <td>NaN</td>\n",
       "    </tr>\n",
       "    <tr>\n",
       "      <th>3</th>\n",
       "      <td>1003</td>\n",
       "      <td>Reynaldo</td>\n",
       "      <td>Jenkins</td>\n",
       "      <td>52</td>\n",
       "      <td>Tulsa, OK MSA</td>\n",
       "      <td>2018-01-28</td>\n",
       "      <td>surf</td>\n",
       "      <td>NaN</td>\n",
       "    </tr>\n",
       "    <tr>\n",
       "      <th>4</th>\n",
       "      <td>1004</td>\n",
       "      <td>Leonila</td>\n",
       "      <td>Thompson</td>\n",
       "      <td>40</td>\n",
       "      <td>Seattle-Tacoma-Bellevue, WA MSA</td>\n",
       "      <td>2018-05-23</td>\n",
       "      <td>surf</td>\n",
       "      <td>NaN</td>\n",
       "    </tr>\n",
       "  </tbody>\n",
       "</table>\n",
       "</div>"
      ],
      "text/plain": [
       "   user_id first_name  last_name  age                                   city  \\\n",
       "0     1000   Anamaria      Bauer   45  Atlanta-Sandy Springs-Roswell, GA MSA   \n",
       "1     1001     Mickey  Wilkerson   28        Seattle-Tacoma-Bellevue, WA MSA   \n",
       "2     1002     Carlee    Hoffman   36   Las Vegas-Henderson-Paradise, NV MSA   \n",
       "3     1003   Reynaldo    Jenkins   52                          Tulsa, OK MSA   \n",
       "4     1004    Leonila   Thompson   40        Seattle-Tacoma-Bellevue, WA MSA   \n",
       "\n",
       "     reg_date      plan churn_date  \n",
       "0  2018-12-24  ultimate        NaN  \n",
       "1  2018-08-13      surf        NaN  \n",
       "2  2018-10-21      surf        NaN  \n",
       "3  2018-01-28      surf        NaN  \n",
       "4  2018-05-23      surf        NaN  "
      ]
     },
     "execution_count": 6,
     "metadata": {},
     "output_type": "execute_result"
    }
   ],
   "source": [
    "df_users.info(show_counts=True)\n",
    "df_users.head()"
   ]
  },
  {
   "cell_type": "markdown",
   "metadata": {},
   "source": [
    "df_users:\n",
    "churn_date column has NaN values that need to be dealt with"
   ]
  },
  {
   "cell_type": "markdown",
   "metadata": {},
   "source": [
    "## Plans"
   ]
  },
  {
   "cell_type": "code",
   "execution_count": 7,
   "metadata": {},
   "outputs": [
    {
     "name": "stdout",
     "output_type": "stream",
     "text": [
      "<class 'pandas.core.frame.DataFrame'>\n",
      "RangeIndex: 2 entries, 0 to 1\n",
      "Data columns (total 8 columns):\n",
      " #   Column                 Non-Null Count  Dtype  \n",
      "---  ------                 --------------  -----  \n",
      " 0   messages_included      2 non-null      int64  \n",
      " 1   mb_per_month_included  2 non-null      int64  \n",
      " 2   minutes_included       2 non-null      int64  \n",
      " 3   usd_monthly_pay        2 non-null      int64  \n",
      " 4   usd_per_gb             2 non-null      int64  \n",
      " 5   usd_per_message        2 non-null      float64\n",
      " 6   usd_per_minute         2 non-null      float64\n",
      " 7   plan_name              2 non-null      object \n",
      "dtypes: float64(2), int64(5), object(1)\n",
      "memory usage: 256.0+ bytes\n"
     ]
    }
   ],
   "source": [
    "# Print the general/summary information about the plans' DataFrame\n",
    "\n",
    "df_plans.info(show_counts=True)"
   ]
  },
  {
   "cell_type": "code",
   "execution_count": 8,
   "metadata": {
    "scrolled": true
   },
   "outputs": [
    {
     "data": {
      "text/html": [
       "<div>\n",
       "<style scoped>\n",
       "    .dataframe tbody tr th:only-of-type {\n",
       "        vertical-align: middle;\n",
       "    }\n",
       "\n",
       "    .dataframe tbody tr th {\n",
       "        vertical-align: top;\n",
       "    }\n",
       "\n",
       "    .dataframe thead th {\n",
       "        text-align: right;\n",
       "    }\n",
       "</style>\n",
       "<table border=\"1\" class=\"dataframe\">\n",
       "  <thead>\n",
       "    <tr style=\"text-align: right;\">\n",
       "      <th></th>\n",
       "      <th>messages_included</th>\n",
       "      <th>mb_per_month_included</th>\n",
       "      <th>minutes_included</th>\n",
       "      <th>usd_monthly_pay</th>\n",
       "      <th>usd_per_gb</th>\n",
       "      <th>usd_per_message</th>\n",
       "      <th>usd_per_minute</th>\n",
       "      <th>plan_name</th>\n",
       "    </tr>\n",
       "  </thead>\n",
       "  <tbody>\n",
       "    <tr>\n",
       "      <th>0</th>\n",
       "      <td>50</td>\n",
       "      <td>15360</td>\n",
       "      <td>500</td>\n",
       "      <td>20</td>\n",
       "      <td>10</td>\n",
       "      <td>0.03</td>\n",
       "      <td>0.03</td>\n",
       "      <td>surf</td>\n",
       "    </tr>\n",
       "    <tr>\n",
       "      <th>1</th>\n",
       "      <td>1000</td>\n",
       "      <td>30720</td>\n",
       "      <td>3000</td>\n",
       "      <td>70</td>\n",
       "      <td>7</td>\n",
       "      <td>0.01</td>\n",
       "      <td>0.01</td>\n",
       "      <td>ultimate</td>\n",
       "    </tr>\n",
       "  </tbody>\n",
       "</table>\n",
       "</div>"
      ],
      "text/plain": [
       "   messages_included  mb_per_month_included  minutes_included  \\\n",
       "0                 50                  15360               500   \n",
       "1               1000                  30720              3000   \n",
       "\n",
       "   usd_monthly_pay  usd_per_gb  usd_per_message  usd_per_minute plan_name  \n",
       "0               20          10             0.03            0.03      surf  \n",
       "1               70           7             0.01            0.01  ultimate  "
      ]
     },
     "execution_count": 8,
     "metadata": {},
     "output_type": "execute_result"
    }
   ],
   "source": [
    "# Print a sample of data for plans\n",
    "\n",
    "df_plans.head()"
   ]
  },
  {
   "cell_type": "markdown",
   "metadata": {},
   "source": [
    "Data types are fine, the positioning of the columns makes it hard to read. I think it's better to have plan name and monthly plan cost as the first two columns on the left and rename the column names so they're consistent and clear."
   ]
  },
  {
   "cell_type": "markdown",
   "metadata": {},
   "source": [
    "## Fix data"
   ]
  },
  {
   "cell_type": "code",
   "execution_count": 9,
   "metadata": {},
   "outputs": [],
   "source": [
    "#Reorder columns for better readability\n",
    "\n",
    "df_plans = df_plans[['plan_name','usd_monthly_pay','messages_included','mb_per_month_included','minutes_included','usd_per_message','usd_per_gb','usd_per_minute']]\n",
    "df_plans = df_plans.rename(columns={\n",
    "\"usd_monthly_pay\": \"plan_monthly_cost_usd\",\n",
    "\"mb_per_month_included\": \"mb_included\"\n",
    "}\n",
    "                          )"
   ]
  },
  {
   "cell_type": "code",
   "execution_count": 10,
   "metadata": {},
   "outputs": [
    {
     "data": {
      "text/html": [
       "<div>\n",
       "<style scoped>\n",
       "    .dataframe tbody tr th:only-of-type {\n",
       "        vertical-align: middle;\n",
       "    }\n",
       "\n",
       "    .dataframe tbody tr th {\n",
       "        vertical-align: top;\n",
       "    }\n",
       "\n",
       "    .dataframe thead th {\n",
       "        text-align: right;\n",
       "    }\n",
       "</style>\n",
       "<table border=\"1\" class=\"dataframe\">\n",
       "  <thead>\n",
       "    <tr style=\"text-align: right;\">\n",
       "      <th></th>\n",
       "      <th>plan_name</th>\n",
       "      <th>plan_monthly_cost_usd</th>\n",
       "      <th>messages_included</th>\n",
       "      <th>mb_included</th>\n",
       "      <th>minutes_included</th>\n",
       "      <th>usd_per_message</th>\n",
       "      <th>usd_per_gb</th>\n",
       "      <th>usd_per_minute</th>\n",
       "    </tr>\n",
       "  </thead>\n",
       "  <tbody>\n",
       "    <tr>\n",
       "      <th>0</th>\n",
       "      <td>surf</td>\n",
       "      <td>20</td>\n",
       "      <td>50</td>\n",
       "      <td>15360</td>\n",
       "      <td>500</td>\n",
       "      <td>0.03</td>\n",
       "      <td>10</td>\n",
       "      <td>0.03</td>\n",
       "    </tr>\n",
       "    <tr>\n",
       "      <th>1</th>\n",
       "      <td>ultimate</td>\n",
       "      <td>70</td>\n",
       "      <td>1000</td>\n",
       "      <td>30720</td>\n",
       "      <td>3000</td>\n",
       "      <td>0.01</td>\n",
       "      <td>7</td>\n",
       "      <td>0.01</td>\n",
       "    </tr>\n",
       "  </tbody>\n",
       "</table>\n",
       "</div>"
      ],
      "text/plain": [
       "  plan_name  plan_monthly_cost_usd  messages_included  mb_included  \\\n",
       "0      surf                     20                 50        15360   \n",
       "1  ultimate                     70               1000        30720   \n",
       "\n",
       "   minutes_included  usd_per_message  usd_per_gb  usd_per_minute  \n",
       "0               500             0.03          10            0.03  \n",
       "1              3000             0.01           7            0.01  "
      ]
     },
     "execution_count": 10,
     "metadata": {},
     "output_type": "execute_result"
    }
   ],
   "source": [
    "df_plans.head()"
   ]
  },
  {
   "cell_type": "markdown",
   "metadata": {},
   "source": [
    "## Enrich data"
   ]
  },
  {
   "cell_type": "markdown",
   "metadata": {},
   "source": [
    "It would be helpful to have a row showing the delta between the two plans"
   ]
  },
  {
   "cell_type": "code",
   "execution_count": 11,
   "metadata": {},
   "outputs": [
    {
     "data": {
      "text/html": [
       "<div>\n",
       "<style scoped>\n",
       "    .dataframe tbody tr th:only-of-type {\n",
       "        vertical-align: middle;\n",
       "    }\n",
       "\n",
       "    .dataframe tbody tr th {\n",
       "        vertical-align: top;\n",
       "    }\n",
       "\n",
       "    .dataframe thead th {\n",
       "        text-align: right;\n",
       "    }\n",
       "</style>\n",
       "<table border=\"1\" class=\"dataframe\">\n",
       "  <thead>\n",
       "    <tr style=\"text-align: right;\">\n",
       "      <th></th>\n",
       "      <th>plan_name</th>\n",
       "      <th>plan_monthly_cost_usd</th>\n",
       "      <th>messages_included</th>\n",
       "      <th>mb_included</th>\n",
       "      <th>minutes_included</th>\n",
       "      <th>usd_per_message</th>\n",
       "      <th>usd_per_gb</th>\n",
       "      <th>usd_per_minute</th>\n",
       "    </tr>\n",
       "  </thead>\n",
       "  <tbody>\n",
       "    <tr>\n",
       "      <th>0</th>\n",
       "      <td>surf</td>\n",
       "      <td>20</td>\n",
       "      <td>50</td>\n",
       "      <td>15360</td>\n",
       "      <td>500</td>\n",
       "      <td>0.03</td>\n",
       "      <td>10</td>\n",
       "      <td>0.03</td>\n",
       "    </tr>\n",
       "    <tr>\n",
       "      <th>1</th>\n",
       "      <td>ultimate</td>\n",
       "      <td>70</td>\n",
       "      <td>1000</td>\n",
       "      <td>30720</td>\n",
       "      <td>3000</td>\n",
       "      <td>0.01</td>\n",
       "      <td>7</td>\n",
       "      <td>0.01</td>\n",
       "    </tr>\n",
       "    <tr>\n",
       "      <th>2</th>\n",
       "      <td>Ultimate - Surf</td>\n",
       "      <td>50</td>\n",
       "      <td>950</td>\n",
       "      <td>15360</td>\n",
       "      <td>2500</td>\n",
       "      <td>-0.02</td>\n",
       "      <td>-3</td>\n",
       "      <td>-0.02</td>\n",
       "    </tr>\n",
       "  </tbody>\n",
       "</table>\n",
       "</div>"
      ],
      "text/plain": [
       "         plan_name  plan_monthly_cost_usd  messages_included  mb_included  \\\n",
       "0             surf                     20                 50        15360   \n",
       "1         ultimate                     70               1000        30720   \n",
       "2  Ultimate - Surf                     50                950        15360   \n",
       "\n",
       "   minutes_included  usd_per_message  usd_per_gb  usd_per_minute  \n",
       "0               500             0.03          10            0.03  \n",
       "1              3000             0.01           7            0.01  \n",
       "2              2500            -0.02          -3           -0.02  "
      ]
     },
     "execution_count": 11,
     "metadata": {},
     "output_type": "execute_result"
    }
   ],
   "source": [
    "diff_row = df_plans.iloc[1, 1:] - df_plans.iloc[0, 1:]\n",
    "df_plans = df_plans.append(pd.DataFrame([diff_row]), ignore_index=True)\n",
    "df_plans.loc[2,'plan_name'] = 'Ultimate - Surf'\n",
    "\n",
    "df_plans.head()"
   ]
  },
  {
   "cell_type": "markdown",
   "metadata": {},
   "source": [
    "## Users"
   ]
  },
  {
   "cell_type": "code",
   "execution_count": 12,
   "metadata": {},
   "outputs": [
    {
     "name": "stdout",
     "output_type": "stream",
     "text": [
      "<class 'pandas.core.frame.DataFrame'>\n",
      "RangeIndex: 500 entries, 0 to 499\n",
      "Data columns (total 8 columns):\n",
      " #   Column      Non-Null Count  Dtype \n",
      "---  ------      --------------  ----- \n",
      " 0   user_id     500 non-null    int64 \n",
      " 1   first_name  500 non-null    object\n",
      " 2   last_name   500 non-null    object\n",
      " 3   age         500 non-null    int64 \n",
      " 4   city        500 non-null    object\n",
      " 5   reg_date    500 non-null    object\n",
      " 6   plan        500 non-null    object\n",
      " 7   churn_date  34 non-null     object\n",
      "dtypes: int64(2), object(6)\n",
      "memory usage: 31.4+ KB\n"
     ]
    }
   ],
   "source": [
    "# Print the general/summary information about the users' DataFrame\n",
    "\n",
    "df_users.info(show_counts=True)"
   ]
  },
  {
   "cell_type": "code",
   "execution_count": 13,
   "metadata": {},
   "outputs": [
    {
     "data": {
      "text/html": [
       "<div>\n",
       "<style scoped>\n",
       "    .dataframe tbody tr th:only-of-type {\n",
       "        vertical-align: middle;\n",
       "    }\n",
       "\n",
       "    .dataframe tbody tr th {\n",
       "        vertical-align: top;\n",
       "    }\n",
       "\n",
       "    .dataframe thead th {\n",
       "        text-align: right;\n",
       "    }\n",
       "</style>\n",
       "<table border=\"1\" class=\"dataframe\">\n",
       "  <thead>\n",
       "    <tr style=\"text-align: right;\">\n",
       "      <th></th>\n",
       "      <th>user_id</th>\n",
       "      <th>first_name</th>\n",
       "      <th>last_name</th>\n",
       "      <th>age</th>\n",
       "      <th>city</th>\n",
       "      <th>reg_date</th>\n",
       "      <th>plan</th>\n",
       "      <th>churn_date</th>\n",
       "    </tr>\n",
       "  </thead>\n",
       "  <tbody>\n",
       "    <tr>\n",
       "      <th>449</th>\n",
       "      <td>1449</td>\n",
       "      <td>Boyd</td>\n",
       "      <td>Kelley</td>\n",
       "      <td>39</td>\n",
       "      <td>Seattle-Tacoma-Bellevue, WA MSA</td>\n",
       "      <td>2018-10-04</td>\n",
       "      <td>surf</td>\n",
       "      <td>NaN</td>\n",
       "    </tr>\n",
       "    <tr>\n",
       "      <th>97</th>\n",
       "      <td>1097</td>\n",
       "      <td>Deandre</td>\n",
       "      <td>Powell</td>\n",
       "      <td>27</td>\n",
       "      <td>Washington-Arlington-Alexandria, DC-VA-MD-WV MSA</td>\n",
       "      <td>2018-02-26</td>\n",
       "      <td>surf</td>\n",
       "      <td>NaN</td>\n",
       "    </tr>\n",
       "    <tr>\n",
       "      <th>488</th>\n",
       "      <td>1488</td>\n",
       "      <td>Shirley</td>\n",
       "      <td>Jones</td>\n",
       "      <td>29</td>\n",
       "      <td>Baton Rouge, LA MSA</td>\n",
       "      <td>2018-05-15</td>\n",
       "      <td>surf</td>\n",
       "      <td>NaN</td>\n",
       "    </tr>\n",
       "    <tr>\n",
       "      <th>24</th>\n",
       "      <td>1024</td>\n",
       "      <td>Yuki</td>\n",
       "      <td>Tyson</td>\n",
       "      <td>74</td>\n",
       "      <td>New York-Newark-Jersey City, NY-NJ-PA MSA</td>\n",
       "      <td>2018-08-21</td>\n",
       "      <td>surf</td>\n",
       "      <td>NaN</td>\n",
       "    </tr>\n",
       "    <tr>\n",
       "      <th>49</th>\n",
       "      <td>1049</td>\n",
       "      <td>Loise</td>\n",
       "      <td>Avery</td>\n",
       "      <td>25</td>\n",
       "      <td>New York-Newark-Jersey City, NY-NJ-PA MSA</td>\n",
       "      <td>2018-02-21</td>\n",
       "      <td>surf</td>\n",
       "      <td>NaN</td>\n",
       "    </tr>\n",
       "    <tr>\n",
       "      <th>438</th>\n",
       "      <td>1438</td>\n",
       "      <td>Harvey</td>\n",
       "      <td>Brooks</td>\n",
       "      <td>36</td>\n",
       "      <td>Orlando-Kissimmee-Sanford, FL MSA</td>\n",
       "      <td>2018-06-15</td>\n",
       "      <td>surf</td>\n",
       "      <td>NaN</td>\n",
       "    </tr>\n",
       "    <tr>\n",
       "      <th>374</th>\n",
       "      <td>1374</td>\n",
       "      <td>Ching</td>\n",
       "      <td>Watts</td>\n",
       "      <td>55</td>\n",
       "      <td>Louisville/Jefferson County, KY-IN MSA</td>\n",
       "      <td>2018-02-14</td>\n",
       "      <td>surf</td>\n",
       "      <td>NaN</td>\n",
       "    </tr>\n",
       "    <tr>\n",
       "      <th>140</th>\n",
       "      <td>1140</td>\n",
       "      <td>Randolph</td>\n",
       "      <td>Graves</td>\n",
       "      <td>53</td>\n",
       "      <td>New York-Newark-Jersey City, NY-NJ-PA MSA</td>\n",
       "      <td>2018-03-26</td>\n",
       "      <td>surf</td>\n",
       "      <td>NaN</td>\n",
       "    </tr>\n",
       "    <tr>\n",
       "      <th>236</th>\n",
       "      <td>1236</td>\n",
       "      <td>Odell</td>\n",
       "      <td>Juarez</td>\n",
       "      <td>74</td>\n",
       "      <td>Minneapolis-St. Paul-Bloomington, MN-WI MSA</td>\n",
       "      <td>2018-04-04</td>\n",
       "      <td>ultimate</td>\n",
       "      <td>NaN</td>\n",
       "    </tr>\n",
       "    <tr>\n",
       "      <th>60</th>\n",
       "      <td>1060</td>\n",
       "      <td>Denisse</td>\n",
       "      <td>Santos</td>\n",
       "      <td>53</td>\n",
       "      <td>Atlanta-Sandy Springs-Roswell, GA MSA</td>\n",
       "      <td>2018-04-07</td>\n",
       "      <td>surf</td>\n",
       "      <td>NaN</td>\n",
       "    </tr>\n",
       "  </tbody>\n",
       "</table>\n",
       "</div>"
      ],
      "text/plain": [
       "     user_id first_name last_name  age  \\\n",
       "449     1449       Boyd    Kelley   39   \n",
       "97      1097    Deandre    Powell   27   \n",
       "488     1488    Shirley     Jones   29   \n",
       "24      1024       Yuki     Tyson   74   \n",
       "49      1049      Loise     Avery   25   \n",
       "438     1438     Harvey    Brooks   36   \n",
       "374     1374      Ching     Watts   55   \n",
       "140     1140   Randolph    Graves   53   \n",
       "236     1236      Odell    Juarez   74   \n",
       "60      1060    Denisse    Santos   53   \n",
       "\n",
       "                                                 city    reg_date      plan  \\\n",
       "449                   Seattle-Tacoma-Bellevue, WA MSA  2018-10-04      surf   \n",
       "97   Washington-Arlington-Alexandria, DC-VA-MD-WV MSA  2018-02-26      surf   \n",
       "488                               Baton Rouge, LA MSA  2018-05-15      surf   \n",
       "24          New York-Newark-Jersey City, NY-NJ-PA MSA  2018-08-21      surf   \n",
       "49          New York-Newark-Jersey City, NY-NJ-PA MSA  2018-02-21      surf   \n",
       "438                 Orlando-Kissimmee-Sanford, FL MSA  2018-06-15      surf   \n",
       "374            Louisville/Jefferson County, KY-IN MSA  2018-02-14      surf   \n",
       "140         New York-Newark-Jersey City, NY-NJ-PA MSA  2018-03-26      surf   \n",
       "236       Minneapolis-St. Paul-Bloomington, MN-WI MSA  2018-04-04  ultimate   \n",
       "60              Atlanta-Sandy Springs-Roswell, GA MSA  2018-04-07      surf   \n",
       "\n",
       "    churn_date  \n",
       "449        NaN  \n",
       "97         NaN  \n",
       "488        NaN  \n",
       "24         NaN  \n",
       "49         NaN  \n",
       "438        NaN  \n",
       "374        NaN  \n",
       "140        NaN  \n",
       "236        NaN  \n",
       "60         NaN  "
      ]
     },
     "execution_count": 13,
     "metadata": {},
     "output_type": "execute_result"
    }
   ],
   "source": [
    "# Print a sample of data for users\n",
    "\n",
    "df_users.sample(10)"
   ]
  },
  {
   "cell_type": "code",
   "execution_count": 14,
   "metadata": {},
   "outputs": [
    {
     "data": {
      "text/plain": [
       "0"
      ]
     },
     "execution_count": 14,
     "metadata": {},
     "output_type": "execute_result"
    }
   ],
   "source": [
    "df_users['user_id'].duplicated().sum()"
   ]
  },
  {
   "cell_type": "markdown",
   "metadata": {},
   "source": [
    "Observations:\n",
    "- There are no duplicate user_ids\n",
    "- 34 users have cancelled plans, a small subset of 500 users\n",
    "- user_id datatype is int64 and it should be object since this is not a value that we'll be doing any arithmatic on  \n",
    "- city column is for MSAs and can contain multiple states and cities, so comparing users by state is not possible as-is  \n",
    "- reg_date datatype is object and should be converted to datetime datatype for our analysis  \n",
    "- There are many rows with null value in churn_date column that need to be removed & datatype converted to datetime"
   ]
  },
  {
   "cell_type": "markdown",
   "metadata": {},
   "source": [
    "### Fix Data"
   ]
  },
  {
   "cell_type": "markdown",
   "metadata": {},
   "source": [
    "Change user_id to object"
   ]
  },
  {
   "cell_type": "code",
   "execution_count": 15,
   "metadata": {},
   "outputs": [],
   "source": [
    "df_users['user_id'] = df_users['user_id'].astype('object')"
   ]
  },
  {
   "cell_type": "markdown",
   "metadata": {},
   "source": [
    "Change reg_date to datetime datatype"
   ]
  },
  {
   "cell_type": "code",
   "execution_count": 16,
   "metadata": {},
   "outputs": [
    {
     "data": {
      "text/plain": [
       "user_id               object\n",
       "first_name            object\n",
       "last_name             object\n",
       "age                    int64\n",
       "city                  object\n",
       "reg_date      datetime64[ns]\n",
       "plan                  object\n",
       "churn_date            object\n",
       "dtype: object"
      ]
     },
     "execution_count": 16,
     "metadata": {},
     "output_type": "execute_result"
    }
   ],
   "source": [
    "df_users[\"reg_date\"] = pd.to_datetime(df_users[\"reg_date\"])\n",
    "\n",
    "df_users.dtypes"
   ]
  },
  {
   "cell_type": "markdown",
   "metadata": {},
   "source": [
    "Remove NaN from churn_date"
   ]
  },
  {
   "cell_type": "code",
   "execution_count": 17,
   "metadata": {},
   "outputs": [
    {
     "data": {
      "text/html": [
       "<div>\n",
       "<style scoped>\n",
       "    .dataframe tbody tr th:only-of-type {\n",
       "        vertical-align: middle;\n",
       "    }\n",
       "\n",
       "    .dataframe tbody tr th {\n",
       "        vertical-align: top;\n",
       "    }\n",
       "\n",
       "    .dataframe thead th {\n",
       "        text-align: right;\n",
       "    }\n",
       "</style>\n",
       "<table border=\"1\" class=\"dataframe\">\n",
       "  <thead>\n",
       "    <tr style=\"text-align: right;\">\n",
       "      <th></th>\n",
       "      <th>user_id</th>\n",
       "      <th>first_name</th>\n",
       "      <th>last_name</th>\n",
       "      <th>age</th>\n",
       "      <th>city</th>\n",
       "      <th>reg_date</th>\n",
       "      <th>plan</th>\n",
       "      <th>churn_date</th>\n",
       "    </tr>\n",
       "  </thead>\n",
       "  <tbody>\n",
       "    <tr>\n",
       "      <th>433</th>\n",
       "      <td>1433</td>\n",
       "      <td>Lyndon</td>\n",
       "      <td>Morrison</td>\n",
       "      <td>29</td>\n",
       "      <td>Philadelphia-Camden-Wilmington, PA-NJ-DE-MD MSA</td>\n",
       "      <td>2018-08-29</td>\n",
       "      <td>ultimate</td>\n",
       "      <td>NaT</td>\n",
       "    </tr>\n",
       "    <tr>\n",
       "      <th>136</th>\n",
       "      <td>1136</td>\n",
       "      <td>Jasper</td>\n",
       "      <td>Caldwell</td>\n",
       "      <td>25</td>\n",
       "      <td>Knoxville, TN MSA</td>\n",
       "      <td>2018-10-14</td>\n",
       "      <td>surf</td>\n",
       "      <td>NaT</td>\n",
       "    </tr>\n",
       "    <tr>\n",
       "      <th>270</th>\n",
       "      <td>1270</td>\n",
       "      <td>Anjelica</td>\n",
       "      <td>Chan</td>\n",
       "      <td>70</td>\n",
       "      <td>Philadelphia-Camden-Wilmington, PA-NJ-DE-MD MSA</td>\n",
       "      <td>2018-09-18</td>\n",
       "      <td>ultimate</td>\n",
       "      <td>NaT</td>\n",
       "    </tr>\n",
       "    <tr>\n",
       "      <th>73</th>\n",
       "      <td>1073</td>\n",
       "      <td>Grady</td>\n",
       "      <td>Crawford</td>\n",
       "      <td>30</td>\n",
       "      <td>Chicago-Naperville-Elgin, IL-IN-WI MSA</td>\n",
       "      <td>2018-04-06</td>\n",
       "      <td>surf</td>\n",
       "      <td>NaT</td>\n",
       "    </tr>\n",
       "    <tr>\n",
       "      <th>369</th>\n",
       "      <td>1369</td>\n",
       "      <td>Bernard</td>\n",
       "      <td>Mckee</td>\n",
       "      <td>69</td>\n",
       "      <td>Milwaukee-Waukesha, WI MSA</td>\n",
       "      <td>2018-10-06</td>\n",
       "      <td>surf</td>\n",
       "      <td>NaT</td>\n",
       "    </tr>\n",
       "    <tr>\n",
       "      <th>65</th>\n",
       "      <td>1065</td>\n",
       "      <td>Sherlyn</td>\n",
       "      <td>Noel</td>\n",
       "      <td>26</td>\n",
       "      <td>Los Angeles-Long Beach-Anaheim, CA MSA</td>\n",
       "      <td>2018-08-03</td>\n",
       "      <td>surf</td>\n",
       "      <td>NaT</td>\n",
       "    </tr>\n",
       "    <tr>\n",
       "      <th>54</th>\n",
       "      <td>1054</td>\n",
       "      <td>Denis</td>\n",
       "      <td>Frost</td>\n",
       "      <td>50</td>\n",
       "      <td>Phoenix-Mesa-Chandler, AZ MSA</td>\n",
       "      <td>2018-04-21</td>\n",
       "      <td>surf</td>\n",
       "      <td>2018-12-31</td>\n",
       "    </tr>\n",
       "    <tr>\n",
       "      <th>1</th>\n",
       "      <td>1001</td>\n",
       "      <td>Mickey</td>\n",
       "      <td>Wilkerson</td>\n",
       "      <td>28</td>\n",
       "      <td>Seattle-Tacoma-Bellevue, WA MSA</td>\n",
       "      <td>2018-08-13</td>\n",
       "      <td>surf</td>\n",
       "      <td>NaT</td>\n",
       "    </tr>\n",
       "    <tr>\n",
       "      <th>159</th>\n",
       "      <td>1159</td>\n",
       "      <td>Dierdre</td>\n",
       "      <td>Baker</td>\n",
       "      <td>58</td>\n",
       "      <td>Miami-Fort Lauderdale-West Palm Beach, FL MSA</td>\n",
       "      <td>2018-07-21</td>\n",
       "      <td>ultimate</td>\n",
       "      <td>NaT</td>\n",
       "    </tr>\n",
       "    <tr>\n",
       "      <th>453</th>\n",
       "      <td>1453</td>\n",
       "      <td>Robt</td>\n",
       "      <td>Tyler</td>\n",
       "      <td>51</td>\n",
       "      <td>Los Angeles-Long Beach-Anaheim, CA MSA</td>\n",
       "      <td>2018-07-09</td>\n",
       "      <td>ultimate</td>\n",
       "      <td>NaT</td>\n",
       "    </tr>\n",
       "    <tr>\n",
       "      <th>335</th>\n",
       "      <td>1335</td>\n",
       "      <td>Gail</td>\n",
       "      <td>Coleman</td>\n",
       "      <td>61</td>\n",
       "      <td>Dallas-Fort Worth-Arlington, TX MSA</td>\n",
       "      <td>2018-06-02</td>\n",
       "      <td>surf</td>\n",
       "      <td>NaT</td>\n",
       "    </tr>\n",
       "    <tr>\n",
       "      <th>19</th>\n",
       "      <td>1019</td>\n",
       "      <td>Shizue</td>\n",
       "      <td>Landry</td>\n",
       "      <td>34</td>\n",
       "      <td>Jacksonville, FL MSA</td>\n",
       "      <td>2018-01-16</td>\n",
       "      <td>surf</td>\n",
       "      <td>NaT</td>\n",
       "    </tr>\n",
       "    <tr>\n",
       "      <th>261</th>\n",
       "      <td>1261</td>\n",
       "      <td>Dusti</td>\n",
       "      <td>Forbes</td>\n",
       "      <td>31</td>\n",
       "      <td>Kansas City, MO-KS MSA</td>\n",
       "      <td>2018-02-22</td>\n",
       "      <td>surf</td>\n",
       "      <td>NaT</td>\n",
       "    </tr>\n",
       "    <tr>\n",
       "      <th>243</th>\n",
       "      <td>1243</td>\n",
       "      <td>Isaias</td>\n",
       "      <td>Compton</td>\n",
       "      <td>71</td>\n",
       "      <td>Phoenix-Mesa-Chandler, AZ MSA</td>\n",
       "      <td>2018-05-11</td>\n",
       "      <td>surf</td>\n",
       "      <td>NaT</td>\n",
       "    </tr>\n",
       "    <tr>\n",
       "      <th>380</th>\n",
       "      <td>1380</td>\n",
       "      <td>Lajuana</td>\n",
       "      <td>Kelley</td>\n",
       "      <td>35</td>\n",
       "      <td>San Jose-Sunnyvale-Santa Clara, CA MSA</td>\n",
       "      <td>2018-09-04</td>\n",
       "      <td>ultimate</td>\n",
       "      <td>NaT</td>\n",
       "    </tr>\n",
       "    <tr>\n",
       "      <th>458</th>\n",
       "      <td>1458</td>\n",
       "      <td>Joella</td>\n",
       "      <td>Munoz</td>\n",
       "      <td>32</td>\n",
       "      <td>Detroit-Warren-Dearborn, MI MSA</td>\n",
       "      <td>2018-07-24</td>\n",
       "      <td>ultimate</td>\n",
       "      <td>NaT</td>\n",
       "    </tr>\n",
       "    <tr>\n",
       "      <th>451</th>\n",
       "      <td>1451</td>\n",
       "      <td>Lenard</td>\n",
       "      <td>Harding</td>\n",
       "      <td>53</td>\n",
       "      <td>Charlotte-Concord-Gastonia, NC-SC MSA</td>\n",
       "      <td>2018-02-15</td>\n",
       "      <td>ultimate</td>\n",
       "      <td>2018-12-10</td>\n",
       "    </tr>\n",
       "    <tr>\n",
       "      <th>28</th>\n",
       "      <td>1028</td>\n",
       "      <td>Jefferey</td>\n",
       "      <td>Rasmussen</td>\n",
       "      <td>57</td>\n",
       "      <td>Philadelphia-Camden-Wilmington, PA-NJ-DE-MD MSA</td>\n",
       "      <td>2018-02-21</td>\n",
       "      <td>ultimate</td>\n",
       "      <td>NaT</td>\n",
       "    </tr>\n",
       "    <tr>\n",
       "      <th>475</th>\n",
       "      <td>1475</td>\n",
       "      <td>Arlen</td>\n",
       "      <td>Sutton</td>\n",
       "      <td>66</td>\n",
       "      <td>Dallas-Fort Worth-Arlington, TX MSA</td>\n",
       "      <td>2018-05-28</td>\n",
       "      <td>ultimate</td>\n",
       "      <td>NaT</td>\n",
       "    </tr>\n",
       "    <tr>\n",
       "      <th>300</th>\n",
       "      <td>1300</td>\n",
       "      <td>Rene</td>\n",
       "      <td>Frost</td>\n",
       "      <td>23</td>\n",
       "      <td>New York-Newark-Jersey City, NY-NJ-PA MSA</td>\n",
       "      <td>2018-10-21</td>\n",
       "      <td>surf</td>\n",
       "      <td>2018-12-19</td>\n",
       "    </tr>\n",
       "  </tbody>\n",
       "</table>\n",
       "</div>"
      ],
      "text/plain": [
       "    user_id first_name  last_name  age  \\\n",
       "433    1433     Lyndon   Morrison   29   \n",
       "136    1136     Jasper   Caldwell   25   \n",
       "270    1270   Anjelica       Chan   70   \n",
       "73     1073      Grady   Crawford   30   \n",
       "369    1369    Bernard      Mckee   69   \n",
       "65     1065    Sherlyn       Noel   26   \n",
       "54     1054      Denis      Frost   50   \n",
       "1      1001     Mickey  Wilkerson   28   \n",
       "159    1159    Dierdre      Baker   58   \n",
       "453    1453       Robt      Tyler   51   \n",
       "335    1335       Gail    Coleman   61   \n",
       "19     1019     Shizue     Landry   34   \n",
       "261    1261      Dusti     Forbes   31   \n",
       "243    1243     Isaias    Compton   71   \n",
       "380    1380    Lajuana     Kelley   35   \n",
       "458    1458     Joella      Munoz   32   \n",
       "451    1451     Lenard    Harding   53   \n",
       "28     1028   Jefferey  Rasmussen   57   \n",
       "475    1475      Arlen     Sutton   66   \n",
       "300    1300       Rene      Frost   23   \n",
       "\n",
       "                                                city   reg_date      plan  \\\n",
       "433  Philadelphia-Camden-Wilmington, PA-NJ-DE-MD MSA 2018-08-29  ultimate   \n",
       "136                                Knoxville, TN MSA 2018-10-14      surf   \n",
       "270  Philadelphia-Camden-Wilmington, PA-NJ-DE-MD MSA 2018-09-18  ultimate   \n",
       "73            Chicago-Naperville-Elgin, IL-IN-WI MSA 2018-04-06      surf   \n",
       "369                       Milwaukee-Waukesha, WI MSA 2018-10-06      surf   \n",
       "65            Los Angeles-Long Beach-Anaheim, CA MSA 2018-08-03      surf   \n",
       "54                     Phoenix-Mesa-Chandler, AZ MSA 2018-04-21      surf   \n",
       "1                    Seattle-Tacoma-Bellevue, WA MSA 2018-08-13      surf   \n",
       "159    Miami-Fort Lauderdale-West Palm Beach, FL MSA 2018-07-21  ultimate   \n",
       "453           Los Angeles-Long Beach-Anaheim, CA MSA 2018-07-09  ultimate   \n",
       "335              Dallas-Fort Worth-Arlington, TX MSA 2018-06-02      surf   \n",
       "19                              Jacksonville, FL MSA 2018-01-16      surf   \n",
       "261                           Kansas City, MO-KS MSA 2018-02-22      surf   \n",
       "243                    Phoenix-Mesa-Chandler, AZ MSA 2018-05-11      surf   \n",
       "380           San Jose-Sunnyvale-Santa Clara, CA MSA 2018-09-04  ultimate   \n",
       "458                  Detroit-Warren-Dearborn, MI MSA 2018-07-24  ultimate   \n",
       "451            Charlotte-Concord-Gastonia, NC-SC MSA 2018-02-15  ultimate   \n",
       "28   Philadelphia-Camden-Wilmington, PA-NJ-DE-MD MSA 2018-02-21  ultimate   \n",
       "475              Dallas-Fort Worth-Arlington, TX MSA 2018-05-28  ultimate   \n",
       "300        New York-Newark-Jersey City, NY-NJ-PA MSA 2018-10-21      surf   \n",
       "\n",
       "    churn_date  \n",
       "433        NaT  \n",
       "136        NaT  \n",
       "270        NaT  \n",
       "73         NaT  \n",
       "369        NaT  \n",
       "65         NaT  \n",
       "54  2018-12-31  \n",
       "1          NaT  \n",
       "159        NaT  \n",
       "453        NaT  \n",
       "335        NaT  \n",
       "19         NaT  \n",
       "261        NaT  \n",
       "243        NaT  \n",
       "380        NaT  \n",
       "458        NaT  \n",
       "451 2018-12-10  \n",
       "28         NaT  \n",
       "475        NaT  \n",
       "300 2018-12-19  "
      ]
     },
     "execution_count": 17,
     "metadata": {},
     "output_type": "execute_result"
    }
   ],
   "source": [
    "df_users['churn_date'] = pd.to_datetime(df_users['churn_date'], errors='coerce')\n",
    "df_users.sample(20)"
   ]
  },
  {
   "cell_type": "code",
   "execution_count": 18,
   "metadata": {},
   "outputs": [
    {
     "data": {
      "text/html": [
       "<div>\n",
       "<style scoped>\n",
       "    .dataframe tbody tr th:only-of-type {\n",
       "        vertical-align: middle;\n",
       "    }\n",
       "\n",
       "    .dataframe tbody tr th {\n",
       "        vertical-align: top;\n",
       "    }\n",
       "\n",
       "    .dataframe thead th {\n",
       "        text-align: right;\n",
       "    }\n",
       "</style>\n",
       "<table border=\"1\" class=\"dataframe\">\n",
       "  <thead>\n",
       "    <tr style=\"text-align: right;\">\n",
       "      <th></th>\n",
       "      <th>user_id</th>\n",
       "      <th>first_name</th>\n",
       "      <th>last_name</th>\n",
       "      <th>age</th>\n",
       "      <th>city</th>\n",
       "      <th>reg_date</th>\n",
       "      <th>plan</th>\n",
       "      <th>churn_date</th>\n",
       "    </tr>\n",
       "  </thead>\n",
       "  <tbody>\n",
       "    <tr>\n",
       "      <th>305</th>\n",
       "      <td>1305</td>\n",
       "      <td>Gwenn</td>\n",
       "      <td>Gross</td>\n",
       "      <td>18</td>\n",
       "      <td>Los Angeles-Long Beach-Anaheim, CA MSA</td>\n",
       "      <td>2018-05-08</td>\n",
       "      <td>surf</td>\n",
       "      <td></td>\n",
       "    </tr>\n",
       "    <tr>\n",
       "      <th>325</th>\n",
       "      <td>1325</td>\n",
       "      <td>Cleora</td>\n",
       "      <td>Lyons</td>\n",
       "      <td>43</td>\n",
       "      <td>Dallas-Fort Worth-Arlington, TX MSA</td>\n",
       "      <td>2018-06-26</td>\n",
       "      <td>surf</td>\n",
       "      <td></td>\n",
       "    </tr>\n",
       "    <tr>\n",
       "      <th>190</th>\n",
       "      <td>1190</td>\n",
       "      <td>Troy</td>\n",
       "      <td>Hutchinson</td>\n",
       "      <td>56</td>\n",
       "      <td>Virginia Beach-Norfolk-Newport News, VA-NC MSA</td>\n",
       "      <td>2018-08-01</td>\n",
       "      <td>ultimate</td>\n",
       "      <td></td>\n",
       "    </tr>\n",
       "    <tr>\n",
       "      <th>354</th>\n",
       "      <td>1354</td>\n",
       "      <td>Leonel</td>\n",
       "      <td>Dyer</td>\n",
       "      <td>41</td>\n",
       "      <td>New York-Newark-Jersey City, NY-NJ-PA MSA</td>\n",
       "      <td>2018-08-24</td>\n",
       "      <td>ultimate</td>\n",
       "      <td></td>\n",
       "    </tr>\n",
       "    <tr>\n",
       "      <th>203</th>\n",
       "      <td>1203</td>\n",
       "      <td>Manie</td>\n",
       "      <td>Grimes</td>\n",
       "      <td>50</td>\n",
       "      <td>Boston-Cambridge-Newton, MA-NH MSA</td>\n",
       "      <td>2018-02-11</td>\n",
       "      <td>surf</td>\n",
       "      <td></td>\n",
       "    </tr>\n",
       "    <tr>\n",
       "      <th>103</th>\n",
       "      <td>1103</td>\n",
       "      <td>Moises</td>\n",
       "      <td>Weeks</td>\n",
       "      <td>28</td>\n",
       "      <td>Seattle-Tacoma-Bellevue, WA MSA</td>\n",
       "      <td>2018-07-01</td>\n",
       "      <td>surf</td>\n",
       "      <td></td>\n",
       "    </tr>\n",
       "    <tr>\n",
       "      <th>92</th>\n",
       "      <td>1092</td>\n",
       "      <td>Taren</td>\n",
       "      <td>Strickland</td>\n",
       "      <td>26</td>\n",
       "      <td>Dallas-Fort Worth-Arlington, TX MSA</td>\n",
       "      <td>2018-12-10</td>\n",
       "      <td>surf</td>\n",
       "      <td></td>\n",
       "    </tr>\n",
       "    <tr>\n",
       "      <th>258</th>\n",
       "      <td>1258</td>\n",
       "      <td>Kai</td>\n",
       "      <td>Russell</td>\n",
       "      <td>39</td>\n",
       "      <td>Chicago-Naperville-Elgin, IL-IN-WI MSA</td>\n",
       "      <td>2018-07-12</td>\n",
       "      <td>surf</td>\n",
       "      <td></td>\n",
       "    </tr>\n",
       "    <tr>\n",
       "      <th>388</th>\n",
       "      <td>1388</td>\n",
       "      <td>Thu</td>\n",
       "      <td>Noel</td>\n",
       "      <td>75</td>\n",
       "      <td>New York-Newark-Jersey City, NY-NJ-PA MSA</td>\n",
       "      <td>2018-03-28</td>\n",
       "      <td>ultimate</td>\n",
       "      <td></td>\n",
       "    </tr>\n",
       "    <tr>\n",
       "      <th>411</th>\n",
       "      <td>1411</td>\n",
       "      <td>Man</td>\n",
       "      <td>Fleming</td>\n",
       "      <td>64</td>\n",
       "      <td>Rochester, NY MSA</td>\n",
       "      <td>2018-08-10</td>\n",
       "      <td>surf</td>\n",
       "      <td></td>\n",
       "    </tr>\n",
       "    <tr>\n",
       "      <th>170</th>\n",
       "      <td>1170</td>\n",
       "      <td>Olin</td>\n",
       "      <td>Adkins</td>\n",
       "      <td>18</td>\n",
       "      <td>Pittsburgh, PA MSA</td>\n",
       "      <td>2018-09-25</td>\n",
       "      <td>surf</td>\n",
       "      <td></td>\n",
       "    </tr>\n",
       "    <tr>\n",
       "      <th>441</th>\n",
       "      <td>1441</td>\n",
       "      <td>Piedad</td>\n",
       "      <td>Myers</td>\n",
       "      <td>23</td>\n",
       "      <td>Atlanta-Sandy Springs-Roswell, GA MSA</td>\n",
       "      <td>2018-03-08</td>\n",
       "      <td>ultimate</td>\n",
       "      <td>2018-08-19 00:00:00</td>\n",
       "    </tr>\n",
       "    <tr>\n",
       "      <th>364</th>\n",
       "      <td>1364</td>\n",
       "      <td>Clarine</td>\n",
       "      <td>Bonner</td>\n",
       "      <td>75</td>\n",
       "      <td>San Diego-Chula Vista-Carlsbad, CA MSA</td>\n",
       "      <td>2018-08-09</td>\n",
       "      <td>surf</td>\n",
       "      <td></td>\n",
       "    </tr>\n",
       "    <tr>\n",
       "      <th>436</th>\n",
       "      <td>1436</td>\n",
       "      <td>Jennine</td>\n",
       "      <td>Kinney</td>\n",
       "      <td>69</td>\n",
       "      <td>Philadelphia-Camden-Wilmington, PA-NJ-DE-MD MSA</td>\n",
       "      <td>2018-08-26</td>\n",
       "      <td>ultimate</td>\n",
       "      <td></td>\n",
       "    </tr>\n",
       "    <tr>\n",
       "      <th>232</th>\n",
       "      <td>1232</td>\n",
       "      <td>Elidia</td>\n",
       "      <td>Russell</td>\n",
       "      <td>64</td>\n",
       "      <td>Chicago-Naperville-Elgin, IL-IN-WI MSA</td>\n",
       "      <td>2018-04-07</td>\n",
       "      <td>surf</td>\n",
       "      <td></td>\n",
       "    </tr>\n",
       "    <tr>\n",
       "      <th>355</th>\n",
       "      <td>1355</td>\n",
       "      <td>Digna</td>\n",
       "      <td>Tyson</td>\n",
       "      <td>57</td>\n",
       "      <td>Los Angeles-Long Beach-Anaheim, CA MSA</td>\n",
       "      <td>2018-10-07</td>\n",
       "      <td>surf</td>\n",
       "      <td></td>\n",
       "    </tr>\n",
       "    <tr>\n",
       "      <th>219</th>\n",
       "      <td>1219</td>\n",
       "      <td>Gavin</td>\n",
       "      <td>Keller</td>\n",
       "      <td>51</td>\n",
       "      <td>Detroit-Warren-Dearborn, MI MSA</td>\n",
       "      <td>2018-05-14</td>\n",
       "      <td>surf</td>\n",
       "      <td></td>\n",
       "    </tr>\n",
       "    <tr>\n",
       "      <th>100</th>\n",
       "      <td>1100</td>\n",
       "      <td>Aaron</td>\n",
       "      <td>Rowe</td>\n",
       "      <td>65</td>\n",
       "      <td>New York-Newark-Jersey City, NY-NJ-PA MSA</td>\n",
       "      <td>2018-02-13</td>\n",
       "      <td>surf</td>\n",
       "      <td></td>\n",
       "    </tr>\n",
       "    <tr>\n",
       "      <th>360</th>\n",
       "      <td>1360</td>\n",
       "      <td>Arturo</td>\n",
       "      <td>Mullins</td>\n",
       "      <td>75</td>\n",
       "      <td>Charlotte-Concord-Gastonia, NC-SC MSA</td>\n",
       "      <td>2018-09-20</td>\n",
       "      <td>surf</td>\n",
       "      <td></td>\n",
       "    </tr>\n",
       "    <tr>\n",
       "      <th>157</th>\n",
       "      <td>1157</td>\n",
       "      <td>Luciano</td>\n",
       "      <td>Sheppard</td>\n",
       "      <td>63</td>\n",
       "      <td>Los Angeles-Long Beach-Anaheim, CA MSA</td>\n",
       "      <td>2018-07-02</td>\n",
       "      <td>surf</td>\n",
       "      <td></td>\n",
       "    </tr>\n",
       "  </tbody>\n",
       "</table>\n",
       "</div>"
      ],
      "text/plain": [
       "    user_id first_name   last_name  age  \\\n",
       "305    1305      Gwenn       Gross   18   \n",
       "325    1325     Cleora       Lyons   43   \n",
       "190    1190       Troy  Hutchinson   56   \n",
       "354    1354     Leonel        Dyer   41   \n",
       "203    1203      Manie      Grimes   50   \n",
       "103    1103     Moises       Weeks   28   \n",
       "92     1092      Taren  Strickland   26   \n",
       "258    1258        Kai     Russell   39   \n",
       "388    1388        Thu        Noel   75   \n",
       "411    1411        Man     Fleming   64   \n",
       "170    1170       Olin      Adkins   18   \n",
       "441    1441     Piedad       Myers   23   \n",
       "364    1364    Clarine      Bonner   75   \n",
       "436    1436    Jennine      Kinney   69   \n",
       "232    1232     Elidia     Russell   64   \n",
       "355    1355      Digna       Tyson   57   \n",
       "219    1219      Gavin      Keller   51   \n",
       "100    1100      Aaron        Rowe   65   \n",
       "360    1360     Arturo     Mullins   75   \n",
       "157    1157    Luciano    Sheppard   63   \n",
       "\n",
       "                                                city   reg_date      plan  \\\n",
       "305           Los Angeles-Long Beach-Anaheim, CA MSA 2018-05-08      surf   \n",
       "325              Dallas-Fort Worth-Arlington, TX MSA 2018-06-26      surf   \n",
       "190   Virginia Beach-Norfolk-Newport News, VA-NC MSA 2018-08-01  ultimate   \n",
       "354        New York-Newark-Jersey City, NY-NJ-PA MSA 2018-08-24  ultimate   \n",
       "203               Boston-Cambridge-Newton, MA-NH MSA 2018-02-11      surf   \n",
       "103                  Seattle-Tacoma-Bellevue, WA MSA 2018-07-01      surf   \n",
       "92               Dallas-Fort Worth-Arlington, TX MSA 2018-12-10      surf   \n",
       "258           Chicago-Naperville-Elgin, IL-IN-WI MSA 2018-07-12      surf   \n",
       "388        New York-Newark-Jersey City, NY-NJ-PA MSA 2018-03-28  ultimate   \n",
       "411                                Rochester, NY MSA 2018-08-10      surf   \n",
       "170                               Pittsburgh, PA MSA 2018-09-25      surf   \n",
       "441            Atlanta-Sandy Springs-Roswell, GA MSA 2018-03-08  ultimate   \n",
       "364           San Diego-Chula Vista-Carlsbad, CA MSA 2018-08-09      surf   \n",
       "436  Philadelphia-Camden-Wilmington, PA-NJ-DE-MD MSA 2018-08-26  ultimate   \n",
       "232           Chicago-Naperville-Elgin, IL-IN-WI MSA 2018-04-07      surf   \n",
       "355           Los Angeles-Long Beach-Anaheim, CA MSA 2018-10-07      surf   \n",
       "219                  Detroit-Warren-Dearborn, MI MSA 2018-05-14      surf   \n",
       "100        New York-Newark-Jersey City, NY-NJ-PA MSA 2018-02-13      surf   \n",
       "360            Charlotte-Concord-Gastonia, NC-SC MSA 2018-09-20      surf   \n",
       "157           Los Angeles-Long Beach-Anaheim, CA MSA 2018-07-02      surf   \n",
       "\n",
       "              churn_date  \n",
       "305                       \n",
       "325                       \n",
       "190                       \n",
       "354                       \n",
       "203                       \n",
       "103                       \n",
       "92                        \n",
       "258                       \n",
       "388                       \n",
       "411                       \n",
       "170                       \n",
       "441  2018-08-19 00:00:00  \n",
       "364                       \n",
       "436                       \n",
       "232                       \n",
       "355                       \n",
       "219                       \n",
       "100                       \n",
       "360                       \n",
       "157                       "
      ]
     },
     "execution_count": 18,
     "metadata": {},
     "output_type": "execute_result"
    }
   ],
   "source": [
    "df_users['churn_date']=df_users['churn_date'].fillna('')\n",
    "df_users.sample(20)"
   ]
  },
  {
   "cell_type": "markdown",
   "metadata": {},
   "source": [
    "### Enrich Data"
   ]
  },
  {
   "cell_type": "markdown",
   "metadata": {},
   "source": [
    "Calculating the percentage of users on each plan"
   ]
  },
  {
   "cell_type": "code",
   "execution_count": 19,
   "metadata": {},
   "outputs": [
    {
     "data": {
      "text/plain": [
       "plan\n",
       "surf        67.8\n",
       "ultimate    32.2\n",
       "Name: user_id, dtype: float64"
      ]
     },
     "execution_count": 19,
     "metadata": {},
     "output_type": "execute_result"
    }
   ],
   "source": [
    "df_users.groupby('plan')['user_id'].count()/df_users['user_id'].count()*100"
   ]
  },
  {
   "cell_type": "markdown",
   "metadata": {},
   "source": [
    "Surf plan is 2x more popular with users than Ultimate"
   ]
  },
  {
   "cell_type": "markdown",
   "metadata": {},
   "source": [
    "## Calls"
   ]
  },
  {
   "cell_type": "code",
   "execution_count": 20,
   "metadata": {},
   "outputs": [
    {
     "name": "stdout",
     "output_type": "stream",
     "text": [
      "<class 'pandas.core.frame.DataFrame'>\n",
      "RangeIndex: 137735 entries, 0 to 137734\n",
      "Data columns (total 4 columns):\n",
      " #   Column     Non-Null Count   Dtype  \n",
      "---  ------     --------------   -----  \n",
      " 0   id         137735 non-null  object \n",
      " 1   user_id    137735 non-null  int64  \n",
      " 2   call_date  137735 non-null  object \n",
      " 3   duration   137735 non-null  float64\n",
      "dtypes: float64(1), int64(1), object(2)\n",
      "memory usage: 4.2+ MB\n"
     ]
    }
   ],
   "source": [
    "# Print the general/summary information about the calls' DataFrame\n",
    "\n",
    "df_calls.info(show_counts=True)"
   ]
  },
  {
   "cell_type": "code",
   "execution_count": 21,
   "metadata": {},
   "outputs": [
    {
     "data": {
      "text/html": [
       "<div>\n",
       "<style scoped>\n",
       "    .dataframe tbody tr th:only-of-type {\n",
       "        vertical-align: middle;\n",
       "    }\n",
       "\n",
       "    .dataframe tbody tr th {\n",
       "        vertical-align: top;\n",
       "    }\n",
       "\n",
       "    .dataframe thead th {\n",
       "        text-align: right;\n",
       "    }\n",
       "</style>\n",
       "<table border=\"1\" class=\"dataframe\">\n",
       "  <thead>\n",
       "    <tr style=\"text-align: right;\">\n",
       "      <th></th>\n",
       "      <th>id</th>\n",
       "      <th>user_id</th>\n",
       "      <th>call_date</th>\n",
       "      <th>duration</th>\n",
       "    </tr>\n",
       "  </thead>\n",
       "  <tbody>\n",
       "    <tr>\n",
       "      <th>84152</th>\n",
       "      <td>1308_23</td>\n",
       "      <td>1308</td>\n",
       "      <td>2018-12-28</td>\n",
       "      <td>0.00</td>\n",
       "    </tr>\n",
       "    <tr>\n",
       "      <th>11185</th>\n",
       "      <td>1049_352</td>\n",
       "      <td>1049</td>\n",
       "      <td>2018-06-10</td>\n",
       "      <td>0.00</td>\n",
       "    </tr>\n",
       "    <tr>\n",
       "      <th>121843</th>\n",
       "      <td>1428_465</td>\n",
       "      <td>1428</td>\n",
       "      <td>2018-12-03</td>\n",
       "      <td>1.94</td>\n",
       "    </tr>\n",
       "    <tr>\n",
       "      <th>32342</th>\n",
       "      <td>1122_180</td>\n",
       "      <td>1122</td>\n",
       "      <td>2018-07-29</td>\n",
       "      <td>10.33</td>\n",
       "    </tr>\n",
       "    <tr>\n",
       "      <th>14367</th>\n",
       "      <td>1059_601</td>\n",
       "      <td>1059</td>\n",
       "      <td>2018-06-03</td>\n",
       "      <td>0.00</td>\n",
       "    </tr>\n",
       "    <tr>\n",
       "      <th>4577</th>\n",
       "      <td>1020_41</td>\n",
       "      <td>1020</td>\n",
       "      <td>2018-11-20</td>\n",
       "      <td>12.99</td>\n",
       "    </tr>\n",
       "    <tr>\n",
       "      <th>96304</th>\n",
       "      <td>1342_52</td>\n",
       "      <td>1342</td>\n",
       "      <td>2018-12-13</td>\n",
       "      <td>16.22</td>\n",
       "    </tr>\n",
       "    <tr>\n",
       "      <th>20494</th>\n",
       "      <td>1077_461</td>\n",
       "      <td>1077</td>\n",
       "      <td>2018-03-02</td>\n",
       "      <td>0.00</td>\n",
       "    </tr>\n",
       "    <tr>\n",
       "      <th>90299</th>\n",
       "      <td>1327_224</td>\n",
       "      <td>1327</td>\n",
       "      <td>2018-12-06</td>\n",
       "      <td>2.22</td>\n",
       "    </tr>\n",
       "    <tr>\n",
       "      <th>120156</th>\n",
       "      <td>1418_40</td>\n",
       "      <td>1418</td>\n",
       "      <td>2018-12-23</td>\n",
       "      <td>18.91</td>\n",
       "    </tr>\n",
       "  </tbody>\n",
       "</table>\n",
       "</div>"
      ],
      "text/plain": [
       "              id  user_id   call_date  duration\n",
       "84152    1308_23     1308  2018-12-28      0.00\n",
       "11185   1049_352     1049  2018-06-10      0.00\n",
       "121843  1428_465     1428  2018-12-03      1.94\n",
       "32342   1122_180     1122  2018-07-29     10.33\n",
       "14367   1059_601     1059  2018-06-03      0.00\n",
       "4577     1020_41     1020  2018-11-20     12.99\n",
       "96304    1342_52     1342  2018-12-13     16.22\n",
       "20494   1077_461     1077  2018-03-02      0.00\n",
       "90299   1327_224     1327  2018-12-06      2.22\n",
       "120156   1418_40     1418  2018-12-23     18.91"
      ]
     },
     "execution_count": 21,
     "metadata": {},
     "output_type": "execute_result"
    }
   ],
   "source": [
    "# Print a sample of data for calls\n",
    "\n",
    "df_calls.sample(10)"
   ]
  },
  {
   "cell_type": "code",
   "execution_count": 22,
   "metadata": {},
   "outputs": [
    {
     "data": {
      "text/plain": [
       "0"
      ]
     },
     "execution_count": 22,
     "metadata": {},
     "output_type": "execute_result"
    }
   ],
   "source": [
    "df_calls['id'].duplicated().sum()"
   ]
  },
  {
   "cell_type": "markdown",
   "metadata": {},
   "source": [
    "Do all users have call data?"
   ]
  },
  {
   "cell_type": "code",
   "execution_count": 23,
   "metadata": {},
   "outputs": [
    {
     "data": {
      "text/plain": [
       "user_id\n",
       "1000     16\n",
       "1001    261\n",
       "1002    113\n",
       "1003    149\n",
       "1004    370\n",
       "       ... \n",
       "1495    253\n",
       "1496    195\n",
       "1497     54\n",
       "1498    451\n",
       "1499    204\n",
       "Name: user_id, Length: 481, dtype: int64"
      ]
     },
     "execution_count": 23,
     "metadata": {},
     "output_type": "execute_result"
    }
   ],
   "source": [
    "df_calls.groupby('user_id')['user_id'].count()"
   ]
  },
  {
   "cell_type": "markdown",
   "metadata": {},
   "source": [
    "Stats for number of calls made per user"
   ]
  },
  {
   "cell_type": "code",
   "execution_count": 24,
   "metadata": {},
   "outputs": [
    {
     "data": {
      "text/plain": [
       "count     481.000000\n",
       "mean      286.351351\n",
       "std       238.182107\n",
       "min         2.000000\n",
       "25%       108.000000\n",
       "50%       216.000000\n",
       "75%       413.000000\n",
       "max      1300.000000\n",
       "Name: id, dtype: float64"
      ]
     },
     "execution_count": 24,
     "metadata": {},
     "output_type": "execute_result"
    }
   ],
   "source": [
    "df_calls.groupby('user_id')['id'].count().describe()"
   ]
  },
  {
   "cell_type": "markdown",
   "metadata": {},
   "source": [
    "[Describe what you see and notice in the general information and the printed data sample for the above price of data. Are there any issues (inappropriate data types, missing data etc) that may need further investigation and changes? How that can be fixed?]"
   ]
  },
  {
   "cell_type": "markdown",
   "metadata": {},
   "source": [
    "Observations:\n",
    "- No duplicate call ids\n",
    "- Not all users make calls, 19 out of 500, don't have any registered calls\n",
    "- Large variation of number of calls made by users\n",
    "- user_id datatype is int64 and it should be object  \n",
    "- call_date datatype is object and should be converted to datetime datatype for our analysis  "
   ]
  },
  {
   "cell_type": "markdown",
   "metadata": {},
   "source": [
    "### Fix data"
   ]
  },
  {
   "cell_type": "markdown",
   "metadata": {},
   "source": [
    "Change user_id to object"
   ]
  },
  {
   "cell_type": "code",
   "execution_count": 25,
   "metadata": {},
   "outputs": [],
   "source": [
    "df_calls['user_id'] = df_calls['user_id'].astype('object')"
   ]
  },
  {
   "cell_type": "markdown",
   "metadata": {},
   "source": [
    "Change call_date to datetime datatype"
   ]
  },
  {
   "cell_type": "code",
   "execution_count": 26,
   "metadata": {},
   "outputs": [
    {
     "data": {
      "text/plain": [
       "id                   object\n",
       "user_id              object\n",
       "call_date    datetime64[ns]\n",
       "duration            float64\n",
       "dtype: object"
      ]
     },
     "execution_count": 26,
     "metadata": {},
     "output_type": "execute_result"
    }
   ],
   "source": [
    "df_calls[\"call_date\"] = pd.to_datetime(df_calls[\"call_date\"])\n",
    "\n",
    "df_calls.dtypes"
   ]
  },
  {
   "cell_type": "markdown",
   "metadata": {},
   "source": [
    "### Enrich data"
   ]
  },
  {
   "cell_type": "markdown",
   "metadata": {},
   "source": [
    "Add column for rounded duration in minutes using np.ceil() and cast type as int64"
   ]
  },
  {
   "cell_type": "code",
   "execution_count": 27,
   "metadata": {},
   "outputs": [
    {
     "data": {
      "text/html": [
       "<div>\n",
       "<style scoped>\n",
       "    .dataframe tbody tr th:only-of-type {\n",
       "        vertical-align: middle;\n",
       "    }\n",
       "\n",
       "    .dataframe tbody tr th {\n",
       "        vertical-align: top;\n",
       "    }\n",
       "\n",
       "    .dataframe thead th {\n",
       "        text-align: right;\n",
       "    }\n",
       "</style>\n",
       "<table border=\"1\" class=\"dataframe\">\n",
       "  <thead>\n",
       "    <tr style=\"text-align: right;\">\n",
       "      <th></th>\n",
       "      <th>id</th>\n",
       "      <th>user_id</th>\n",
       "      <th>call_date</th>\n",
       "      <th>duration</th>\n",
       "      <th>rounded_duration_minutes</th>\n",
       "    </tr>\n",
       "  </thead>\n",
       "  <tbody>\n",
       "    <tr>\n",
       "      <th>105912</th>\n",
       "      <td>1374_8</td>\n",
       "      <td>1374</td>\n",
       "      <td>2018-07-08</td>\n",
       "      <td>10.44</td>\n",
       "      <td>11</td>\n",
       "    </tr>\n",
       "    <tr>\n",
       "      <th>57779</th>\n",
       "      <td>1209_152</td>\n",
       "      <td>1209</td>\n",
       "      <td>2018-12-24</td>\n",
       "      <td>1.92</td>\n",
       "      <td>2</td>\n",
       "    </tr>\n",
       "    <tr>\n",
       "      <th>79407</th>\n",
       "      <td>1284_665</td>\n",
       "      <td>1284</td>\n",
       "      <td>2018-12-19</td>\n",
       "      <td>1.94</td>\n",
       "      <td>2</td>\n",
       "    </tr>\n",
       "    <tr>\n",
       "      <th>23182</th>\n",
       "      <td>1084_229</td>\n",
       "      <td>1084</td>\n",
       "      <td>2018-11-03</td>\n",
       "      <td>13.99</td>\n",
       "      <td>14</td>\n",
       "    </tr>\n",
       "    <tr>\n",
       "      <th>68097</th>\n",
       "      <td>1246_116</td>\n",
       "      <td>1246</td>\n",
       "      <td>2018-07-16</td>\n",
       "      <td>8.27</td>\n",
       "      <td>9</td>\n",
       "    </tr>\n",
       "    <tr>\n",
       "      <th>132353</th>\n",
       "      <td>1476_301</td>\n",
       "      <td>1476</td>\n",
       "      <td>2018-08-23</td>\n",
       "      <td>2.72</td>\n",
       "      <td>3</td>\n",
       "    </tr>\n",
       "    <tr>\n",
       "      <th>133684</th>\n",
       "      <td>1483_551</td>\n",
       "      <td>1483</td>\n",
       "      <td>2018-07-17</td>\n",
       "      <td>6.14</td>\n",
       "      <td>7</td>\n",
       "    </tr>\n",
       "    <tr>\n",
       "      <th>48101</th>\n",
       "      <td>1174_78</td>\n",
       "      <td>1174</td>\n",
       "      <td>2018-06-03</td>\n",
       "      <td>3.08</td>\n",
       "      <td>4</td>\n",
       "    </tr>\n",
       "    <tr>\n",
       "      <th>127329</th>\n",
       "      <td>1456_131</td>\n",
       "      <td>1456</td>\n",
       "      <td>2018-06-22</td>\n",
       "      <td>13.53</td>\n",
       "      <td>14</td>\n",
       "    </tr>\n",
       "    <tr>\n",
       "      <th>98493</th>\n",
       "      <td>1353_200</td>\n",
       "      <td>1353</td>\n",
       "      <td>2018-10-15</td>\n",
       "      <td>11.53</td>\n",
       "      <td>12</td>\n",
       "    </tr>\n",
       "  </tbody>\n",
       "</table>\n",
       "</div>"
      ],
      "text/plain": [
       "              id user_id  call_date  duration  rounded_duration_minutes\n",
       "105912    1374_8    1374 2018-07-08     10.44                        11\n",
       "57779   1209_152    1209 2018-12-24      1.92                         2\n",
       "79407   1284_665    1284 2018-12-19      1.94                         2\n",
       "23182   1084_229    1084 2018-11-03     13.99                        14\n",
       "68097   1246_116    1246 2018-07-16      8.27                         9\n",
       "132353  1476_301    1476 2018-08-23      2.72                         3\n",
       "133684  1483_551    1483 2018-07-17      6.14                         7\n",
       "48101    1174_78    1174 2018-06-03      3.08                         4\n",
       "127329  1456_131    1456 2018-06-22     13.53                        14\n",
       "98493   1353_200    1353 2018-10-15     11.53                        12"
      ]
     },
     "execution_count": 27,
     "metadata": {},
     "output_type": "execute_result"
    }
   ],
   "source": [
    "df_calls['rounded_duration_minutes'] = np.ceil(df_calls['duration']).astype(int)\n",
    "\n",
    "df_calls.sample(10)"
   ]
  },
  {
   "cell_type": "markdown",
   "metadata": {},
   "source": [
    "Monthly total duration of calls by user_id"
   ]
  },
  {
   "cell_type": "code",
   "execution_count": 28,
   "metadata": {},
   "outputs": [
    {
     "data": {
      "text/plain": [
       "user_id  call_date \n",
       "1000     2018-12-31    124\n",
       "1001     2018-08-31    182\n",
       "         2018-09-30    315\n",
       "         2018-10-31    393\n",
       "         2018-11-30    426\n",
       "                      ... \n",
       "1498     2018-12-31    339\n",
       "1499     2018-09-30    346\n",
       "         2018-10-31    385\n",
       "         2018-11-30    308\n",
       "         2018-12-31    496\n",
       "Name: rounded_duration_minutes, Length: 2258, dtype: int64"
      ]
     },
     "execution_count": 28,
     "metadata": {},
     "output_type": "execute_result"
    }
   ],
   "source": [
    "df_monthly_total_call_duration_per_user = df_calls.groupby(['user_id',pd.Grouper(key='call_date', freq='M')])['rounded_duration_minutes'].sum()\n",
    "\n",
    "df_monthly_total_call_duration_per_user"
   ]
  },
  {
   "cell_type": "markdown",
   "metadata": {},
   "source": [
    "## Messages"
   ]
  },
  {
   "cell_type": "code",
   "execution_count": 29,
   "metadata": {},
   "outputs": [
    {
     "name": "stdout",
     "output_type": "stream",
     "text": [
      "<class 'pandas.core.frame.DataFrame'>\n",
      "RangeIndex: 76051 entries, 0 to 76050\n",
      "Data columns (total 3 columns):\n",
      " #   Column        Non-Null Count  Dtype \n",
      "---  ------        --------------  ----- \n",
      " 0   id            76051 non-null  object\n",
      " 1   user_id       76051 non-null  int64 \n",
      " 2   message_date  76051 non-null  object\n",
      "dtypes: int64(1), object(2)\n",
      "memory usage: 1.7+ MB\n"
     ]
    }
   ],
   "source": [
    "# Print the general/summary information about the messages' DataFrame\n",
    "\n",
    "df_messages.info(show_counts=True)"
   ]
  },
  {
   "cell_type": "code",
   "execution_count": 30,
   "metadata": {},
   "outputs": [
    {
     "data": {
      "text/html": [
       "<div>\n",
       "<style scoped>\n",
       "    .dataframe tbody tr th:only-of-type {\n",
       "        vertical-align: middle;\n",
       "    }\n",
       "\n",
       "    .dataframe tbody tr th {\n",
       "        vertical-align: top;\n",
       "    }\n",
       "\n",
       "    .dataframe thead th {\n",
       "        text-align: right;\n",
       "    }\n",
       "</style>\n",
       "<table border=\"1\" class=\"dataframe\">\n",
       "  <thead>\n",
       "    <tr style=\"text-align: right;\">\n",
       "      <th></th>\n",
       "      <th>id</th>\n",
       "      <th>user_id</th>\n",
       "      <th>message_date</th>\n",
       "    </tr>\n",
       "  </thead>\n",
       "  <tbody>\n",
       "    <tr>\n",
       "      <th>30242</th>\n",
       "      <td>1189_191</td>\n",
       "      <td>1189</td>\n",
       "      <td>2018-10-23</td>\n",
       "    </tr>\n",
       "    <tr>\n",
       "      <th>32397</th>\n",
       "      <td>1203_42</td>\n",
       "      <td>1203</td>\n",
       "      <td>2018-07-16</td>\n",
       "    </tr>\n",
       "    <tr>\n",
       "      <th>51443</th>\n",
       "      <td>1335_32</td>\n",
       "      <td>1335</td>\n",
       "      <td>2018-11-23</td>\n",
       "    </tr>\n",
       "    <tr>\n",
       "      <th>24735</th>\n",
       "      <td>1146_483</td>\n",
       "      <td>1146</td>\n",
       "      <td>2018-11-22</td>\n",
       "    </tr>\n",
       "    <tr>\n",
       "      <th>12350</th>\n",
       "      <td>1081_97</td>\n",
       "      <td>1081</td>\n",
       "      <td>2018-05-18</td>\n",
       "    </tr>\n",
       "    <tr>\n",
       "      <th>33437</th>\n",
       "      <td>1211_113</td>\n",
       "      <td>1211</td>\n",
       "      <td>2018-12-26</td>\n",
       "    </tr>\n",
       "    <tr>\n",
       "      <th>56654</th>\n",
       "      <td>1361_6</td>\n",
       "      <td>1361</td>\n",
       "      <td>2018-12-13</td>\n",
       "    </tr>\n",
       "    <tr>\n",
       "      <th>22601</th>\n",
       "      <td>1133_891</td>\n",
       "      <td>1133</td>\n",
       "      <td>2018-08-20</td>\n",
       "    </tr>\n",
       "    <tr>\n",
       "      <th>68877</th>\n",
       "      <td>1446_46</td>\n",
       "      <td>1446</td>\n",
       "      <td>2018-10-05</td>\n",
       "    </tr>\n",
       "    <tr>\n",
       "      <th>31147</th>\n",
       "      <td>1195_14</td>\n",
       "      <td>1195</td>\n",
       "      <td>2018-10-18</td>\n",
       "    </tr>\n",
       "  </tbody>\n",
       "</table>\n",
       "</div>"
      ],
      "text/plain": [
       "             id  user_id message_date\n",
       "30242  1189_191     1189   2018-10-23\n",
       "32397   1203_42     1203   2018-07-16\n",
       "51443   1335_32     1335   2018-11-23\n",
       "24735  1146_483     1146   2018-11-22\n",
       "12350   1081_97     1081   2018-05-18\n",
       "33437  1211_113     1211   2018-12-26\n",
       "56654    1361_6     1361   2018-12-13\n",
       "22601  1133_891     1133   2018-08-20\n",
       "68877   1446_46     1446   2018-10-05\n",
       "31147   1195_14     1195   2018-10-18"
      ]
     },
     "execution_count": 30,
     "metadata": {},
     "output_type": "execute_result"
    }
   ],
   "source": [
    "# Print a sample of data for messages\n",
    "\n",
    "df_messages.sample(10)"
   ]
  },
  {
   "cell_type": "markdown",
   "metadata": {},
   "source": [
    "Duplicate message ids?"
   ]
  },
  {
   "cell_type": "code",
   "execution_count": 31,
   "metadata": {},
   "outputs": [
    {
     "data": {
      "text/plain": [
       "0"
      ]
     },
     "execution_count": 31,
     "metadata": {},
     "output_type": "execute_result"
    }
   ],
   "source": [
    "df_messages['id'].duplicated().sum()"
   ]
  },
  {
   "cell_type": "markdown",
   "metadata": {},
   "source": [
    "Stats for number of messages sent by user_id"
   ]
  },
  {
   "cell_type": "code",
   "execution_count": 32,
   "metadata": {
    "scrolled": true
   },
   "outputs": [
    {
     "data": {
      "text/plain": [
       "count     402.000000\n",
       "mean      189.181592\n",
       "std       192.207920\n",
       "min         1.000000\n",
       "25%        60.000000\n",
       "50%       126.500000\n",
       "75%       258.750000\n",
       "max      1288.000000\n",
       "Name: id, dtype: float64"
      ]
     },
     "execution_count": 32,
     "metadata": {},
     "output_type": "execute_result"
    }
   ],
   "source": [
    "df_messages.groupby('user_id')['id'].count().describe()"
   ]
  },
  {
   "cell_type": "markdown",
   "metadata": {},
   "source": [
    "Observations:\n",
    "- No duplicate message ids\n",
    "- 98 of 500 users haven't sent any messages\n",
    "- Large variation in number of messages sent by users\n",
    "- user_id datatype is int64 and it should be object  \n",
    "- message_date datatype is object and should be converted to datetime datatype for our analysis  "
   ]
  },
  {
   "cell_type": "markdown",
   "metadata": {},
   "source": [
    "### Fix data"
   ]
  },
  {
   "cell_type": "markdown",
   "metadata": {},
   "source": [
    "Change user_id to object"
   ]
  },
  {
   "cell_type": "code",
   "execution_count": 33,
   "metadata": {},
   "outputs": [],
   "source": [
    "df_messages['user_id'] = df_messages['user_id'].astype('object')"
   ]
  },
  {
   "cell_type": "markdown",
   "metadata": {},
   "source": [
    "Change message_date to datetime datatype"
   ]
  },
  {
   "cell_type": "code",
   "execution_count": 34,
   "metadata": {},
   "outputs": [
    {
     "data": {
      "text/plain": [
       "id                      object\n",
       "user_id                 object\n",
       "message_date    datetime64[ns]\n",
       "dtype: object"
      ]
     },
     "execution_count": 34,
     "metadata": {},
     "output_type": "execute_result"
    }
   ],
   "source": [
    "df_messages[\"message_date\"] = pd.to_datetime(df_messages[\"message_date\"])\n",
    "\n",
    "df_messages.dtypes"
   ]
  },
  {
   "cell_type": "markdown",
   "metadata": {},
   "source": [
    "### Enrich data"
   ]
  },
  {
   "cell_type": "markdown",
   "metadata": {},
   "source": [
    "Monthly number of messages sent per user"
   ]
  },
  {
   "cell_type": "code",
   "execution_count": 35,
   "metadata": {},
   "outputs": [
    {
     "data": {
      "text/plain": [
       "user_id  message_date\n",
       "1000     2018-12-31      11\n",
       "1001     2018-08-31      30\n",
       "         2018-09-30      44\n",
       "         2018-10-31      53\n",
       "         2018-11-30      36\n",
       "                         ..\n",
       "1496     2018-09-30      21\n",
       "         2018-10-31      18\n",
       "         2018-11-30      13\n",
       "         2018-12-31      11\n",
       "1497     2018-12-31      50\n",
       "Name: id, Length: 1806, dtype: int64"
      ]
     },
     "execution_count": 35,
     "metadata": {},
     "output_type": "execute_result"
    }
   ],
   "source": [
    "df_monthly_total_messages_per_user = df_messages.groupby(['user_id',pd.Grouper(key='message_date', freq='M')])['id'].count()\n",
    "\n",
    "df_monthly_total_messages_per_user"
   ]
  },
  {
   "cell_type": "markdown",
   "metadata": {},
   "source": [
    "## Internet"
   ]
  },
  {
   "cell_type": "code",
   "execution_count": 36,
   "metadata": {},
   "outputs": [
    {
     "name": "stdout",
     "output_type": "stream",
     "text": [
      "<class 'pandas.core.frame.DataFrame'>\n",
      "RangeIndex: 104825 entries, 0 to 104824\n",
      "Data columns (total 4 columns):\n",
      " #   Column        Non-Null Count   Dtype  \n",
      "---  ------        --------------   -----  \n",
      " 0   id            104825 non-null  object \n",
      " 1   user_id       104825 non-null  int64  \n",
      " 2   session_date  104825 non-null  object \n",
      " 3   mb_used       104825 non-null  float64\n",
      "dtypes: float64(1), int64(1), object(2)\n",
      "memory usage: 3.2+ MB\n"
     ]
    }
   ],
   "source": [
    "# Print the general/summary information about the internet DataFrame\n",
    "\n",
    "df_data.info(show_counts=True)"
   ]
  },
  {
   "cell_type": "code",
   "execution_count": 37,
   "metadata": {},
   "outputs": [
    {
     "data": {
      "text/html": [
       "<div>\n",
       "<style scoped>\n",
       "    .dataframe tbody tr th:only-of-type {\n",
       "        vertical-align: middle;\n",
       "    }\n",
       "\n",
       "    .dataframe tbody tr th {\n",
       "        vertical-align: top;\n",
       "    }\n",
       "\n",
       "    .dataframe thead th {\n",
       "        text-align: right;\n",
       "    }\n",
       "</style>\n",
       "<table border=\"1\" class=\"dataframe\">\n",
       "  <thead>\n",
       "    <tr style=\"text-align: right;\">\n",
       "      <th></th>\n",
       "      <th>id</th>\n",
       "      <th>user_id</th>\n",
       "      <th>session_date</th>\n",
       "      <th>mb_used</th>\n",
       "    </tr>\n",
       "  </thead>\n",
       "  <tbody>\n",
       "    <tr>\n",
       "      <th>104048</th>\n",
       "      <td>1498_105</td>\n",
       "      <td>1498</td>\n",
       "      <td>2018-12-07</td>\n",
       "      <td>313.93</td>\n",
       "    </tr>\n",
       "    <tr>\n",
       "      <th>9581</th>\n",
       "      <td>1049_231</td>\n",
       "      <td>1049</td>\n",
       "      <td>2018-11-17</td>\n",
       "      <td>298.11</td>\n",
       "    </tr>\n",
       "    <tr>\n",
       "      <th>70939</th>\n",
       "      <td>1331_190</td>\n",
       "      <td>1331</td>\n",
       "      <td>2018-12-09</td>\n",
       "      <td>0.00</td>\n",
       "    </tr>\n",
       "    <tr>\n",
       "      <th>60538</th>\n",
       "      <td>1276_22</td>\n",
       "      <td>1276</td>\n",
       "      <td>2018-12-09</td>\n",
       "      <td>424.53</td>\n",
       "    </tr>\n",
       "    <tr>\n",
       "      <th>78349</th>\n",
       "      <td>1366_38</td>\n",
       "      <td>1366</td>\n",
       "      <td>2018-12-21</td>\n",
       "      <td>117.89</td>\n",
       "    </tr>\n",
       "    <tr>\n",
       "      <th>60823</th>\n",
       "      <td>1277_126</td>\n",
       "      <td>1277</td>\n",
       "      <td>2018-10-30</td>\n",
       "      <td>271.98</td>\n",
       "    </tr>\n",
       "    <tr>\n",
       "      <th>3926</th>\n",
       "      <td>1022_337</td>\n",
       "      <td>1022</td>\n",
       "      <td>2018-07-27</td>\n",
       "      <td>63.24</td>\n",
       "    </tr>\n",
       "    <tr>\n",
       "      <th>69768</th>\n",
       "      <td>1326_40</td>\n",
       "      <td>1326</td>\n",
       "      <td>2018-10-18</td>\n",
       "      <td>310.62</td>\n",
       "    </tr>\n",
       "    <tr>\n",
       "      <th>15360</th>\n",
       "      <td>1069_326</td>\n",
       "      <td>1069</td>\n",
       "      <td>2018-10-11</td>\n",
       "      <td>645.18</td>\n",
       "    </tr>\n",
       "    <tr>\n",
       "      <th>77575</th>\n",
       "      <td>1362_251</td>\n",
       "      <td>1362</td>\n",
       "      <td>2018-09-24</td>\n",
       "      <td>412.55</td>\n",
       "    </tr>\n",
       "  </tbody>\n",
       "</table>\n",
       "</div>"
      ],
      "text/plain": [
       "              id  user_id session_date  mb_used\n",
       "104048  1498_105     1498   2018-12-07   313.93\n",
       "9581    1049_231     1049   2018-11-17   298.11\n",
       "70939   1331_190     1331   2018-12-09     0.00\n",
       "60538    1276_22     1276   2018-12-09   424.53\n",
       "78349    1366_38     1366   2018-12-21   117.89\n",
       "60823   1277_126     1277   2018-10-30   271.98\n",
       "3926    1022_337     1022   2018-07-27    63.24\n",
       "69768    1326_40     1326   2018-10-18   310.62\n",
       "15360   1069_326     1069   2018-10-11   645.18\n",
       "77575   1362_251     1362   2018-09-24   412.55"
      ]
     },
     "execution_count": 37,
     "metadata": {},
     "output_type": "execute_result"
    }
   ],
   "source": [
    "# Print a sample of data for the internet traffic\n",
    "\n",
    "df_data.sample(10)"
   ]
  },
  {
   "cell_type": "markdown",
   "metadata": {},
   "source": [
    "Duplicate data session ids?"
   ]
  },
  {
   "cell_type": "code",
   "execution_count": 38,
   "metadata": {},
   "outputs": [
    {
     "data": {
      "text/plain": [
       "0"
      ]
     },
     "execution_count": 38,
     "metadata": {},
     "output_type": "execute_result"
    }
   ],
   "source": [
    "df_data['id'].duplicated().sum()"
   ]
  },
  {
   "cell_type": "markdown",
   "metadata": {},
   "source": [
    "Stats for data sessions by user_id"
   ]
  },
  {
   "cell_type": "code",
   "execution_count": 39,
   "metadata": {},
   "outputs": [
    {
     "data": {
      "text/plain": [
       "count    489.000000\n",
       "mean     214.366053\n",
       "std      159.680492\n",
       "min        1.000000\n",
       "25%       84.000000\n",
       "50%      178.000000\n",
       "75%      318.000000\n",
       "max      851.000000\n",
       "Name: id, dtype: float64"
      ]
     },
     "execution_count": 39,
     "metadata": {},
     "output_type": "execute_result"
    }
   ],
   "source": [
    "df_data.groupby('user_id')['id'].count().describe()"
   ]
  },
  {
   "cell_type": "markdown",
   "metadata": {},
   "source": [
    "Observations:\n",
    "- No duplicate data session ids\n",
    "- 11 of 500 users don't have any data usage\n",
    "- Large variation in number of data sessions among users\n",
    "- user_id datatype is int64 and it should be object  \n",
    "- session_date datatype is object and should be converted to datetime datatype for our analysis  "
   ]
  },
  {
   "cell_type": "markdown",
   "metadata": {},
   "source": [
    "### Fix data"
   ]
  },
  {
   "cell_type": "markdown",
   "metadata": {},
   "source": [
    "Change user_id to object"
   ]
  },
  {
   "cell_type": "code",
   "execution_count": 40,
   "metadata": {},
   "outputs": [],
   "source": [
    "df_data['user_id'] = df_data['user_id'].astype('object')"
   ]
  },
  {
   "cell_type": "markdown",
   "metadata": {},
   "source": [
    "Change message_date to datetime datatype"
   ]
  },
  {
   "cell_type": "code",
   "execution_count": 41,
   "metadata": {},
   "outputs": [
    {
     "data": {
      "text/plain": [
       "id                      object\n",
       "user_id                 object\n",
       "session_date    datetime64[ns]\n",
       "mb_used                float64\n",
       "dtype: object"
      ]
     },
     "execution_count": 41,
     "metadata": {},
     "output_type": "execute_result"
    }
   ],
   "source": [
    "df_data[\"session_date\"] = pd.to_datetime(df_data[\"session_date\"])\n",
    "\n",
    "df_data.dtypes"
   ]
  },
  {
   "cell_type": "markdown",
   "metadata": {},
   "source": [
    "### Enrich data"
   ]
  },
  {
   "cell_type": "markdown",
   "metadata": {},
   "source": [
    "Total web traffic used per month for each user"
   ]
  },
  {
   "cell_type": "code",
   "execution_count": 42,
   "metadata": {},
   "outputs": [
    {
     "data": {
      "text/plain": [
       "user_id  session_date\n",
       "1000     2018-12-31       1901.47\n",
       "1001     2018-08-31       6919.15\n",
       "         2018-09-30      13314.82\n",
       "         2018-10-31      22330.49\n",
       "         2018-11-30      18504.30\n",
       "                           ...   \n",
       "1498     2018-12-31      23137.69\n",
       "1499     2018-09-30      12984.76\n",
       "         2018-10-31      19492.43\n",
       "         2018-11-30      16813.83\n",
       "         2018-12-31      22059.21\n",
       "Name: mb_used, Length: 2277, dtype: float64"
      ]
     },
     "execution_count": 42,
     "metadata": {},
     "output_type": "execute_result"
    }
   ],
   "source": [
    "df_monthly_user_total_mb_used = df_data.groupby(['user_id',pd.Grouper(key='session_date', freq='M')])['mb_used'].sum()\n",
    "df_monthly_user_total_mb_used"
   ]
  },
  {
   "cell_type": "markdown",
   "metadata": {},
   "source": [
    "New column rounding up monthly web traffic to nearest gb for each user"
   ]
  },
  {
   "cell_type": "code",
   "execution_count": 43,
   "metadata": {},
   "outputs": [
    {
     "data": {
      "text/plain": [
       "user_id  session_date\n",
       "1000     2018-12-31       2\n",
       "1001     2018-08-31       7\n",
       "         2018-09-30      14\n",
       "         2018-10-31      22\n",
       "         2018-11-30      19\n",
       "                         ..\n",
       "1498     2018-12-31      23\n",
       "1499     2018-09-30      13\n",
       "         2018-10-31      20\n",
       "         2018-11-30      17\n",
       "         2018-12-31      22\n",
       "Name: mb_used, Length: 2277, dtype: int64"
      ]
     },
     "execution_count": 43,
     "metadata": {},
     "output_type": "execute_result"
    }
   ],
   "source": [
    "df_monthly_user_total_gb_rounded = np.ceil(df_monthly_user_total_mb_used/1024).astype(int)\n",
    "df_monthly_user_total_gb_rounded"
   ]
  },
  {
   "cell_type": "markdown",
   "metadata": {},
   "source": [
    "## Study plan conditions"
   ]
  },
  {
   "cell_type": "code",
   "execution_count": 44,
   "metadata": {},
   "outputs": [
    {
     "data": {
      "text/html": [
       "<div>\n",
       "<style scoped>\n",
       "    .dataframe tbody tr th:only-of-type {\n",
       "        vertical-align: middle;\n",
       "    }\n",
       "\n",
       "    .dataframe tbody tr th {\n",
       "        vertical-align: top;\n",
       "    }\n",
       "\n",
       "    .dataframe thead th {\n",
       "        text-align: right;\n",
       "    }\n",
       "</style>\n",
       "<table border=\"1\" class=\"dataframe\">\n",
       "  <thead>\n",
       "    <tr style=\"text-align: right;\">\n",
       "      <th></th>\n",
       "      <th>plan_name</th>\n",
       "      <th>plan_monthly_cost_usd</th>\n",
       "      <th>messages_included</th>\n",
       "      <th>mb_included</th>\n",
       "      <th>minutes_included</th>\n",
       "      <th>usd_per_message</th>\n",
       "      <th>usd_per_gb</th>\n",
       "      <th>usd_per_minute</th>\n",
       "    </tr>\n",
       "  </thead>\n",
       "  <tbody>\n",
       "    <tr>\n",
       "      <th>0</th>\n",
       "      <td>surf</td>\n",
       "      <td>20</td>\n",
       "      <td>50</td>\n",
       "      <td>15360</td>\n",
       "      <td>500</td>\n",
       "      <td>0.03</td>\n",
       "      <td>10</td>\n",
       "      <td>0.03</td>\n",
       "    </tr>\n",
       "    <tr>\n",
       "      <th>1</th>\n",
       "      <td>ultimate</td>\n",
       "      <td>70</td>\n",
       "      <td>1000</td>\n",
       "      <td>30720</td>\n",
       "      <td>3000</td>\n",
       "      <td>0.01</td>\n",
       "      <td>7</td>\n",
       "      <td>0.01</td>\n",
       "    </tr>\n",
       "    <tr>\n",
       "      <th>2</th>\n",
       "      <td>Ultimate - Surf</td>\n",
       "      <td>50</td>\n",
       "      <td>950</td>\n",
       "      <td>15360</td>\n",
       "      <td>2500</td>\n",
       "      <td>-0.02</td>\n",
       "      <td>-3</td>\n",
       "      <td>-0.02</td>\n",
       "    </tr>\n",
       "  </tbody>\n",
       "</table>\n",
       "</div>"
      ],
      "text/plain": [
       "         plan_name  plan_monthly_cost_usd  messages_included  mb_included  \\\n",
       "0             surf                     20                 50        15360   \n",
       "1         ultimate                     70               1000        30720   \n",
       "2  Ultimate - Surf                     50                950        15360   \n",
       "\n",
       "   minutes_included  usd_per_message  usd_per_gb  usd_per_minute  \n",
       "0               500             0.03          10            0.03  \n",
       "1              3000             0.01           7            0.01  \n",
       "2              2500            -0.02          -3           -0.02  "
      ]
     },
     "execution_count": 44,
     "metadata": {},
     "output_type": "execute_result"
    }
   ],
   "source": [
    "# Print out the plan conditions and make sure they are clear for you\n",
    "\n",
    "df_plans"
   ]
  },
  {
   "cell_type": "markdown",
   "metadata": {},
   "source": [
    "## Aggregate data per user\n",
    "\n",
    "Now, as the data is clean, aggregate data per user per period in order to have just one record per user per period. It should ease the further analysis a lot."
   ]
  },
  {
   "cell_type": "code",
   "execution_count": 45,
   "metadata": {},
   "outputs": [
    {
     "data": {
      "text/plain": [
       "user_id  call_date \n",
       "1000     2018-12-31    16\n",
       "1001     2018-08-31    27\n",
       "         2018-09-30    49\n",
       "         2018-10-31    65\n",
       "         2018-11-30    64\n",
       "                       ..\n",
       "1498     2018-12-31    39\n",
       "1499     2018-09-30    41\n",
       "         2018-10-31    53\n",
       "         2018-11-30    45\n",
       "         2018-12-31    65\n",
       "Name: id, Length: 2258, dtype: int64"
      ]
     },
     "execution_count": 45,
     "metadata": {},
     "output_type": "execute_result"
    }
   ],
   "source": [
    "# Calculate the number of calls made by each user per month. Save the result.\n",
    "\n",
    "df_monthly_calls_per_user = df_calls.groupby(['user_id',pd.Grouper(key='call_date', freq='M')])['id'].count()\n",
    "df_monthly_calls_per_user"
   ]
  },
  {
   "cell_type": "code",
   "execution_count": 46,
   "metadata": {},
   "outputs": [
    {
     "data": {
      "text/plain": [
       "user_id  call_date \n",
       "1000     2018-12-31    124\n",
       "1001     2018-08-31    182\n",
       "         2018-09-30    315\n",
       "         2018-10-31    393\n",
       "         2018-11-30    426\n",
       "                      ... \n",
       "1498     2018-12-31    339\n",
       "1499     2018-09-30    346\n",
       "         2018-10-31    385\n",
       "         2018-11-30    308\n",
       "         2018-12-31    496\n",
       "Name: rounded_duration_minutes, Length: 2258, dtype: int64"
      ]
     },
     "execution_count": 46,
     "metadata": {},
     "output_type": "execute_result"
    }
   ],
   "source": [
    "# Calculate the amount of minutes spent by each user per month. Save the result.\n",
    "\n",
    "df_monthly_total_call_duration_per_user"
   ]
  },
  {
   "cell_type": "code",
   "execution_count": 47,
   "metadata": {},
   "outputs": [
    {
     "data": {
      "text/html": [
       "<div>\n",
       "<style scoped>\n",
       "    .dataframe tbody tr th:only-of-type {\n",
       "        vertical-align: middle;\n",
       "    }\n",
       "\n",
       "    .dataframe tbody tr th {\n",
       "        vertical-align: top;\n",
       "    }\n",
       "\n",
       "    .dataframe thead tr th {\n",
       "        text-align: left;\n",
       "    }\n",
       "</style>\n",
       "<table border=\"1\" class=\"dataframe\">\n",
       "  <thead>\n",
       "    <tr>\n",
       "      <th></th>\n",
       "      <th>user_id</th>\n",
       "      <th>call_date</th>\n",
       "      <th colspan=\"2\" halign=\"left\">rounded_duration_minutes</th>\n",
       "    </tr>\n",
       "    <tr>\n",
       "      <th></th>\n",
       "      <th></th>\n",
       "      <th></th>\n",
       "      <th>count</th>\n",
       "      <th>sum</th>\n",
       "    </tr>\n",
       "  </thead>\n",
       "  <tbody>\n",
       "    <tr>\n",
       "      <th>0</th>\n",
       "      <td>1000</td>\n",
       "      <td>2018-12-31</td>\n",
       "      <td>16</td>\n",
       "      <td>124</td>\n",
       "    </tr>\n",
       "    <tr>\n",
       "      <th>1</th>\n",
       "      <td>1001</td>\n",
       "      <td>2018-08-31</td>\n",
       "      <td>27</td>\n",
       "      <td>182</td>\n",
       "    </tr>\n",
       "    <tr>\n",
       "      <th>2</th>\n",
       "      <td>1001</td>\n",
       "      <td>2018-09-30</td>\n",
       "      <td>49</td>\n",
       "      <td>315</td>\n",
       "    </tr>\n",
       "    <tr>\n",
       "      <th>3</th>\n",
       "      <td>1001</td>\n",
       "      <td>2018-10-31</td>\n",
       "      <td>65</td>\n",
       "      <td>393</td>\n",
       "    </tr>\n",
       "    <tr>\n",
       "      <th>4</th>\n",
       "      <td>1001</td>\n",
       "      <td>2018-11-30</td>\n",
       "      <td>64</td>\n",
       "      <td>426</td>\n",
       "    </tr>\n",
       "    <tr>\n",
       "      <th>...</th>\n",
       "      <td>...</td>\n",
       "      <td>...</td>\n",
       "      <td>...</td>\n",
       "      <td>...</td>\n",
       "    </tr>\n",
       "    <tr>\n",
       "      <th>2253</th>\n",
       "      <td>1498</td>\n",
       "      <td>2018-12-31</td>\n",
       "      <td>39</td>\n",
       "      <td>339</td>\n",
       "    </tr>\n",
       "    <tr>\n",
       "      <th>2254</th>\n",
       "      <td>1499</td>\n",
       "      <td>2018-09-30</td>\n",
       "      <td>41</td>\n",
       "      <td>346</td>\n",
       "    </tr>\n",
       "    <tr>\n",
       "      <th>2255</th>\n",
       "      <td>1499</td>\n",
       "      <td>2018-10-31</td>\n",
       "      <td>53</td>\n",
       "      <td>385</td>\n",
       "    </tr>\n",
       "    <tr>\n",
       "      <th>2256</th>\n",
       "      <td>1499</td>\n",
       "      <td>2018-11-30</td>\n",
       "      <td>45</td>\n",
       "      <td>308</td>\n",
       "    </tr>\n",
       "    <tr>\n",
       "      <th>2257</th>\n",
       "      <td>1499</td>\n",
       "      <td>2018-12-31</td>\n",
       "      <td>65</td>\n",
       "      <td>496</td>\n",
       "    </tr>\n",
       "  </tbody>\n",
       "</table>\n",
       "<p>2258 rows × 4 columns</p>\n",
       "</div>"
      ],
      "text/plain": [
       "     user_id  call_date rounded_duration_minutes     \n",
       "                                           count  sum\n",
       "0       1000 2018-12-31                       16  124\n",
       "1       1001 2018-08-31                       27  182\n",
       "2       1001 2018-09-30                       49  315\n",
       "3       1001 2018-10-31                       65  393\n",
       "4       1001 2018-11-30                       64  426\n",
       "...      ...        ...                      ...  ...\n",
       "2253    1498 2018-12-31                       39  339\n",
       "2254    1499 2018-09-30                       41  346\n",
       "2255    1499 2018-10-31                       53  385\n",
       "2256    1499 2018-11-30                       45  308\n",
       "2257    1499 2018-12-31                       65  496\n",
       "\n",
       "[2258 rows x 4 columns]"
      ]
     },
     "execution_count": 47,
     "metadata": {},
     "output_type": "execute_result"
    }
   ],
   "source": [
    "df_calls.groupby(['user_id',pd.Grouper(key='call_date', freq='M')]).agg({'rounded_duration_minutes' : ('count','sum')}).reset_index()"
   ]
  },
  {
   "cell_type": "code",
   "execution_count": 48,
   "metadata": {},
   "outputs": [
    {
     "data": {
      "text/plain": [
       "user_id  message_date\n",
       "1000     2018-12-31      11\n",
       "1001     2018-08-31      30\n",
       "         2018-09-30      44\n",
       "         2018-10-31      53\n",
       "         2018-11-30      36\n",
       "                         ..\n",
       "1496     2018-09-30      21\n",
       "         2018-10-31      18\n",
       "         2018-11-30      13\n",
       "         2018-12-31      11\n",
       "1497     2018-12-31      50\n",
       "Name: id, Length: 1806, dtype: int64"
      ]
     },
     "execution_count": 48,
     "metadata": {},
     "output_type": "execute_result"
    }
   ],
   "source": [
    "# Calculate the number of messages sent by each user per month. Save the result.\n",
    "\n",
    "df_monthly_total_messages_per_user"
   ]
  },
  {
   "cell_type": "code",
   "execution_count": 49,
   "metadata": {},
   "outputs": [
    {
     "data": {
      "text/plain": [
       "user_id  session_date\n",
       "1000     2018-12-31       2\n",
       "1001     2018-08-31       7\n",
       "         2018-09-30      14\n",
       "         2018-10-31      22\n",
       "         2018-11-30      19\n",
       "                         ..\n",
       "1498     2018-12-31      23\n",
       "1499     2018-09-30      13\n",
       "         2018-10-31      20\n",
       "         2018-11-30      17\n",
       "         2018-12-31      22\n",
       "Name: mb_used, Length: 2277, dtype: int64"
      ]
     },
     "execution_count": 49,
     "metadata": {},
     "output_type": "execute_result"
    }
   ],
   "source": [
    "# Calculate the volume of internet traffic used by each user per month. Save the result.\n",
    "\n",
    "df_monthly_user_total_gb_rounded"
   ]
  },
  {
   "cell_type": "code",
   "execution_count": 50,
   "metadata": {},
   "outputs": [],
   "source": [
    "# Merge the data for calls, minutes, messages, internet based on user_id and month\n",
    "\n",
    "df_merged_calls_minutes = pd.merge(df_monthly_calls_per_user,df_monthly_total_call_duration_per_user, on=['user_id','call_date'])\n",
    "df_merged_calls_minutes.rename(columns={'id': 'calls'}, inplace=True)\n",
    "df_merged_calls_minutes = df_merged_calls_minutes.reset_index().set_index('user_id')\n",
    "\n",
    "df_monthly_total_messages_per_user = df_monthly_total_messages_per_user.reset_index().set_index('user_id')\n",
    "\n",
    "df_merged_calls_minutes_messages = pd.merge(df_merged_calls_minutes, df_monthly_total_messages_per_user, left_on=['user_id','call_date'], right_on=['user_id','message_date'], how='outer')\n",
    "df_merged_calls_minutes_messages.rename(columns={'id': 'messages'}, inplace=True)\n",
    "\n",
    "df_monthly_user_total_gb_rounded = df_monthly_user_total_gb_rounded.reset_index().set_index('user_id')\n",
    "\n",
    "df_merged_all = pd.merge(df_merged_calls_minutes_messages, df_monthly_user_total_gb_rounded, left_on=['user_id','call_date'], right_on=['user_id','session_date'], how='outer')\n",
    "df_merged_all.rename(columns={'mb_used': 'gb_rounded'}, inplace=True)\n",
    "df_merged_all[['calls','rounded_duration_minutes','messages','gb_rounded']] = df_merged_all[['calls','rounded_duration_minutes','messages','gb_rounded']].fillna(0).astype(np.int64)"
   ]
  },
  {
   "cell_type": "code",
   "execution_count": 51,
   "metadata": {},
   "outputs": [
    {
     "data": {
      "text/html": [
       "<div>\n",
       "<style scoped>\n",
       "    .dataframe tbody tr th:only-of-type {\n",
       "        vertical-align: middle;\n",
       "    }\n",
       "\n",
       "    .dataframe tbody tr th {\n",
       "        vertical-align: top;\n",
       "    }\n",
       "\n",
       "    .dataframe thead th {\n",
       "        text-align: right;\n",
       "    }\n",
       "</style>\n",
       "<table border=\"1\" class=\"dataframe\">\n",
       "  <thead>\n",
       "    <tr style=\"text-align: right;\">\n",
       "      <th></th>\n",
       "      <th>date</th>\n",
       "      <th>calls</th>\n",
       "      <th>rounded_duration_minutes</th>\n",
       "      <th>messages</th>\n",
       "      <th>gb_rounded</th>\n",
       "    </tr>\n",
       "    <tr>\n",
       "      <th>user_id</th>\n",
       "      <th></th>\n",
       "      <th></th>\n",
       "      <th></th>\n",
       "      <th></th>\n",
       "      <th></th>\n",
       "    </tr>\n",
       "  </thead>\n",
       "  <tbody>\n",
       "    <tr>\n",
       "      <th>1000</th>\n",
       "      <td>2018-12-31</td>\n",
       "      <td>16</td>\n",
       "      <td>124</td>\n",
       "      <td>11</td>\n",
       "      <td>2</td>\n",
       "    </tr>\n",
       "    <tr>\n",
       "      <th>1001</th>\n",
       "      <td>2018-08-31</td>\n",
       "      <td>27</td>\n",
       "      <td>182</td>\n",
       "      <td>30</td>\n",
       "      <td>7</td>\n",
       "    </tr>\n",
       "    <tr>\n",
       "      <th>1001</th>\n",
       "      <td>2018-09-30</td>\n",
       "      <td>49</td>\n",
       "      <td>315</td>\n",
       "      <td>44</td>\n",
       "      <td>14</td>\n",
       "    </tr>\n",
       "    <tr>\n",
       "      <th>1001</th>\n",
       "      <td>2018-10-31</td>\n",
       "      <td>65</td>\n",
       "      <td>393</td>\n",
       "      <td>53</td>\n",
       "      <td>22</td>\n",
       "    </tr>\n",
       "    <tr>\n",
       "      <th>1001</th>\n",
       "      <td>2018-11-30</td>\n",
       "      <td>64</td>\n",
       "      <td>426</td>\n",
       "      <td>36</td>\n",
       "      <td>19</td>\n",
       "    </tr>\n",
       "    <tr>\n",
       "      <th>...</th>\n",
       "      <td>...</td>\n",
       "      <td>...</td>\n",
       "      <td>...</td>\n",
       "      <td>...</td>\n",
       "      <td>...</td>\n",
       "    </tr>\n",
       "    <tr>\n",
       "      <th>1311</th>\n",
       "      <td>2018-06-30</td>\n",
       "      <td>0</td>\n",
       "      <td>0</td>\n",
       "      <td>0</td>\n",
       "      <td>2</td>\n",
       "    </tr>\n",
       "    <tr>\n",
       "      <th>1349</th>\n",
       "      <td>2018-10-31</td>\n",
       "      <td>0</td>\n",
       "      <td>0</td>\n",
       "      <td>0</td>\n",
       "      <td>13</td>\n",
       "    </tr>\n",
       "    <tr>\n",
       "      <th>1349</th>\n",
       "      <td>2018-11-30</td>\n",
       "      <td>0</td>\n",
       "      <td>0</td>\n",
       "      <td>0</td>\n",
       "      <td>17</td>\n",
       "    </tr>\n",
       "    <tr>\n",
       "      <th>1349</th>\n",
       "      <td>2018-12-31</td>\n",
       "      <td>0</td>\n",
       "      <td>0</td>\n",
       "      <td>0</td>\n",
       "      <td>13</td>\n",
       "    </tr>\n",
       "    <tr>\n",
       "      <th>1361</th>\n",
       "      <td>2018-05-31</td>\n",
       "      <td>0</td>\n",
       "      <td>0</td>\n",
       "      <td>0</td>\n",
       "      <td>2</td>\n",
       "    </tr>\n",
       "  </tbody>\n",
       "</table>\n",
       "<p>2325 rows × 5 columns</p>\n",
       "</div>"
      ],
      "text/plain": [
       "              date  calls  rounded_duration_minutes  messages  gb_rounded\n",
       "user_id                                                                  \n",
       "1000    2018-12-31     16                       124        11           2\n",
       "1001    2018-08-31     27                       182        30           7\n",
       "1001    2018-09-30     49                       315        44          14\n",
       "1001    2018-10-31     65                       393        53          22\n",
       "1001    2018-11-30     64                       426        36          19\n",
       "...            ...    ...                       ...       ...         ...\n",
       "1311    2018-06-30      0                         0         0           2\n",
       "1349    2018-10-31      0                         0         0          13\n",
       "1349    2018-11-30      0                         0         0          17\n",
       "1349    2018-12-31      0                         0         0          13\n",
       "1361    2018-05-31      0                         0         0           2\n",
       "\n",
       "[2325 rows x 5 columns]"
      ]
     },
     "execution_count": 51,
     "metadata": {},
     "output_type": "execute_result"
    }
   ],
   "source": [
    "# function to be applied to each row to check which date is not null\n",
    "\n",
    "def merge_dates(row):\n",
    "\n",
    "    call_date = row['call_date']\n",
    "    message_date = row['message_date']\n",
    "    session_date = row['session_date']\n",
    "\n",
    "    if  not pd.isnull(call_date):\n",
    "        return call_date\n",
    "\n",
    "    elif not pd.isnull(message_date):\n",
    "        return message_date\n",
    "    \n",
    "    else:\n",
    "        return session_date\n",
    "\n",
    "# applying the defined functions to rows\n",
    "df_merged_all['date'] = df_merged_all.apply(merge_dates, axis=1)\n",
    "df_merged_all.sample(30)\n",
    "\n",
    "# drop redundant date columns\n",
    "df_merged_all = df_merged_all.drop(['call_date', 'message_date','session_date'], axis=1)\n",
    "\n",
    "# moving date column to 2nd position\n",
    "df_merged_all = df_merged_all[['date', 'calls', 'rounded_duration_minutes','messages','gb_rounded']]\n",
    "\n",
    "df_merged_all"
   ]
  },
  {
   "cell_type": "code",
   "execution_count": 52,
   "metadata": {},
   "outputs": [
    {
     "data": {
      "text/html": [
       "<div>\n",
       "<style scoped>\n",
       "    .dataframe tbody tr th:only-of-type {\n",
       "        vertical-align: middle;\n",
       "    }\n",
       "\n",
       "    .dataframe tbody tr th {\n",
       "        vertical-align: top;\n",
       "    }\n",
       "\n",
       "    .dataframe thead th {\n",
       "        text-align: right;\n",
       "    }\n",
       "</style>\n",
       "<table border=\"1\" class=\"dataframe\">\n",
       "  <thead>\n",
       "    <tr style=\"text-align: right;\">\n",
       "      <th></th>\n",
       "      <th>user_id</th>\n",
       "      <th>date</th>\n",
       "      <th>calls</th>\n",
       "      <th>rounded_duration_minutes</th>\n",
       "      <th>messages</th>\n",
       "      <th>gb_rounded</th>\n",
       "      <th>plan</th>\n",
       "    </tr>\n",
       "  </thead>\n",
       "  <tbody>\n",
       "    <tr>\n",
       "      <th>0</th>\n",
       "      <td>1000</td>\n",
       "      <td>2018-12-31</td>\n",
       "      <td>16</td>\n",
       "      <td>124</td>\n",
       "      <td>11</td>\n",
       "      <td>2</td>\n",
       "      <td>ultimate</td>\n",
       "    </tr>\n",
       "    <tr>\n",
       "      <th>1</th>\n",
       "      <td>1001</td>\n",
       "      <td>2018-08-31</td>\n",
       "      <td>27</td>\n",
       "      <td>182</td>\n",
       "      <td>30</td>\n",
       "      <td>7</td>\n",
       "      <td>surf</td>\n",
       "    </tr>\n",
       "    <tr>\n",
       "      <th>2</th>\n",
       "      <td>1001</td>\n",
       "      <td>2018-09-30</td>\n",
       "      <td>49</td>\n",
       "      <td>315</td>\n",
       "      <td>44</td>\n",
       "      <td>14</td>\n",
       "      <td>surf</td>\n",
       "    </tr>\n",
       "    <tr>\n",
       "      <th>3</th>\n",
       "      <td>1001</td>\n",
       "      <td>2018-10-31</td>\n",
       "      <td>65</td>\n",
       "      <td>393</td>\n",
       "      <td>53</td>\n",
       "      <td>22</td>\n",
       "      <td>surf</td>\n",
       "    </tr>\n",
       "    <tr>\n",
       "      <th>4</th>\n",
       "      <td>1001</td>\n",
       "      <td>2018-11-30</td>\n",
       "      <td>64</td>\n",
       "      <td>426</td>\n",
       "      <td>36</td>\n",
       "      <td>19</td>\n",
       "      <td>surf</td>\n",
       "    </tr>\n",
       "    <tr>\n",
       "      <th>...</th>\n",
       "      <td>...</td>\n",
       "      <td>...</td>\n",
       "      <td>...</td>\n",
       "      <td>...</td>\n",
       "      <td>...</td>\n",
       "      <td>...</td>\n",
       "      <td>...</td>\n",
       "    </tr>\n",
       "    <tr>\n",
       "      <th>2320</th>\n",
       "      <td>1311</td>\n",
       "      <td>2018-06-30</td>\n",
       "      <td>0</td>\n",
       "      <td>0</td>\n",
       "      <td>0</td>\n",
       "      <td>2</td>\n",
       "      <td>ultimate</td>\n",
       "    </tr>\n",
       "    <tr>\n",
       "      <th>2321</th>\n",
       "      <td>1349</td>\n",
       "      <td>2018-10-31</td>\n",
       "      <td>0</td>\n",
       "      <td>0</td>\n",
       "      <td>0</td>\n",
       "      <td>13</td>\n",
       "      <td>surf</td>\n",
       "    </tr>\n",
       "    <tr>\n",
       "      <th>2322</th>\n",
       "      <td>1349</td>\n",
       "      <td>2018-11-30</td>\n",
       "      <td>0</td>\n",
       "      <td>0</td>\n",
       "      <td>0</td>\n",
       "      <td>17</td>\n",
       "      <td>surf</td>\n",
       "    </tr>\n",
       "    <tr>\n",
       "      <th>2323</th>\n",
       "      <td>1349</td>\n",
       "      <td>2018-12-31</td>\n",
       "      <td>0</td>\n",
       "      <td>0</td>\n",
       "      <td>0</td>\n",
       "      <td>13</td>\n",
       "      <td>surf</td>\n",
       "    </tr>\n",
       "    <tr>\n",
       "      <th>2324</th>\n",
       "      <td>1361</td>\n",
       "      <td>2018-05-31</td>\n",
       "      <td>0</td>\n",
       "      <td>0</td>\n",
       "      <td>0</td>\n",
       "      <td>2</td>\n",
       "      <td>surf</td>\n",
       "    </tr>\n",
       "  </tbody>\n",
       "</table>\n",
       "<p>2325 rows × 7 columns</p>\n",
       "</div>"
      ],
      "text/plain": [
       "      user_id       date  calls  rounded_duration_minutes  messages  \\\n",
       "0        1000 2018-12-31     16                       124        11   \n",
       "1        1001 2018-08-31     27                       182        30   \n",
       "2        1001 2018-09-30     49                       315        44   \n",
       "3        1001 2018-10-31     65                       393        53   \n",
       "4        1001 2018-11-30     64                       426        36   \n",
       "...       ...        ...    ...                       ...       ...   \n",
       "2320     1311 2018-06-30      0                         0         0   \n",
       "2321     1349 2018-10-31      0                         0         0   \n",
       "2322     1349 2018-11-30      0                         0         0   \n",
       "2323     1349 2018-12-31      0                         0         0   \n",
       "2324     1361 2018-05-31      0                         0         0   \n",
       "\n",
       "      gb_rounded      plan  \n",
       "0              2  ultimate  \n",
       "1              7      surf  \n",
       "2             14      surf  \n",
       "3             22      surf  \n",
       "4             19      surf  \n",
       "...          ...       ...  \n",
       "2320           2  ultimate  \n",
       "2321          13      surf  \n",
       "2322          17      surf  \n",
       "2323          13      surf  \n",
       "2324           2      surf  \n",
       "\n",
       "[2325 rows x 7 columns]"
      ]
     },
     "execution_count": 52,
     "metadata": {},
     "output_type": "execute_result"
    }
   ],
   "source": [
    "# Add the plan information\n",
    "\n",
    "df_merged_all_with_plan = pd.merge(df_merged_all,df_users[['user_id','plan']], on='user_id', how='left')\n",
    "df_merged_all_with_plan"
   ]
  },
  {
   "cell_type": "code",
   "execution_count": 53,
   "metadata": {},
   "outputs": [
    {
     "data": {
      "text/html": [
       "<div>\n",
       "<style scoped>\n",
       "    .dataframe tbody tr th:only-of-type {\n",
       "        vertical-align: middle;\n",
       "    }\n",
       "\n",
       "    .dataframe tbody tr th {\n",
       "        vertical-align: top;\n",
       "    }\n",
       "\n",
       "    .dataframe thead th {\n",
       "        text-align: right;\n",
       "    }\n",
       "</style>\n",
       "<table border=\"1\" class=\"dataframe\">\n",
       "  <thead>\n",
       "    <tr style=\"text-align: right;\">\n",
       "      <th></th>\n",
       "      <th>user_id</th>\n",
       "      <th>date</th>\n",
       "      <th>calls</th>\n",
       "      <th>rounded_duration_minutes</th>\n",
       "      <th>messages</th>\n",
       "      <th>gb_rounded</th>\n",
       "      <th>plan</th>\n",
       "      <th>Monthly_Revenue</th>\n",
       "    </tr>\n",
       "  </thead>\n",
       "  <tbody>\n",
       "    <tr>\n",
       "      <th>0</th>\n",
       "      <td>1000</td>\n",
       "      <td>2018-12-31</td>\n",
       "      <td>16</td>\n",
       "      <td>124</td>\n",
       "      <td>11</td>\n",
       "      <td>2</td>\n",
       "      <td>ultimate</td>\n",
       "      <td>70.00</td>\n",
       "    </tr>\n",
       "    <tr>\n",
       "      <th>1</th>\n",
       "      <td>1001</td>\n",
       "      <td>2018-08-31</td>\n",
       "      <td>27</td>\n",
       "      <td>182</td>\n",
       "      <td>30</td>\n",
       "      <td>7</td>\n",
       "      <td>surf</td>\n",
       "      <td>20.00</td>\n",
       "    </tr>\n",
       "    <tr>\n",
       "      <th>2</th>\n",
       "      <td>1001</td>\n",
       "      <td>2018-09-30</td>\n",
       "      <td>49</td>\n",
       "      <td>315</td>\n",
       "      <td>44</td>\n",
       "      <td>14</td>\n",
       "      <td>surf</td>\n",
       "      <td>20.00</td>\n",
       "    </tr>\n",
       "    <tr>\n",
       "      <th>3</th>\n",
       "      <td>1001</td>\n",
       "      <td>2018-10-31</td>\n",
       "      <td>65</td>\n",
       "      <td>393</td>\n",
       "      <td>53</td>\n",
       "      <td>22</td>\n",
       "      <td>surf</td>\n",
       "      <td>90.09</td>\n",
       "    </tr>\n",
       "    <tr>\n",
       "      <th>4</th>\n",
       "      <td>1001</td>\n",
       "      <td>2018-11-30</td>\n",
       "      <td>64</td>\n",
       "      <td>426</td>\n",
       "      <td>36</td>\n",
       "      <td>19</td>\n",
       "      <td>surf</td>\n",
       "      <td>60.00</td>\n",
       "    </tr>\n",
       "    <tr>\n",
       "      <th>5</th>\n",
       "      <td>1001</td>\n",
       "      <td>2018-12-31</td>\n",
       "      <td>56</td>\n",
       "      <td>412</td>\n",
       "      <td>44</td>\n",
       "      <td>19</td>\n",
       "      <td>surf</td>\n",
       "      <td>60.00</td>\n",
       "    </tr>\n",
       "    <tr>\n",
       "      <th>6</th>\n",
       "      <td>1002</td>\n",
       "      <td>2018-10-31</td>\n",
       "      <td>11</td>\n",
       "      <td>59</td>\n",
       "      <td>15</td>\n",
       "      <td>7</td>\n",
       "      <td>surf</td>\n",
       "      <td>20.00</td>\n",
       "    </tr>\n",
       "    <tr>\n",
       "      <th>7</th>\n",
       "      <td>1002</td>\n",
       "      <td>2018-11-30</td>\n",
       "      <td>55</td>\n",
       "      <td>386</td>\n",
       "      <td>32</td>\n",
       "      <td>19</td>\n",
       "      <td>surf</td>\n",
       "      <td>60.00</td>\n",
       "    </tr>\n",
       "    <tr>\n",
       "      <th>8</th>\n",
       "      <td>1002</td>\n",
       "      <td>2018-12-31</td>\n",
       "      <td>47</td>\n",
       "      <td>384</td>\n",
       "      <td>41</td>\n",
       "      <td>15</td>\n",
       "      <td>surf</td>\n",
       "      <td>20.00</td>\n",
       "    </tr>\n",
       "    <tr>\n",
       "      <th>9</th>\n",
       "      <td>1003</td>\n",
       "      <td>2018-12-31</td>\n",
       "      <td>149</td>\n",
       "      <td>1104</td>\n",
       "      <td>50</td>\n",
       "      <td>27</td>\n",
       "      <td>surf</td>\n",
       "      <td>158.12</td>\n",
       "    </tr>\n",
       "    <tr>\n",
       "      <th>10</th>\n",
       "      <td>1004</td>\n",
       "      <td>2018-05-31</td>\n",
       "      <td>21</td>\n",
       "      <td>193</td>\n",
       "      <td>7</td>\n",
       "      <td>7</td>\n",
       "      <td>surf</td>\n",
       "      <td>20.00</td>\n",
       "    </tr>\n",
       "    <tr>\n",
       "      <th>11</th>\n",
       "      <td>1004</td>\n",
       "      <td>2018-06-30</td>\n",
       "      <td>44</td>\n",
       "      <td>275</td>\n",
       "      <td>18</td>\n",
       "      <td>21</td>\n",
       "      <td>surf</td>\n",
       "      <td>80.00</td>\n",
       "    </tr>\n",
       "    <tr>\n",
       "      <th>12</th>\n",
       "      <td>1004</td>\n",
       "      <td>2018-07-31</td>\n",
       "      <td>49</td>\n",
       "      <td>381</td>\n",
       "      <td>26</td>\n",
       "      <td>24</td>\n",
       "      <td>surf</td>\n",
       "      <td>110.00</td>\n",
       "    </tr>\n",
       "    <tr>\n",
       "      <th>13</th>\n",
       "      <td>1004</td>\n",
       "      <td>2018-08-31</td>\n",
       "      <td>49</td>\n",
       "      <td>354</td>\n",
       "      <td>25</td>\n",
       "      <td>28</td>\n",
       "      <td>surf</td>\n",
       "      <td>150.00</td>\n",
       "    </tr>\n",
       "    <tr>\n",
       "      <th>14</th>\n",
       "      <td>1004</td>\n",
       "      <td>2018-09-30</td>\n",
       "      <td>42</td>\n",
       "      <td>301</td>\n",
       "      <td>21</td>\n",
       "      <td>19</td>\n",
       "      <td>surf</td>\n",
       "      <td>60.00</td>\n",
       "    </tr>\n",
       "  </tbody>\n",
       "</table>\n",
       "</div>"
      ],
      "text/plain": [
       "    user_id       date  calls  rounded_duration_minutes  messages  gb_rounded  \\\n",
       "0      1000 2018-12-31     16                       124        11           2   \n",
       "1      1001 2018-08-31     27                       182        30           7   \n",
       "2      1001 2018-09-30     49                       315        44          14   \n",
       "3      1001 2018-10-31     65                       393        53          22   \n",
       "4      1001 2018-11-30     64                       426        36          19   \n",
       "5      1001 2018-12-31     56                       412        44          19   \n",
       "6      1002 2018-10-31     11                        59        15           7   \n",
       "7      1002 2018-11-30     55                       386        32          19   \n",
       "8      1002 2018-12-31     47                       384        41          15   \n",
       "9      1003 2018-12-31    149                      1104        50          27   \n",
       "10     1004 2018-05-31     21                       193         7           7   \n",
       "11     1004 2018-06-30     44                       275        18          21   \n",
       "12     1004 2018-07-31     49                       381        26          24   \n",
       "13     1004 2018-08-31     49                       354        25          28   \n",
       "14     1004 2018-09-30     42                       301        21          19   \n",
       "\n",
       "        plan  Monthly_Revenue  \n",
       "0   ultimate            70.00  \n",
       "1       surf            20.00  \n",
       "2       surf            20.00  \n",
       "3       surf            90.09  \n",
       "4       surf            60.00  \n",
       "5       surf            60.00  \n",
       "6       surf            20.00  \n",
       "7       surf            60.00  \n",
       "8       surf            20.00  \n",
       "9       surf           158.12  \n",
       "10      surf            20.00  \n",
       "11      surf            80.00  \n",
       "12      surf           110.00  \n",
       "13      surf           150.00  \n",
       "14      surf            60.00  "
      ]
     },
     "execution_count": 53,
     "metadata": {},
     "output_type": "execute_result"
    }
   ],
   "source": [
    "# Calculate the monthly revenue for each user\n",
    "\n",
    "def calculate_monthly_revenue(row):\n",
    "    \n",
    "    revenue=0\n",
    "    \n",
    "    if row['plan'] == 'surf':\n",
    "        revenue = (max(row['rounded_duration_minutes']-500,0))*0.03 + (max(row['messages']-50,0))*0.03  + (max(row['gb_rounded']-15,0))*10  + 20\n",
    "    else:\n",
    "        revenue = (max(row['rounded_duration_minutes']-3000,0))*0.01 + (max(row['messages']-1000,0))*0.01  + (max(row['gb_rounded']-30,0))*7  + 70\n",
    "        \n",
    "    return revenue\n",
    "\n",
    "df_merged_all_with_plan['Monthly_Revenue'] = df_merged_all_with_plan.apply(calculate_monthly_revenue, axis=1)\n",
    "\n",
    "df_merged_all_with_plan.head(15)"
   ]
  },
  {
   "cell_type": "markdown",
   "metadata": {},
   "source": [
    "## Study user behaviour"
   ]
  },
  {
   "cell_type": "markdown",
   "metadata": {},
   "source": [
    "### Calls"
   ]
  },
  {
   "cell_type": "code",
   "execution_count": 54,
   "metadata": {},
   "outputs": [
    {
     "data": {
      "text/plain": [
       "plan      date      \n",
       "surf      2018-01-31    203.000000\n",
       "          2018-02-28    297.000000\n",
       "          2018-03-31    330.000000\n",
       "          2018-04-30    351.540000\n",
       "          2018-05-31    389.468354\n",
       "          2018-06-30    426.897959\n",
       "          2018-07-31    446.295082\n",
       "          2018-08-31    402.654545\n",
       "          2018-09-30    407.918782\n",
       "          2018-10-31    420.851240\n",
       "          2018-11-30    414.536332\n",
       "          2018-12-31    463.630769\n",
       "ultimate  2018-01-31    193.500000\n",
       "          2018-02-28    352.750000\n",
       "          2018-03-31    304.250000\n",
       "          2018-04-30    336.857143\n",
       "          2018-05-31    406.241379\n",
       "          2018-06-30    363.229167\n",
       "          2018-07-31    427.067797\n",
       "          2018-08-31    421.436620\n",
       "          2018-09-30    437.511628\n",
       "          2018-10-31    450.735849\n",
       "          2018-11-30    441.718750\n",
       "          2018-12-31    456.078947\n",
       "Name: rounded_duration_minutes, dtype: float64"
      ]
     },
     "execution_count": 54,
     "metadata": {},
     "output_type": "execute_result"
    }
   ],
   "source": [
    "# Compare average duration of calls per each plan per each distinct month. Plot a bar plat to visualize it.\n",
    "\n",
    "df_average_monthly_call_duration_by_plan = df_merged_all_with_plan.groupby(['plan','date'])['rounded_duration_minutes'].mean()\n",
    "\n",
    "df_average_monthly_call_duration_by_plan"
   ]
  },
  {
   "cell_type": "code",
   "execution_count": 55,
   "metadata": {},
   "outputs": [
    {
     "data": {
      "image/png": "[encoded data removed]",
      "text/plain": [
       "<Figure size 864x576 with 1 Axes>"
      ]
     },
     "metadata": {
      "needs_background": "light"
     },
     "output_type": "display_data"
    }
   ],
   "source": [
    "plot = df_average_monthly_call_duration_by_plan['surf'].plot(\n",
    "        label='Surf',\n",
    "        kind='bar',\n",
    "        figsize=[12,8],\n",
    "        color='g',\n",
    "        )\n",
    "\n",
    "plot = df_average_monthly_call_duration_by_plan['ultimate'].plot(\n",
    "        label='Ultimate',\n",
    "        kind='bar',\n",
    "        color='r',\n",
    "        alpha=0.5\n",
    "        )\n",
    "\n",
    "plot.set_xticklabels(['Jan','Feb','Mar','Apr','May','June','July','Aug','Sep','Oct','Nov','Dec'])\n",
    "plt.xlabel('Month', fontweight ='bold')\n",
    "plt.ylabel('Minutes', fontweight ='bold')\n",
    "plt.title('Average Monthly User Call Duration by Plan in 2018', fontweight ='bold', fontsize = 15)\n",
    "\n",
    "plt.legend(bbox_to_anchor=(1, 1), fancybox=True, framealpha=1, shadow=True)\n",
    "plt.show()"
   ]
  },
  {
   "cell_type": "code",
   "execution_count": 56,
   "metadata": {},
   "outputs": [
    {
     "data": {
      "text/plain": [
       "plan      date        user_id\n",
       "surf      2018-01-31  1042       114\n",
       "                      1362       292\n",
       "          2018-02-28  1042       254\n",
       "                      1099        39\n",
       "                      1138       307\n",
       "                                ... \n",
       "ultimate  2018-12-31  1482        56\n",
       "                      1487       416\n",
       "                      1490       368\n",
       "                      1493       473\n",
       "                      1497       300\n",
       "Name: rounded_duration_minutes, Length: 2293, dtype: int64"
      ]
     },
     "execution_count": 56,
     "metadata": {},
     "output_type": "execute_result"
    }
   ],
   "source": [
    "df_total_monthly_calls_duration_per_user_by_plan = df_merged_all_with_plan.groupby(['plan','date','user_id'])['rounded_duration_minutes'].sum()\n",
    "\n",
    "df_total_monthly_calls_duration_per_user_by_plan"
   ]
  },
  {
   "cell_type": "code",
   "execution_count": 57,
   "metadata": {},
   "outputs": [
    {
     "data": {
      "image/png": "[encoded data removed]",
      "text/plain": [
       "<Figure size 864x864 with 1 Axes>"
      ]
     },
     "metadata": {
      "needs_background": "light"
     },
     "output_type": "display_data"
    }
   ],
   "source": [
    "# Compare the number of minutes users of each plan require each month. Plot a histogram.\n",
    "\n",
    "fig, ax = plt.subplots(figsize=(12,12))\n",
    "ax = sns.histplot(df_total_monthly_calls_duration_per_user_by_plan, x=df_total_monthly_calls_duration_per_user_by_plan, hue=\"plan\", binwidth=100, #binrange=[0,160000]\n",
    "                 )\n",
    "edges = [rect.get_x() for rect in ax.patches] + [ax.patches[-1].get_x() + ax.patches[-1].get_width()]\n",
    "ax.set_xticks(edges)\n",
    "ax.set_yticks(np.arange(0, 300, step=25))\n",
    "ax.tick_params(axis='x', rotation=90, labelsize=8)\n",
    "plt.title('Monthly Total Calls Duration by Users in 2018', fontweight ='bold', fontsize = 15)\n",
    "plt.show()"
   ]
  },
  {
   "cell_type": "code",
   "execution_count": 58,
   "metadata": {},
   "outputs": [
    {
     "data": {
      "text/html": [
       "<div>\n",
       "<style scoped>\n",
       "    .dataframe tbody tr th:only-of-type {\n",
       "        vertical-align: middle;\n",
       "    }\n",
       "\n",
       "    .dataframe tbody tr th {\n",
       "        vertical-align: top;\n",
       "    }\n",
       "\n",
       "    .dataframe thead tr th {\n",
       "        text-align: left;\n",
       "    }\n",
       "\n",
       "    .dataframe thead tr:last-of-type th {\n",
       "        text-align: right;\n",
       "    }\n",
       "</style>\n",
       "<table border=\"1\" class=\"dataframe\">\n",
       "  <thead>\n",
       "    <tr>\n",
       "      <th></th>\n",
       "      <th>mean</th>\n",
       "      <th>var</th>\n",
       "      <th>std</th>\n",
       "      <th>median</th>\n",
       "    </tr>\n",
       "    <tr>\n",
       "      <th></th>\n",
       "      <th>rounded_duration_minutes</th>\n",
       "      <th>rounded_duration_minutes</th>\n",
       "      <th>rounded_duration_minutes</th>\n",
       "      <th>rounded_duration_minutes</th>\n",
       "    </tr>\n",
       "    <tr>\n",
       "      <th>plan</th>\n",
       "      <th></th>\n",
       "      <th></th>\n",
       "      <th></th>\n",
       "      <th></th>\n",
       "    </tr>\n",
       "  </thead>\n",
       "  <tbody>\n",
       "    <tr>\n",
       "      <th>surf</th>\n",
       "      <td>428.749523</td>\n",
       "      <td>54968.279461</td>\n",
       "      <td>234.453150</td>\n",
       "      <td>425</td>\n",
       "    </tr>\n",
       "    <tr>\n",
       "      <th>ultimate</th>\n",
       "      <td>430.450000</td>\n",
       "      <td>57844.464812</td>\n",
       "      <td>240.508762</td>\n",
       "      <td>424</td>\n",
       "    </tr>\n",
       "  </tbody>\n",
       "</table>\n",
       "</div>"
      ],
      "text/plain": [
       "                             mean                      var  \\\n",
       "         rounded_duration_minutes rounded_duration_minutes   \n",
       "plan                                                         \n",
       "surf                   428.749523             54968.279461   \n",
       "ultimate               430.450000             57844.464812   \n",
       "\n",
       "                              std                   median  \n",
       "         rounded_duration_minutes rounded_duration_minutes  \n",
       "plan                                                        \n",
       "surf                   234.453150                      425  \n",
       "ultimate               240.508762                      424  "
      ]
     },
     "execution_count": 58,
     "metadata": {},
     "output_type": "execute_result"
    }
   ],
   "source": [
    "df_total_monthly_calls_duration_per_user_by_plan.reset_index().pivot_table(index= 'plan', values= 'rounded_duration_minutes', aggfunc= ['mean', 'var','std', 'median'])"
   ]
  },
  {
   "cell_type": "code",
   "execution_count": 59,
   "metadata": {},
   "outputs": [
    {
     "data": {
      "image/png": "[encoded data removed]",
      "text/plain": [
       "<Figure size 432x288 with 1 Axes>"
      ]
     },
     "metadata": {
      "needs_background": "light"
     },
     "output_type": "display_data"
    }
   ],
   "source": [
    "# Plot a boxplot to visualize the distribution of the monthly call duration\n",
    "\n",
    "df_total_monthly_calls_duration_per_user_by_plan['surf'].to_frame().boxplot()\n",
    "plt.ylabel('Minutes', fontweight ='bold')\n",
    "plt.title('Surf: Monthly Calls Duration in 2018', fontweight ='bold', fontsize = 15)\n",
    "plt.show()\n"
   ]
  },
  {
   "cell_type": "code",
   "execution_count": 60,
   "metadata": {},
   "outputs": [
    {
     "data": {
      "image/png": "[encoded data removed]",
      "text/plain": [
       "<Figure size 432x288 with 1 Axes>"
      ]
     },
     "metadata": {
      "needs_background": "light"
     },
     "output_type": "display_data"
    }
   ],
   "source": [
    "df_total_monthly_calls_duration_per_user_by_plan['ultimate'].to_frame().boxplot()\n",
    "plt.ylabel('Minutes', fontweight ='bold')\n",
    "plt.title('Ultimate: Monthly Calls Duration in 2018', fontweight ='bold', fontsize = 15)\n",
    "plt.show()"
   ]
  },
  {
   "cell_type": "markdown",
   "metadata": {},
   "source": [
    "The mean & std of monthly calls duration for Surf and Ultimate are similar indicating user behavior in both plans are the same."
   ]
  },
  {
   "cell_type": "markdown",
   "metadata": {},
   "source": [
    "### Messages"
   ]
  },
  {
   "cell_type": "code",
   "execution_count": 61,
   "metadata": {},
   "outputs": [
    {
     "data": {
      "image/png": "[encoded data removed]",
      "text/plain": [
       "<Figure size 864x576 with 1 Axes>"
      ]
     },
     "metadata": {
      "needs_background": "light"
     },
     "output_type": "display_data"
    }
   ],
   "source": [
    "# Compare the number of messages users of each plan tend to send each month\n",
    "\n",
    "df_average_monthly_messages_by_user_by_plan = df_merged_all_with_plan.groupby(['plan','date'])['messages'].mean()\n",
    "\n",
    "plot = df_average_monthly_messages_by_user_by_plan['surf'].plot(\n",
    "        label='Surf',\n",
    "        kind='bar',\n",
    "        figsize=[12,8],\n",
    "        color='g',\n",
    "        )\n",
    "\n",
    "plot = df_average_monthly_messages_by_user_by_plan['ultimate'].plot(\n",
    "        label='Ultimate',\n",
    "        kind='bar',\n",
    "        color='r',\n",
    "        alpha=0.5\n",
    "        )\n",
    "\n",
    "plot.set_xticklabels(['Jan','Feb','Mar','Apr','May','June','July','Aug','Sep','Oct','Nov','Dec'])\n",
    "plt.xlabel('Month', fontweight ='bold')\n",
    "plt.ylabel('Messages', fontweight ='bold')\n",
    "plt.title('Average Monthly User Messages by Plan in 2018', fontweight ='bold', fontsize = 15)\n",
    "\n",
    "plt.legend(bbox_to_anchor=(1, 1), fancybox=True, framealpha=1, shadow=True)\n",
    "plt.show()"
   ]
  },
  {
   "cell_type": "code",
   "execution_count": 62,
   "metadata": {},
   "outputs": [
    {
     "data": {
      "image/png": "[encoded data removed]",
      "text/plain": [
       "<Figure size 864x864 with 1 Axes>"
      ]
     },
     "metadata": {
      "needs_background": "light"
     },
     "output_type": "display_data"
    }
   ],
   "source": [
    "df_monthly_messages_by_user_by_plan = df_merged_all_with_plan.groupby(['plan','date','user_id'])['messages'].sum()\n",
    "\n",
    "fig, ax = plt.subplots(figsize=(12,12))\n",
    "ax = sns.histplot(df_monthly_messages_by_user_by_plan, x=df_monthly_messages_by_user_by_plan, hue=\"plan\", binwidth=50\n",
    "                 )\n",
    "edges = [rect.get_x() for rect in ax.patches] + [ax.patches[-1].get_x() + ax.patches[-1].get_width()]\n",
    "ax.set_xticks(edges)\n",
    "ax.set_yticks(np.arange(0, 1200, step=50))\n",
    "ax.tick_params(axis='x', rotation=90, labelsize=8)\n",
    "plt.title('Monthly Total Messages by Users in 2018', fontweight ='bold', fontsize = 15)\n",
    "plt.show()"
   ]
  },
  {
   "cell_type": "code",
   "execution_count": 63,
   "metadata": {},
   "outputs": [
    {
     "data": {
      "text/html": [
       "<div>\n",
       "<style scoped>\n",
       "    .dataframe tbody tr th:only-of-type {\n",
       "        vertical-align: middle;\n",
       "    }\n",
       "\n",
       "    .dataframe tbody tr th {\n",
       "        vertical-align: top;\n",
       "    }\n",
       "\n",
       "    .dataframe thead tr th {\n",
       "        text-align: left;\n",
       "    }\n",
       "\n",
       "    .dataframe thead tr:last-of-type th {\n",
       "        text-align: right;\n",
       "    }\n",
       "</style>\n",
       "<table border=\"1\" class=\"dataframe\">\n",
       "  <thead>\n",
       "    <tr>\n",
       "      <th></th>\n",
       "      <th>mean</th>\n",
       "      <th>var</th>\n",
       "      <th>std</th>\n",
       "      <th>median</th>\n",
       "    </tr>\n",
       "    <tr>\n",
       "      <th></th>\n",
       "      <th>messages</th>\n",
       "      <th>messages</th>\n",
       "      <th>messages</th>\n",
       "      <th>messages</th>\n",
       "    </tr>\n",
       "    <tr>\n",
       "      <th>plan</th>\n",
       "      <th></th>\n",
       "      <th></th>\n",
       "      <th></th>\n",
       "      <th></th>\n",
       "    </tr>\n",
       "  </thead>\n",
       "  <tbody>\n",
       "    <tr>\n",
       "      <th>surf</th>\n",
       "      <td>31.159568</td>\n",
       "      <td>1126.724522</td>\n",
       "      <td>33.566717</td>\n",
       "      <td>24</td>\n",
       "    </tr>\n",
       "    <tr>\n",
       "      <th>ultimate</th>\n",
       "      <td>37.551389</td>\n",
       "      <td>1208.756744</td>\n",
       "      <td>34.767179</td>\n",
       "      <td>30</td>\n",
       "    </tr>\n",
       "  </tbody>\n",
       "</table>\n",
       "</div>"
      ],
      "text/plain": [
       "               mean          var        std   median\n",
       "           messages     messages   messages messages\n",
       "plan                                                \n",
       "surf      31.159568  1126.724522  33.566717       24\n",
       "ultimate  37.551389  1208.756744  34.767179       30"
      ]
     },
     "execution_count": 63,
     "metadata": {},
     "output_type": "execute_result"
    }
   ],
   "source": [
    "df_monthly_messages_by_user_by_plan.reset_index().pivot_table(index= 'plan', values= 'messages', aggfunc= ['mean', 'var','std', 'median'])"
   ]
  },
  {
   "cell_type": "code",
   "execution_count": 64,
   "metadata": {},
   "outputs": [
    {
     "data": {
      "image/png": "[encoded data removed]",
      "text/plain": [
       "<Figure size 432x288 with 1 Axes>"
      ]
     },
     "metadata": {
      "needs_background": "light"
     },
     "output_type": "display_data"
    }
   ],
   "source": [
    "df_monthly_messages_by_user_by_plan['surf'].to_frame().boxplot()\n",
    "plt.ylabel('Messages', fontweight ='bold')\n",
    "plt.title('Surf: Monthly Messages in 2018', fontweight ='bold', fontsize = 15)\n",
    "plt.show()"
   ]
  },
  {
   "cell_type": "code",
   "execution_count": 65,
   "metadata": {},
   "outputs": [
    {
     "data": {
      "image/png": "[encoded data removed]",
      "text/plain": [
       "<Figure size 432x288 with 1 Axes>"
      ]
     },
     "metadata": {
      "needs_background": "light"
     },
     "output_type": "display_data"
    }
   ],
   "source": [
    "df_monthly_messages_by_user_by_plan['ultimate'].to_frame().boxplot()\n",
    "plt.ylabel('Messages', fontweight ='bold')\n",
    "plt.title('Ultimate: Monthly Messages in 2018', fontweight ='bold', fontsize = 15)\n",
    "plt.show()"
   ]
  },
  {
   "cell_type": "markdown",
   "metadata": {},
   "source": [
    "The average number of monthly messages users on Ultimate plan use is consistently much higher than Surf, however the variability from the mean in both plans are similar."
   ]
  },
  {
   "cell_type": "markdown",
   "metadata": {},
   "source": [
    "### Internet"
   ]
  },
  {
   "cell_type": "code",
   "execution_count": 66,
   "metadata": {},
   "outputs": [
    {
     "data": {
      "image/png": "[encoded data removed]",
      "text/plain": [
       "<Figure size 864x576 with 1 Axes>"
      ]
     },
     "metadata": {
      "needs_background": "light"
     },
     "output_type": "display_data"
    }
   ],
   "source": [
    "# Compare the amount of internet traffic consumed by users per plan\n",
    "\n",
    "df_average_monthly_internet_by_user_by_plan = df_merged_all_with_plan.groupby(['plan','date'])['gb_rounded'].mean()\n",
    "\n",
    "plot = df_average_monthly_internet_by_user_by_plan['surf'].plot(\n",
    "        label='Surf',\n",
    "        kind='bar',\n",
    "        figsize=[12,8],\n",
    "        color='g',\n",
    "        )\n",
    "\n",
    "plot = df_average_monthly_internet_by_user_by_plan['ultimate'].plot(\n",
    "        label='Ultimate',\n",
    "        kind='bar',\n",
    "        color='r',\n",
    "        alpha=0.5\n",
    "        )\n",
    "\n",
    "plot.set_xticklabels(['Jan','Feb','Mar','Apr','May','June','July','Aug','Sep','Oct','Nov','Dec'])\n",
    "plt.xlabel('Month', fontweight ='bold')\n",
    "plt.ylabel('Data(GB)', fontweight ='bold')\n",
    "plt.title('Average Monthly User Internet Traffic by Plan in 2018', fontweight ='bold', fontsize = 15)\n",
    "\n",
    "plt.legend(bbox_to_anchor=(1, 1), fancybox=True, framealpha=1, shadow=True)\n",
    "plt.show()"
   ]
  },
  {
   "cell_type": "code",
   "execution_count": 67,
   "metadata": {},
   "outputs": [
    {
     "data": {
      "image/png": "[encoded data removed]",
      "text/plain": [
       "<Figure size 864x864 with 1 Axes>"
      ]
     },
     "metadata": {
      "needs_background": "light"
     },
     "output_type": "display_data"
    }
   ],
   "source": [
    "df_monthly_internet_by_user_by_plan = df_merged_all_with_plan.groupby(['plan','date','user_id'])['gb_rounded'].sum()\n",
    "\n",
    "fig, ax = plt.subplots(figsize=(12,12))\n",
    "ax = sns.histplot(df_monthly_internet_by_user_by_plan, x=df_monthly_internet_by_user_by_plan, hue=\"plan\", binwidth=5\n",
    "                 )\n",
    "edges = [rect.get_x() for rect in ax.patches] + [ax.patches[-1].get_x() + ax.patches[-1].get_width()]\n",
    "ax.set_xticks(edges)\n",
    "ax.set_yticks(np.arange(0, 500, step=50))\n",
    "ax.tick_params(axis='x', rotation=90, labelsize=8)\n",
    "plt.title('Monthly Internet Traffic by Users in 2018', fontweight ='bold', fontsize = 15)\n",
    "plt.show()"
   ]
  },
  {
   "cell_type": "code",
   "execution_count": 68,
   "metadata": {},
   "outputs": [
    {
     "data": {
      "text/html": [
       "<div>\n",
       "<style scoped>\n",
       "    .dataframe tbody tr th:only-of-type {\n",
       "        vertical-align: middle;\n",
       "    }\n",
       "\n",
       "    .dataframe tbody tr th {\n",
       "        vertical-align: top;\n",
       "    }\n",
       "\n",
       "    .dataframe thead tr th {\n",
       "        text-align: left;\n",
       "    }\n",
       "\n",
       "    .dataframe thead tr:last-of-type th {\n",
       "        text-align: right;\n",
       "    }\n",
       "</style>\n",
       "<table border=\"1\" class=\"dataframe\">\n",
       "  <thead>\n",
       "    <tr>\n",
       "      <th></th>\n",
       "      <th>mean</th>\n",
       "      <th>var</th>\n",
       "      <th>std</th>\n",
       "      <th>median</th>\n",
       "    </tr>\n",
       "    <tr>\n",
       "      <th></th>\n",
       "      <th>gb_rounded</th>\n",
       "      <th>gb_rounded</th>\n",
       "      <th>gb_rounded</th>\n",
       "      <th>gb_rounded</th>\n",
       "    </tr>\n",
       "    <tr>\n",
       "      <th>plan</th>\n",
       "      <th></th>\n",
       "      <th></th>\n",
       "      <th></th>\n",
       "      <th></th>\n",
       "    </tr>\n",
       "  </thead>\n",
       "  <tbody>\n",
       "    <tr>\n",
       "      <th>surf</th>\n",
       "      <td>16.670693</td>\n",
       "      <td>61.58360</td>\n",
       "      <td>7.847522</td>\n",
       "      <td>17</td>\n",
       "    </tr>\n",
       "    <tr>\n",
       "      <th>ultimate</th>\n",
       "      <td>17.306944</td>\n",
       "      <td>58.83055</td>\n",
       "      <td>7.670108</td>\n",
       "      <td>17</td>\n",
       "    </tr>\n",
       "  </tbody>\n",
       "</table>\n",
       "</div>"
      ],
      "text/plain": [
       "               mean        var        std     median\n",
       "         gb_rounded gb_rounded gb_rounded gb_rounded\n",
       "plan                                                \n",
       "surf      16.670693   61.58360   7.847522         17\n",
       "ultimate  17.306944   58.83055   7.670108         17"
      ]
     },
     "execution_count": 68,
     "metadata": {},
     "output_type": "execute_result"
    }
   ],
   "source": [
    "df_monthly_internet_by_user_by_plan.reset_index().pivot_table(index= 'plan', values= 'gb_rounded', aggfunc= ['mean', 'var','std', 'median'])"
   ]
  },
  {
   "cell_type": "code",
   "execution_count": 69,
   "metadata": {},
   "outputs": [
    {
     "data": {
      "image/png": "[encoded data removed]",
      "text/plain": [
       "<Figure size 432x288 with 1 Axes>"
      ]
     },
     "metadata": {
      "needs_background": "light"
     },
     "output_type": "display_data"
    }
   ],
   "source": [
    "df_monthly_internet_by_user_by_plan['surf'].to_frame().boxplot()\n",
    "plt.ylabel('Data(GB)', fontweight ='bold')\n",
    "plt.title('Surf: Monthly Internet Traffic in 2018', fontweight ='bold', fontsize = 15)\n",
    "plt.show()"
   ]
  },
  {
   "cell_type": "code",
   "execution_count": 70,
   "metadata": {},
   "outputs": [
    {
     "data": {
      "image/png": "[encoded data removed]",
      "text/plain": [
       "<Figure size 432x288 with 1 Axes>"
      ]
     },
     "metadata": {
      "needs_background": "light"
     },
     "output_type": "display_data"
    }
   ],
   "source": [
    "df_monthly_internet_by_user_by_plan['ultimate'].to_frame().boxplot()\n",
    "plt.ylabel('Data(GB)', fontweight ='bold')\n",
    "plt.title('Ultimate: Monthly Internet Traffic in 2018', fontweight ='bold', fontsize = 15)\n",
    "plt.show()"
   ]
  },
  {
   "cell_type": "markdown",
   "metadata": {},
   "source": [
    "Average monthly internet traffic for user on Ultimate plan is barely higher than Surf plan users and both plans have similar variability. It's also worth mentioning that average monthly internet traffic for Surf is 16.6b, which is higher than the 15gb included in plan."
   ]
  },
  {
   "cell_type": "markdown",
   "metadata": {},
   "source": [
    "## Revenue"
   ]
  },
  {
   "cell_type": "code",
   "execution_count": 71,
   "metadata": {},
   "outputs": [
    {
     "data": {
      "image/png": "[encoded data removed]",
      "text/plain": [
       "<Figure size 864x576 with 1 Axes>"
      ]
     },
     "metadata": {
      "needs_background": "light"
     },
     "output_type": "display_data"
    }
   ],
   "source": [
    "df_average_monthly_revenue_by_user_by_plan = df_merged_all_with_plan.groupby(['plan','date'])['Monthly_Revenue'].mean()\n",
    "\n",
    "plot = df_average_monthly_revenue_by_user_by_plan['surf'].plot(\n",
    "        label='Surf',\n",
    "        kind='bar',\n",
    "        figsize=[12,8],\n",
    "        color='g',\n",
    "        )\n",
    "\n",
    "plot = df_average_monthly_revenue_by_user_by_plan['ultimate'].plot(\n",
    "        label='Ultimate',\n",
    "        kind='bar',\n",
    "        color='r',\n",
    "        alpha=0.5\n",
    "        )\n",
    "\n",
    "plot.set_xticklabels(['Jan','Feb','Mar','Apr','May','June','July','Aug','Sep','Oct','Nov','Dec'])\n",
    "plt.xlabel('Month', fontweight ='bold')\n",
    "plt.ylabel('Revenue($)', fontweight ='bold')\n",
    "plt.title('Average Monthly Revenue by Plan in 2018', fontweight ='bold', fontsize = 15)\n",
    "plt.legend(bbox_to_anchor=(1, 1), fancybox=True, framealpha=1, shadow=True)\n",
    "plt.show()"
   ]
  },
  {
   "cell_type": "code",
   "execution_count": 72,
   "metadata": {},
   "outputs": [
    {
     "data": {
      "image/png": "[encoded data removed]",
      "text/plain": [
       "<Figure size 864x864 with 1 Axes>"
      ]
     },
     "metadata": {
      "needs_background": "light"
     },
     "output_type": "display_data"
    }
   ],
   "source": [
    "df_total_monthly_revenue_by_user_by_plan = df_merged_all_with_plan.groupby(['plan','date','user_id'])['Monthly_Revenue'].sum()\n",
    "\n",
    "fig, ax = plt.subplots(figsize=(12,12))\n",
    "ax = sns.histplot(df_total_monthly_revenue_by_user_by_plan, x=df_total_monthly_revenue_by_user_by_plan, hue=\"plan\", binwidth=20\n",
    "                 )\n",
    "edges = [rect.get_x() for rect in ax.patches] + [ax.patches[-1].get_x() + ax.patches[-1].get_width()]\n",
    "ax.set_xticks(edges)\n",
    "#ax.set_yticks(np.arange(0, 500, step=50))\n",
    "ax.tick_params(axis='x', rotation=90, labelsize=12)\n",
    "plt.title('Monthly Revenue by Users in 2018', fontweight ='bold', fontsize = 15)\n",
    "plt.show()"
   ]
  },
  {
   "cell_type": "code",
   "execution_count": 73,
   "metadata": {},
   "outputs": [
    {
     "data": {
      "text/html": [
       "<div>\n",
       "<style scoped>\n",
       "    .dataframe tbody tr th:only-of-type {\n",
       "        vertical-align: middle;\n",
       "    }\n",
       "\n",
       "    .dataframe tbody tr th {\n",
       "        vertical-align: top;\n",
       "    }\n",
       "\n",
       "    .dataframe thead tr th {\n",
       "        text-align: left;\n",
       "    }\n",
       "\n",
       "    .dataframe thead tr:last-of-type th {\n",
       "        text-align: right;\n",
       "    }\n",
       "</style>\n",
       "<table border=\"1\" class=\"dataframe\">\n",
       "  <thead>\n",
       "    <tr>\n",
       "      <th></th>\n",
       "      <th>mean</th>\n",
       "      <th>var</th>\n",
       "      <th>std</th>\n",
       "      <th>median</th>\n",
       "    </tr>\n",
       "    <tr>\n",
       "      <th></th>\n",
       "      <th>Monthly_Revenue</th>\n",
       "      <th>Monthly_Revenue</th>\n",
       "      <th>Monthly_Revenue</th>\n",
       "      <th>Monthly_Revenue</th>\n",
       "    </tr>\n",
       "    <tr>\n",
       "      <th>plan</th>\n",
       "      <th></th>\n",
       "      <th></th>\n",
       "      <th></th>\n",
       "      <th></th>\n",
       "    </tr>\n",
       "  </thead>\n",
       "  <tbody>\n",
       "    <tr>\n",
       "      <th>surf</th>\n",
       "      <td>61.062416</td>\n",
       "      <td>3097.669668</td>\n",
       "      <td>55.656713</td>\n",
       "      <td>40.72</td>\n",
       "    </tr>\n",
       "    <tr>\n",
       "      <th>ultimate</th>\n",
       "      <td>72.702778</td>\n",
       "      <td>163.332955</td>\n",
       "      <td>12.780178</td>\n",
       "      <td>70.00</td>\n",
       "    </tr>\n",
       "  </tbody>\n",
       "</table>\n",
       "</div>"
      ],
      "text/plain": [
       "                    mean             var             std          median\n",
       "         Monthly_Revenue Monthly_Revenue Monthly_Revenue Monthly_Revenue\n",
       "plan                                                                    \n",
       "surf           61.062416     3097.669668       55.656713           40.72\n",
       "ultimate       72.702778      163.332955       12.780178           70.00"
      ]
     },
     "execution_count": 73,
     "metadata": {},
     "output_type": "execute_result"
    }
   ],
   "source": [
    "df_total_monthly_revenue_by_user_by_plan.reset_index().pivot_table(index= 'plan', values= 'Monthly_Revenue', aggfunc= ['mean', 'var','std', 'median'])"
   ]
  },
  {
   "cell_type": "code",
   "execution_count": 74,
   "metadata": {},
   "outputs": [
    {
     "data": {
      "image/png": "[encoded data removed]",
      "text/plain": [
       "<Figure size 432x288 with 1 Axes>"
      ]
     },
     "metadata": {
      "needs_background": "light"
     },
     "output_type": "display_data"
    }
   ],
   "source": [
    "df_total_monthly_revenue_by_user_by_plan['surf'].to_frame().boxplot()\n",
    "plt.ylabel('Revenue($)', fontweight ='bold')\n",
    "plt.title('Surf: Monthly Revenue in 2018', fontweight ='bold', fontsize = 15)\n",
    "plt.show()"
   ]
  },
  {
   "cell_type": "code",
   "execution_count": 75,
   "metadata": {},
   "outputs": [
    {
     "data": {
      "image/png": "[encoded data removed]",
      "text/plain": [
       "<Figure size 432x288 with 1 Axes>"
      ]
     },
     "metadata": {
      "needs_background": "light"
     },
     "output_type": "display_data"
    }
   ],
   "source": [
    "df_total_monthly_revenue_by_user_by_plan['ultimate'].to_frame().boxplot()\n",
    "plt.ylabel('Revenue($)', fontweight ='bold')\n",
    "plt.title('Ultimate: Monthly Revenue in 2018', fontweight ='bold', fontsize = 15)\n",
    "plt.show()"
   ]
  },
  {
   "cell_type": "code",
   "execution_count": 87,
   "metadata": {},
   "outputs": [
    {
     "data": {
      "image/png": "[encoded data removed]",
      "text/plain": [
       "<Figure size 1152x576 with 2 Axes>"
      ]
     },
     "metadata": {
      "needs_background": "light"
     },
     "output_type": "display_data"
    }
   ],
   "source": [
    "# Create one row with 2 columns\n",
    "fig, axes = plt.subplots(1, 2, figsize=(16, 8))\n",
    "\n",
    "# Create a histogram for the surf plan\n",
    "sns.histplot(df_total_monthly_revenue_by_user_by_plan['surf'], color='darkblue', binwidth=20, ax=axes[0]\n",
    "                 )\n",
    "# Create a histogram for the second plan\n",
    "sns.histplot(df_total_monthly_revenue_by_user_by_plan['ultimate'], color='darkorange', binwidth=20, ax=axes[0]\n",
    "                 )\n",
    "# Create a boxplot for both plans\n",
    "sns.boxplot(data=df_total_monthly_revenue_by_user_by_plan.to_frame().reset_index(), x=\"Monthly_Revenue\", y=\"plan\", ax=axes[1])\n",
    "\n",
    "axes[0].legend(loc='upper right', labels=['surf','ultimate'])\n",
    "axes[0].set_xlabel('Revenue($)')\n",
    "axes[0].set_ylabel('Density')\n",
    "axes[1].set_xlabel('Revenue($)')\n",
    "axes[1].set_ylabel('Plan')\n",
    "\n",
    "fig.suptitle('Monthly Revenue by Users in 2018');\n",
    "\n",
    "plt.show()"
   ]
  },
  {
   "cell_type": "code",
   "execution_count": 80,
   "metadata": {},
   "outputs": [
    {
     "data": {
      "image/png": "[encoded data removed]",
      "text/plain": [
       "<Figure size 1152x360 with 2 Axes>"
      ]
     },
     "metadata": {
      "needs_background": "light"
     },
     "output_type": "display_data"
    }
   ],
   "source": [
    "# Create one row with 2 columns with the 16 x 5 size\n",
    "fig, axes = plt.subplots(1, 2, figsize=(16, 5))\n",
    "\n",
    "# Create 2 histograms for each plan. With ax=axes you can control in which column this graph will be located\n",
    "sns.histplot(df_merged_all_with_plan.query('plan == \"surf\"')['rounded_duration_minutes'], color='darkblue', ax=axes[0])\n",
    "sns.histplot(df_merged_all_with_plan.query('plan == \"ultimate\"')['rounded_duration_minutes'], color='darkorange', ax=axes[0])\n",
    "\n",
    "# Create one boxplot for 2 plans in the second column. To change boxplot from horizontal to vertical you need to exchange values in x/y\n",
    "sns.boxplot(data=df_merged_all_with_plan.sort_values(by='plan'), x='rounded_duration_minutes', y='plan', ax=axes[1])\n",
    "\n",
    "# Add lables for each graph\n",
    "axes[0].legend(loc='upper right', labels=['smart','ultra'])\n",
    "axes[0].set_xlabel('...')\n",
    "axes[0].set_ylabel('Density')\n",
    "axes[1].set_xlabel('...')\n",
    "axes[1].set_ylabel('Plan')\n",
    "\n",
    "# Add overall title\n",
    "fig.suptitle('Histogram ...');"
   ]
  },
  {
   "cell_type": "markdown",
   "metadata": {},
   "source": [
    "Average monthly revenue from users on Ultimate is higher by $11 than Surf but there's a lot of variability in monthly revenue amongst users of Surf compared to Ultimate."
   ]
  },
  {
   "cell_type": "markdown",
   "metadata": {},
   "source": [
    "## Test statistical hypotheses"
   ]
  },
  {
   "cell_type": "markdown",
   "metadata": {},
   "source": [
    "Test the hypothesis that the average revenue from users of the Ultimate and Surf calling plans differs."
   ]
  },
  {
   "cell_type": "code",
   "execution_count": 77,
   "metadata": {},
   "outputs": [
    {
     "name": "stdout",
     "output_type": "stream",
     "text": [
      "Variances of the populations should be considered equal? False\n",
      "T-test p-value:  2.7836646515264315e-17\n",
      "We reject the null hypothesis\n"
     ]
    }
   ],
   "source": [
    "# Test the hypotheses\n",
    "# H0(null): average revenue from users of Ultimate = average revenue from users of Surf\n",
    "# H1(alternative): average revenue from users of Ultimate != average revenue from users of Surf\n",
    "# This is a 2-sided test\n",
    "# Critical significance level of 5% is reasonable\n",
    "\n",
    "sample_1 = df_merged_all_with_plan[df_merged_all_with_plan['plan'] == 'surf']['Monthly_Revenue']\n",
    "sample_2 = df_merged_all_with_plan[df_merged_all_with_plan['plan'] == 'ultimate']['Monthly_Revenue']\n",
    "\n",
    "alpha = 0.05\n",
    "\n",
    "variance_test = st.levene(sample_1,sample_2)\n",
    "\n",
    "if variance_test.pvalue < alpha:\n",
    "    Levene_test_result = False\n",
    "else:\n",
    "    Levene_test_result = True\n",
    "\n",
    "print('Variances of the populations should be considered equal?', Levene_test_result)\n",
    "\n",
    "#Since p-value from levene test is less than alpha, we conclude that variances of the two samples are not equal\n",
    "\n",
    "results = st.ttest_ind(sample_1, sample_2,equal_var = Levene_test_result)\n",
    "\n",
    "print('T-test p-value: ', results.pvalue)\n",
    "\n",
    "if results.pvalue < alpha:\n",
    "    print(\"We reject the null hypothesis\")\n",
    "else:\n",
    "    print(\"We can't reject the null hypothesis\")"
   ]
  },
  {
   "cell_type": "markdown",
   "metadata": {},
   "source": [
    "Based on p-value & our chosen critical significance level from ttest for two independent samples, the average revenue from users of Surf plan differs from average revenue of users of Ultimate plan"
   ]
  },
  {
   "cell_type": "markdown",
   "metadata": {},
   "source": [
    "Test the hypothesis that the average revenue from users in the NY-NJ area is different from that of the users from the other regions."
   ]
  },
  {
   "cell_type": "code",
   "execution_count": 78,
   "metadata": {},
   "outputs": [
    {
     "data": {
      "text/html": [
       "<div>\n",
       "<style scoped>\n",
       "    .dataframe tbody tr th:only-of-type {\n",
       "        vertical-align: middle;\n",
       "    }\n",
       "\n",
       "    .dataframe tbody tr th {\n",
       "        vertical-align: top;\n",
       "    }\n",
       "\n",
       "    .dataframe thead th {\n",
       "        text-align: right;\n",
       "    }\n",
       "</style>\n",
       "<table border=\"1\" class=\"dataframe\">\n",
       "  <thead>\n",
       "    <tr style=\"text-align: right;\">\n",
       "      <th></th>\n",
       "      <th>user_id</th>\n",
       "      <th>date</th>\n",
       "      <th>calls</th>\n",
       "      <th>rounded_duration_minutes</th>\n",
       "      <th>messages</th>\n",
       "      <th>gb_rounded</th>\n",
       "      <th>plan</th>\n",
       "      <th>Monthly_Revenue</th>\n",
       "      <th>city</th>\n",
       "    </tr>\n",
       "  </thead>\n",
       "  <tbody>\n",
       "    <tr>\n",
       "      <th>2304</th>\n",
       "      <td>1131</td>\n",
       "      <td>2018-08-31</td>\n",
       "      <td>0</td>\n",
       "      <td>0</td>\n",
       "      <td>0</td>\n",
       "      <td>12</td>\n",
       "      <td>surf</td>\n",
       "      <td>20.00</td>\n",
       "      <td>Los Angeles-Long Beach-Anaheim, CA MSA</td>\n",
       "    </tr>\n",
       "    <tr>\n",
       "      <th>287</th>\n",
       "      <td>1064</td>\n",
       "      <td>2018-06-30</td>\n",
       "      <td>24</td>\n",
       "      <td>153</td>\n",
       "      <td>3</td>\n",
       "      <td>7</td>\n",
       "      <td>surf</td>\n",
       "      <td>20.00</td>\n",
       "      <td>New York-Newark-Jersey City, NY-NJ-PA MSA</td>\n",
       "    </tr>\n",
       "    <tr>\n",
       "      <th>405</th>\n",
       "      <td>1085</td>\n",
       "      <td>2018-09-30</td>\n",
       "      <td>59</td>\n",
       "      <td>434</td>\n",
       "      <td>0</td>\n",
       "      <td>22</td>\n",
       "      <td>ultimate</td>\n",
       "      <td>70.00</td>\n",
       "      <td>Atlanta-Sandy Springs-Roswell, GA MSA</td>\n",
       "    </tr>\n",
       "    <tr>\n",
       "      <th>1179</th>\n",
       "      <td>1256</td>\n",
       "      <td>2018-10-31</td>\n",
       "      <td>80</td>\n",
       "      <td>531</td>\n",
       "      <td>20</td>\n",
       "      <td>11</td>\n",
       "      <td>surf</td>\n",
       "      <td>20.93</td>\n",
       "      <td>Chicago-Naperville-Elgin, IL-IN-WI MSA</td>\n",
       "    </tr>\n",
       "    <tr>\n",
       "      <th>1942</th>\n",
       "      <td>1422</td>\n",
       "      <td>2018-10-31</td>\n",
       "      <td>23</td>\n",
       "      <td>164</td>\n",
       "      <td>8</td>\n",
       "      <td>9</td>\n",
       "      <td>ultimate</td>\n",
       "      <td>70.00</td>\n",
       "      <td>Los Angeles-Long Beach-Anaheim, CA MSA</td>\n",
       "    </tr>\n",
       "  </tbody>\n",
       "</table>\n",
       "</div>"
      ],
      "text/plain": [
       "     user_id       date  calls  rounded_duration_minutes  messages  \\\n",
       "2304    1131 2018-08-31      0                         0         0   \n",
       "287     1064 2018-06-30     24                       153         3   \n",
       "405     1085 2018-09-30     59                       434         0   \n",
       "1179    1256 2018-10-31     80                       531        20   \n",
       "1942    1422 2018-10-31     23                       164         8   \n",
       "\n",
       "      gb_rounded      plan  Monthly_Revenue  \\\n",
       "2304          12      surf            20.00   \n",
       "287            7      surf            20.00   \n",
       "405           22  ultimate            70.00   \n",
       "1179          11      surf            20.93   \n",
       "1942           9  ultimate            70.00   \n",
       "\n",
       "                                           city  \n",
       "2304     Los Angeles-Long Beach-Anaheim, CA MSA  \n",
       "287   New York-Newark-Jersey City, NY-NJ-PA MSA  \n",
       "405       Atlanta-Sandy Springs-Roswell, GA MSA  \n",
       "1179     Chicago-Naperville-Elgin, IL-IN-WI MSA  \n",
       "1942     Los Angeles-Long Beach-Anaheim, CA MSA  "
      ]
     },
     "execution_count": 78,
     "metadata": {},
     "output_type": "execute_result"
    }
   ],
   "source": [
    "df_merged_all_with_plan_and_city = pd.merge(df_merged_all_with_plan,df_users[['user_id','city']], on='user_id', how='left')\n",
    "df_merged_all_with_plan_and_city.sample(5)"
   ]
  },
  {
   "cell_type": "code",
   "execution_count": 79,
   "metadata": {},
   "outputs": [
    {
     "name": "stdout",
     "output_type": "stream",
     "text": [
      "Variances of the populations should be considered equal? True\n",
      "T-test p-value:  0.0419277233824283\n",
      "We reject the null hypothesis\n"
     ]
    }
   ],
   "source": [
    "# Test the hypotheses\n",
    "\n",
    "# H0(null): average revenue from users in NY-NJ area = average revenue of users from everywhere else\n",
    "# H1(alternative): average revenue from users in NY-NJ area != average revenue of users from everywhere else\n",
    "# This is a 2-sided test\n",
    "# Critical significance level of 5% is reasonable\n",
    "\n",
    "sample_1 = df_merged_all_with_plan_and_city[df_merged_all_with_plan_and_city['city'] == 'New York-Newark-Jersey City, NY-NJ-PA MSA']['Monthly_Revenue']\n",
    "sample_2 = df_merged_all_with_plan_and_city[df_merged_all_with_plan_and_city['city'] != 'New York-Newark-Jersey City, NY-NJ-PA MSA']['Monthly_Revenue']\n",
    "\n",
    "alpha = 0.05\n",
    "\n",
    "variance_test = st.levene(sample_1,sample_2)\n",
    "\n",
    "if variance_test.pvalue < alpha:\n",
    "    Levene_test_result = False\n",
    "else:\n",
    "    Levene_test_result = True\n",
    "\n",
    "print('Variances of the populations should be considered equal?', Levene_test_result)\n",
    "\n",
    "#Since p-value from levene test is less than alpha, we conclude that variances of the two samples are not equal\n",
    "\n",
    "results = st.ttest_ind(sample_1, sample_2,equal_var = Levene_test_result)\n",
    "\n",
    "print('T-test p-value: ', results.pvalue)\n",
    "\n",
    "if results.pvalue < alpha:\n",
    "    print(\"We reject the null hypothesis\")\n",
    "else:\n",
    "    print(\"We can't reject the null hypothesis\")"
   ]
  },
  {
   "cell_type": "markdown",
   "metadata": {},
   "source": [
    "Based on p-value & our chosen critical significance level, the average revenue of users in NY-NJ area differs from average revenue of users in other regions"
   ]
  },
  {
   "cell_type": "markdown",
   "metadata": {},
   "source": [
    "## General conclusion\n",
    "\n"
   ]
  },
  {
   "cell_type": "markdown",
   "metadata": {},
   "source": [
    "Assumptions:\n",
    "- Number of cancelled plans is negligible and won't skew data\n",
    "\n",
    "Conclusions:\n",
    "- Surf plan is almost twice as popular as Ultimate \n",
    "- Average revenue per user on Ultimate plan is more than Surf plan\n",
    "- If price of additional 1gb for Surf is increased to $13 revenue from Surf will be almost equal to Ultimate (ttest p-value 0.6)"
   ]
  }
 ],
 "metadata": {
  "ExecuteTimeLog": [
   {
    "duration": 828,
    "start_time": "2021-11-16T09:21:11.304Z"
   },
   {
    "duration": 893,
    "start_time": "2021-11-16T09:21:17.728Z"
   },
   {
    "duration": 1150,
    "start_time": "2021-11-16T09:21:29.568Z"
   },
   {
    "duration": 3,
    "start_time": "2021-11-16T09:24:14.495Z"
   },
   {
    "duration": 120,
    "start_time": "2021-11-16T09:24:46.630Z"
   },
   {
    "duration": 3,
    "start_time": "2021-11-16T09:28:27.882Z"
   },
   {
    "duration": 4,
    "start_time": "2021-11-16T09:29:54.281Z"
   },
   {
    "duration": 3,
    "start_time": "2021-11-16T09:30:45.936Z"
   },
   {
    "duration": 4,
    "start_time": "2021-11-16T09:31:06.300Z"
   },
   {
    "duration": 113,
    "start_time": "2021-11-16T09:31:37.208Z"
   },
   {
    "duration": 143,
    "start_time": "2021-11-16T09:31:48.656Z"
   },
   {
    "duration": 98,
    "start_time": "2021-11-16T09:31:55.678Z"
   },
   {
    "duration": 3,
    "start_time": "2021-11-16T09:32:08.535Z"
   },
   {
    "duration": 111,
    "start_time": "2021-11-16T09:32:10.120Z"
   },
   {
    "duration": 3,
    "start_time": "2021-11-16T09:32:15.732Z"
   },
   {
    "duration": 4,
    "start_time": "2021-11-16T09:32:29.423Z"
   },
   {
    "duration": 3,
    "start_time": "2021-11-16T10:03:03.074Z"
   },
   {
    "duration": 3,
    "start_time": "2021-11-16T10:10:01.288Z"
   },
   {
    "duration": 3,
    "start_time": "2021-11-16T10:10:46.923Z"
   },
   {
    "duration": 121,
    "start_time": "2021-11-16T10:37:46.494Z"
   },
   {
    "duration": 125,
    "start_time": "2021-11-16T10:38:20.632Z"
   },
   {
    "duration": 112,
    "start_time": "2021-11-16T10:46:53.001Z"
   },
   {
    "duration": 110,
    "start_time": "2021-11-16T10:48:25.775Z"
   },
   {
    "duration": 3,
    "start_time": "2021-11-16T10:50:18.720Z"
   },
   {
    "duration": 4,
    "start_time": "2021-11-16T10:50:37.649Z"
   },
   {
    "duration": 2,
    "start_time": "2021-11-16T10:50:51.884Z"
   },
   {
    "duration": 3,
    "start_time": "2021-11-16T10:51:56.237Z"
   },
   {
    "duration": 101,
    "start_time": "2021-11-16T10:53:13.791Z"
   },
   {
    "duration": 3,
    "start_time": "2021-11-16T10:55:59.186Z"
   },
   {
    "duration": 3,
    "start_time": "2021-11-16T10:56:10.751Z"
   },
   {
    "duration": 3,
    "start_time": "2021-11-16T10:56:49.038Z"
   },
   {
    "duration": 3,
    "start_time": "2021-11-16T10:56:49.174Z"
   },
   {
    "duration": 4,
    "start_time": "2021-11-16T10:56:49.414Z"
   },
   {
    "duration": 3,
    "start_time": "2021-11-16T10:56:49.680Z"
   },
   {
    "duration": 3,
    "start_time": "2021-11-16T10:56:50.370Z"
   },
   {
    "duration": 114,
    "start_time": "2021-11-16T10:59:34.518Z"
   },
   {
    "duration": 3,
    "start_time": "2021-11-16T11:01:41.201Z"
   },
   {
    "duration": 116,
    "start_time": "2021-11-16T11:01:48.754Z"
   },
   {
    "duration": 3,
    "start_time": "2021-11-16T11:02:16.685Z"
   },
   {
    "duration": 3,
    "start_time": "2021-11-16T11:02:19.479Z"
   },
   {
    "duration": 3,
    "start_time": "2021-11-16T11:02:47.067Z"
   },
   {
    "duration": 3,
    "start_time": "2021-11-16T11:02:49.353Z"
   },
   {
    "duration": 3,
    "start_time": "2021-11-16T11:03:07.835Z"
   },
   {
    "duration": 3,
    "start_time": "2021-11-16T11:03:07.953Z"
   },
   {
    "duration": 112,
    "start_time": "2021-11-16T11:07:52.072Z"
   },
   {
    "duration": 187,
    "start_time": "2021-11-16T11:09:23.468Z"
   },
   {
    "duration": 4,
    "start_time": "2021-11-16T11:10:01.455Z"
   },
   {
    "duration": 3,
    "start_time": "2021-11-16T11:10:05.069Z"
   },
   {
    "duration": 4,
    "start_time": "2021-11-16T11:10:13.376Z"
   },
   {
    "duration": 3,
    "start_time": "2021-11-16T11:10:14.434Z"
   },
   {
    "duration": 3,
    "start_time": "2021-11-16T11:10:22.853Z"
   },
   {
    "duration": 4,
    "start_time": "2021-11-16T11:27:29.279Z"
   },
   {
    "duration": 4,
    "start_time": "2021-11-16T11:29:08.919Z"
   },
   {
    "duration": 118,
    "start_time": "2021-11-16T11:29:46.703Z"
   },
   {
    "duration": 437,
    "start_time": "2021-11-16T11:36:02.181Z"
   },
   {
    "duration": 157,
    "start_time": "2021-11-16T11:36:14.388Z"
   },
   {
    "duration": 207,
    "start_time": "2021-11-16T11:47:15.898Z"
   },
   {
    "duration": 3,
    "start_time": "2021-11-16T11:53:52.092Z"
   },
   {
    "duration": 3,
    "start_time": "2021-11-16T11:53:52.236Z"
   },
   {
    "duration": 3,
    "start_time": "2021-11-16T11:59:12.005Z"
   },
   {
    "duration": 112,
    "start_time": "2021-11-16T12:00:33.446Z"
   },
   {
    "duration": 3,
    "start_time": "2021-11-16T12:02:14.453Z"
   },
   {
    "duration": 3,
    "start_time": "2021-11-16T12:02:39.512Z"
   },
   {
    "duration": 106,
    "start_time": "2021-11-16T12:03:03.460Z"
   },
   {
    "duration": 3,
    "start_time": "2021-11-17T20:37:21.139Z"
   },
   {
    "duration": 3,
    "start_time": "2021-11-17T20:37:22.229Z"
   },
   {
    "duration": 3,
    "start_time": "2021-11-17T20:38:38.806Z"
   },
   {
    "duration": 3,
    "start_time": "2021-11-17T20:38:41.958Z"
   },
   {
    "duration": 3,
    "start_time": "2021-11-17T20:43:46.551Z"
   },
   {
    "duration": 4,
    "start_time": "2021-11-17T20:58:21.835Z"
   },
   {
    "duration": 3,
    "start_time": "2021-11-17T20:59:21.872Z"
   },
   {
    "duration": 4,
    "start_time": "2021-11-17T20:59:45.352Z"
   },
   {
    "duration": 4,
    "start_time": "2021-11-17T20:59:49.646Z"
   },
   {
    "duration": 159,
    "start_time": "2021-11-17T21:02:26.949Z"
   },
   {
    "duration": 3,
    "start_time": "2021-11-17T21:03:53.461Z"
   },
   {
    "duration": 3,
    "start_time": "2021-11-17T21:03:53.694Z"
   },
   {
    "duration": 3,
    "start_time": "2021-11-17T21:05:28.145Z"
   },
   {
    "duration": 116,
    "start_time": "2021-11-17T21:05:57.787Z"
   },
   {
    "duration": 3,
    "start_time": "2021-11-17T21:06:37.993Z"
   },
   {
    "duration": 3,
    "start_time": "2021-11-17T21:06:38.261Z"
   },
   {
    "duration": 3,
    "start_time": "2021-11-17T21:11:54.358Z"
   },
   {
    "duration": 3,
    "start_time": "2021-11-17T21:12:43.846Z"
   },
   {
    "duration": 4,
    "start_time": "2021-11-17T21:13:08.773Z"
   },
   {
    "duration": 3,
    "start_time": "2021-11-17T21:14:44.441Z"
   },
   {
    "duration": 3,
    "start_time": "2021-11-17T21:15:42.059Z"
   },
   {
    "duration": 4,
    "start_time": "2021-11-17T21:15:51.995Z"
   },
   {
    "duration": 3,
    "start_time": "2021-11-17T21:15:53.923Z"
   },
   {
    "duration": 3,
    "start_time": "2021-11-17T21:15:55.282Z"
   },
   {
    "duration": 3,
    "start_time": "2021-11-17T21:16:28.492Z"
   },
   {
    "duration": 3,
    "start_time": "2021-11-17T21:16:32.603Z"
   },
   {
    "duration": 3,
    "start_time": "2021-11-17T21:17:06.941Z"
   },
   {
    "duration": 98,
    "start_time": "2021-11-17T21:18:05.733Z"
   },
   {
    "duration": 4,
    "start_time": "2021-11-17T21:21:35.255Z"
   },
   {
    "duration": 3,
    "start_time": "2021-11-17T21:21:37.804Z"
   },
   {
    "duration": 4,
    "start_time": "2021-11-17T21:23:06.071Z"
   },
   {
    "duration": 3,
    "start_time": "2021-11-17T21:23:24.799Z"
   },
   {
    "duration": 3,
    "start_time": "2021-11-17T21:23:32.591Z"
   },
   {
    "duration": 98,
    "start_time": "2021-11-17T21:28:31.559Z"
   },
   {
    "duration": 3,
    "start_time": "2021-11-17T21:28:45.448Z"
   },
   {
    "duration": 3,
    "start_time": "2021-11-17T21:29:17.303Z"
   },
   {
    "duration": 3,
    "start_time": "2021-11-17T21:29:29.617Z"
   },
   {
    "duration": 3,
    "start_time": "2021-11-17T21:29:32.681Z"
   },
   {
    "duration": 3,
    "start_time": "2021-11-17T21:36:11.474Z"
   },
   {
    "duration": 3,
    "start_time": "2021-11-17T21:36:14.791Z"
   },
   {
    "duration": 3,
    "start_time": "2021-11-17T21:36:53.943Z"
   },
   {
    "duration": 3,
    "start_time": "2021-11-17T21:36:56.165Z"
   },
   {
    "duration": 4,
    "start_time": "2021-11-17T21:37:16.590Z"
   },
   {
    "duration": 3,
    "start_time": "2021-11-17T21:37:22.702Z"
   },
   {
    "duration": 4,
    "start_time": "2021-11-17T21:38:03.479Z"
   },
   {
    "duration": 3,
    "start_time": "2021-11-17T21:38:08.601Z"
   },
   {
    "duration": 3,
    "start_time": "2021-11-17T21:38:12.928Z"
   },
   {
    "duration": 3,
    "start_time": "2021-11-17T21:38:48.896Z"
   },
   {
    "duration": 2,
    "start_time": "2021-11-17T21:38:49.171Z"
   },
   {
    "duration": 4,
    "start_time": "2021-11-17T21:39:57.889Z"
   },
   {
    "duration": 3,
    "start_time": "2021-11-17T21:39:58.057Z"
   },
   {
    "duration": 3,
    "start_time": "2021-11-17T21:41:20.108Z"
   },
   {
    "duration": 3,
    "start_time": "2021-11-17T21:41:20.629Z"
   },
   {
    "duration": 3,
    "start_time": "2021-11-17T21:42:49.136Z"
   },
   {
    "duration": 3,
    "start_time": "2021-11-17T21:43:15.137Z"
   },
   {
    "duration": 4,
    "start_time": "2021-11-17T21:43:16.766Z"
   },
   {
    "duration": 4,
    "start_time": "2021-11-17T21:43:31.711Z"
   },
   {
    "duration": 3,
    "start_time": "2021-11-17T21:43:36.312Z"
   },
   {
    "duration": 4,
    "start_time": "2021-11-17T21:45:08.825Z"
   },
   {
    "duration": 4,
    "start_time": "2021-11-17T21:45:10.119Z"
   },
   {
    "duration": 4,
    "start_time": "2021-11-17T21:45:13.748Z"
   },
   {
    "duration": 3,
    "start_time": "2021-11-17T21:45:22.219Z"
   },
   {
    "duration": 3,
    "start_time": "2021-11-17T21:45:33.412Z"
   },
   {
    "duration": 2,
    "start_time": "2021-11-17T21:46:01.885Z"
   },
   {
    "duration": 3,
    "start_time": "2021-11-17T21:46:03.628Z"
   },
   {
    "duration": 107,
    "start_time": "2021-11-17T21:47:32.512Z"
   },
   {
    "duration": 103,
    "start_time": "2021-11-17T21:50:36.243Z"
   },
   {
    "duration": 3,
    "start_time": "2021-11-18T06:28:31.440Z"
   },
   {
    "duration": 3,
    "start_time": "2021-11-18T06:29:00.168Z"
   },
   {
    "duration": 3,
    "start_time": "2021-11-18T06:31:27.008Z"
   },
   {
    "duration": 2,
    "start_time": "2021-11-18T06:35:34.288Z"
   },
   {
    "duration": 2,
    "start_time": "2021-11-18T06:38:04.527Z"
   }
  ],
  "kernelspec": {
   "display_name": "Python 3 (ipykernel)",
   "language": "python",
   "name": "python3"
  },
  "language_info": {
   "codemirror_mode": {
    "name": "ipython",
    "version": 3
   },
   "file_extension": ".py",
   "mimetype": "text/x-python",
   "name": "python",
   "nbconvert_exporter": "python",
   "pygments_lexer": "ipython3",
   "version": "3.9.5"
  },
  "toc": {
   "base_numbering": 1,
   "nav_menu": {},
   "number_sections": true,
   "sideBar": true,
   "skip_h1_title": false,
   "title_cell": "Table of Contents",
   "title_sidebar": "Contents",
   "toc_cell": false,
   "toc_position": {
    "height": "calc(100% - 180px)",
    "left": "10px",
    "top": "150px",
    "width": "331.391px"
   },
   "toc_section_display": true,
   "toc_window_display": true
  }
 },
 "nbformat": 4,
 "nbformat_minor": 2
}
