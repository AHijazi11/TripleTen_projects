{
 "cells": [
  {
   "cell_type": "code",
   "execution_count": 1,
   "id": "af6b68b4",
   "metadata": {},
   "outputs": [],
   "source": [
    "import pandas as pd\n",
    "import numpy as np\n",
    "from sklearn.model_selection import train_test_split\n",
    "from sklearn.metrics import accuracy_score, f1_score, roc_auc_score\n",
    "from sklearn.tree import DecisionTreeClassifier\n",
    "from sklearn.ensemble import RandomForestClassifier\n",
    "from sklearn.linear_model import LogisticRegression\n",
    "from sklearn.preprocessing import StandardScaler\n",
    "from sklearn.utils import shuffle\n",
    "from sklearn.dummy import DummyClassifier\n",
    "import warnings\n",
    "from pandas.core.common import SettingWithCopyWarning"
   ]
  },
  {
   "cell_type": "code",
   "execution_count": 2,
   "id": "b26b1c35",
   "metadata": {},
   "outputs": [],
   "source": [
    "# Supress deprecation, future, and SettingWithCopy warnings since we're instructed to use older sklearn library\n",
    "warnings.filterwarnings(\"ignore\", category=DeprecationWarning)\n",
    "warnings.filterwarnings(\"ignore\", category=FutureWarning)\n",
    "warnings.simplefilter(action=\"ignore\", category=SettingWithCopyWarning)"
   ]
  },
  {
   "cell_type": "markdown",
   "id": "3e12609c",
   "metadata": {},
   "source": [
    "## Import and Explore data:"
   ]
  },
  {
   "cell_type": "code",
   "execution_count": 3,
   "id": "092fb875",
   "metadata": {},
   "outputs": [
    {
     "data": {
      "text/html": [
       "<div>\n",
       "<style scoped>\n",
       "    .dataframe tbody tr th:only-of-type {\n",
       "        vertical-align: middle;\n",
       "    }\n",
       "\n",
       "    .dataframe tbody tr th {\n",
       "        vertical-align: top;\n",
       "    }\n",
       "\n",
       "    .dataframe thead th {\n",
       "        text-align: right;\n",
       "    }\n",
       "</style>\n",
       "<table border=\"1\" class=\"dataframe\">\n",
       "  <thead>\n",
       "    <tr style=\"text-align: right;\">\n",
       "      <th></th>\n",
       "      <th>RowNumber</th>\n",
       "      <th>CustomerId</th>\n",
       "      <th>Surname</th>\n",
       "      <th>CreditScore</th>\n",
       "      <th>Geography</th>\n",
       "      <th>Gender</th>\n",
       "      <th>Age</th>\n",
       "      <th>Tenure</th>\n",
       "      <th>Balance</th>\n",
       "      <th>NumOfProducts</th>\n",
       "      <th>HasCrCard</th>\n",
       "      <th>IsActiveMember</th>\n",
       "      <th>EstimatedSalary</th>\n",
       "      <th>Exited</th>\n",
       "    </tr>\n",
       "  </thead>\n",
       "  <tbody>\n",
       "    <tr>\n",
       "      <th>0</th>\n",
       "      <td>1</td>\n",
       "      <td>15634602</td>\n",
       "      <td>Hargrave</td>\n",
       "      <td>619</td>\n",
       "      <td>France</td>\n",
       "      <td>Female</td>\n",
       "      <td>42</td>\n",
       "      <td>2.0</td>\n",
       "      <td>0.00</td>\n",
       "      <td>1</td>\n",
       "      <td>1</td>\n",
       "      <td>1</td>\n",
       "      <td>101348.88</td>\n",
       "      <td>1</td>\n",
       "    </tr>\n",
       "    <tr>\n",
       "      <th>1</th>\n",
       "      <td>2</td>\n",
       "      <td>15647311</td>\n",
       "      <td>Hill</td>\n",
       "      <td>608</td>\n",
       "      <td>Spain</td>\n",
       "      <td>Female</td>\n",
       "      <td>41</td>\n",
       "      <td>1.0</td>\n",
       "      <td>83807.86</td>\n",
       "      <td>1</td>\n",
       "      <td>0</td>\n",
       "      <td>1</td>\n",
       "      <td>112542.58</td>\n",
       "      <td>0</td>\n",
       "    </tr>\n",
       "    <tr>\n",
       "      <th>2</th>\n",
       "      <td>3</td>\n",
       "      <td>15619304</td>\n",
       "      <td>Onio</td>\n",
       "      <td>502</td>\n",
       "      <td>France</td>\n",
       "      <td>Female</td>\n",
       "      <td>42</td>\n",
       "      <td>8.0</td>\n",
       "      <td>159660.80</td>\n",
       "      <td>3</td>\n",
       "      <td>1</td>\n",
       "      <td>0</td>\n",
       "      <td>113931.57</td>\n",
       "      <td>1</td>\n",
       "    </tr>\n",
       "    <tr>\n",
       "      <th>3</th>\n",
       "      <td>4</td>\n",
       "      <td>15701354</td>\n",
       "      <td>Boni</td>\n",
       "      <td>699</td>\n",
       "      <td>France</td>\n",
       "      <td>Female</td>\n",
       "      <td>39</td>\n",
       "      <td>1.0</td>\n",
       "      <td>0.00</td>\n",
       "      <td>2</td>\n",
       "      <td>0</td>\n",
       "      <td>0</td>\n",
       "      <td>93826.63</td>\n",
       "      <td>0</td>\n",
       "    </tr>\n",
       "    <tr>\n",
       "      <th>4</th>\n",
       "      <td>5</td>\n",
       "      <td>15737888</td>\n",
       "      <td>Mitchell</td>\n",
       "      <td>850</td>\n",
       "      <td>Spain</td>\n",
       "      <td>Female</td>\n",
       "      <td>43</td>\n",
       "      <td>2.0</td>\n",
       "      <td>125510.82</td>\n",
       "      <td>1</td>\n",
       "      <td>1</td>\n",
       "      <td>1</td>\n",
       "      <td>79084.10</td>\n",
       "      <td>0</td>\n",
       "    </tr>\n",
       "  </tbody>\n",
       "</table>\n",
       "</div>"
      ],
      "text/plain": [
       "   RowNumber  CustomerId   Surname  CreditScore Geography  Gender  Age  \\\n",
       "0          1    15634602  Hargrave          619    France  Female   42   \n",
       "1          2    15647311      Hill          608     Spain  Female   41   \n",
       "2          3    15619304      Onio          502    France  Female   42   \n",
       "3          4    15701354      Boni          699    France  Female   39   \n",
       "4          5    15737888  Mitchell          850     Spain  Female   43   \n",
       "\n",
       "   Tenure    Balance  NumOfProducts  HasCrCard  IsActiveMember  \\\n",
       "0     2.0       0.00              1          1               1   \n",
       "1     1.0   83807.86              1          0               1   \n",
       "2     8.0  159660.80              3          1               0   \n",
       "3     1.0       0.00              2          0               0   \n",
       "4     2.0  125510.82              1          1               1   \n",
       "\n",
       "   EstimatedSalary  Exited  \n",
       "0        101348.88       1  \n",
       "1        112542.58       0  \n",
       "2        113931.57       1  \n",
       "3         93826.63       0  \n",
       "4         79084.10       0  "
      ]
     },
     "execution_count": 3,
     "metadata": {},
     "output_type": "execute_result"
    }
   ],
   "source": [
    "# Import data from csv file\n",
    "try:\n",
    "    df_churn = pd.read_csv('./Churn.csv')\n",
    "except:\n",
    "    print(\"File(s) not found, please check file path(s) are correct\")\n",
    "df_churn.head(5)"
   ]
  },
  {
   "cell_type": "code",
   "execution_count": 4,
   "id": "b1152baa",
   "metadata": {},
   "outputs": [
    {
     "name": "stdout",
     "output_type": "stream",
     "text": [
      "<class 'pandas.core.frame.DataFrame'>\n",
      "RangeIndex: 10000 entries, 0 to 9999\n",
      "Data columns (total 14 columns):\n",
      " #   Column           Non-Null Count  Dtype  \n",
      "---  ------           --------------  -----  \n",
      " 0   RowNumber        10000 non-null  int64  \n",
      " 1   CustomerId       10000 non-null  int64  \n",
      " 2   Surname          10000 non-null  object \n",
      " 3   CreditScore      10000 non-null  int64  \n",
      " 4   Geography        10000 non-null  object \n",
      " 5   Gender           10000 non-null  object \n",
      " 6   Age              10000 non-null  int64  \n",
      " 7   Tenure           9091 non-null   float64\n",
      " 8   Balance          10000 non-null  float64\n",
      " 9   NumOfProducts    10000 non-null  int64  \n",
      " 10  HasCrCard        10000 non-null  int64  \n",
      " 11  IsActiveMember   10000 non-null  int64  \n",
      " 12  EstimatedSalary  10000 non-null  float64\n",
      " 13  Exited           10000 non-null  int64  \n",
      "dtypes: float64(3), int64(8), object(3)\n",
      "memory usage: 1.1+ MB\n"
     ]
    }
   ],
   "source": [
    "df_churn.info()"
   ]
  },
  {
   "cell_type": "markdown",
   "id": "c2c0f60e",
   "metadata": {},
   "source": [
    "Tenure column has 9% of its values blank, need to figure out best way to handle those rows"
   ]
  },
  {
   "cell_type": "code",
   "execution_count": 5,
   "id": "ca26e412",
   "metadata": {},
   "outputs": [],
   "source": [
    "# Drop RowNumber column\n",
    "df_churn = df_churn.drop('RowNumber', axis=1)"
   ]
  },
  {
   "cell_type": "code",
   "execution_count": 6,
   "id": "1f370d6b",
   "metadata": {},
   "outputs": [],
   "source": [
    "# Drop CustomerId column\n",
    "df_churn = df_churn.drop('CustomerId', axis=1)"
   ]
  },
  {
   "cell_type": "code",
   "execution_count": 7,
   "id": "0769a061",
   "metadata": {},
   "outputs": [],
   "source": [
    "# Drop Surname column\n",
    "df_churn = df_churn.drop('Surname', axis=1)"
   ]
  },
  {
   "cell_type": "code",
   "execution_count": 8,
   "id": "84c0d217",
   "metadata": {},
   "outputs": [],
   "source": [
    "# Change column names to smallcase\n",
    "df_churn.columns = [col.lower() for col in df_churn.columns]"
   ]
  },
  {
   "cell_type": "code",
   "execution_count": 9,
   "id": "0472f2f3",
   "metadata": {},
   "outputs": [
    {
     "data": {
      "text/plain": [
       "0"
      ]
     },
     "execution_count": 9,
     "metadata": {},
     "output_type": "execute_result"
    }
   ],
   "source": [
    "#check duplicate rows\n",
    "df_churn.duplicated().sum()"
   ]
  },
  {
   "cell_type": "code",
   "execution_count": 10,
   "id": "d66fb7bd",
   "metadata": {},
   "outputs": [],
   "source": [
    "# Replace null values with 0 in tenure column\n",
    "df_churn['tenure'] = df_churn['tenure'].fillna(0)"
   ]
  },
  {
   "cell_type": "code",
   "execution_count": 11,
   "id": "bb04286f",
   "metadata": {},
   "outputs": [],
   "source": [
    "# Cast Tenure to int\n",
    "df_churn['tenure'] = df_churn['tenure'].astype('int64')"
   ]
  },
  {
   "cell_type": "code",
   "execution_count": 12,
   "id": "243fc36e",
   "metadata": {},
   "outputs": [
    {
     "name": "stdout",
     "output_type": "stream",
     "text": [
      "<class 'pandas.core.frame.DataFrame'>\n",
      "RangeIndex: 10000 entries, 0 to 9999\n",
      "Data columns (total 11 columns):\n",
      " #   Column           Non-Null Count  Dtype  \n",
      "---  ------           --------------  -----  \n",
      " 0   creditscore      10000 non-null  int64  \n",
      " 1   geography        10000 non-null  object \n",
      " 2   gender           10000 non-null  object \n",
      " 3   age              10000 non-null  int64  \n",
      " 4   tenure           10000 non-null  int64  \n",
      " 5   balance          10000 non-null  float64\n",
      " 6   numofproducts    10000 non-null  int64  \n",
      " 7   hascrcard        10000 non-null  int64  \n",
      " 8   isactivemember   10000 non-null  int64  \n",
      " 9   estimatedsalary  10000 non-null  float64\n",
      " 10  exited           10000 non-null  int64  \n",
      "dtypes: float64(2), int64(7), object(2)\n",
      "memory usage: 859.5+ KB\n"
     ]
    }
   ],
   "source": [
    "df_churn.info()"
   ]
  },
  {
   "cell_type": "code",
   "execution_count": 13,
   "id": "909c001a",
   "metadata": {},
   "outputs": [
    {
     "data": {
      "text/plain": [
       "0    7963\n",
       "1    2037\n",
       "Name: exited, dtype: int64"
      ]
     },
     "execution_count": 13,
     "metadata": {},
     "output_type": "execute_result"
    }
   ],
   "source": [
    "# Check class balance or imbalance\n",
    "df_churn['exited'].value_counts()"
   ]
  },
  {
   "cell_type": "markdown",
   "id": "049238d9",
   "metadata": {},
   "source": [
    "There's imbalance in the exited column where only 20% of the rows are for customers who left the bank and 80% are for current customers"
   ]
  },
  {
   "cell_type": "markdown",
   "id": "35fad447",
   "metadata": {},
   "source": [
    "## Preprocessing and Splitting Data:"
   ]
  },
  {
   "cell_type": "code",
   "execution_count": 14,
   "id": "e5d4fe5a",
   "metadata": {},
   "outputs": [
    {
     "data": {
      "text/html": [
       "<div>\n",
       "<style scoped>\n",
       "    .dataframe tbody tr th:only-of-type {\n",
       "        vertical-align: middle;\n",
       "    }\n",
       "\n",
       "    .dataframe tbody tr th {\n",
       "        vertical-align: top;\n",
       "    }\n",
       "\n",
       "    .dataframe thead th {\n",
       "        text-align: right;\n",
       "    }\n",
       "</style>\n",
       "<table border=\"1\" class=\"dataframe\">\n",
       "  <thead>\n",
       "    <tr style=\"text-align: right;\">\n",
       "      <th></th>\n",
       "      <th>creditscore</th>\n",
       "      <th>age</th>\n",
       "      <th>tenure</th>\n",
       "      <th>balance</th>\n",
       "      <th>numofproducts</th>\n",
       "      <th>hascrcard</th>\n",
       "      <th>isactivemember</th>\n",
       "      <th>estimatedsalary</th>\n",
       "      <th>exited</th>\n",
       "      <th>geography_Germany</th>\n",
       "      <th>geography_Spain</th>\n",
       "      <th>gender_Male</th>\n",
       "    </tr>\n",
       "  </thead>\n",
       "  <tbody>\n",
       "    <tr>\n",
       "      <th>0</th>\n",
       "      <td>619</td>\n",
       "      <td>42</td>\n",
       "      <td>2</td>\n",
       "      <td>0.00</td>\n",
       "      <td>1</td>\n",
       "      <td>1</td>\n",
       "      <td>1</td>\n",
       "      <td>101348.88</td>\n",
       "      <td>1</td>\n",
       "      <td>0</td>\n",
       "      <td>0</td>\n",
       "      <td>0</td>\n",
       "    </tr>\n",
       "    <tr>\n",
       "      <th>1</th>\n",
       "      <td>608</td>\n",
       "      <td>41</td>\n",
       "      <td>1</td>\n",
       "      <td>83807.86</td>\n",
       "      <td>1</td>\n",
       "      <td>0</td>\n",
       "      <td>1</td>\n",
       "      <td>112542.58</td>\n",
       "      <td>0</td>\n",
       "      <td>0</td>\n",
       "      <td>1</td>\n",
       "      <td>0</td>\n",
       "    </tr>\n",
       "    <tr>\n",
       "      <th>2</th>\n",
       "      <td>502</td>\n",
       "      <td>42</td>\n",
       "      <td>8</td>\n",
       "      <td>159660.80</td>\n",
       "      <td>3</td>\n",
       "      <td>1</td>\n",
       "      <td>0</td>\n",
       "      <td>113931.57</td>\n",
       "      <td>1</td>\n",
       "      <td>0</td>\n",
       "      <td>0</td>\n",
       "      <td>0</td>\n",
       "    </tr>\n",
       "    <tr>\n",
       "      <th>3</th>\n",
       "      <td>699</td>\n",
       "      <td>39</td>\n",
       "      <td>1</td>\n",
       "      <td>0.00</td>\n",
       "      <td>2</td>\n",
       "      <td>0</td>\n",
       "      <td>0</td>\n",
       "      <td>93826.63</td>\n",
       "      <td>0</td>\n",
       "      <td>0</td>\n",
       "      <td>0</td>\n",
       "      <td>0</td>\n",
       "    </tr>\n",
       "    <tr>\n",
       "      <th>4</th>\n",
       "      <td>850</td>\n",
       "      <td>43</td>\n",
       "      <td>2</td>\n",
       "      <td>125510.82</td>\n",
       "      <td>1</td>\n",
       "      <td>1</td>\n",
       "      <td>1</td>\n",
       "      <td>79084.10</td>\n",
       "      <td>0</td>\n",
       "      <td>0</td>\n",
       "      <td>1</td>\n",
       "      <td>0</td>\n",
       "    </tr>\n",
       "    <tr>\n",
       "      <th>...</th>\n",
       "      <td>...</td>\n",
       "      <td>...</td>\n",
       "      <td>...</td>\n",
       "      <td>...</td>\n",
       "      <td>...</td>\n",
       "      <td>...</td>\n",
       "      <td>...</td>\n",
       "      <td>...</td>\n",
       "      <td>...</td>\n",
       "      <td>...</td>\n",
       "      <td>...</td>\n",
       "      <td>...</td>\n",
       "    </tr>\n",
       "    <tr>\n",
       "      <th>9995</th>\n",
       "      <td>771</td>\n",
       "      <td>39</td>\n",
       "      <td>5</td>\n",
       "      <td>0.00</td>\n",
       "      <td>2</td>\n",
       "      <td>1</td>\n",
       "      <td>0</td>\n",
       "      <td>96270.64</td>\n",
       "      <td>0</td>\n",
       "      <td>0</td>\n",
       "      <td>0</td>\n",
       "      <td>1</td>\n",
       "    </tr>\n",
       "    <tr>\n",
       "      <th>9996</th>\n",
       "      <td>516</td>\n",
       "      <td>35</td>\n",
       "      <td>10</td>\n",
       "      <td>57369.61</td>\n",
       "      <td>1</td>\n",
       "      <td>1</td>\n",
       "      <td>1</td>\n",
       "      <td>101699.77</td>\n",
       "      <td>0</td>\n",
       "      <td>0</td>\n",
       "      <td>0</td>\n",
       "      <td>1</td>\n",
       "    </tr>\n",
       "    <tr>\n",
       "      <th>9997</th>\n",
       "      <td>709</td>\n",
       "      <td>36</td>\n",
       "      <td>7</td>\n",
       "      <td>0.00</td>\n",
       "      <td>1</td>\n",
       "      <td>0</td>\n",
       "      <td>1</td>\n",
       "      <td>42085.58</td>\n",
       "      <td>1</td>\n",
       "      <td>0</td>\n",
       "      <td>0</td>\n",
       "      <td>0</td>\n",
       "    </tr>\n",
       "    <tr>\n",
       "      <th>9998</th>\n",
       "      <td>772</td>\n",
       "      <td>42</td>\n",
       "      <td>3</td>\n",
       "      <td>75075.31</td>\n",
       "      <td>2</td>\n",
       "      <td>1</td>\n",
       "      <td>0</td>\n",
       "      <td>92888.52</td>\n",
       "      <td>1</td>\n",
       "      <td>1</td>\n",
       "      <td>0</td>\n",
       "      <td>1</td>\n",
       "    </tr>\n",
       "    <tr>\n",
       "      <th>9999</th>\n",
       "      <td>792</td>\n",
       "      <td>28</td>\n",
       "      <td>0</td>\n",
       "      <td>130142.79</td>\n",
       "      <td>1</td>\n",
       "      <td>1</td>\n",
       "      <td>0</td>\n",
       "      <td>38190.78</td>\n",
       "      <td>0</td>\n",
       "      <td>0</td>\n",
       "      <td>0</td>\n",
       "      <td>0</td>\n",
       "    </tr>\n",
       "  </tbody>\n",
       "</table>\n",
       "<p>10000 rows × 12 columns</p>\n",
       "</div>"
      ],
      "text/plain": [
       "      creditscore  age  tenure    balance  numofproducts  hascrcard  \\\n",
       "0             619   42       2       0.00              1          1   \n",
       "1             608   41       1   83807.86              1          0   \n",
       "2             502   42       8  159660.80              3          1   \n",
       "3             699   39       1       0.00              2          0   \n",
       "4             850   43       2  125510.82              1          1   \n",
       "...           ...  ...     ...        ...            ...        ...   \n",
       "9995          771   39       5       0.00              2          1   \n",
       "9996          516   35      10   57369.61              1          1   \n",
       "9997          709   36       7       0.00              1          0   \n",
       "9998          772   42       3   75075.31              2          1   \n",
       "9999          792   28       0  130142.79              1          1   \n",
       "\n",
       "      isactivemember  estimatedsalary  exited  geography_Germany  \\\n",
       "0                  1        101348.88       1                  0   \n",
       "1                  1        112542.58       0                  0   \n",
       "2                  0        113931.57       1                  0   \n",
       "3                  0         93826.63       0                  0   \n",
       "4                  1         79084.10       0                  0   \n",
       "...              ...              ...     ...                ...   \n",
       "9995               0         96270.64       0                  0   \n",
       "9996               1        101699.77       0                  0   \n",
       "9997               1         42085.58       1                  0   \n",
       "9998               0         92888.52       1                  1   \n",
       "9999               0         38190.78       0                  0   \n",
       "\n",
       "      geography_Spain  gender_Male  \n",
       "0                   0            0  \n",
       "1                   1            0  \n",
       "2                   0            0  \n",
       "3                   0            0  \n",
       "4                   1            0  \n",
       "...               ...          ...  \n",
       "9995                0            1  \n",
       "9996                0            1  \n",
       "9997                0            0  \n",
       "9998                0            1  \n",
       "9999                0            0  \n",
       "\n",
       "[10000 rows x 12 columns]"
      ]
     },
     "execution_count": 14,
     "metadata": {},
     "output_type": "execute_result"
    }
   ],
   "source": [
    "# Use one-hot encoding to transform object columns to numeric for use in classification models\n",
    "df_churn_ohe = pd.get_dummies(df_churn, drop_first=True)\n",
    "\n",
    "df_churn_ohe"
   ]
  },
  {
   "cell_type": "code",
   "execution_count": 15,
   "id": "1e4ce019",
   "metadata": {},
   "outputs": [],
   "source": [
    "# Define feature and target\n",
    "features = df_churn_ohe.drop(['exited'], axis=1)\n",
    "target = df_churn_ohe['exited']\n",
    "\n",
    "# Use train_test_split() to split dataset into 60% training, 40% for validation & testing\n",
    "features_train, features_valid_test, target_train, target_valid_test = train_test_split(features, target, test_size=0.4, random_state=12345)\n",
    "\n",
    "# Split validation & testing in half, so each is 20% of original dataset\n",
    "features_valid, features_test, target_valid, target_test = train_test_split(features_valid_test, target_valid_test, test_size=0.5, random_state=12345)"
   ]
  },
  {
   "cell_type": "code",
   "execution_count": 16,
   "id": "b937e673",
   "metadata": {},
   "outputs": [],
   "source": [
    "# Scale numerical columns using sklearn StandardScaler\n",
    "numeric_cols = ['age', 'tenure','creditscore', 'balance', 'estimatedsalary']\n",
    "\n",
    "scaler = StandardScaler()\n",
    "scaler.fit(features_train[numeric_cols])\n",
    "\n",
    "features_train[numeric_cols] = scaler.transform(features_train[numeric_cols])\n",
    "features_valid[numeric_cols] = scaler.transform(features_valid[numeric_cols])\n",
    "features_test[numeric_cols] = scaler.transform(features_test[numeric_cols])"
   ]
  },
  {
   "cell_type": "markdown",
   "id": "7215bce2",
   "metadata": {},
   "source": [
    "## Model Training with Imbalanced Classes:"
   ]
  },
  {
   "cell_type": "markdown",
   "id": "1745578d",
   "metadata": {},
   "source": [
    "### Logistic Regression Model:"
   ]
  },
  {
   "cell_type": "code",
   "execution_count": 17,
   "id": "93735480",
   "metadata": {},
   "outputs": [
    {
     "name": "stdout",
     "output_type": "stream",
     "text": [
      "F1 Score = 0.33389544688026984\n",
      "AUC-ROC = 0.7585879420998192\n",
      "Accuracy Score = 0.8025\n"
     ]
    }
   ],
   "source": [
    "model = LogisticRegression(random_state=12345, solver='liblinear')\n",
    "model.fit(features_train,target_train)\n",
    "predicted_valid = model.predict(features_valid)\n",
    "probabilities_valid = model.predict_proba(features_valid)\n",
    "probabilities_one_valid = probabilities_valid[:, 1]\n",
    "auc_roc = roc_auc_score(target_valid, probabilities_one_valid)\n",
    "\n",
    "print('F1 Score =', f1_score(target_valid,predicted_valid))\n",
    "print('AUC-ROC =', auc_roc)\n",
    "print('Accuracy Score =', accuracy_score(target_valid,predicted_valid))"
   ]
  },
  {
   "cell_type": "code",
   "execution_count": 18,
   "id": "b028ec64",
   "metadata": {},
   "outputs": [
    {
     "name": "stdout",
     "output_type": "stream",
     "text": [
      "F1 Score = 0.0\n",
      "AUC-ROC = 0.5\n",
      "Accuracy Score = 0.791\n"
     ]
    }
   ],
   "source": [
    "# Sanity Check using DummyClassifier from sklearn\n",
    "dummy_majority_clf = DummyClassifier(strategy='most_frequent')\n",
    "dummy_majority_clf.fit(features_train, target_train)\n",
    "majority_predictions = dummy_majority_clf.predict(features_valid)\n",
    "print('F1 Score =', f1_score(target_valid,majority_predictions))\n",
    "print('AUC-ROC =', roc_auc_score(target_valid, majority_predictions))\n",
    "print('Accuracy Score =', accuracy_score(target_valid,majority_predictions))"
   ]
  },
  {
   "cell_type": "markdown",
   "id": "ce018496",
   "metadata": {},
   "source": [
    "Logistic regression model is better than constant dummy model however F1 score is low and below target of 0.59"
   ]
  },
  {
   "cell_type": "markdown",
   "id": "37d21344",
   "metadata": {},
   "source": [
    "### Decision Tree Model:"
   ]
  },
  {
   "cell_type": "code",
   "execution_count": 19,
   "id": "b94afade",
   "metadata": {},
   "outputs": [
    {
     "name": "stdout",
     "output_type": "stream",
     "text": [
      "F1 Score = 0.47990255785627284\n",
      "AUC-ROC = 0.6705384741015855\n",
      "Accuracy Score = 0.7865\n"
     ]
    }
   ],
   "source": [
    "model = DecisionTreeClassifier(random_state=12345)\n",
    "model.fit(features_train,target_train)\n",
    "predicted_valid = model.predict(features_valid)\n",
    "probabilities_valid = model.predict_proba(features_valid)\n",
    "probabilities_one_valid = probabilities_valid[:, 1]\n",
    "auc_roc = roc_auc_score(target_valid, probabilities_one_valid)\n",
    "\n",
    "print('F1 Score =', f1_score(target_valid,predicted_valid))\n",
    "print('AUC-ROC =', auc_roc)\n",
    "print('Accuracy Score =', accuracy_score(target_valid,predicted_valid))"
   ]
  },
  {
   "cell_type": "markdown",
   "id": "56b730af",
   "metadata": {},
   "source": [
    "Decision Tree model has a much better F1 score than logistic regression but a lower AUC-ROC due to overfitting. Model accuracy slightly worse than constant model"
   ]
  },
  {
   "cell_type": "markdown",
   "id": "e633d9e0",
   "metadata": {},
   "source": [
    "### Random Forest Model:"
   ]
  },
  {
   "cell_type": "code",
   "execution_count": 20,
   "id": "4e75def1",
   "metadata": {},
   "outputs": [
    {
     "name": "stdout",
     "output_type": "stream",
     "text": [
      "F1 Score = 0.544943820224719\n",
      "AUC-ROC = 0.7915068745879179\n",
      "Accuracy Score = 0.838\n"
     ]
    }
   ],
   "source": [
    "model = RandomForestClassifier(random_state=12345, n_estimators=5)\n",
    "model.fit(features_train,target_train)\n",
    "predicted_valid = model.predict(features_valid)\n",
    "probabilities_valid = model.predict_proba(features_valid)\n",
    "probabilities_one_valid = probabilities_valid[:, 1]\n",
    "auc_roc = roc_auc_score(target_valid, probabilities_one_valid)\n",
    "\n",
    "print('F1 Score =', f1_score(target_valid,predicted_valid))\n",
    "print('AUC-ROC =', auc_roc)\n",
    "print('Accuracy Score =', accuracy_score(target_valid,predicted_valid))"
   ]
  },
  {
   "cell_type": "markdown",
   "id": "486487bd",
   "metadata": {},
   "source": [
    "Random Forest model has a much better F1 score and AUC-ROC score than logistic regression and Decision Tree and it also has noticeably better accuracy compared to the constant model"
   ]
  },
  {
   "cell_type": "markdown",
   "id": "41741129",
   "metadata": {},
   "source": [
    "## Model Training with Balanced Classes:"
   ]
  },
  {
   "cell_type": "markdown",
   "id": "b3093506",
   "metadata": {},
   "source": [
    "### Logistic Regression Model:"
   ]
  },
  {
   "cell_type": "code",
   "execution_count": 21,
   "id": "efcfe765",
   "metadata": {},
   "outputs": [
    {
     "name": "stdout",
     "output_type": "stream",
     "text": [
      "F1 Score = 0.4888888888888888\n",
      "AUC-ROC = 0.7635631718072333\n",
      "Accuracy Score = 0.701\n"
     ]
    }
   ],
   "source": [
    "# Balance classes using class_weight parameter for LogisticRegression\n",
    "model = LogisticRegression(random_state=12345, solver='liblinear', class_weight = 'balanced')\n",
    "model.fit(features_train, target_train)\n",
    "predicted_valid = model.predict(features_valid)\n",
    "probabilities_valid = model.predict_proba(features_valid)\n",
    "probabilities_one_valid = probabilities_valid[:, 1]\n",
    "auc_roc = roc_auc_score(target_valid, probabilities_one_valid)\n",
    "\n",
    "print('F1 Score =', f1_score(target_valid,predicted_valid))\n",
    "print('AUC-ROC =', auc_roc)\n",
    "print('Accuracy Score =', accuracy_score(target_valid,predicted_valid))"
   ]
  },
  {
   "cell_type": "code",
   "execution_count": 22,
   "id": "03547854",
   "metadata": {},
   "outputs": [],
   "source": [
    "# upsample function\n",
    "def upsample(features, target, repeat):\n",
    "    features_zeros = features[target == 0]\n",
    "    features_ones = features[target == 1]\n",
    "    target_zeros = target[target == 0]\n",
    "    target_ones = target[target == 1]\n",
    "\n",
    "    features_upsampled = pd.concat([features_zeros] + [features_ones] * repeat)\n",
    "    target_upsampled = pd.concat([target_zeros] + [target_ones] * repeat)\n",
    "\n",
    "    features_upsampled, target_upsampled = shuffle(\n",
    "        features_upsampled, target_upsampled, random_state=12345\n",
    "    )\n",
    "\n",
    "    return features_upsampled, target_upsampled"
   ]
  },
  {
   "cell_type": "code",
   "execution_count": 23,
   "id": "853d80fd",
   "metadata": {},
   "outputs": [
    {
     "name": "stdout",
     "output_type": "stream",
     "text": [
      "Upsampling Factor: 1 F1: 0.33389544688026984\n",
      "Upsampling Factor: 2 F1: 0.4672435105067985\n",
      "Upsampling Factor: 3 F1: 0.5014985014985014\n",
      "Upsampling Factor: 4 F1: 0.4888888888888888\n",
      "Upsampling Factor: 5 F1: 0.483969465648855\n",
      "Upsampling Factor: 6 F1: 0.4688796680497925\n",
      "Upsampling Factor: 7 F1: 0.4544875875238701\n",
      "Upsampling Factor: 8 F1: 0.4409826243259437\n",
      "Upsampling Factor: 9 F1: 0.4297994269340974\n"
     ]
    }
   ],
   "source": [
    "# Balance classes using upsampling\n",
    "for factor in range(1,10):\n",
    "    features_upsampled, target_upsampled = upsample(\n",
    "        features_train, target_train, factor\n",
    "    )\n",
    "\n",
    "    model = LogisticRegression(random_state=12345, solver='liblinear')\n",
    "    model.fit(features_upsampled,target_upsampled)\n",
    "    predicted_valid = model.predict(features_valid)\n",
    "\n",
    "    print('Upsampling Factor:', factor, 'F1:', f1_score(target_valid, predicted_valid))\n"
   ]
  },
  {
   "cell_type": "markdown",
   "id": "faf95a8e",
   "metadata": {},
   "source": [
    "Upsampling and class weight adjustments resulted in same improvement in F1 score but still below minimum target of 0.59"
   ]
  },
  {
   "cell_type": "code",
   "execution_count": 24,
   "id": "f7daee0b",
   "metadata": {},
   "outputs": [
    {
     "name": "stdout",
     "output_type": "stream",
     "text": [
      "Threshold: 0.0 F1: 0.3457402812241522\n",
      "Threshold: 0.02 F1: 0.3457402812241522\n",
      "Threshold: 0.04 F1: 0.3458833264377327\n",
      "Threshold: 0.06 F1: 0.34717607973421927\n",
      "Threshold: 0.08 F1: 0.3496445002091176\n",
      "Threshold: 0.1 F1: 0.3546881629189648\n",
      "Threshold: 0.12 F1: 0.3593952483801296\n",
      "Threshold: 0.14 F1: 0.36807095343680707\n",
      "Threshold: 0.16 F1: 0.3747731397459165\n",
      "Threshold: 0.18 F1: 0.3797585886722377\n",
      "Threshold: 0.2 F1: 0.38755980861244016\n",
      "Threshold: 0.22 F1: 0.396235760277365\n",
      "Threshold: 0.24 F1: 0.402246043899949\n",
      "Threshold: 0.26 F1: 0.4083989501312337\n",
      "Threshold: 0.28 F1: 0.4154013015184382\n",
      "Threshold: 0.3 F1: 0.4225824482951369\n",
      "Threshold: 0.32 F1: 0.4316463059918557\n",
      "Threshold: 0.34 F1: 0.4401683704149129\n",
      "Threshold: 0.36 F1: 0.45226130653266333\n",
      "Threshold: 0.38 F1: 0.462853385930309\n",
      "Threshold: 0.4 F1: 0.47010309278350515\n",
      "Threshold: 0.42 F1: 0.474964234620887\n",
      "Threshold: 0.44 F1: 0.4875846501128669\n",
      "Threshold: 0.46 F1: 0.48503937007874015\n",
      "Threshold: 0.48 F1: 0.48519736842105265\n",
      "Threshold: 0.5 F1: 0.4888888888888888\n",
      "Threshold: 0.52 F1: 0.4932735426008969\n",
      "Threshold: 0.54 F1: 0.49812734082397003\n",
      "Threshold: 0.56 F1: 0.49707602339181284\n",
      "Threshold: 0.58 F1: 0.4959514170040486\n",
      "Threshold: 0.6 F1: 0.48958333333333337\n",
      "Threshold: 0.62 F1: 0.5016429353778751\n",
      "Threshold: 0.64 F1: 0.48561565017261216\n",
      "Threshold: 0.66 F1: 0.4768856447688565\n",
      "Threshold: 0.68 F1: 0.45801526717557256\n",
      "Threshold: 0.7000000000000001 F1: 0.43048128342245984\n",
      "Threshold: 0.72 F1: 0.40896358543417366\n",
      "Threshold: 0.74 F1: 0.3911764705882353\n",
      "Threshold: 0.76 F1: 0.3577981651376147\n",
      "Threshold: 0.78 F1: 0.3533123028391168\n",
      "Threshold: 0.8 F1: 0.33670033670033667\n",
      "Threshold: 0.8200000000000001 F1: 0.2939068100358423\n",
      "Threshold: 0.84 F1: 0.25330812854442347\n",
      "Threshold: 0.86 F1: 0.21115537848605573\n",
      "Threshold: 0.88 F1: 0.16182572614107885\n",
      "Threshold: 0.9 F1: 0.09606986899563319\n",
      "Threshold: 0.92 F1: 0.0632054176072235\n",
      "Threshold: 0.9400000000000001 F1: 0.04597701149425287\n",
      "Threshold: 0.96 F1: 0.009389671361502346\n",
      "Threshold: 0.98 F1: 0.0\n"
     ]
    }
   ],
   "source": [
    "# Custom threshold\n",
    "model = LogisticRegression(random_state=12345, solver='liblinear', class_weight = 'balanced')\n",
    "model.fit(features_train, target_train)\n",
    "\n",
    "probabilities_valid = model.predict_proba(features_valid)\n",
    "probabilities_one_valid = probabilities_valid[:, 1]\n",
    "\n",
    "for threshold in np.arange(0, 1, 0.02):\n",
    "    predicted_valid = probabilities_one_valid > threshold\n",
    "    print('Threshold:', threshold, 'F1:', f1_score(target_valid,predicted_valid))"
   ]
  },
  {
   "cell_type": "markdown",
   "id": "279c7114",
   "metadata": {},
   "source": [
    "Minimal improvement in F1 score from 0.488 to 0.5 from increasing threshold to 0.62 for Logistic Regression"
   ]
  },
  {
   "cell_type": "markdown",
   "id": "846f1e69",
   "metadata": {},
   "source": [
    "### Decision Tree Model:"
   ]
  },
  {
   "cell_type": "code",
   "execution_count": 25,
   "id": "3f35077e",
   "metadata": {},
   "outputs": [
    {
     "name": "stdout",
     "output_type": "stream",
     "text": [
      "F1 Score = 0.45622688039457454\n",
      "AUC-ROC = 0.6555522958643591\n",
      "Accuracy Score = 0.7795\n"
     ]
    }
   ],
   "source": [
    "# Decision Tree\n",
    "model = DecisionTreeClassifier(random_state=12345, class_weight = 'balanced')\n",
    "model.fit(features_train, target_train)\n",
    "predicted_valid = model.predict(features_valid)\n",
    "probabilities_valid = model.predict_proba(features_valid)\n",
    "probabilities_one_valid = probabilities_valid[:, 1]\n",
    "auc_roc = roc_auc_score(target_valid, probabilities_one_valid)\n",
    "\n",
    "print('F1 Score =', f1_score(target_valid,predicted_valid))\n",
    "print('AUC-ROC =', auc_roc)\n",
    "print('Accuracy Score =', accuracy_score(target_valid,predicted_valid))"
   ]
  },
  {
   "cell_type": "markdown",
   "id": "f860499a",
   "metadata": {},
   "source": [
    "Barely any change compared to Decision Tree model trained on imbalanced classes"
   ]
  },
  {
   "cell_type": "code",
   "execution_count": 26,
   "id": "2733264b",
   "metadata": {},
   "outputs": [
    {
     "name": "stdout",
     "output_type": "stream",
     "text": [
      "Threshold: 0.0 F1: 0.45622688039457454\n",
      "Threshold: 0.02 F1: 0.45622688039457454\n",
      "Threshold: 0.04 F1: 0.45622688039457454\n",
      "Threshold: 0.06 F1: 0.45622688039457454\n",
      "Threshold: 0.08 F1: 0.45622688039457454\n",
      "Threshold: 0.1 F1: 0.45622688039457454\n",
      "Threshold: 0.12 F1: 0.45622688039457454\n",
      "Threshold: 0.14 F1: 0.45622688039457454\n",
      "Threshold: 0.16 F1: 0.45622688039457454\n",
      "Threshold: 0.18 F1: 0.45622688039457454\n",
      "Threshold: 0.2 F1: 0.45622688039457454\n",
      "Threshold: 0.22 F1: 0.45622688039457454\n",
      "Threshold: 0.24 F1: 0.45622688039457454\n",
      "Threshold: 0.26 F1: 0.45622688039457454\n",
      "Threshold: 0.28 F1: 0.45622688039457454\n",
      "Threshold: 0.3 F1: 0.45622688039457454\n",
      "Threshold: 0.32 F1: 0.45622688039457454\n",
      "Threshold: 0.34 F1: 0.45622688039457454\n",
      "Threshold: 0.36 F1: 0.45622688039457454\n",
      "Threshold: 0.38 F1: 0.45622688039457454\n",
      "Threshold: 0.4 F1: 0.45622688039457454\n",
      "Threshold: 0.42 F1: 0.45622688039457454\n",
      "Threshold: 0.44 F1: 0.45622688039457454\n"
     ]
    }
   ],
   "source": [
    "# Custom threshold\n",
    "probabilities_valid = model.predict_proba(features_valid)\n",
    "probabilities_one_valid = probabilities_valid[:, 1]\n",
    "\n",
    "for threshold in np.arange(0, 0.46, 0.02):\n",
    "    predicted_valid = probabilities_one_valid > threshold\n",
    "    print('Threshold:', threshold, 'F1:', f1_score(target_valid,predicted_valid))"
   ]
  },
  {
   "cell_type": "markdown",
   "id": "55bd034e",
   "metadata": {},
   "source": [
    "Custom threshold doesn't make any difference in Decision Tree Classifier model f1 score"
   ]
  },
  {
   "cell_type": "code",
   "execution_count": 27,
   "id": "e18a57a5",
   "metadata": {},
   "outputs": [
    {
     "name": "stdout",
     "output_type": "stream",
     "text": [
      "max_depth = 1 : F1: 0.4994903160040775 AUC-ROC = 0.6925565119556736\n",
      "max_depth = 2 : F1: 0.541015625 AUC-ROC = 0.7501814673449512\n",
      "max_depth = 3 : F1: 0.541015625 AUC-ROC = 0.7980472601455368\n",
      "max_depth = 4 : F1: 0.5277777777777778 AUC-ROC = 0.8190853743368881\n",
      "max_depth = 5 : F1: 0.5963791267305644 AUC-ROC = 0.8310244134068074\n",
      "max_depth = 6 : F1: 0.5581835383159887 AUC-ROC = 0.7999473744699641\n",
      "max_depth = 7 : F1: 0.5559999999999999 AUC-ROC = 0.7937290934496337\n",
      "max_depth = 8 : F1: 0.5401174168297456 AUC-ROC = 0.7745230433283531\n",
      "max_depth = 9 : F1: 0.5338567222767419 AUC-ROC = 0.7652984532933299\n"
     ]
    }
   ],
   "source": [
    "# Hyperparameter Tuning:\n",
    "for depth in range(1,10):\n",
    "    model = DecisionTreeClassifier(random_state=12345, max_depth=depth, class_weight = 'balanced')\n",
    "    model.fit(features_train,target_train)\n",
    "    predicted_valid = model.predict(features_valid)\n",
    "    probabilities_valid = model.predict_proba(features_valid)\n",
    "    probabilities_one_valid = probabilities_valid[:, 1]\n",
    "    print('max_depth =', depth, ':', 'F1:', f1_score(target_valid,predicted_valid), 'AUC-ROC =', roc_auc_score(target_valid, probabilities_one_valid))"
   ]
  },
  {
   "cell_type": "markdown",
   "id": "6c65f584",
   "metadata": {},
   "source": [
    "Decision Tree Classifier with balanced class weights and a max depth of 5 achieved F1 score of 0.6 and also highest AUC-ROC score of 0.847"
   ]
  },
  {
   "cell_type": "markdown",
   "id": "6bcd1a11",
   "metadata": {},
   "source": [
    "### Random Forest Model:"
   ]
  },
  {
   "cell_type": "code",
   "execution_count": 28,
   "id": "1beb0f10",
   "metadata": {},
   "outputs": [
    {
     "name": "stdout",
     "output_type": "stream",
     "text": [
      "F1 Score = 0.5393258426966292\n",
      "AUC-ROC = 0.7842156678905631\n",
      "Accuracy Score = 0.836\n"
     ]
    }
   ],
   "source": [
    "# Random Forest \n",
    "model = RandomForestClassifier(random_state=12345, n_estimators=5, class_weight = 'balanced')\n",
    "model.fit(features_train, target_train)\n",
    "predicted_valid = model.predict(features_valid)\n",
    "probabilities_valid = model.predict_proba(features_valid)\n",
    "probabilities_one_valid = probabilities_valid[:, 1]\n",
    "auc_roc = roc_auc_score(target_valid, probabilities_one_valid)\n",
    "\n",
    "print('F1 Score =', f1_score(target_valid,predicted_valid))\n",
    "print('AUC-ROC =', auc_roc)\n",
    "print('Accuracy Score =', accuracy_score(target_valid,predicted_valid))"
   ]
  },
  {
   "cell_type": "code",
   "execution_count": 29,
   "id": "48e38282",
   "metadata": {},
   "outputs": [
    {
     "name": "stdout",
     "output_type": "stream",
     "text": [
      "Best n_estimators= 85 F1 = 0.5657492354740061\n"
     ]
    }
   ],
   "source": [
    "# Hyperparameter Tuning:\n",
    "best_F1 = 0\n",
    "best_est = 0\n",
    "for est in range(1, 100): # choose hyperparameter range\n",
    "    model = RandomForestClassifier(random_state=12345, n_estimators=est, class_weight = 'balanced') # set number of trees\n",
    "    model.fit(features_train,target_train)\n",
    "    predicted_valid = model.predict(features_valid)\n",
    "    probabilities_valid = model.predict_proba(features_valid)\n",
    "    probabilities_one_valid = probabilities_valid[:, 1]\n",
    "    auc_roc = roc_auc_score(target_valid, probabilities_one_valid)\n",
    "    if f1_score(target_valid,predicted_valid) > best_F1:\n",
    "        best_F1 = f1_score(target_valid,predicted_valid)\n",
    "        best_est = est\n",
    "    # Print loading pattern\n",
    "    print(\"Tuning in progress\" + \".\"*(est%4), end=\"\\r\")\n",
    "\n",
    "print('Best n_estimators=', best_est, 'F1 =', best_F1)"
   ]
  },
  {
   "cell_type": "markdown",
   "id": "25e98fa4",
   "metadata": {},
   "source": [
    "Hypertuning of model with validation set shows that using 85 n_estimators yields highest F1 score"
   ]
  },
  {
   "cell_type": "code",
   "execution_count": 30,
   "id": "043617a0",
   "metadata": {},
   "outputs": [
    {
     "name": "stdout",
     "output_type": "stream",
     "text": [
      "F1 Score = 0.5657492354740061\n",
      "AUC-ROC = 0.8380237601243656\n",
      "Accuracy Score = 0.858\n"
     ]
    }
   ],
   "source": [
    "# Random Forest with n_estimators = 85\n",
    "model = RandomForestClassifier(random_state=12345, n_estimators=85, class_weight = 'balanced')\n",
    "model.fit(features_train,target_train)\n",
    "predicted_valid = model.predict(features_valid)\n",
    "probabilities_valid = model.predict_proba(features_valid)\n",
    "probabilities_one_valid = probabilities_valid[:, 1]\n",
    "auc_roc = roc_auc_score(target_valid, probabilities_one_valid)\n",
    "\n",
    "print('F1 Score =', f1_score(target_valid,predicted_valid))\n",
    "print('AUC-ROC =', auc_roc)\n",
    "print('Accuracy Score =', accuracy_score(target_valid,predicted_valid))"
   ]
  },
  {
   "cell_type": "code",
   "execution_count": 31,
   "id": "d340b313",
   "metadata": {},
   "outputs": [
    {
     "name": "stdout",
     "output_type": "stream",
     "text": [
      "Threshold: 0.0 F1: 0.36339754816112085\n",
      "Threshold: 0.02 F1: 0.3800652072659525\n",
      "Threshold: 0.04 F1: 0.41379310344827586\n",
      "Threshold: 0.06 F1: 0.44470314318975557\n",
      "Threshold: 0.08 F1: 0.4604141291108404\n",
      "Threshold: 0.1 F1: 0.48626925653047554\n",
      "Threshold: 0.12 F1: 0.5138686131386861\n",
      "Threshold: 0.14 F1: 0.5289634146341463\n",
      "Threshold: 0.16 F1: 0.5410235580828594\n",
      "Threshold: 0.18 F1: 0.5583405358686258\n",
      "Threshold: 0.2 F1: 0.5759849906191369\n",
      "Threshold: 0.22 F1: 0.5890410958904109\n",
      "Threshold: 0.24 F1: 0.5960539979231567\n",
      "Threshold: 0.26 F1: 0.6152173913043479\n",
      "Threshold: 0.28 F1: 0.6202247191011236\n",
      "Threshold: 0.3 F1: 0.6193853427895981\n",
      "Threshold: 0.32 F1: 0.6172539489671932\n",
      "Threshold: 0.34 F1: 0.6159509202453988\n",
      "Threshold: 0.36 F1: 0.6101265822784809\n",
      "Threshold: 0.38 F1: 0.6081258191349934\n",
      "Threshold: 0.4 F1: 0.5997286295793759\n",
      "Threshold: 0.42 F1: 0.5989010989010989\n",
      "Threshold: 0.44 F1: 0.5940594059405939\n",
      "Threshold: 0.46 F1: 0.5830903790087464\n",
      "Threshold: 0.48 F1: 0.5663189269746647\n",
      "Threshold: 0.5 F1: 0.5657492354740061\n",
      "Threshold: 0.52 F1: 0.5559006211180125\n",
      "Threshold: 0.54 F1: 0.5485893416927901\n",
      "Threshold: 0.56 F1: 0.529886914378029\n",
      "Threshold: 0.58 F1: 0.5165562913907285\n",
      "Threshold: 0.6 F1: 0.5117056856187291\n",
      "Threshold: 0.62 F1: 0.4991511035653651\n",
      "Threshold: 0.64 F1: 0.4775086505190311\n",
      "Threshold: 0.66 F1: 0.4585537918871252\n",
      "Threshold: 0.68 F1: 0.4519572953736654\n",
      "Threshold: 0.7000000000000001 F1: 0.4239130434782609\n",
      "Threshold: 0.72 F1: 0.40590405904059035\n",
      "Threshold: 0.74 F1: 0.3917910447761194\n",
      "Threshold: 0.76 F1: 0.36015325670498083\n",
      "Threshold: 0.78 F1: 0.31620553359683795\n",
      "Threshold: 0.8 F1: 0.28225806451612906\n",
      "Threshold: 0.8200000000000001 F1: 0.27235772357723576\n",
      "Threshold: 0.84 F1: 0.2151898734177215\n",
      "Threshold: 0.86 F1: 0.16956521739130434\n",
      "Threshold: 0.88 F1: 0.1415929203539823\n",
      "Threshold: 0.9 F1: 0.1\n",
      "Threshold: 0.92 F1: 0.04672897196261682\n",
      "Threshold: 0.9400000000000001 F1: 0.03294117647058824\n",
      "Threshold: 0.96 F1: 0.009523809523809525\n",
      "Threshold: 0.98 F1: 0.0\n"
     ]
    }
   ],
   "source": [
    "# Custom threshold\n",
    "probabilities_valid = model.predict_proba(features_valid)\n",
    "probabilities_one_valid = probabilities_valid[:, 1]\n",
    "\n",
    "for threshold in np.arange(0, 1, 0.02):\n",
    "    predicted_valid = probabilities_one_valid > threshold\n",
    "    auc_roc = roc_auc_score(target_valid, probabilities_one_valid)\n",
    "    print('Threshold:', threshold, 'F1:', f1_score(target_valid,predicted_valid))"
   ]
  },
  {
   "cell_type": "markdown",
   "id": "48a96b2f",
   "metadata": {},
   "source": [
    "Best Random Forest Classifier model has F1 score of 0.62 with balanced class weights and custom threshold of 0.28"
   ]
  },
  {
   "cell_type": "code",
   "execution_count": 32,
   "id": "ec74e61f",
   "metadata": {},
   "outputs": [
    {
     "name": "stdout",
     "output_type": "stream",
     "text": [
      "F1 Score = 0.6283185840707965\n",
      "AUC-ROC = 0.8544053031836192\n",
      "Accuracy Score = 0.832\n"
     ]
    }
   ],
   "source": [
    "# Final model testing using test set\n",
    "probabilities_test = model.predict_proba(features_test)\n",
    "probabilities_one_test = probabilities_test[:, 1]\n",
    "predicted_test = probabilities_one_test > 0.28\n",
    "auc_roc = roc_auc_score(target_test, probabilities_one_test)\n",
    "\n",
    "print('F1 Score =', f1_score(target_test,predicted_test))\n",
    "print('AUC-ROC =', auc_roc)\n",
    "print('Accuracy Score =', accuracy_score(target_test,predicted_test))"
   ]
  },
  {
   "cell_type": "markdown",
   "id": "e088334a",
   "metadata": {},
   "source": [
    "## Conclusions:"
   ]
  },
  {
   "cell_type": "markdown",
   "id": "6fd87bb9",
   "metadata": {},
   "source": [
    "- Logistic Regression model had the lowest F1 score prior to balancing classes\n",
    "- Random Forest model performed best among the models prior to balancing classes\n",
    "- Decision Tree model doesn't benefit from threshold adjustment\n",
    "- F1 score is more sensitive to class imbalance than AUC-ROC score. The improvement in F1 score after balancing classes and adjusting thresholds is significantly more than AUC-ROC.\n",
    "- The Random Forest model with n_estimators = 85, balanced class weights, and a custom threshold of 0.28 has the best combination of F1, AUC-ROC score, and accuracy compared to others and the constant model. This is the recommended model to use to predict which bank customers are likely to leave."
   ]
  }
 ],
 "metadata": {
  "kernelspec": {
   "display_name": "Python 3 (ipykernel)",
   "language": "python",
   "name": "python3"
  },
  "language_info": {
   "codemirror_mode": {
    "name": "ipython",
    "version": 3
   },
   "file_extension": ".py",
   "mimetype": "text/x-python",
   "name": "python",
   "nbconvert_exporter": "python",
   "pygments_lexer": "ipython3",
   "version": "3.9.5"
  },
  "toc": {
   "base_numbering": 1,
   "nav_menu": {},
   "number_sections": true,
   "sideBar": true,
   "skip_h1_title": true,
   "title_cell": "Table of Contents",
   "title_sidebar": "Contents",
   "toc_cell": false,
   "toc_position": {},
   "toc_section_display": true,
   "toc_window_display": false
  }
 },
 "nbformat": 4,
 "nbformat_minor": 5
}
