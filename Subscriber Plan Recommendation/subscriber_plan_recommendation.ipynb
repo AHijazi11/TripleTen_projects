{
 "cells": [
  {
   "cell_type": "code",
   "execution_count": 1,
   "id": "f90f8cb2",
   "metadata": {},
   "outputs": [],
   "source": [
    "from sklearn.model_selection import train_test_split\n",
    "from sklearn.metrics import mean_squared_error\n",
    "from sklearn.metrics import accuracy_score\n",
    "from sklearn.tree import DecisionTreeClassifier\n",
    "from sklearn.ensemble import RandomForestClassifier\n",
    "from sklearn.linear_model import LogisticRegression\n",
    "import pandas as pd\n",
    "import numpy as np\n",
    "import warnings"
   ]
  },
  {
   "cell_type": "code",
   "execution_count": 2,
   "id": "129c34bb",
   "metadata": {},
   "outputs": [],
   "source": [
    "# Supress deprecation & future warnings since we're instructed to use older sklearn library\n",
    "warnings.filterwarnings(\"ignore\", category=DeprecationWarning)\n",
    "warnings.filterwarnings(\"ignore\", category=FutureWarning)"
   ]
  },
  {
   "cell_type": "markdown",
   "id": "842b5d74",
   "metadata": {},
   "source": [
    "## Import and Explore data:"
   ]
  },
  {
   "cell_type": "code",
   "execution_count": 3,
   "id": "05dc3728",
   "metadata": {},
   "outputs": [
    {
     "data": {
      "text/html": [
       "<div>\n",
       "<style scoped>\n",
       "    .dataframe tbody tr th:only-of-type {\n",
       "        vertical-align: middle;\n",
       "    }\n",
       "\n",
       "    .dataframe tbody tr th {\n",
       "        vertical-align: top;\n",
       "    }\n",
       "\n",
       "    .dataframe thead th {\n",
       "        text-align: right;\n",
       "    }\n",
       "</style>\n",
       "<table border=\"1\" class=\"dataframe\">\n",
       "  <thead>\n",
       "    <tr style=\"text-align: right;\">\n",
       "      <th></th>\n",
       "      <th>calls</th>\n",
       "      <th>minutes</th>\n",
       "      <th>messages</th>\n",
       "      <th>mb_used</th>\n",
       "      <th>is_ultra</th>\n",
       "    </tr>\n",
       "  </thead>\n",
       "  <tbody>\n",
       "    <tr>\n",
       "      <th>0</th>\n",
       "      <td>40.0</td>\n",
       "      <td>311.90</td>\n",
       "      <td>83.0</td>\n",
       "      <td>19915.42</td>\n",
       "      <td>0</td>\n",
       "    </tr>\n",
       "    <tr>\n",
       "      <th>1</th>\n",
       "      <td>85.0</td>\n",
       "      <td>516.75</td>\n",
       "      <td>56.0</td>\n",
       "      <td>22696.96</td>\n",
       "      <td>0</td>\n",
       "    </tr>\n",
       "    <tr>\n",
       "      <th>2</th>\n",
       "      <td>77.0</td>\n",
       "      <td>467.66</td>\n",
       "      <td>86.0</td>\n",
       "      <td>21060.45</td>\n",
       "      <td>0</td>\n",
       "    </tr>\n",
       "    <tr>\n",
       "      <th>3</th>\n",
       "      <td>106.0</td>\n",
       "      <td>745.53</td>\n",
       "      <td>81.0</td>\n",
       "      <td>8437.39</td>\n",
       "      <td>1</td>\n",
       "    </tr>\n",
       "    <tr>\n",
       "      <th>4</th>\n",
       "      <td>66.0</td>\n",
       "      <td>418.74</td>\n",
       "      <td>1.0</td>\n",
       "      <td>14502.75</td>\n",
       "      <td>0</td>\n",
       "    </tr>\n",
       "  </tbody>\n",
       "</table>\n",
       "</div>"
      ],
      "text/plain": [
       "   calls  minutes  messages   mb_used  is_ultra\n",
       "0   40.0   311.90      83.0  19915.42         0\n",
       "1   85.0   516.75      56.0  22696.96         0\n",
       "2   77.0   467.66      86.0  21060.45         0\n",
       "3  106.0   745.53      81.0   8437.39         1\n",
       "4   66.0   418.74       1.0  14502.75         0"
      ]
     },
     "execution_count": 3,
     "metadata": {},
     "output_type": "execute_result"
    }
   ],
   "source": [
    "# Import data from csv file\n",
    "try:\n",
    "    df_users_behavior = pd.read_csv('./users_behavior.csv')\n",
    "except:\n",
    "    print(\"File(s) not found, please check file path(s) are correct\")\n",
    "df_users_behavior.head(5)"
   ]
  },
  {
   "cell_type": "code",
   "execution_count": 4,
   "id": "64ee958b",
   "metadata": {},
   "outputs": [
    {
     "name": "stdout",
     "output_type": "stream",
     "text": [
      "<class 'pandas.core.frame.DataFrame'>\n",
      "RangeIndex: 3214 entries, 0 to 3213\n",
      "Data columns (total 5 columns):\n",
      " #   Column    Non-Null Count  Dtype  \n",
      "---  ------    --------------  -----  \n",
      " 0   calls     3214 non-null   float64\n",
      " 1   minutes   3214 non-null   float64\n",
      " 2   messages  3214 non-null   float64\n",
      " 3   mb_used   3214 non-null   float64\n",
      " 4   is_ultra  3214 non-null   int64  \n",
      "dtypes: float64(4), int64(1)\n",
      "memory usage: 125.7 KB\n"
     ]
    }
   ],
   "source": [
    "df_users_behavior.info()"
   ]
  },
  {
   "cell_type": "code",
   "execution_count": 5,
   "id": "ffb7bcad",
   "metadata": {},
   "outputs": [
    {
     "data": {
      "text/plain": [
       "0"
      ]
     },
     "execution_count": 5,
     "metadata": {},
     "output_type": "execute_result"
    }
   ],
   "source": [
    "df_users_behavior.duplicated().sum()"
   ]
  },
  {
   "cell_type": "code",
   "execution_count": 6,
   "id": "e01c59cb",
   "metadata": {},
   "outputs": [],
   "source": [
    "# Cast calls and messages values to int\n",
    "df_users_behavior['calls'] = df_users_behavior['calls'].astype('int64')\n",
    "df_users_behavior['messages'] = df_users_behavior['messages'].astype('int64')"
   ]
  },
  {
   "cell_type": "code",
   "execution_count": 7,
   "id": "d79e7a73",
   "metadata": {},
   "outputs": [
    {
     "name": "stdout",
     "output_type": "stream",
     "text": [
      "<class 'pandas.core.frame.DataFrame'>\n",
      "RangeIndex: 3214 entries, 0 to 3213\n",
      "Data columns (total 5 columns):\n",
      " #   Column    Non-Null Count  Dtype  \n",
      "---  ------    --------------  -----  \n",
      " 0   calls     3214 non-null   int64  \n",
      " 1   minutes   3214 non-null   float64\n",
      " 2   messages  3214 non-null   int64  \n",
      " 3   mb_used   3214 non-null   float64\n",
      " 4   is_ultra  3214 non-null   int64  \n",
      "dtypes: float64(2), int64(3)\n",
      "memory usage: 125.7 KB\n"
     ]
    }
   ],
   "source": [
    "# Verify that dtype changes took affect\n",
    "df_users_behavior.info()"
   ]
  },
  {
   "cell_type": "code",
   "execution_count": 8,
   "id": "0a4e4f5c",
   "metadata": {},
   "outputs": [
    {
     "data": {
      "text/html": [
       "<div>\n",
       "<style scoped>\n",
       "    .dataframe tbody tr th:only-of-type {\n",
       "        vertical-align: middle;\n",
       "    }\n",
       "\n",
       "    .dataframe tbody tr th {\n",
       "        vertical-align: top;\n",
       "    }\n",
       "\n",
       "    .dataframe thead th {\n",
       "        text-align: right;\n",
       "    }\n",
       "</style>\n",
       "<table border=\"1\" class=\"dataframe\">\n",
       "  <thead>\n",
       "    <tr style=\"text-align: right;\">\n",
       "      <th></th>\n",
       "      <th>calls</th>\n",
       "      <th>minutes</th>\n",
       "      <th>messages</th>\n",
       "      <th>mb_used</th>\n",
       "      <th>is_ultra</th>\n",
       "    </tr>\n",
       "  </thead>\n",
       "  <tbody>\n",
       "    <tr>\n",
       "      <th>0</th>\n",
       "      <td>40</td>\n",
       "      <td>311.90</td>\n",
       "      <td>83</td>\n",
       "      <td>19915.42</td>\n",
       "      <td>0</td>\n",
       "    </tr>\n",
       "    <tr>\n",
       "      <th>1</th>\n",
       "      <td>85</td>\n",
       "      <td>516.75</td>\n",
       "      <td>56</td>\n",
       "      <td>22696.96</td>\n",
       "      <td>0</td>\n",
       "    </tr>\n",
       "    <tr>\n",
       "      <th>2</th>\n",
       "      <td>77</td>\n",
       "      <td>467.66</td>\n",
       "      <td>86</td>\n",
       "      <td>21060.45</td>\n",
       "      <td>0</td>\n",
       "    </tr>\n",
       "    <tr>\n",
       "      <th>3</th>\n",
       "      <td>106</td>\n",
       "      <td>745.53</td>\n",
       "      <td>81</td>\n",
       "      <td>8437.39</td>\n",
       "      <td>1</td>\n",
       "    </tr>\n",
       "    <tr>\n",
       "      <th>4</th>\n",
       "      <td>66</td>\n",
       "      <td>418.74</td>\n",
       "      <td>1</td>\n",
       "      <td>14502.75</td>\n",
       "      <td>0</td>\n",
       "    </tr>\n",
       "  </tbody>\n",
       "</table>\n",
       "</div>"
      ],
      "text/plain": [
       "   calls  minutes  messages   mb_used  is_ultra\n",
       "0     40   311.90        83  19915.42         0\n",
       "1     85   516.75        56  22696.96         0\n",
       "2     77   467.66        86  21060.45         0\n",
       "3    106   745.53        81   8437.39         1\n",
       "4     66   418.74         1  14502.75         0"
      ]
     },
     "execution_count": 8,
     "metadata": {},
     "output_type": "execute_result"
    }
   ],
   "source": [
    "df_users_behavior.head(5)"
   ]
  },
  {
   "cell_type": "markdown",
   "id": "cb712485",
   "metadata": {},
   "source": [
    "## Split data into training, validation,  test sets:"
   ]
  },
  {
   "cell_type": "code",
   "execution_count": 9,
   "id": "0947e30d",
   "metadata": {},
   "outputs": [],
   "source": [
    "# Define feature and target\n",
    "features = df_users_behavior.drop(['is_ultra'], axis=1)\n",
    "target = df_users_behavior['is_ultra']\n",
    "\n",
    "# Use train_test_split() to split dataset into 60% training, 40% for validation & testing\n",
    "features_train, features_valid_test, target_train, target_valid_test = train_test_split(features, target, test_size=0.4, random_state=12345)"
   ]
  },
  {
   "cell_type": "code",
   "execution_count": 10,
   "id": "338e4f46",
   "metadata": {},
   "outputs": [
    {
     "data": {
      "text/html": [
       "<div>\n",
       "<style scoped>\n",
       "    .dataframe tbody tr th:only-of-type {\n",
       "        vertical-align: middle;\n",
       "    }\n",
       "\n",
       "    .dataframe tbody tr th {\n",
       "        vertical-align: top;\n",
       "    }\n",
       "\n",
       "    .dataframe thead th {\n",
       "        text-align: right;\n",
       "    }\n",
       "</style>\n",
       "<table border=\"1\" class=\"dataframe\">\n",
       "  <thead>\n",
       "    <tr style=\"text-align: right;\">\n",
       "      <th></th>\n",
       "      <th>calls</th>\n",
       "      <th>minutes</th>\n",
       "      <th>messages</th>\n",
       "      <th>mb_used</th>\n",
       "    </tr>\n",
       "  </thead>\n",
       "  <tbody>\n",
       "    <tr>\n",
       "      <th>3027</th>\n",
       "      <td>60</td>\n",
       "      <td>431.56</td>\n",
       "      <td>26</td>\n",
       "      <td>14751.26</td>\n",
       "    </tr>\n",
       "    <tr>\n",
       "      <th>434</th>\n",
       "      <td>33</td>\n",
       "      <td>265.17</td>\n",
       "      <td>59</td>\n",
       "      <td>17398.02</td>\n",
       "    </tr>\n",
       "    <tr>\n",
       "      <th>1226</th>\n",
       "      <td>52</td>\n",
       "      <td>341.83</td>\n",
       "      <td>68</td>\n",
       "      <td>15462.38</td>\n",
       "    </tr>\n",
       "    <tr>\n",
       "      <th>1054</th>\n",
       "      <td>42</td>\n",
       "      <td>226.18</td>\n",
       "      <td>21</td>\n",
       "      <td>13243.48</td>\n",
       "    </tr>\n",
       "    <tr>\n",
       "      <th>1842</th>\n",
       "      <td>30</td>\n",
       "      <td>198.42</td>\n",
       "      <td>0</td>\n",
       "      <td>8189.53</td>\n",
       "    </tr>\n",
       "    <tr>\n",
       "      <th>...</th>\n",
       "      <td>...</td>\n",
       "      <td>...</td>\n",
       "      <td>...</td>\n",
       "      <td>...</td>\n",
       "    </tr>\n",
       "    <tr>\n",
       "      <th>2817</th>\n",
       "      <td>12</td>\n",
       "      <td>86.62</td>\n",
       "      <td>22</td>\n",
       "      <td>36628.85</td>\n",
       "    </tr>\n",
       "    <tr>\n",
       "      <th>546</th>\n",
       "      <td>65</td>\n",
       "      <td>458.46</td>\n",
       "      <td>0</td>\n",
       "      <td>15214.25</td>\n",
       "    </tr>\n",
       "    <tr>\n",
       "      <th>382</th>\n",
       "      <td>144</td>\n",
       "      <td>906.18</td>\n",
       "      <td>0</td>\n",
       "      <td>25002.44</td>\n",
       "    </tr>\n",
       "    <tr>\n",
       "      <th>2177</th>\n",
       "      <td>38</td>\n",
       "      <td>301.27</td>\n",
       "      <td>37</td>\n",
       "      <td>28914.24</td>\n",
       "    </tr>\n",
       "    <tr>\n",
       "      <th>482</th>\n",
       "      <td>160</td>\n",
       "      <td>1084.05</td>\n",
       "      <td>95</td>\n",
       "      <td>36843.92</td>\n",
       "    </tr>\n",
       "  </tbody>\n",
       "</table>\n",
       "<p>1928 rows × 4 columns</p>\n",
       "</div>"
      ],
      "text/plain": [
       "      calls  minutes  messages   mb_used\n",
       "3027     60   431.56        26  14751.26\n",
       "434      33   265.17        59  17398.02\n",
       "1226     52   341.83        68  15462.38\n",
       "1054     42   226.18        21  13243.48\n",
       "1842     30   198.42         0   8189.53\n",
       "...     ...      ...       ...       ...\n",
       "2817     12    86.62        22  36628.85\n",
       "546      65   458.46         0  15214.25\n",
       "382     144   906.18         0  25002.44\n",
       "2177     38   301.27        37  28914.24\n",
       "482     160  1084.05        95  36843.92\n",
       "\n",
       "[1928 rows x 4 columns]"
      ]
     },
     "execution_count": 10,
     "metadata": {},
     "output_type": "execute_result"
    }
   ],
   "source": [
    "features_train"
   ]
  },
  {
   "cell_type": "code",
   "execution_count": 11,
   "id": "9cda0133",
   "metadata": {},
   "outputs": [
    {
     "data": {
      "text/plain": [
       "3027    0\n",
       "434     0\n",
       "1226    0\n",
       "1054    0\n",
       "1842    0\n",
       "       ..\n",
       "2817    1\n",
       "546     1\n",
       "382     1\n",
       "2177    1\n",
       "482     1\n",
       "Name: is_ultra, Length: 1928, dtype: int64"
      ]
     },
     "execution_count": 11,
     "metadata": {},
     "output_type": "execute_result"
    }
   ],
   "source": [
    "target_train"
   ]
  },
  {
   "cell_type": "code",
   "execution_count": 12,
   "id": "9388f4f0",
   "metadata": {},
   "outputs": [],
   "source": [
    "# Split validation & testing in half, so each is 20% of original dataset\n",
    "\n",
    "features_valid, features_test, target_valid, target_test = train_test_split(features_valid_test, target_valid_test, test_size=0.5, random_state=12345)"
   ]
  },
  {
   "cell_type": "code",
   "execution_count": 13,
   "id": "cabf28f1",
   "metadata": {},
   "outputs": [
    {
     "data": {
      "text/html": [
       "<div>\n",
       "<style scoped>\n",
       "    .dataframe tbody tr th:only-of-type {\n",
       "        vertical-align: middle;\n",
       "    }\n",
       "\n",
       "    .dataframe tbody tr th {\n",
       "        vertical-align: top;\n",
       "    }\n",
       "\n",
       "    .dataframe thead th {\n",
       "        text-align: right;\n",
       "    }\n",
       "</style>\n",
       "<table border=\"1\" class=\"dataframe\">\n",
       "  <thead>\n",
       "    <tr style=\"text-align: right;\">\n",
       "      <th></th>\n",
       "      <th>calls</th>\n",
       "      <th>minutes</th>\n",
       "      <th>messages</th>\n",
       "      <th>mb_used</th>\n",
       "    </tr>\n",
       "  </thead>\n",
       "  <tbody>\n",
       "    <tr>\n",
       "      <th>1386</th>\n",
       "      <td>92</td>\n",
       "      <td>536.96</td>\n",
       "      <td>18</td>\n",
       "      <td>20193.90</td>\n",
       "    </tr>\n",
       "    <tr>\n",
       "      <th>3124</th>\n",
       "      <td>40</td>\n",
       "      <td>286.57</td>\n",
       "      <td>17</td>\n",
       "      <td>17918.75</td>\n",
       "    </tr>\n",
       "    <tr>\n",
       "      <th>1956</th>\n",
       "      <td>81</td>\n",
       "      <td>531.22</td>\n",
       "      <td>56</td>\n",
       "      <td>17755.06</td>\n",
       "    </tr>\n",
       "    <tr>\n",
       "      <th>2286</th>\n",
       "      <td>67</td>\n",
       "      <td>460.76</td>\n",
       "      <td>27</td>\n",
       "      <td>16626.26</td>\n",
       "    </tr>\n",
       "    <tr>\n",
       "      <th>3077</th>\n",
       "      <td>22</td>\n",
       "      <td>120.09</td>\n",
       "      <td>16</td>\n",
       "      <td>9039.57</td>\n",
       "    </tr>\n",
       "    <tr>\n",
       "      <th>...</th>\n",
       "      <td>...</td>\n",
       "      <td>...</td>\n",
       "      <td>...</td>\n",
       "      <td>...</td>\n",
       "    </tr>\n",
       "    <tr>\n",
       "      <th>1999</th>\n",
       "      <td>56</td>\n",
       "      <td>398.45</td>\n",
       "      <td>4</td>\n",
       "      <td>23682.94</td>\n",
       "    </tr>\n",
       "    <tr>\n",
       "      <th>1023</th>\n",
       "      <td>76</td>\n",
       "      <td>601.10</td>\n",
       "      <td>0</td>\n",
       "      <td>17104.36</td>\n",
       "    </tr>\n",
       "    <tr>\n",
       "      <th>748</th>\n",
       "      <td>81</td>\n",
       "      <td>525.97</td>\n",
       "      <td>15</td>\n",
       "      <td>18878.91</td>\n",
       "    </tr>\n",
       "    <tr>\n",
       "      <th>1667</th>\n",
       "      <td>10</td>\n",
       "      <td>63.03</td>\n",
       "      <td>0</td>\n",
       "      <td>2568.00</td>\n",
       "    </tr>\n",
       "    <tr>\n",
       "      <th>3197</th>\n",
       "      <td>89</td>\n",
       "      <td>660.72</td>\n",
       "      <td>68</td>\n",
       "      <td>11711.54</td>\n",
       "    </tr>\n",
       "  </tbody>\n",
       "</table>\n",
       "<p>643 rows × 4 columns</p>\n",
       "</div>"
      ],
      "text/plain": [
       "      calls  minutes  messages   mb_used\n",
       "1386     92   536.96        18  20193.90\n",
       "3124     40   286.57        17  17918.75\n",
       "1956     81   531.22        56  17755.06\n",
       "2286     67   460.76        27  16626.26\n",
       "3077     22   120.09        16   9039.57\n",
       "...     ...      ...       ...       ...\n",
       "1999     56   398.45         4  23682.94\n",
       "1023     76   601.10         0  17104.36\n",
       "748      81   525.97        15  18878.91\n",
       "1667     10    63.03         0   2568.00\n",
       "3197     89   660.72        68  11711.54\n",
       "\n",
       "[643 rows x 4 columns]"
      ]
     },
     "execution_count": 13,
     "metadata": {},
     "output_type": "execute_result"
    }
   ],
   "source": [
    "features_valid"
   ]
  },
  {
   "cell_type": "code",
   "execution_count": 14,
   "id": "f960dfe0",
   "metadata": {},
   "outputs": [
    {
     "data": {
      "text/html": [
       "<div>\n",
       "<style scoped>\n",
       "    .dataframe tbody tr th:only-of-type {\n",
       "        vertical-align: middle;\n",
       "    }\n",
       "\n",
       "    .dataframe tbody tr th {\n",
       "        vertical-align: top;\n",
       "    }\n",
       "\n",
       "    .dataframe thead th {\n",
       "        text-align: right;\n",
       "    }\n",
       "</style>\n",
       "<table border=\"1\" class=\"dataframe\">\n",
       "  <thead>\n",
       "    <tr style=\"text-align: right;\">\n",
       "      <th></th>\n",
       "      <th>calls</th>\n",
       "      <th>minutes</th>\n",
       "      <th>messages</th>\n",
       "      <th>mb_used</th>\n",
       "    </tr>\n",
       "  </thead>\n",
       "  <tbody>\n",
       "    <tr>\n",
       "      <th>160</th>\n",
       "      <td>61</td>\n",
       "      <td>495.11</td>\n",
       "      <td>8</td>\n",
       "      <td>10891.23</td>\n",
       "    </tr>\n",
       "    <tr>\n",
       "      <th>2498</th>\n",
       "      <td>80</td>\n",
       "      <td>555.04</td>\n",
       "      <td>28</td>\n",
       "      <td>28083.58</td>\n",
       "    </tr>\n",
       "    <tr>\n",
       "      <th>1748</th>\n",
       "      <td>87</td>\n",
       "      <td>697.23</td>\n",
       "      <td>0</td>\n",
       "      <td>8335.70</td>\n",
       "    </tr>\n",
       "    <tr>\n",
       "      <th>1816</th>\n",
       "      <td>41</td>\n",
       "      <td>275.80</td>\n",
       "      <td>9</td>\n",
       "      <td>10032.39</td>\n",
       "    </tr>\n",
       "    <tr>\n",
       "      <th>1077</th>\n",
       "      <td>60</td>\n",
       "      <td>428.49</td>\n",
       "      <td>20</td>\n",
       "      <td>29389.52</td>\n",
       "    </tr>\n",
       "    <tr>\n",
       "      <th>...</th>\n",
       "      <td>...</td>\n",
       "      <td>...</td>\n",
       "      <td>...</td>\n",
       "      <td>...</td>\n",
       "    </tr>\n",
       "    <tr>\n",
       "      <th>2401</th>\n",
       "      <td>55</td>\n",
       "      <td>446.06</td>\n",
       "      <td>79</td>\n",
       "      <td>26526.28</td>\n",
       "    </tr>\n",
       "    <tr>\n",
       "      <th>2928</th>\n",
       "      <td>102</td>\n",
       "      <td>742.65</td>\n",
       "      <td>58</td>\n",
       "      <td>16089.24</td>\n",
       "    </tr>\n",
       "    <tr>\n",
       "      <th>1985</th>\n",
       "      <td>52</td>\n",
       "      <td>349.94</td>\n",
       "      <td>42</td>\n",
       "      <td>12150.72</td>\n",
       "    </tr>\n",
       "    <tr>\n",
       "      <th>357</th>\n",
       "      <td>39</td>\n",
       "      <td>221.18</td>\n",
       "      <td>59</td>\n",
       "      <td>17865.23</td>\n",
       "    </tr>\n",
       "    <tr>\n",
       "      <th>2313</th>\n",
       "      <td>40</td>\n",
       "      <td>301.03</td>\n",
       "      <td>102</td>\n",
       "      <td>6057.63</td>\n",
       "    </tr>\n",
       "  </tbody>\n",
       "</table>\n",
       "<p>643 rows × 4 columns</p>\n",
       "</div>"
      ],
      "text/plain": [
       "      calls  minutes  messages   mb_used\n",
       "160      61   495.11         8  10891.23\n",
       "2498     80   555.04        28  28083.58\n",
       "1748     87   697.23         0   8335.70\n",
       "1816     41   275.80         9  10032.39\n",
       "1077     60   428.49        20  29389.52\n",
       "...     ...      ...       ...       ...\n",
       "2401     55   446.06        79  26526.28\n",
       "2928    102   742.65        58  16089.24\n",
       "1985     52   349.94        42  12150.72\n",
       "357      39   221.18        59  17865.23\n",
       "2313     40   301.03       102   6057.63\n",
       "\n",
       "[643 rows x 4 columns]"
      ]
     },
     "execution_count": 14,
     "metadata": {},
     "output_type": "execute_result"
    }
   ],
   "source": [
    "features_test"
   ]
  },
  {
   "cell_type": "markdown",
   "id": "154c96c2",
   "metadata": {},
   "source": [
    "## Classification Models:"
   ]
  },
  {
   "cell_type": "markdown",
   "id": "bf630736",
   "metadata": {},
   "source": [
    "### Decision Tree Classifier Model:"
   ]
  },
  {
   "cell_type": "code",
   "execution_count": 15,
   "id": "43cb971a",
   "metadata": {},
   "outputs": [
    {
     "name": "stdout",
     "output_type": "stream",
     "text": [
      "Accuracy\n",
      "Test set: 0.7309486780715396\n",
      "Validation set: 0.713841368584759\n"
     ]
    }
   ],
   "source": [
    "# Decision Tree Classifier without hyperparameter tuning\n",
    "model = DecisionTreeClassifier(random_state=12345)\n",
    "\n",
    "model.fit(features_train, target_train)\n",
    "\n",
    "test_predictions = model.predict(features_test)\n",
    "\n",
    "print('Accuracy')\n",
    "print('Test set:', model.score(features_test,target_test))\n",
    "print('Validation set:', model.score(features_valid,target_valid))"
   ]
  },
  {
   "cell_type": "code",
   "execution_count": 16,
   "id": "23354e7e",
   "metadata": {},
   "outputs": [
    {
     "name": "stdout",
     "output_type": "stream",
     "text": [
      "Best model has a max depth of: 7\n",
      "Accuracy of the best model on test set: 0.7993779160186625\n",
      "Accuracy of the best model on validation set: 0.7822706065318819\n"
     ]
    }
   ],
   "source": [
    "# Tune hyperparameter max_depth\n",
    "best_model = None\n",
    "best_result = 0\n",
    "best_depth = 0\n",
    "for depth in range(1, 10):\n",
    "    model = DecisionTreeClassifier(random_state=12345, max_depth=depth) # create a model with the given depth\n",
    "    model.fit(features_train, target_train) # train the model\n",
    "    result = model.score(features_test,target_test) # calculate the accuracy\n",
    "    if result > best_result:\n",
    "        best_model = model\n",
    "        best_result = result\n",
    "        best_depth = depth\n",
    "\n",
    "print(\"Best model has a max depth of:\", best_depth)\n",
    "print(\"Accuracy of the best model on test set:\", best_result)\n",
    "print(\"Accuracy of the best model on validation set:\", best_model.score(features_valid,target_valid))"
   ]
  },
  {
   "cell_type": "markdown",
   "id": "2d523d7d",
   "metadata": {},
   "source": [
    "### Random Forest Classifier Model:"
   ]
  },
  {
   "cell_type": "code",
   "execution_count": 17,
   "id": "a1b6bd28",
   "metadata": {},
   "outputs": [
    {
     "name": "stdout",
     "output_type": "stream",
     "text": [
      "Accuracy on test set: 0.7807153965785381\n",
      "Accuracy on validation set: 0.7853810264385692\n"
     ]
    }
   ],
   "source": [
    "# Random Forest Classifier without hyperparameter tuning\n",
    "model = RandomForestClassifier(random_state=12345)\n",
    "model.fit(features_train,target_train)\n",
    "\n",
    "print(\"Accuracy on test set:\", model.score(features_test,target_test))\n",
    "print(\"Accuracy on validation set:\", model.score(features_valid,target_valid))"
   ]
  },
  {
   "cell_type": "code",
   "execution_count": 18,
   "id": "940ebc64",
   "metadata": {},
   "outputs": [
    {
     "name": "stdout",
     "output_type": "stream",
     "text": [
      "Accuracy of the best model on the test set (n_estimators = 48): 0.7962674961119751\n",
      "Accuracy of the best model on validation set: 0.7916018662519441\n"
     ]
    }
   ],
   "source": [
    "# Tune hyperparameter n_estimators\n",
    "best_model = None\n",
    "best_score = 0\n",
    "best_est = 0\n",
    "for est in range(1, 50): # choose hyperparameter range\n",
    "    model = RandomForestClassifier(random_state=12345, n_estimators=est) # set number of trees\n",
    "    model.fit(features_train,target_train) # train model on training set\n",
    "    score = model.score(features_test,target_test) # calculate accuracy score on validation set\n",
    "    if score > best_score:\n",
    "        best_score = score\n",
    "        best_est = est\n",
    "        best_model = model\n",
    "    # Print loading pattern\n",
    "    print(\"Tuning in progress\" + \".\"*(est%4), end=\"\\r\")    \n",
    "\n",
    "print(\"Accuracy of the best model on the test set (n_estimators = {}): {}\".format(best_est, best_score))\n",
    "print(\"Accuracy of the best model on validation set:\", best_model.score(features_valid,target_valid))"
   ]
  },
  {
   "cell_type": "markdown",
   "id": "3bf163be",
   "metadata": {},
   "source": [
    "### Logistic Regression Model:"
   ]
  },
  {
   "cell_type": "code",
   "execution_count": 19,
   "id": "402200cb",
   "metadata": {},
   "outputs": [
    {
     "name": "stdout",
     "output_type": "stream",
     "text": [
      "Accuracy on test set: 0.7402799377916018\n",
      "Accuracy on validation set: 0.7573872472783826\n"
     ]
    }
   ],
   "source": [
    "# Logistic Regression Classifier \n",
    "model =  LogisticRegression(random_state=12345, solver='liblinear') # initialize logistic regression constructor with parameters random_state=12345 and solver='liblinear'\n",
    "model.fit(features_train, target_train)   # train model on training set\n",
    "score_test = model.score(features_test,target_test) # calculate accuracy score on training set\n",
    "score_valid = model.score(features_valid,target_valid) # calculate accuracy score on validation set\n",
    "\n",
    "print(\"Accuracy on test set:\", score_test,)\n",
    "print(\"Accuracy on validation set:\", score_valid,)"
   ]
  },
  {
   "cell_type": "markdown",
   "id": "42c429d6",
   "metadata": {},
   "source": [
    "## Sanity Checks:"
   ]
  },
  {
   "cell_type": "markdown",
   "id": "e316bf0c",
   "metadata": {},
   "source": [
    "### Random Classifier:"
   ]
  },
  {
   "cell_type": "code",
   "execution_count": 20,
   "id": "82c83319",
   "metadata": {},
   "outputs": [
    {
     "name": "stdout",
     "output_type": "stream",
     "text": [
      "Random classifier accuracy: 0.5038880248833593\n"
     ]
    }
   ],
   "source": [
    "# Generate random predictions\n",
    "predictions_random = pd.Series(np.random.randint(0, 2, features_test.shape[0]))\n",
    "\n",
    "# Calculate the accuracy of the random classifier\n",
    "random_accuracy = accuracy_score(target_test, predictions_random)\n",
    "print(f\"Random classifier accuracy: {random_accuracy}\")"
   ]
  },
  {
   "cell_type": "markdown",
   "id": "574a648d",
   "metadata": {},
   "source": [
    "### Majority Class Baseline:"
   ]
  },
  {
   "cell_type": "code",
   "execution_count": 21,
   "id": "20dce668",
   "metadata": {},
   "outputs": [
    {
     "name": "stdout",
     "output_type": "stream",
     "text": [
      "Majority class accuracy: 0.6842923794712286\n"
     ]
    }
   ],
   "source": [
    "# Find the majority class in the training set\n",
    "majority_class = target_train.mode()[0]\n",
    "\n",
    "# Predict the majority class for all test observations\n",
    "predictions_majority = [majority_class] * len(target_test)\n",
    "\n",
    "# Calculate the accuracy of the majority class baseline\n",
    "majority_class_accuracy = accuracy_score(target_test, predictions_majority)\n",
    "print(f\"Majority class accuracy: {majority_class_accuracy}\")"
   ]
  },
  {
   "cell_type": "markdown",
   "id": "7be9007c",
   "metadata": {},
   "source": [
    "## Conclusions:"
   ]
  },
  {
   "cell_type": "markdown",
   "id": "efac0a8f",
   "metadata": {},
   "source": [
    "- Best model is the Random Forest with an accuracy of 0.796 and 0.791 on the test and validation sets respectively with an n_estimator of 48. \n",
    "- Second best model is the Decision Tree with an accuracy of 0.799 and 0.78 on the test and validation sets respectively with a max depth of 7.\n",
    "- Logistic regression performed the worst with an accuracy of 0.74 and 0.75 on the test and validation sets respectively. \n",
    "- Decision Tree had the largest variation in accuracy between test and validation sets.\n",
    "- All three models performed better than the random and majority class classifiers, which is a good sanity check that models are working."
   ]
  }
 ],
 "metadata": {
  "kernelspec": {
   "display_name": "Python 3 (ipykernel)",
   "language": "python",
   "name": "python3"
  },
  "language_info": {
   "codemirror_mode": {
    "name": "ipython",
    "version": 3
   },
   "file_extension": ".py",
   "mimetype": "text/x-python",
   "name": "python",
   "nbconvert_exporter": "python",
   "pygments_lexer": "ipython3",
   "version": "3.9.5"
  },
  "toc": {
   "base_numbering": 1,
   "nav_menu": {},
   "number_sections": true,
   "sideBar": true,
   "skip_h1_title": true,
   "title_cell": "Table of Contents",
   "title_sidebar": "Contents",
   "toc_cell": false,
   "toc_position": {},
   "toc_section_display": true,
   "toc_window_display": false
  }
 },
 "nbformat": 4,
 "nbformat_minor": 5
}
