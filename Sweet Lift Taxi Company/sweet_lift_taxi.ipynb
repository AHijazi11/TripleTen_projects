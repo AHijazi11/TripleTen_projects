{
 "cells": [
  {
   "cell_type": "markdown",
   "metadata": {},
   "source": [
    "## Preparation"
   ]
  },
  {
   "cell_type": "code",
   "execution_count": 1,
   "metadata": {},
   "outputs": [],
   "source": [
    "import pandas as pd\n",
    "import numpy as np\n",
    "import matplotlib.pyplot as plt\n",
    "from sklearn.linear_model import LinearRegression\n",
    "from sklearn.ensemble import RandomForestRegressor\n",
    "from sklearn.tree import DecisionTreeRegressor\n",
    "from catboost import CatBoostRegressor\n",
    "from sklearn.model_selection import train_test_split\n",
    "from sklearn.metrics import mean_squared_error\n",
    "from statsmodels.tsa.seasonal import seasonal_decompose"
   ]
  },
  {
   "cell_type": "code",
   "execution_count": 2,
   "metadata": {},
   "outputs": [],
   "source": [
    "# Import csv data of taxi orders\n",
    "data = pd.read_csv(\n",
    "    './taxi.csv', index_col=[0], parse_dates=[0]\n",
    ")\n",
    "data.sort_index(inplace=True)"
   ]
  },
  {
   "cell_type": "code",
   "execution_count": 3,
   "metadata": {},
   "outputs": [
    {
     "data": {
      "text/html": [
       "<div>\n",
       "<style scoped>\n",
       "    .dataframe tbody tr th:only-of-type {\n",
       "        vertical-align: middle;\n",
       "    }\n",
       "\n",
       "    .dataframe tbody tr th {\n",
       "        vertical-align: top;\n",
       "    }\n",
       "\n",
       "    .dataframe thead th {\n",
       "        text-align: right;\n",
       "    }\n",
       "</style>\n",
       "<table border=\"1\" class=\"dataframe\">\n",
       "  <thead>\n",
       "    <tr style=\"text-align: right;\">\n",
       "      <th></th>\n",
       "      <th>num_orders</th>\n",
       "    </tr>\n",
       "    <tr>\n",
       "      <th>datetime</th>\n",
       "      <th></th>\n",
       "    </tr>\n",
       "  </thead>\n",
       "  <tbody>\n",
       "    <tr>\n",
       "      <th>2018-03-01 00:00:00</th>\n",
       "      <td>9</td>\n",
       "    </tr>\n",
       "    <tr>\n",
       "      <th>2018-03-01 00:10:00</th>\n",
       "      <td>14</td>\n",
       "    </tr>\n",
       "    <tr>\n",
       "      <th>2018-03-01 00:20:00</th>\n",
       "      <td>28</td>\n",
       "    </tr>\n",
       "    <tr>\n",
       "      <th>2018-03-01 00:30:00</th>\n",
       "      <td>20</td>\n",
       "    </tr>\n",
       "    <tr>\n",
       "      <th>2018-03-01 00:40:00</th>\n",
       "      <td>32</td>\n",
       "    </tr>\n",
       "  </tbody>\n",
       "</table>\n",
       "</div>"
      ],
      "text/plain": [
       "                     num_orders\n",
       "datetime                       \n",
       "2018-03-01 00:00:00           9\n",
       "2018-03-01 00:10:00          14\n",
       "2018-03-01 00:20:00          28\n",
       "2018-03-01 00:30:00          20\n",
       "2018-03-01 00:40:00          32"
      ]
     },
     "execution_count": 3,
     "metadata": {},
     "output_type": "execute_result"
    }
   ],
   "source": [
    "data.head()"
   ]
  },
  {
   "cell_type": "code",
   "execution_count": 4,
   "metadata": {},
   "outputs": [
    {
     "data": {
      "text/html": [
       "<div>\n",
       "<style scoped>\n",
       "    .dataframe tbody tr th:only-of-type {\n",
       "        vertical-align: middle;\n",
       "    }\n",
       "\n",
       "    .dataframe tbody tr th {\n",
       "        vertical-align: top;\n",
       "    }\n",
       "\n",
       "    .dataframe thead th {\n",
       "        text-align: right;\n",
       "    }\n",
       "</style>\n",
       "<table border=\"1\" class=\"dataframe\">\n",
       "  <thead>\n",
       "    <tr style=\"text-align: right;\">\n",
       "      <th></th>\n",
       "      <th>num_orders</th>\n",
       "    </tr>\n",
       "    <tr>\n",
       "      <th>datetime</th>\n",
       "      <th></th>\n",
       "    </tr>\n",
       "  </thead>\n",
       "  <tbody>\n",
       "    <tr>\n",
       "      <th>2018-08-31 23:10:00</th>\n",
       "      <td>32</td>\n",
       "    </tr>\n",
       "    <tr>\n",
       "      <th>2018-08-31 23:20:00</th>\n",
       "      <td>24</td>\n",
       "    </tr>\n",
       "    <tr>\n",
       "      <th>2018-08-31 23:30:00</th>\n",
       "      <td>27</td>\n",
       "    </tr>\n",
       "    <tr>\n",
       "      <th>2018-08-31 23:40:00</th>\n",
       "      <td>39</td>\n",
       "    </tr>\n",
       "    <tr>\n",
       "      <th>2018-08-31 23:50:00</th>\n",
       "      <td>53</td>\n",
       "    </tr>\n",
       "  </tbody>\n",
       "</table>\n",
       "</div>"
      ],
      "text/plain": [
       "                     num_orders\n",
       "datetime                       \n",
       "2018-08-31 23:10:00          32\n",
       "2018-08-31 23:20:00          24\n",
       "2018-08-31 23:30:00          27\n",
       "2018-08-31 23:40:00          39\n",
       "2018-08-31 23:50:00          53"
      ]
     },
     "execution_count": 4,
     "metadata": {},
     "output_type": "execute_result"
    }
   ],
   "source": [
    "data.tail()"
   ]
  },
  {
   "cell_type": "code",
   "execution_count": 5,
   "metadata": {},
   "outputs": [],
   "source": [
    "data = data.resample(\"1H\").sum()"
   ]
  },
  {
   "cell_type": "code",
   "execution_count": 6,
   "metadata": {},
   "outputs": [
    {
     "name": "stdout",
     "output_type": "stream",
     "text": [
      "<class 'pandas.core.frame.DataFrame'>\n",
      "DatetimeIndex: 4416 entries, 2018-03-01 00:00:00 to 2018-08-31 23:00:00\n",
      "Freq: H\n",
      "Data columns (total 1 columns):\n",
      " #   Column      Non-Null Count  Dtype\n",
      "---  ------      --------------  -----\n",
      " 0   num_orders  4416 non-null   int64\n",
      "dtypes: int64(1)\n",
      "memory usage: 69.0 KB\n"
     ]
    }
   ],
   "source": [
    "data.info()"
   ]
  },
  {
   "cell_type": "code",
   "execution_count": 7,
   "metadata": {},
   "outputs": [
    {
     "data": {
      "image/png": "[encoded data removed]",
      "text/plain": [
       "<Figure size 576x576 with 3 Axes>"
      ]
     },
     "metadata": {
      "needs_background": "light"
     },
     "output_type": "display_data"
    }
   ],
   "source": [
    "# Use seasonal_decompose to breakdown the time series into trend, seasonality, and residual components and plot them\n",
    "decomposed = seasonal_decompose(data)\n",
    "\n",
    "plt.figure(figsize=(8, 8))\n",
    "\n",
    "plt.subplot(311)\n",
    "decomposed.trend.plot(ax=plt.gca())\n",
    "plt.title('Trend')\n",
    "plt.subplot(312)\n",
    "decomposed.seasonal.plot(ax=plt.gca())\n",
    "plt.title('Seasonality')\n",
    "plt.subplot(313)\n",
    "decomposed.resid.plot(ax=plt.gca())\n",
    "plt.title('Residuals')\n",
    "\n",
    "plt.tight_layout()"
   ]
  },
  {
   "cell_type": "code",
   "execution_count": 8,
   "metadata": {},
   "outputs": [
    {
     "data": {
      "image/png": "[encoded data removed]",
      "text/plain": [
       "<Figure size 432x288 with 1 Axes>"
      ]
     },
     "metadata": {
      "needs_background": "light"
     },
     "output_type": "display_data"
    }
   ],
   "source": [
    "# Rolling mean plot, window is 24 hours\n",
    "data.rolling(24).mean().plot()\n",
    "plt.show()"
   ]
  },
  {
   "cell_type": "code",
   "execution_count": 9,
   "metadata": {},
   "outputs": [
    {
     "data": {
      "image/png": "[encoded data removed]",
      "text/plain": [
       "<Figure size 432x288 with 1 Axes>"
      ]
     },
     "metadata": {
      "needs_background": "light"
     },
     "output_type": "display_data"
    }
   ],
   "source": [
    "# Rolling std plot, window is 24 hours\n",
    "data.rolling(24).std().plot()\n",
    "plt.show()"
   ]
  },
  {
   "cell_type": "markdown",
   "metadata": {},
   "source": [
    "Data is from March 1st 2018 to August 31st 2018 and shows number of taxi orders by hour. There are no missing values. This time series is non-stationary since the rolling mean and std trend up over time."
   ]
  },
  {
   "cell_type": "markdown",
   "metadata": {},
   "source": [
    "As shown in the decomposed plots and rolling mean plot, there's a clear trend, an increase in the hourly orders from May to August. Variation in number of hourly orders also increases from mid July to end of August."
   ]
  },
  {
   "cell_type": "markdown",
   "metadata": {},
   "source": [
    "## Analysis"
   ]
  },
  {
   "cell_type": "code",
   "execution_count": 10,
   "metadata": {},
   "outputs": [],
   "source": [
    "# Function to create calendar, lag, and rolling mean features to be used in machine learning model\n",
    "\n",
    "def make_features(data, max_lag, rolling_mean_size):\n",
    "    data['month'] = data.index.month\n",
    "    data['day'] = data.index.day\n",
    "    data['dayofweek'] = data.index.dayofweek\n",
    "    data['hour'] = data.index.hour\n",
    "\n",
    "    for lag in range(1, max_lag + 1):\n",
    "        data['lag_{}'.format(lag)] = data['num_orders'].shift(lag)\n",
    "\n",
    "    data['rolling_mean'] = (\n",
    "        data['num_orders'].shift().rolling(rolling_mean_size).mean()\n",
    "    )"
   ]
  },
  {
   "cell_type": "code",
   "execution_count": 11,
   "metadata": {},
   "outputs": [],
   "source": [
    "# Create features using make_features() function \n",
    "make_features(data, 168, 168)"
   ]
  },
  {
   "cell_type": "markdown",
   "metadata": {},
   "source": [
    "After testing different models with different features, lag and rolling mean of 168 hours (7 days) reduces overfitting and improves model RMSE performance to meet goal."
   ]
  },
  {
   "cell_type": "code",
   "execution_count": 12,
   "metadata": {},
   "outputs": [
    {
     "data": {
      "text/html": [
       "<div>\n",
       "<style scoped>\n",
       "    .dataframe tbody tr th:only-of-type {\n",
       "        vertical-align: middle;\n",
       "    }\n",
       "\n",
       "    .dataframe tbody tr th {\n",
       "        vertical-align: top;\n",
       "    }\n",
       "\n",
       "    .dataframe thead th {\n",
       "        text-align: right;\n",
       "    }\n",
       "</style>\n",
       "<table border=\"1\" class=\"dataframe\">\n",
       "  <thead>\n",
       "    <tr style=\"text-align: right;\">\n",
       "      <th></th>\n",
       "      <th>num_orders</th>\n",
       "      <th>month</th>\n",
       "      <th>day</th>\n",
       "      <th>dayofweek</th>\n",
       "      <th>hour</th>\n",
       "      <th>lag_1</th>\n",
       "      <th>lag_2</th>\n",
       "      <th>lag_3</th>\n",
       "      <th>lag_4</th>\n",
       "      <th>lag_5</th>\n",
       "      <th>...</th>\n",
       "      <th>lag_160</th>\n",
       "      <th>lag_161</th>\n",
       "      <th>lag_162</th>\n",
       "      <th>lag_163</th>\n",
       "      <th>lag_164</th>\n",
       "      <th>lag_165</th>\n",
       "      <th>lag_166</th>\n",
       "      <th>lag_167</th>\n",
       "      <th>lag_168</th>\n",
       "      <th>rolling_mean</th>\n",
       "    </tr>\n",
       "    <tr>\n",
       "      <th>datetime</th>\n",
       "      <th></th>\n",
       "      <th></th>\n",
       "      <th></th>\n",
       "      <th></th>\n",
       "      <th></th>\n",
       "      <th></th>\n",
       "      <th></th>\n",
       "      <th></th>\n",
       "      <th></th>\n",
       "      <th></th>\n",
       "      <th></th>\n",
       "      <th></th>\n",
       "      <th></th>\n",
       "      <th></th>\n",
       "      <th></th>\n",
       "      <th></th>\n",
       "      <th></th>\n",
       "      <th></th>\n",
       "      <th></th>\n",
       "      <th></th>\n",
       "      <th></th>\n",
       "    </tr>\n",
       "  </thead>\n",
       "  <tbody>\n",
       "    <tr>\n",
       "      <th>2018-03-01 00:00:00</th>\n",
       "      <td>124</td>\n",
       "      <td>3</td>\n",
       "      <td>1</td>\n",
       "      <td>3</td>\n",
       "      <td>0</td>\n",
       "      <td>NaN</td>\n",
       "      <td>NaN</td>\n",
       "      <td>NaN</td>\n",
       "      <td>NaN</td>\n",
       "      <td>NaN</td>\n",
       "      <td>...</td>\n",
       "      <td>NaN</td>\n",
       "      <td>NaN</td>\n",
       "      <td>NaN</td>\n",
       "      <td>NaN</td>\n",
       "      <td>NaN</td>\n",
       "      <td>NaN</td>\n",
       "      <td>NaN</td>\n",
       "      <td>NaN</td>\n",
       "      <td>NaN</td>\n",
       "      <td>NaN</td>\n",
       "    </tr>\n",
       "    <tr>\n",
       "      <th>2018-03-01 01:00:00</th>\n",
       "      <td>85</td>\n",
       "      <td>3</td>\n",
       "      <td>1</td>\n",
       "      <td>3</td>\n",
       "      <td>1</td>\n",
       "      <td>124.0</td>\n",
       "      <td>NaN</td>\n",
       "      <td>NaN</td>\n",
       "      <td>NaN</td>\n",
       "      <td>NaN</td>\n",
       "      <td>...</td>\n",
       "      <td>NaN</td>\n",
       "      <td>NaN</td>\n",
       "      <td>NaN</td>\n",
       "      <td>NaN</td>\n",
       "      <td>NaN</td>\n",
       "      <td>NaN</td>\n",
       "      <td>NaN</td>\n",
       "      <td>NaN</td>\n",
       "      <td>NaN</td>\n",
       "      <td>NaN</td>\n",
       "    </tr>\n",
       "    <tr>\n",
       "      <th>2018-03-01 02:00:00</th>\n",
       "      <td>71</td>\n",
       "      <td>3</td>\n",
       "      <td>1</td>\n",
       "      <td>3</td>\n",
       "      <td>2</td>\n",
       "      <td>85.0</td>\n",
       "      <td>124.0</td>\n",
       "      <td>NaN</td>\n",
       "      <td>NaN</td>\n",
       "      <td>NaN</td>\n",
       "      <td>...</td>\n",
       "      <td>NaN</td>\n",
       "      <td>NaN</td>\n",
       "      <td>NaN</td>\n",
       "      <td>NaN</td>\n",
       "      <td>NaN</td>\n",
       "      <td>NaN</td>\n",
       "      <td>NaN</td>\n",
       "      <td>NaN</td>\n",
       "      <td>NaN</td>\n",
       "      <td>NaN</td>\n",
       "    </tr>\n",
       "    <tr>\n",
       "      <th>2018-03-01 03:00:00</th>\n",
       "      <td>66</td>\n",
       "      <td>3</td>\n",
       "      <td>1</td>\n",
       "      <td>3</td>\n",
       "      <td>3</td>\n",
       "      <td>71.0</td>\n",
       "      <td>85.0</td>\n",
       "      <td>124.0</td>\n",
       "      <td>NaN</td>\n",
       "      <td>NaN</td>\n",
       "      <td>...</td>\n",
       "      <td>NaN</td>\n",
       "      <td>NaN</td>\n",
       "      <td>NaN</td>\n",
       "      <td>NaN</td>\n",
       "      <td>NaN</td>\n",
       "      <td>NaN</td>\n",
       "      <td>NaN</td>\n",
       "      <td>NaN</td>\n",
       "      <td>NaN</td>\n",
       "      <td>NaN</td>\n",
       "    </tr>\n",
       "    <tr>\n",
       "      <th>2018-03-01 04:00:00</th>\n",
       "      <td>43</td>\n",
       "      <td>3</td>\n",
       "      <td>1</td>\n",
       "      <td>3</td>\n",
       "      <td>4</td>\n",
       "      <td>66.0</td>\n",
       "      <td>71.0</td>\n",
       "      <td>85.0</td>\n",
       "      <td>124.0</td>\n",
       "      <td>NaN</td>\n",
       "      <td>...</td>\n",
       "      <td>NaN</td>\n",
       "      <td>NaN</td>\n",
       "      <td>NaN</td>\n",
       "      <td>NaN</td>\n",
       "      <td>NaN</td>\n",
       "      <td>NaN</td>\n",
       "      <td>NaN</td>\n",
       "      <td>NaN</td>\n",
       "      <td>NaN</td>\n",
       "      <td>NaN</td>\n",
       "    </tr>\n",
       "  </tbody>\n",
       "</table>\n",
       "<p>5 rows × 174 columns</p>\n",
       "</div>"
      ],
      "text/plain": [
       "                     num_orders  month  day  dayofweek  hour  lag_1  lag_2  \\\n",
       "datetime                                                                     \n",
       "2018-03-01 00:00:00         124      3    1          3     0    NaN    NaN   \n",
       "2018-03-01 01:00:00          85      3    1          3     1  124.0    NaN   \n",
       "2018-03-01 02:00:00          71      3    1          3     2   85.0  124.0   \n",
       "2018-03-01 03:00:00          66      3    1          3     3   71.0   85.0   \n",
       "2018-03-01 04:00:00          43      3    1          3     4   66.0   71.0   \n",
       "\n",
       "                     lag_3  lag_4  lag_5  ...  lag_160  lag_161  lag_162  \\\n",
       "datetime                                  ...                              \n",
       "2018-03-01 00:00:00    NaN    NaN    NaN  ...      NaN      NaN      NaN   \n",
       "2018-03-01 01:00:00    NaN    NaN    NaN  ...      NaN      NaN      NaN   \n",
       "2018-03-01 02:00:00    NaN    NaN    NaN  ...      NaN      NaN      NaN   \n",
       "2018-03-01 03:00:00  124.0    NaN    NaN  ...      NaN      NaN      NaN   \n",
       "2018-03-01 04:00:00   85.0  124.0    NaN  ...      NaN      NaN      NaN   \n",
       "\n",
       "                     lag_163  lag_164  lag_165  lag_166  lag_167  lag_168  \\\n",
       "datetime                                                                    \n",
       "2018-03-01 00:00:00      NaN      NaN      NaN      NaN      NaN      NaN   \n",
       "2018-03-01 01:00:00      NaN      NaN      NaN      NaN      NaN      NaN   \n",
       "2018-03-01 02:00:00      NaN      NaN      NaN      NaN      NaN      NaN   \n",
       "2018-03-01 03:00:00      NaN      NaN      NaN      NaN      NaN      NaN   \n",
       "2018-03-01 04:00:00      NaN      NaN      NaN      NaN      NaN      NaN   \n",
       "\n",
       "                     rolling_mean  \n",
       "datetime                           \n",
       "2018-03-01 00:00:00           NaN  \n",
       "2018-03-01 01:00:00           NaN  \n",
       "2018-03-01 02:00:00           NaN  \n",
       "2018-03-01 03:00:00           NaN  \n",
       "2018-03-01 04:00:00           NaN  \n",
       "\n",
       "[5 rows x 174 columns]"
      ]
     },
     "execution_count": 12,
     "metadata": {},
     "output_type": "execute_result"
    }
   ],
   "source": [
    "# Check the data to ensure features added\n",
    "data.head()"
   ]
  },
  {
   "cell_type": "markdown",
   "metadata": {},
   "source": [
    "## Training"
   ]
  },
  {
   "cell_type": "code",
   "execution_count": 13,
   "metadata": {},
   "outputs": [],
   "source": [
    "# Function to calculate RMSE\n",
    "def rmse(target,prediction):\n",
    "    return mean_squared_error(target,prediction) ** 0.5"
   ]
  },
  {
   "cell_type": "code",
   "execution_count": 14,
   "metadata": {},
   "outputs": [],
   "source": [
    "# Split data into training , combined validation and testing sets at 7:3 ratio\n",
    "train, valid_and_test = train_test_split(data, shuffle=False, test_size=0.3)\n",
    "\n",
    "# Drop null values created from lag and rolling mean features from training set\n",
    "train = train.dropna()\n",
    "features_train = train.drop('num_orders',axis=1)\n",
    "target_train = train['num_orders']\n",
    "\n",
    "# Split validation and test combined set into validation and test at 2:1 ratio\n",
    "valid, test= train_test_split(valid_and_test, shuffle=False, test_size=0.3333)\n",
    "\n",
    "features_valid = valid.drop('num_orders',axis=1)\n",
    "target_valid = valid['num_orders']\n",
    "\n",
    "features_test = test.drop('num_orders',axis=1)\n",
    "target_test = test['num_orders']"
   ]
  },
  {
   "cell_type": "code",
   "execution_count": 15,
   "metadata": {},
   "outputs": [
    {
     "name": "stdout",
     "output_type": "stream",
     "text": [
      "(4416, 174)\n",
      "(2923, 173) (2923,)\n",
      "(883, 173) (883,)\n",
      "(442, 173) (442,)\n"
     ]
    }
   ],
   "source": [
    "print(data.shape)\n",
    "print(features_train.shape, target_train.shape)\n",
    "print(features_valid.shape, target_valid.shape)\n",
    "print(features_test.shape, target_test.shape)"
   ]
  },
  {
   "cell_type": "markdown",
   "metadata": {},
   "source": [
    "Test is 10%, validation is 20%, and train set is 70% of original data set"
   ]
  },
  {
   "cell_type": "markdown",
   "metadata": {},
   "source": [
    "### Linear Regression"
   ]
  },
  {
   "cell_type": "code",
   "execution_count": 16,
   "metadata": {},
   "outputs": [
    {
     "name": "stdout",
     "output_type": "stream",
     "text": [
      "RMSE: 26.727915575245923\n"
     ]
    }
   ],
   "source": [
    "lr = LinearRegression()\n",
    "lr.fit(features_train,target_train)\n",
    "\n",
    "# Use validation set to make predictions and calculate RMSE\n",
    "prediction_valid = lr.predict(features_valid)\n",
    "print('RMSE:', rmse(target_valid,prediction_valid))"
   ]
  },
  {
   "cell_type": "markdown",
   "metadata": {},
   "source": [
    "### Random Forest Regressor"
   ]
  },
  {
   "cell_type": "code",
   "execution_count": 17,
   "metadata": {},
   "outputs": [
    {
     "name": "stdout",
     "output_type": "stream",
     "text": [
      "RMSE: 31.273848340649973\n"
     ]
    }
   ],
   "source": [
    "rf = RandomForestRegressor(n_estimators=5, random_state=12345)\n",
    "rf.fit(features_train,target_train) \n",
    "prediction_valid = rf.predict(features_valid)\n",
    "\n",
    "print('RMSE:', rmse(target_valid,prediction_valid))"
   ]
  },
  {
   "cell_type": "code",
   "execution_count": 18,
   "metadata": {},
   "outputs": [
    {
     "name": "stdout",
     "output_type": "stream",
     "text": [
      "{'n_estimators': 100, 'max_depth': 10}\n"
     ]
    }
   ],
   "source": [
    "# Hyperparameter tuning\n",
    "\n",
    "# Define parameter grid\n",
    "param_grid = {\n",
    "    'n_estimators': [15, 50, 100],\n",
    "    'max_depth': [None, 10, 25]\n",
    "}\n",
    "\n",
    "# Initialize best_score and best_params\n",
    "best_score = np.inf\n",
    "best_params_rf = None\n",
    "\n",
    "# Iterate over the parameter grid\n",
    "for n_estimators in param_grid['n_estimators']:\n",
    "    for max_depth in param_grid['max_depth']:\n",
    "        model = RandomForestRegressor(n_estimators=n_estimators, max_depth=max_depth, random_state=12345)\n",
    "        model.fit(features_train, target_train)\n",
    "        prediction_valid = model.predict(features_valid)\n",
    "        score = rmse(target_valid,prediction_valid)\n",
    "        if score < best_score:\n",
    "            best_score = score\n",
    "            best_params_rf = {'n_estimators': n_estimators, 'max_depth': max_depth}\n",
    "\n",
    "print(best_params_rf)"
   ]
  },
  {
   "cell_type": "markdown",
   "metadata": {},
   "source": [
    "### Decision Tree"
   ]
  },
  {
   "cell_type": "code",
   "execution_count": 19,
   "metadata": {},
   "outputs": [
    {
     "name": "stdout",
     "output_type": "stream",
     "text": [
      "RMSE: 36.99663294648749\n"
     ]
    }
   ],
   "source": [
    "dt = DecisionTreeRegressor(random_state=12345)\n",
    "dt.fit(features_train,target_train) \n",
    "prediction_valid = dt.predict(features_valid)\n",
    "\n",
    "print('RMSE:', rmse(target_valid,prediction_valid))"
   ]
  },
  {
   "cell_type": "code",
   "execution_count": 20,
   "metadata": {},
   "outputs": [
    {
     "name": "stdout",
     "output_type": "stream",
     "text": [
      "{'max_depth': 5}\n"
     ]
    }
   ],
   "source": [
    "# Hyperparameter tuning\n",
    "\n",
    "# Define parameter grid\n",
    "param_grid = {\n",
    "    'max_depth': range(5,100,10)\n",
    "}\n",
    "\n",
    "# Initialize best_score and best_params\n",
    "best_score = np.inf\n",
    "best_params_dt = None\n",
    "\n",
    "# Iterate over the parameter grid\n",
    "for max_depth in param_grid['max_depth']:\n",
    "    model = DecisionTreeRegressor(max_depth=max_depth, random_state=12345)\n",
    "    model.fit(features_train, target_train)\n",
    "    prediction_valid = model.predict(features_valid)\n",
    "    score = rmse(target_valid,prediction_valid)\n",
    "    if score < best_score:\n",
    "        best_score = score\n",
    "        best_params_dt = {'max_depth': max_depth}\n",
    "\n",
    "print(best_params_dt)"
   ]
  },
  {
   "cell_type": "markdown",
   "metadata": {},
   "source": [
    "### CatBoost "
   ]
  },
  {
   "cell_type": "code",
   "execution_count": 21,
   "metadata": {},
   "outputs": [
    {
     "name": "stdout",
     "output_type": "stream",
     "text": [
      "Learning rate set to 0.315341\n",
      "0:\tlearn: 29.0779418\ttotal: 93.4ms\tremaining: 9.25s\n",
      "25:\tlearn: 16.3788977\ttotal: 1.11s\tremaining: 3.15s\n",
      "50:\tlearn: 13.7506047\ttotal: 2.1s\tremaining: 2.02s\n",
      "75:\tlearn: 11.5625909\ttotal: 3.17s\tremaining: 1s\n",
      "99:\tlearn: 9.8564188\ttotal: 4.14s\tremaining: 0us\n",
      "RMSE: 29.636277179786667\n"
     ]
    }
   ],
   "source": [
    "catboost_reg = CatBoostRegressor(iterations=100, random_seed=12345)\n",
    "\n",
    "catboost_reg.fit(features_train, target_train, verbose=25)\n",
    "\n",
    "prediction_valid = catboost_reg.predict(features_valid)\n",
    "\n",
    "print('RMSE:', rmse(target_valid,prediction_valid))"
   ]
  },
  {
   "cell_type": "code",
   "execution_count": 22,
   "metadata": {},
   "outputs": [
    {
     "name": "stdout",
     "output_type": "stream",
     "text": [
      "0:\tlearn: 32.4183599\ttotal: 18.5ms\tremaining: 1.83s\n",
      "50:\tlearn: 18.2997422\ttotal: 842ms\tremaining: 809ms\n",
      "99:\tlearn: 17.0226407\ttotal: 1.63s\tremaining: 0us\n",
      "0:\tlearn: 31.5948220\ttotal: 17.4ms\tremaining: 1.73s\n",
      "50:\tlearn: 17.6556419\ttotal: 841ms\tremaining: 808ms\n",
      "99:\tlearn: 15.9229788\ttotal: 1.62s\tremaining: 0us\n",
      "0:\tlearn: 30.7975494\ttotal: 16.7ms\tremaining: 1.65s\n",
      "50:\tlearn: 17.0525841\ttotal: 836ms\tremaining: 803ms\n",
      "99:\tlearn: 15.0617775\ttotal: 1.63s\tremaining: 0us\n",
      "0:\tlearn: 30.0286339\ttotal: 17.6ms\tremaining: 1.75s\n",
      "50:\tlearn: 16.5319504\ttotal: 826ms\tremaining: 794ms\n",
      "99:\tlearn: 14.2232732\ttotal: 1.6s\tremaining: 0us\n",
      "0:\tlearn: 32.4241653\ttotal: 47.1ms\tremaining: 4.66s\n",
      "50:\tlearn: 17.0954745\ttotal: 2.12s\tremaining: 2.04s\n",
      "99:\tlearn: 15.4406937\ttotal: 4.05s\tremaining: 0us\n",
      "0:\tlearn: 31.6024617\ttotal: 50.3ms\tremaining: 4.98s\n",
      "50:\tlearn: 16.4597456\ttotal: 2.08s\tremaining: 2s\n",
      "99:\tlearn: 13.9684659\ttotal: 4.02s\tremaining: 0us\n",
      "0:\tlearn: 30.8062278\ttotal: 46.1ms\tremaining: 4.57s\n",
      "50:\tlearn: 15.6294873\ttotal: 2.05s\tremaining: 1.97s\n",
      "99:\tlearn: 12.6854733\ttotal: 4.03s\tremaining: 0us\n",
      "0:\tlearn: 30.0374888\ttotal: 53.8ms\tremaining: 5.33s\n",
      "50:\tlearn: 14.7111181\ttotal: 2.07s\tremaining: 1.99s\n",
      "99:\tlearn: 11.3896779\ttotal: 4.03s\tremaining: 0us\n",
      "0:\tlearn: 32.3493034\ttotal: 164ms\tremaining: 16.2s\n",
      "50:\tlearn: 15.8646642\ttotal: 6.26s\tremaining: 6.01s\n",
      "99:\tlearn: 13.4438455\ttotal: 12.2s\tremaining: 0us\n",
      "0:\tlearn: 31.4885145\ttotal: 149ms\tremaining: 14.8s\n",
      "50:\tlearn: 14.7742220\ttotal: 6.24s\tremaining: 5.99s\n",
      "99:\tlearn: 11.0705048\ttotal: 12.2s\tremaining: 0us\n",
      "0:\tlearn: 30.6520963\ttotal: 151ms\tremaining: 14.9s\n",
      "50:\tlearn: 13.8121216\ttotal: 6.17s\tremaining: 5.92s\n",
      "99:\tlearn: 9.4003523\ttotal: 12.2s\tremaining: 0us\n",
      "0:\tlearn: 29.8420980\ttotal: 148ms\tremaining: 14.7s\n",
      "50:\tlearn: 12.6511580\ttotal: 6.19s\tremaining: 5.94s\n",
      "99:\tlearn: 7.9447662\ttotal: 12.1s\tremaining: 0us\n",
      "0:\tlearn: 32.3566579\ttotal: 358ms\tremaining: 35.4s\n",
      "50:\tlearn: 13.3049658\ttotal: 18.7s\tremaining: 18s\n",
      "99:\tlearn: 10.0183985\ttotal: 36.9s\tremaining: 0us\n",
      "0:\tlearn: 31.4952346\ttotal: 369ms\tremaining: 36.5s\n",
      "50:\tlearn: 11.6416231\ttotal: 18.6s\tremaining: 17.9s\n",
      "99:\tlearn: 7.6610180\ttotal: 36.7s\tremaining: 0us\n",
      "0:\tlearn: 30.6549824\ttotal: 386ms\tremaining: 38.2s\n",
      "50:\tlearn: 9.9099526\ttotal: 18.5s\tremaining: 17.8s\n",
      "99:\tlearn: 5.5904559\ttotal: 36.6s\tremaining: 0us\n",
      "0:\tlearn: 29.8376896\ttotal: 348ms\tremaining: 34.4s\n",
      "50:\tlearn: 9.0401279\ttotal: 18.7s\tremaining: 18s\n",
      "99:\tlearn: 4.5412715\ttotal: 36.9s\tremaining: 0us\n",
      "0:\tlearn: 32.4183599\ttotal: 16.1ms\tremaining: 2.4s\n",
      "50:\tlearn: 18.2997422\ttotal: 856ms\tremaining: 1.66s\n",
      "100:\tlearn: 17.0001189\ttotal: 1.72s\tremaining: 833ms\n",
      "149:\tlearn: 15.8250715\ttotal: 2.51s\tremaining: 0us\n",
      "0:\tlearn: 31.5948220\ttotal: 16.2ms\tremaining: 2.41s\n",
      "50:\tlearn: 17.6556419\ttotal: 805ms\tremaining: 1.56s\n",
      "100:\tlearn: 15.8724098\ttotal: 1.58s\tremaining: 767ms\n",
      "149:\tlearn: 14.5939244\ttotal: 2.35s\tremaining: 0us\n",
      "0:\tlearn: 30.7975494\ttotal: 17.1ms\tremaining: 2.55s\n",
      "50:\tlearn: 17.0525841\ttotal: 824ms\tremaining: 1.6s\n",
      "100:\tlearn: 15.0233270\ttotal: 1.66s\tremaining: 803ms\n",
      "149:\tlearn: 13.5297155\ttotal: 2.45s\tremaining: 0us\n",
      "0:\tlearn: 30.0286339\ttotal: 19.8ms\tremaining: 2.95s\n",
      "50:\tlearn: 16.5319504\ttotal: 836ms\tremaining: 1.62s\n",
      "100:\tlearn: 14.1775217\ttotal: 1.63s\tremaining: 791ms\n",
      "149:\tlearn: 12.5758351\ttotal: 2.41s\tremaining: 0us\n",
      "0:\tlearn: 32.4241653\ttotal: 49.4ms\tremaining: 7.35s\n",
      "50:\tlearn: 17.0954745\ttotal: 2.16s\tremaining: 4.19s\n",
      "100:\tlearn: 15.3972705\ttotal: 4.21s\tremaining: 2.04s\n",
      "149:\tlearn: 13.7228153\ttotal: 6.21s\tremaining: 0us\n",
      "0:\tlearn: 31.6024617\ttotal: 57.2ms\tremaining: 8.53s\n",
      "50:\tlearn: 16.4597456\ttotal: 2.1s\tremaining: 4.08s\n",
      "100:\tlearn: 13.9222396\ttotal: 4.08s\tremaining: 1.98s\n",
      "149:\tlearn: 11.7506064\ttotal: 6.05s\tremaining: 0us\n",
      "0:\tlearn: 30.8062278\ttotal: 48.3ms\tremaining: 7.2s\n",
      "50:\tlearn: 15.6294873\ttotal: 2.06s\tremaining: 4s\n",
      "100:\tlearn: 12.6159748\ttotal: 4.06s\tremaining: 1.97s\n",
      "149:\tlearn: 10.3933680\ttotal: 6.02s\tremaining: 0us\n",
      "0:\tlearn: 30.0374888\ttotal: 46.4ms\tremaining: 6.92s\n",
      "50:\tlearn: 14.7111181\ttotal: 2.03s\tremaining: 3.94s\n",
      "100:\tlearn: 11.3090597\ttotal: 4.06s\tremaining: 1.97s\n",
      "149:\tlearn: 8.7910785\ttotal: 6.03s\tremaining: 0us\n",
      "0:\tlearn: 32.3493034\ttotal: 159ms\tremaining: 23.8s\n",
      "50:\tlearn: 15.8646642\ttotal: 6.32s\tremaining: 12.3s\n",
      "100:\tlearn: 13.3997035\ttotal: 12.4s\tremaining: 6.02s\n",
      "149:\tlearn: 11.2123306\ttotal: 18.3s\tremaining: 0us\n",
      "0:\tlearn: 31.4885145\ttotal: 149ms\tremaining: 22.1s\n",
      "50:\tlearn: 14.7742220\ttotal: 6.22s\tremaining: 12.1s\n",
      "100:\tlearn: 10.9509738\ttotal: 12.2s\tremaining: 5.92s\n",
      "149:\tlearn: 8.5996674\ttotal: 18.1s\tremaining: 0us\n",
      "0:\tlearn: 30.6520963\ttotal: 158ms\tremaining: 23.6s\n",
      "50:\tlearn: 13.8121216\ttotal: 6.25s\tremaining: 12.1s\n",
      "100:\tlearn: 9.3299751\ttotal: 12.3s\tremaining: 5.97s\n",
      "149:\tlearn: 6.6938774\ttotal: 18.2s\tremaining: 0us\n",
      "0:\tlearn: 29.8420980\ttotal: 152ms\tremaining: 22.7s\n",
      "50:\tlearn: 12.6511580\ttotal: 6.29s\tremaining: 12.2s\n",
      "100:\tlearn: 7.8503713\ttotal: 12.4s\tremaining: 6s\n",
      "149:\tlearn: 5.4457088\ttotal: 18.3s\tremaining: 0us\n",
      "0:\tlearn: 32.3566579\ttotal: 372ms\tremaining: 55.4s\n",
      "50:\tlearn: 13.3049658\ttotal: 19.7s\tremaining: 38.2s\n",
      "100:\tlearn: 9.9056748\ttotal: 40.3s\tremaining: 19.6s\n",
      "149:\tlearn: 7.3128663\ttotal: 59.2s\tremaining: 0us\n",
      "0:\tlearn: 31.4952346\ttotal: 353ms\tremaining: 52.6s\n",
      "50:\tlearn: 11.6416231\ttotal: 18.6s\tremaining: 36s\n",
      "100:\tlearn: 7.6001526\ttotal: 36.9s\tremaining: 17.9s\n",
      "149:\tlearn: 4.9044678\ttotal: 55.4s\tremaining: 0us\n",
      "0:\tlearn: 30.6549824\ttotal: 376ms\tremaining: 56.1s\n",
      "50:\tlearn: 9.9099526\ttotal: 18.6s\tremaining: 36.2s\n",
      "100:\tlearn: 5.5165182\ttotal: 37s\tremaining: 17.9s\n",
      "149:\tlearn: 3.4637627\ttotal: 55.1s\tremaining: 0us\n",
      "0:\tlearn: 29.8376896\ttotal: 347ms\tremaining: 51.7s\n",
      "50:\tlearn: 9.0401279\ttotal: 18.6s\tremaining: 36.2s\n",
      "100:\tlearn: 4.5364435\ttotal: 37.1s\tremaining: 18s\n",
      "149:\tlearn: 2.3366602\ttotal: 55.2s\tremaining: 0us\n",
      "0:\tlearn: 32.4183599\ttotal: 16.6ms\tremaining: 3.3s\n",
      "50:\tlearn: 18.2997422\ttotal: 827ms\tremaining: 2.42s\n",
      "100:\tlearn: 17.0001189\ttotal: 1.63s\tremaining: 1.6s\n",
      "150:\tlearn: 15.7945300\ttotal: 2.47s\tremaining: 802ms\n",
      "199:\tlearn: 14.8937653\ttotal: 3.27s\tremaining: 0us\n",
      "0:\tlearn: 31.5948220\ttotal: 16.1ms\tremaining: 3.21s\n",
      "50:\tlearn: 17.6556419\ttotal: 815ms\tremaining: 2.38s\n",
      "100:\tlearn: 15.8724098\ttotal: 1.61s\tremaining: 1.58s\n",
      "150:\tlearn: 14.5570645\ttotal: 2.43s\tremaining: 787ms\n",
      "199:\tlearn: 13.4415343\ttotal: 3.2s\tremaining: 0us\n",
      "0:\tlearn: 30.7975494\ttotal: 17.6ms\tremaining: 3.51s\n",
      "50:\tlearn: 17.0525841\ttotal: 835ms\tremaining: 2.44s\n",
      "100:\tlearn: 15.0233270\ttotal: 1.68s\tremaining: 1.64s\n",
      "150:\tlearn: 13.4916750\ttotal: 2.56s\tremaining: 830ms\n",
      "199:\tlearn: 12.0248816\ttotal: 3.35s\tremaining: 0us\n",
      "0:\tlearn: 30.0286339\ttotal: 15.7ms\tremaining: 3.13s\n",
      "50:\tlearn: 16.5319504\ttotal: 846ms\tremaining: 2.47s\n",
      "100:\tlearn: 14.1775217\ttotal: 1.7s\tremaining: 1.66s\n",
      "150:\tlearn: 12.5262174\ttotal: 2.5s\tremaining: 811ms\n",
      "199:\tlearn: 11.1273109\ttotal: 3.28s\tremaining: 0us\n",
      "0:\tlearn: 32.4241653\ttotal: 46.4ms\tremaining: 9.23s\n",
      "50:\tlearn: 17.0954745\ttotal: 2.08s\tremaining: 6.07s\n",
      "100:\tlearn: 15.3972705\ttotal: 4.11s\tremaining: 4.03s\n",
      "150:\tlearn: 13.6806719\ttotal: 6.17s\tremaining: 2s\n",
      "199:\tlearn: 12.2992777\ttotal: 8.19s\tremaining: 0us\n",
      "0:\tlearn: 31.6024617\ttotal: 46.9ms\tremaining: 9.33s\n",
      "50:\tlearn: 16.4597456\ttotal: 2.1s\tremaining: 6.13s\n",
      "100:\tlearn: 13.9222396\ttotal: 4.1s\tremaining: 4.02s\n",
      "150:\tlearn: 11.6881100\ttotal: 6.12s\tremaining: 1.98s\n",
      "199:\tlearn: 10.0827354\ttotal: 8.05s\tremaining: 0us\n",
      "0:\tlearn: 30.8062278\ttotal: 47.6ms\tremaining: 9.48s\n",
      "50:\tlearn: 15.6294873\ttotal: 2.16s\tremaining: 6.31s\n",
      "100:\tlearn: 12.6159748\ttotal: 4.2s\tremaining: 4.12s\n",
      "150:\tlearn: 10.3539190\ttotal: 6.24s\tremaining: 2.02s\n",
      "199:\tlearn: 8.4333454\ttotal: 8.26s\tremaining: 0us\n",
      "0:\tlearn: 30.0374888\ttotal: 46.9ms\tremaining: 9.34s\n",
      "50:\tlearn: 14.7111181\ttotal: 2.06s\tremaining: 6.02s\n",
      "100:\tlearn: 11.3090597\ttotal: 4.08s\tremaining: 4s\n",
      "150:\tlearn: 8.7493103\ttotal: 6.05s\tremaining: 1.96s\n",
      "199:\tlearn: 6.8314667\ttotal: 8.05s\tremaining: 0us\n",
      "0:\tlearn: 32.3493034\ttotal: 169ms\tremaining: 33.7s\n",
      "50:\tlearn: 15.8646642\ttotal: 6.26s\tremaining: 18.3s\n",
      "100:\tlearn: 13.3997035\ttotal: 12.3s\tremaining: 12s\n",
      "150:\tlearn: 11.1766168\ttotal: 18.3s\tremaining: 5.94s\n",
      "199:\tlearn: 9.4306368\ttotal: 24.2s\tremaining: 0us\n",
      "0:\tlearn: 31.4885145\ttotal: 163ms\tremaining: 32.4s\n",
      "50:\tlearn: 14.7742220\ttotal: 6.28s\tremaining: 18.4s\n",
      "100:\tlearn: 10.9509738\ttotal: 12.3s\tremaining: 12.1s\n",
      "150:\tlearn: 8.5487839\ttotal: 18.3s\tremaining: 5.94s\n",
      "199:\tlearn: 6.5181645\ttotal: 24.3s\tremaining: 0us\n",
      "0:\tlearn: 30.6520963\ttotal: 150ms\tremaining: 29.8s\n",
      "50:\tlearn: 13.8121216\ttotal: 6.23s\tremaining: 18.2s\n",
      "100:\tlearn: 9.3299751\ttotal: 12.3s\tremaining: 12s\n",
      "150:\tlearn: 6.6523374\ttotal: 18.3s\tremaining: 5.95s\n",
      "199:\tlearn: 4.8644942\ttotal: 24.3s\tremaining: 0us\n",
      "0:\tlearn: 29.8420980\ttotal: 175ms\tremaining: 34.7s\n",
      "50:\tlearn: 12.6511580\ttotal: 6.3s\tremaining: 18.4s\n",
      "100:\tlearn: 7.8503713\ttotal: 12.5s\tremaining: 12.3s\n",
      "150:\tlearn: 5.3841971\ttotal: 18.6s\tremaining: 6.02s\n",
      "199:\tlearn: 3.6522470\ttotal: 24.5s\tremaining: 0us\n",
      "0:\tlearn: 32.3566579\ttotal: 367ms\tremaining: 1m 13s\n",
      "50:\tlearn: 13.3049658\ttotal: 18.6s\tremaining: 54.4s\n",
      "100:\tlearn: 9.9056748\ttotal: 36.9s\tremaining: 36.2s\n",
      "150:\tlearn: 7.2575519\ttotal: 55.3s\tremaining: 17.9s\n",
      "199:\tlearn: 5.5515220\ttotal: 1m 13s\tremaining: 0us\n",
      "0:\tlearn: 31.4952346\ttotal: 348ms\tremaining: 1m 9s\n",
      "50:\tlearn: 11.6416231\ttotal: 18.5s\tremaining: 54.1s\n",
      "100:\tlearn: 7.6001526\ttotal: 37s\tremaining: 36.2s\n",
      "150:\tlearn: 4.8609591\ttotal: 55.4s\tremaining: 18s\n",
      "199:\tlearn: 3.2939385\ttotal: 1m 13s\tremaining: 0us\n",
      "0:\tlearn: 30.6549824\ttotal: 375ms\tremaining: 1m 14s\n",
      "50:\tlearn: 9.9099526\ttotal: 18.7s\tremaining: 54.7s\n",
      "100:\tlearn: 5.5165182\ttotal: 37.1s\tremaining: 36.4s\n",
      "150:\tlearn: 3.4083217\ttotal: 56.6s\tremaining: 18.4s\n",
      "199:\tlearn: 1.9555135\ttotal: 1m 14s\tremaining: 0us\n",
      "0:\tlearn: 29.8376896\ttotal: 367ms\tremaining: 1m 13s\n",
      "50:\tlearn: 9.0401279\ttotal: 18.6s\tremaining: 54.5s\n",
      "100:\tlearn: 4.5364435\ttotal: 37.1s\tremaining: 36.4s\n",
      "150:\tlearn: 2.2853660\ttotal: 55.7s\tremaining: 18.1s\n",
      "199:\tlearn: 1.0917195\ttotal: 1m 13s\tremaining: 0us\n",
      "{'iterations': 150, 'depth': 4, 'learning_rate': 0.1}\n"
     ]
    }
   ],
   "source": [
    "# Hyperparameter tuning\n",
    "\n",
    "# Define parameter grid\n",
    "param_grid = {\n",
    "    'iterations': [100, 150, 200],\n",
    "    'depth': [4, 6, 8, 10],\n",
    "    'learning_rate': [0.1, 0.15, 0.2, 0.25]\n",
    "}\n",
    "\n",
    "# Initialize best_score and best_params\n",
    "best_score = np.inf\n",
    "best_params_catboost = None\n",
    "\n",
    "# Iterate over the parameter grid\n",
    "for iteration in param_grid['iterations']:\n",
    "    for depth in param_grid['depth']:\n",
    "        for learning_rate in param_grid['learning_rate']:\n",
    "            model = CatBoostRegressor(iterations=iteration, depth=depth, learning_rate=learning_rate, random_seed=12345)\n",
    "            model.fit(features_train, target_train, verbose=50)\n",
    "            prediction_valid = model.predict(features_valid)\n",
    "            score = rmse(target_valid,prediction_valid)\n",
    "            if score < best_score:\n",
    "                best_score = score\n",
    "                best_params_catboost = {'iterations': iteration, 'depth': depth, 'learning_rate': learning_rate}\n",
    "\n",
    "print(best_params_catboost)"
   ]
  },
  {
   "cell_type": "markdown",
   "metadata": {},
   "source": [
    "## Testing"
   ]
  },
  {
   "cell_type": "markdown",
   "metadata": {},
   "source": [
    "### Linear Regression"
   ]
  },
  {
   "cell_type": "code",
   "execution_count": 23,
   "metadata": {},
   "outputs": [
    {
     "name": "stdout",
     "output_type": "stream",
     "text": [
      "RMSE: 38.26976776157354\n"
     ]
    }
   ],
   "source": [
    "prediction_test = lr.predict(features_test)\n",
    "\n",
    "print('RMSE:', rmse(target_test,prediction_test))"
   ]
  },
  {
   "cell_type": "markdown",
   "metadata": {},
   "source": [
    "### Random Forest Regressor"
   ]
  },
  {
   "cell_type": "code",
   "execution_count": 24,
   "metadata": {},
   "outputs": [
    {
     "name": "stdout",
     "output_type": "stream",
     "text": [
      "RMSE: 49.476141173476\n"
     ]
    }
   ],
   "source": [
    "# Random Forest model using best parameters from hypertuning above\n",
    "rf = RandomForestRegressor(**best_params_rf, random_state=12345)\n",
    "rf.fit(features_train,target_train) \n",
    "prediction_test = rf.predict(features_test)\n",
    "\n",
    "print('RMSE:', rmse(target_test,prediction_test))"
   ]
  },
  {
   "cell_type": "markdown",
   "metadata": {},
   "source": [
    "### Decision Tree"
   ]
  },
  {
   "cell_type": "code",
   "execution_count": 25,
   "metadata": {},
   "outputs": [
    {
     "name": "stdout",
     "output_type": "stream",
     "text": [
      "RMSE: 57.43817712498621\n"
     ]
    }
   ],
   "source": [
    "# Decision Tree model using best parameters from hypertuning above\n",
    "\n",
    "dt = DecisionTreeRegressor(**best_params_dt, random_state=12345)\n",
    "dt.fit(features_train,target_train) \n",
    "prediction_test = dt.predict(features_test)\n",
    "\n",
    "print('RMSE:', rmse(target_test,prediction_test))"
   ]
  },
  {
   "cell_type": "markdown",
   "metadata": {},
   "source": [
    "### CatBoost "
   ]
  },
  {
   "cell_type": "code",
   "execution_count": 26,
   "metadata": {
    "scrolled": true
   },
   "outputs": [
    {
     "name": "stdout",
     "output_type": "stream",
     "text": [
      "0:\tlearn: 32.4183599\ttotal: 19.5ms\tremaining: 2.91s\n",
      "50:\tlearn: 18.2997422\ttotal: 831ms\tremaining: 1.61s\n",
      "100:\tlearn: 17.0001189\ttotal: 1.64s\tremaining: 796ms\n",
      "149:\tlearn: 15.8250715\ttotal: 2.43s\tremaining: 0us\n",
      "RMSE: 46.55176284776182\n"
     ]
    }
   ],
   "source": [
    "# CatBoost model using best parameters from hypertuning above\n",
    "\n",
    "catboost_reg = CatBoostRegressor(**best_params_catboost, random_seed=12345)\n",
    "catboost_reg.fit(features_train, target_train, verbose=50)\n",
    "prediction_test = catboost_reg.predict(features_test)\n",
    "\n",
    "print('RMSE:', rmse(target_test,prediction_test))"
   ]
  },
  {
   "cell_type": "markdown",
   "metadata": {},
   "source": [
    "### Sanity Checks"
   ]
  },
  {
   "cell_type": "code",
   "execution_count": 27,
   "metadata": {},
   "outputs": [
    {
     "name": "stdout",
     "output_type": "stream",
     "text": [
      "RMSE: 91.68579534406244\n"
     ]
    }
   ],
   "source": [
    "# Constant median model\n",
    "\n",
    "pred_median = pd.Series(target_train.median(), index=target_test.index)\n",
    "\n",
    "print('RMSE:', rmse(target_test,pred_median))"
   ]
  },
  {
   "cell_type": "code",
   "execution_count": 28,
   "metadata": {},
   "outputs": [
    {
     "name": "stdout",
     "output_type": "stream",
     "text": [
      "RMSE: 58.89896633468297\n"
     ]
    }
   ],
   "source": [
    "# Model that predicts future value from previous value\n",
    "\n",
    "pred_previous = target_test.shift(fill_value=target_train[-1])\n",
    "\n",
    "print('RMSE:', rmse(target_test,pred_previous))"
   ]
  },
  {
   "cell_type": "markdown",
   "metadata": {},
   "source": [
    "## Conclusions:"
   ]
  },
  {
   "cell_type": "markdown",
   "metadata": {},
   "source": [
    "- Taxi hourly orders have seasonality and a clear trend of increasing orders starting from mid April through end of August\n",
    "- Linear regression, Random Forest, Decision Tree, and CatBoost passed sanity checks\n",
    "- Linear regression and CatBoost models meet the RMSE goal of less than 48\n",
    "- Linear regression has the lowest RMSE, as other models are overfitted to the training and validation data, so LR should be used to predict taxi orders for the next hour"
   ]
  }
 ],
 "metadata": {
  "kernelspec": {
   "display_name": "Python 3 (ipykernel)",
   "language": "python",
   "name": "python3"
  },
  "language_info": {
   "codemirror_mode": {
    "name": "ipython",
    "version": 3
   },
   "file_extension": ".py",
   "mimetype": "text/x-python",
   "name": "python",
   "nbconvert_exporter": "python",
   "pygments_lexer": "ipython3",
   "version": "3.9.5"
  },
  "toc": {
   "base_numbering": 1,
   "nav_menu": {},
   "number_sections": true,
   "sideBar": true,
   "skip_h1_title": true,
   "title_cell": "Table of Contents",
   "title_sidebar": "Contents",
   "toc_cell": false,
   "toc_position": {},
   "toc_section_display": true,
   "toc_window_display": false
  }
 },
 "nbformat": 4,
 "nbformat_minor": 2
}
