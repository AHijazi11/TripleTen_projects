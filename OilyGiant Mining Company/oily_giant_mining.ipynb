{
 "cells": [
  {
   "cell_type": "code",
   "execution_count": 1,
   "id": "1dfa958a",
   "metadata": {},
   "outputs": [],
   "source": [
    "import pandas as pd\n",
    "import numpy as np\n",
    "from sklearn.model_selection import train_test_split\n",
    "from sklearn.metrics import mean_squared_error, r2_score\n",
    "from sklearn.linear_model import LinearRegression\n",
    "from sklearn.preprocessing import StandardScaler\n",
    "from sklearn.model_selection import cross_val_score\n",
    "import warnings\n",
    "from pandas.core.common import SettingWithCopyWarning"
   ]
  },
  {
   "cell_type": "code",
   "execution_count": 2,
   "id": "1b594291",
   "metadata": {},
   "outputs": [],
   "source": [
    "# Supress SettingWithCopy warnings\n",
    "warnings.simplefilter(action=\"ignore\", category=SettingWithCopyWarning)"
   ]
  },
  {
   "cell_type": "markdown",
   "id": "c766b5a0",
   "metadata": {},
   "source": [
    "## Import and Explore data:"
   ]
  },
  {
   "cell_type": "code",
   "execution_count": 3,
   "id": "ca326501",
   "metadata": {},
   "outputs": [
    {
     "name": "stdout",
     "output_type": "stream",
     "text": [
      "File(s) not found, please check file path(s) are correct\n"
     ]
    }
   ],
   "source": [
    "# Import data from csv files\n",
    "try:\n",
    "    df_geo_1 = pd.read_csv('./geo_data_0.csv')\n",
    "    df_geo_2 = pd.read_csv('./geo_data_1.csv')\n",
    "    df_geo_3 = pd.read_csv('./geo_data_2.csv')\n",
    "except:\n",
    "    print(\"File(s) not found, please check file path(s) are correct\")"
   ]
  },
  {
   "cell_type": "code",
   "execution_count": 4,
   "id": "d2ff96f8",
   "metadata": {},
   "outputs": [],
   "source": [
    "df_geo_1 = pd.read_csv('/datasets/geo_data_0.csv')\n",
    "df_geo_2 = pd.read_csv('/datasets/geo_data_1.csv')\n",
    "df_geo_3 = pd.read_csv('/datasets/geo_data_2.csv')"
   ]
  },
  {
   "cell_type": "code",
   "execution_count": 5,
   "id": "0e6c667e",
   "metadata": {},
   "outputs": [
    {
     "name": "stdout",
     "output_type": "stream",
     "text": [
      "      id        f0        f1        f2     product\n",
      "0  txEyH  0.705745 -0.497823  1.221170  105.280062\n",
      "1  2acmU  1.334711 -0.340164  4.365080   73.037750\n",
      "2  409Wp  1.022732  0.151990  1.419926   85.265647\n",
      "3  iJLyR -0.032172  0.139033  2.978566  168.620776\n",
      "4  Xdl7t  1.988431  0.155413  4.751769  154.036647\n",
      "      id         f0         f1        f2     product\n",
      "0  kBEdx -15.001348  -8.276000 -0.005876    3.179103\n",
      "1  62mP7  14.272088  -3.475083  0.999183   26.953261\n",
      "2  vyE1P   6.263187  -5.948386  5.001160  134.766305\n",
      "3  KcrkZ -13.081196 -11.506057  4.999415  137.945408\n",
      "4  AHL4O  12.702195  -8.147433  5.004363  134.766305\n",
      "      id        f0        f1        f2     product\n",
      "0  fwXo0 -1.146987  0.963328 -0.828965   27.758673\n",
      "1  WJtFt  0.262778  0.269839 -2.530187   56.069697\n",
      "2  ovLUW  0.194587  0.289035 -5.586433   62.871910\n",
      "3  q6cA6  2.236060 -0.553760  0.930038  114.572842\n",
      "4  WPMUX -0.515993  1.716266  5.899011  149.600746\n"
     ]
    }
   ],
   "source": [
    "df_regions_list = [df_geo_1,df_geo_2,df_geo_3]\n",
    "for df in df_regions_list:\n",
    "    print(df.head(5))"
   ]
  },
  {
   "cell_type": "code",
   "execution_count": 6,
   "id": "f09a4518",
   "metadata": {},
   "outputs": [
    {
     "name": "stdout",
     "output_type": "stream",
     "text": [
      "<class 'pandas.core.frame.DataFrame'>\n",
      "RangeIndex: 100000 entries, 0 to 99999\n",
      "Data columns (total 5 columns):\n",
      " #   Column   Non-Null Count   Dtype  \n",
      "---  ------   --------------   -----  \n",
      " 0   id       100000 non-null  object \n",
      " 1   f0       100000 non-null  float64\n",
      " 2   f1       100000 non-null  float64\n",
      " 3   f2       100000 non-null  float64\n",
      " 4   product  100000 non-null  float64\n",
      "dtypes: float64(4), object(1)\n",
      "memory usage: 3.8+ MB\n",
      "None\n",
      "<class 'pandas.core.frame.DataFrame'>\n",
      "RangeIndex: 100000 entries, 0 to 99999\n",
      "Data columns (total 5 columns):\n",
      " #   Column   Non-Null Count   Dtype  \n",
      "---  ------   --------------   -----  \n",
      " 0   id       100000 non-null  object \n",
      " 1   f0       100000 non-null  float64\n",
      " 2   f1       100000 non-null  float64\n",
      " 3   f2       100000 non-null  float64\n",
      " 4   product  100000 non-null  float64\n",
      "dtypes: float64(4), object(1)\n",
      "memory usage: 3.8+ MB\n",
      "None\n",
      "<class 'pandas.core.frame.DataFrame'>\n",
      "RangeIndex: 100000 entries, 0 to 99999\n",
      "Data columns (total 5 columns):\n",
      " #   Column   Non-Null Count   Dtype  \n",
      "---  ------   --------------   -----  \n",
      " 0   id       100000 non-null  object \n",
      " 1   f0       100000 non-null  float64\n",
      " 2   f1       100000 non-null  float64\n",
      " 3   f2       100000 non-null  float64\n",
      " 4   product  100000 non-null  float64\n",
      "dtypes: float64(4), object(1)\n",
      "memory usage: 3.8+ MB\n",
      "None\n"
     ]
    }
   ],
   "source": [
    "for df in df_regions_list:\n",
    "    print(df.info())"
   ]
  },
  {
   "cell_type": "code",
   "execution_count": 7,
   "id": "8df204df",
   "metadata": {},
   "outputs": [
    {
     "name": "stdout",
     "output_type": "stream",
     "text": [
      "0\n",
      "0\n",
      "0\n"
     ]
    }
   ],
   "source": [
    "# Check for duplicate rows\n",
    "for df in df_regions_list:\n",
    "    print(df.duplicated().sum())"
   ]
  },
  {
   "cell_type": "code",
   "execution_count": 8,
   "id": "46b3202c",
   "metadata": {},
   "outputs": [],
   "source": [
    "# Drop id column for each df\n",
    "for df in df_regions_list:\n",
    "    df.drop('id', axis=1, inplace=True)"
   ]
  },
  {
   "cell_type": "code",
   "execution_count": 9,
   "id": "c4fafca1",
   "metadata": {},
   "outputs": [
    {
     "name": "stdout",
     "output_type": "stream",
     "text": [
      "                  f0             f1             f2        product\n",
      "count  100000.000000  100000.000000  100000.000000  100000.000000\n",
      "mean        0.500419       0.250143       2.502647      92.500000\n",
      "std         0.871832       0.504433       3.248248      44.288691\n",
      "min        -1.408605      -0.848218     -12.088328       0.000000\n",
      "25%        -0.072580      -0.200881       0.287748      56.497507\n",
      "50%         0.502360       0.250252       2.515969      91.849972\n",
      "75%         1.073581       0.700646       4.715088     128.564089\n",
      "max         2.362331       1.343769      16.003790     185.364347\n",
      "                  f0             f1             f2        product\n",
      "count  100000.000000  100000.000000  100000.000000  100000.000000\n",
      "mean        1.141296      -4.796579       2.494541      68.825000\n",
      "std         8.965932       5.119872       1.703572      45.944423\n",
      "min       -31.609576     -26.358598      -0.018144       0.000000\n",
      "25%        -6.298551      -8.267985       1.000021      26.953261\n",
      "50%         1.153055      -4.813172       2.011479      57.085625\n",
      "75%         8.621015      -1.332816       3.999904     107.813044\n",
      "max        29.421755      18.734063       5.019721     137.945408\n",
      "                  f0             f1             f2        product\n",
      "count  100000.000000  100000.000000  100000.000000  100000.000000\n",
      "mean        0.002023      -0.002081       2.495128      95.000000\n",
      "std         1.732045       1.730417       3.473445      44.749921\n",
      "min        -8.760004      -7.084020     -11.970335       0.000000\n",
      "25%        -1.162288      -1.174820       0.130359      59.450441\n",
      "50%         0.009424      -0.009482       2.484236      94.925613\n",
      "75%         1.158535       1.163678       4.858794     130.595027\n",
      "max         7.238262       7.844801      16.739402     190.029838\n"
     ]
    }
   ],
   "source": [
    "# Get basic stats for each region\n",
    "for df in df_regions_list:\n",
    "    print(df.describe())"
   ]
  },
  {
   "cell_type": "markdown",
   "id": "bf9ad5dc",
   "metadata": {},
   "source": [
    "## Splitting Data and Model Training:"
   ]
  },
  {
   "cell_type": "code",
   "execution_count": 10,
   "id": "0f6feb80",
   "metadata": {
    "scrolled": false
   },
   "outputs": [
    {
     "name": "stdout",
     "output_type": "stream",
     "text": [
      "Region 1 :\n",
      "Average predicted volume: 92.59256778438035\n",
      "MSE = 1412.2129364399243\n",
      "RMSE: 37.5794217150813\n",
      "R2 = 0.27994321524487786\n",
      "Average model evaluation score: 0.27547024205606097\n",
      "\n",
      "Region 2 :\n",
      "Average predicted volume: 68.728546895446\n",
      "MSE = 0.7976263360391157\n",
      "RMSE: 0.893099286775617\n",
      "R2 = 0.9996233978805127\n",
      "Average model evaluation score: 0.9996243430392981\n",
      "\n",
      "Region 3 :\n",
      "Average predicted volume: 94.96504596800489\n",
      "MSE = 1602.3775813236196\n",
      "RMSE: 40.02970873393434\n",
      "R2 = 0.20524758386040443\n",
      "Average model evaluation score: 0.19867018805197603\n",
      "\n"
     ]
    }
   ],
   "source": [
    "features_valid_all = pd.DataFrame(dtype='float64')\n",
    "predictions_valid_all = pd.Series(dtype='float64')\n",
    "target_valid_all = pd.Series(dtype='float64')\n",
    "\n",
    "for region_index in range(len(df_regions_list)):\n",
    "    \n",
    "    df = df_regions_list[region_index]\n",
    "    \n",
    "    # Define feature and target\n",
    "    features = df.drop(['product'], axis=1)\n",
    "    target = df['product']\n",
    "    \n",
    "    # Use train_test_split() to split dataset into 75% training, 25% for validation\n",
    "    features_train, features_valid, target_train, target_valid = train_test_split(features, target, test_size=0.25, random_state=12345)\n",
    "    \n",
    "    # Scale numerical columns using sklearn StandardScaler\n",
    "    numeric_cols = ['f0', 'f1','f2']\n",
    "    scaler = StandardScaler()\n",
    "    scaler.fit(features_train[numeric_cols])\n",
    "    features_train[numeric_cols] = scaler.transform(features_train[numeric_cols])\n",
    "    features_valid[numeric_cols] = scaler.transform(features_valid[numeric_cols])\n",
    "    \n",
    "    # Train linear regression model\n",
    "    model = LinearRegression()\n",
    "    model.fit(features_train,target_train) # train model on training set\n",
    "    predictions_valid = model.predict(features_valid) # get model predictions on validation set\n",
    "    mse = mean_squared_error(target_valid, predictions_valid)\n",
    "    \n",
    "    # Save features, predictions, and targets for validation sets for future use\n",
    "    features_valid_all = pd.concat([features_valid_all, features_valid], ignore_index=True)\n",
    "    predictions_valid_all = pd.concat([predictions_valid_all, pd.Series(predictions_valid)], ignore_index=True)\n",
    "    target_valid_all = pd.concat([target_valid_all, target_valid], ignore_index=True)\n",
    "    \n",
    "    print(\"Region\",region_index+1, \":\")\n",
    "    print('Average predicted volume:', np.mean(predictions_valid))\n",
    "    print('MSE =', mse)\n",
    "    print('RMSE:', mse**0.5)\n",
    "    print('R2 =', r2_score(target_valid,predictions_valid))\n",
    "    \n",
    "    # Cross-validation of model using 10 blocks\n",
    "    scores = cross_val_score(model, features, target, cv=10)\n",
    "    final_score = np.mean(scores)\n",
    "    print('Average model evaluation score:', final_score)\n",
    "    \n",
    "    print('')"
   ]
  },
  {
   "cell_type": "markdown",
   "id": "52110645",
   "metadata": {},
   "source": [
    "The trained linear regression model performs best for region 2 with a low RMSE and an almost perfect R2 score. The average predicted well volume is close to the actual average volume for each region. The highest predicted average is for region 3, region 1 follows closely, while region 2 is significantly lower. \n",
    "\n",
    "Cross-validation of each model doesn't show any significant difference from initial result."
   ]
  },
  {
   "cell_type": "markdown",
   "id": "5fd17dea",
   "metadata": {},
   "source": [
    "## Profit Calculation:"
   ]
  },
  {
   "cell_type": "markdown",
   "id": "97822eba",
   "metadata": {},
   "source": [
    "### Key Values:"
   ]
  },
  {
   "cell_type": "code",
   "execution_count": 11,
   "id": "39f9b48d",
   "metadata": {},
   "outputs": [
    {
     "data": {
      "text/plain": [
       "111.11111111111111"
      ]
     },
     "execution_count": 11,
     "metadata": {},
     "output_type": "execute_result"
    }
   ],
   "source": [
    "# Budget for development of 200 oil wells is 100 USD million\n",
    "budget = 100000000\n",
    "# Revenue from one unit of product is 4,500 dollars (volume of reserves is in thousand barrels)\n",
    "revenue_per_product_unit = 4500\n",
    "\n",
    "budget_per_point = budget / 200\n",
    "\n",
    "breakeven_volume_of_reserves = budget_per_point / revenue_per_product_unit\n",
    "\n",
    "breakeven_volume_of_reserves"
   ]
  },
  {
   "cell_type": "markdown",
   "id": "8bfd137c",
   "metadata": {},
   "source": [
    "Minimum volume of well to be profitable is ~111,000 barrels, which is higher than the average predicted well volume for all regions"
   ]
  },
  {
   "cell_type": "markdown",
   "id": "545cda0c",
   "metadata": {},
   "source": [
    "### Profit Calculation Function:"
   ]
  },
  {
   "cell_type": "code",
   "execution_count": 12,
   "id": "2a4f36fa",
   "metadata": {},
   "outputs": [],
   "source": [
    "# Function that takes a list of well features to calculate potential profits using trained model predictions\n",
    "def calculate_profit_for_well_list(wells):\n",
    "    # initialize revenue\n",
    "    revenue = 0\n",
    "    wells_indeces = wells.index\n",
    "    predicted_wells_volumes = predictions_valid_all[wells_indeces]\n",
    "    predicted_wells_volumes_sorted = predicted_wells_volumes.sort_values(ascending=False)\n",
    "    predicted_wells_volumes_top_200 = predicted_wells_volumes_sorted.head(200)\n",
    "    for index, value in predicted_wells_volumes_top_200.iteritems():\n",
    "        revenue+= target_valid_all[index]*revenue_per_product_unit\n",
    "    profit = revenue - budget\n",
    "    return int(profit)"
   ]
  },
  {
   "cell_type": "code",
   "execution_count": 13,
   "id": "4a784594",
   "metadata": {},
   "outputs": [],
   "source": [
    "# Function that takes region and random_state value to calculate profits from a sample of 500 points from validation set\n",
    "def calculate_profit_for_wells_by_region(region_id, state):\n",
    "    # Each region validation set contains 25000 rows, so we iterate through 25000 rows from dataframe containing all validation features\n",
    "    step = int(features_valid_all.shape[0]/3)\n",
    "    \n",
    "    if region_id == 1:\n",
    "        df = features_valid_all[0:step]\n",
    "    elif region_id == 2: \n",
    "        df = features_valid_all[step:step*2]\n",
    "    elif region_id == 3:    \n",
    "        df = features_valid_all[step*2:step*3]\n",
    "    \n",
    "    # Pick 500 points for well exploration\n",
    "    wells = df.sample(500, replace=True, random_state = state)    \n",
    "    \n",
    "    # Use calculate_profit_for_well_list() to calculate profits from wells with 200 highest predicted values from model\n",
    "    return calculate_profit_for_well_list(wells)    "
   ]
  },
  {
   "cell_type": "code",
   "execution_count": 14,
   "id": "658ca30d",
   "metadata": {},
   "outputs": [
    {
     "name": "stdout",
     "output_type": "stream",
     "text": [
      "Region 1 : $ 6054640\n",
      "Region 2 : $ 2280161\n",
      "Region 3 : $ -718992\n"
     ]
    }
   ],
   "source": [
    "state = 12345\n",
    "\n",
    "# Calculate profits for each region\n",
    "for region in range(1,4):\n",
    "    print(\"Region\",region,\": $\", calculate_profit_for_wells_by_region(region, state))      "
   ]
  },
  {
   "cell_type": "markdown",
   "id": "0b1fecd3",
   "metadata": {},
   "source": [
    "For random_state = 12345, region 1 has the most profit, but this is insufficient to decide which region is best"
   ]
  },
  {
   "cell_type": "code",
   "execution_count": 18,
   "id": "ed8e0099",
   "metadata": {},
   "outputs": [
    {
     "name": "stdout",
     "output_type": "stream",
     "text": [
      "Counter({2: 398, 1: 302, 3: 300})\n",
      "\n",
      "Region with the highest profit simulations: 2 (Simulations with highest profit: 398)\n"
     ]
    }
   ],
   "source": [
    "from collections import Counter\n",
    "\n",
    "state = np.random.RandomState(12345)\n",
    "\n",
    "# Run this calculation 1000 times and count how many times the region with the highest profit repeats\n",
    "region_id_with_highest_profit_all_iterations = []\n",
    "for iteration in range(1000):\n",
    "    regions_profits = []\n",
    "    for region in range(1,4):\n",
    "        regions_profits.append(calculate_profit_for_wells_by_region(region, state))\n",
    "    max_index = np.argmax(regions_profits)\n",
    "    region_id_highest_profit = max_index + 1\n",
    "    region_id_with_highest_profit_all_iterations.append(region_id_highest_profit)\n",
    "\n",
    "counts = Counter(region_id_with_highest_profit_all_iterations)\n",
    "print(counts)\n",
    "most_common_value, count = counts.most_common(1)[0]\n",
    "print(f\"\\nRegion with the highest profit simulations: {most_common_value} (Simulations with highest profit: {count})\")"
   ]
  },
  {
   "cell_type": "markdown",
   "id": "ee25ef40",
   "metadata": {},
   "source": [
    "Region 2 consistenly has the highest chance of profit"
   ]
  },
  {
   "cell_type": "markdown",
   "id": "e9369fa1",
   "metadata": {},
   "source": [
    "## Risk and Profit by Region:"
   ]
  },
  {
   "cell_type": "code",
   "execution_count": 19,
   "id": "743dfd52",
   "metadata": {},
   "outputs": [
    {
     "name": "stdout",
     "output_type": "stream",
     "text": [
      "Region 1 :\n",
      "Average profit:$ 3961649\n",
      "95% confidence interval: ($-1112155, $9097669)\n",
      "% of iterations resulting in loss: 6.9\n",
      "\n",
      "Region 2 :\n",
      "Average profit:$ 4611557\n",
      "95% confidence interval: ($780507, $8629520)\n",
      "% of iterations resulting in loss: 0.7000000000000001\n",
      "\n",
      "Region 3 :\n",
      "Average profit:$ 3929504\n",
      "95% confidence interval: ($-1122275, $9345628)\n",
      "% of iterations resulting in loss: 6.5\n",
      "\n"
     ]
    }
   ],
   "source": [
    "state = np.random.RandomState(12345)\n",
    "\n",
    "for region in range(1,4):\n",
    "    values = []\n",
    "    for i in range(1000):\n",
    "        subsample_profit = calculate_profit_for_wells_by_region(region, state)\n",
    "        values.append(subsample_profit)\n",
    "\n",
    "    values = pd.Series(values)\n",
    "    lower = int(values.quantile(0.025))\n",
    "    upper = int(values.quantile(0.975))\n",
    "    mean = int(values.mean())\n",
    "    \n",
    "    print(\"Region\",region, \":\")\n",
    "    print(\"Average profit:$\", mean)\n",
    "    print(f\"95% confidence interval: (${lower}, ${upper})\")\n",
    "    print(\"% of iterations resulting in loss:\", sum(values < 0)/len(values)*100)\n",
    "    print()"
   ]
  },
  {
   "cell_type": "markdown",
   "id": "450a5135",
   "metadata": {},
   "source": [
    "## Conclusion:"
   ]
  },
  {
   "cell_type": "markdown",
   "id": "f36c089b",
   "metadata": {},
   "source": [
    "Only region 2 has chance of loss less than 2.5% and it also has the highest average profit, so region 2 is recommended for further exploration."
   ]
  }
 ],
 "metadata": {
  "kernelspec": {
   "display_name": "Python 3 (ipykernel)",
   "language": "python",
   "name": "python3"
  },
  "language_info": {
   "codemirror_mode": {
    "name": "ipython",
    "version": 3
   },
   "file_extension": ".py",
   "mimetype": "text/x-python",
   "name": "python",
   "nbconvert_exporter": "python",
   "pygments_lexer": "ipython3",
   "version": "3.9.5"
  },
  "toc": {
   "base_numbering": 1,
   "nav_menu": {},
   "number_sections": true,
   "sideBar": true,
   "skip_h1_title": true,
   "title_cell": "Table of Contents",
   "title_sidebar": "Contents",
   "toc_cell": false,
   "toc_position": {},
   "toc_section_display": true,
   "toc_window_display": false
  }
 },
 "nbformat": 4,
 "nbformat_minor": 5
}
