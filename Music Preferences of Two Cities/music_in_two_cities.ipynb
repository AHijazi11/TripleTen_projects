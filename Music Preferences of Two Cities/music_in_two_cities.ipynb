{
 "cells": [
  {
   "cell_type": "markdown",
   "metadata": {
    "id": "E0vqbgi9ay0H"
   },
   "source": [
    "# Yandex.Music"
   ]
  },
  {
   "cell_type": "markdown",
   "metadata": {
    "id": "fhq_eyov_Zcs"
   },
   "source": [
    "# Contents <a id='back'></a>\n",
    "\n",
    "* [Introduction](#intro)\n",
    "* [Stage 1. Data overview](#data_review)\n",
    "    * [Conclusions](#data_review_conclusions)\n",
    "* [Stage 2. Data preprocessing](#data_preprocessing)\n",
    "    * [2.1 Header style](#header_style)\n",
    "    * [2.2 Missing values](#missing_values)\n",
    "    * [2.3 Duplicates](#duplicates)\n",
    "    * [2.4 Conclusions](#data_preprocessing_conclusions)\n",
    "* [Stage 3. Testing the hypotheses](#hypotheses)\n",
    "    * [3.1 Hypothesis 1: user activity in the two cities](#activity)\n",
    "    * [3.2 Hypothesis 2: music preferences on Monday and Friday](#week)\n",
    "    * [3.3 Hypothesis 3: genre preferences in Springfield and Shelbyville](#genre)\n",
    "* [Findings](#end)"
   ]
  },
  {
   "cell_type": "markdown",
   "metadata": {
    "id": "VUC88oWjTJw2"
   },
   "source": [
    "## Introduction <a id='intro'></a>\n",
    "Whenever we're doing research, we need to formulate hypotheses that we can then test. Sometimes we accept these hypotheses; other times, we reject them. To make the right decisions, a business must be able to understand whether or not it's making the right assumptions.\n",
    "\n",
    "In this project, you'll compare the music preferences of the cities of Springfield and Shelbyville. You'll study real Yandex.Music data to test the hypotheses below and compare user behavior for these two cities.\n",
    "\n",
    "### Goal: \n",
    "Test three hypotheses:\n",
    "1. User activity differs depending on the day of the week and from city to city. \n",
    "2. On Monday mornings, Springfield and Shelbyville residents listen to different genres. This is also true for Friday evenings. \n",
    "3. Springfield and Shelbyville listeners have different preferences. In Springfield, they prefer pop, while Shelbyville has more rap fans.\n",
    "\n",
    "### Stages \n",
    "Data on user behavior is stored in the file `music_project_en.csv`. There is no information about the quality of the data, so you will need to explore it before testing the hypotheses. \n",
    "\n",
    "First, you'll evaluate the quality of the data and see whether its issues are significant. Then, during data preprocessing, you will try to account for the most critical problems.\n",
    " \n",
    "Your project will consist of three stages:\n",
    " 1. Data overview\n",
    " 2. Data preprocessing\n",
    " 3. Testing the hypotheses\n",
    " \n",
    "[Back to Contents](#back)"
   ]
  },
  {
   "cell_type": "markdown",
   "metadata": {
    "id": "Ml1hmfXC_Zcs"
   },
   "source": [
    "## Stage 1. Data overview <a id='data_review'></a>\n",
    "\n",
    "Open the data on Yandex.Music and explore it."
   ]
  },
  {
   "cell_type": "markdown",
   "metadata": {
    "id": "57eAOGIz_Zcs"
   },
   "source": [
    "You'll need `pandas`, so import it."
   ]
  },
  {
   "cell_type": "code",
   "execution_count": 1,
   "metadata": {
    "id": "AXN7PHPN_Zcs"
   },
   "outputs": [],
   "source": [
    "# importing pandas\n",
    "import pandas as pd"
   ]
  },
  {
   "cell_type": "markdown",
   "metadata": {
    "id": "SG23P8tt_Zcs"
   },
   "source": [
    "Read the file `music_project_en.csv` and save it in the `df` variable:"
   ]
  },
  {
   "cell_type": "code",
   "execution_count": 2,
   "metadata": {},
   "outputs": [],
   "source": [
    "# useing read_csv() method from pandas library to import data from csv file\n",
    "df=pd.read_csv('./music_project_en.csv')"
   ]
  },
  {
   "cell_type": "code",
   "execution_count": 3,
   "metadata": {
    "id": "fFVu7vqh_Zct"
   },
   "outputs": [
    {
     "data": {
      "text/html": [
       "<div>\n",
       "<style scoped>\n",
       "    .dataframe tbody tr th:only-of-type {\n",
       "        vertical-align: middle;\n",
       "    }\n",
       "\n",
       "    .dataframe tbody tr th {\n",
       "        vertical-align: top;\n",
       "    }\n",
       "\n",
       "    .dataframe thead th {\n",
       "        text-align: right;\n",
       "    }\n",
       "</style>\n",
       "<table border=\"1\" class=\"dataframe\">\n",
       "  <thead>\n",
       "    <tr style=\"text-align: right;\">\n",
       "      <th></th>\n",
       "      <th>userID</th>\n",
       "      <th>Track</th>\n",
       "      <th>artist</th>\n",
       "      <th>genre</th>\n",
       "      <th>City</th>\n",
       "      <th>time</th>\n",
       "      <th>Day</th>\n",
       "    </tr>\n",
       "  </thead>\n",
       "  <tbody>\n",
       "    <tr>\n",
       "      <th>count</th>\n",
       "      <td>65079</td>\n",
       "      <td>63736</td>\n",
       "      <td>57512</td>\n",
       "      <td>63881</td>\n",
       "      <td>65079</td>\n",
       "      <td>65079</td>\n",
       "      <td>65079</td>\n",
       "    </tr>\n",
       "    <tr>\n",
       "      <th>unique</th>\n",
       "      <td>41748</td>\n",
       "      <td>39666</td>\n",
       "      <td>37806</td>\n",
       "      <td>268</td>\n",
       "      <td>2</td>\n",
       "      <td>20392</td>\n",
       "      <td>3</td>\n",
       "    </tr>\n",
       "    <tr>\n",
       "      <th>top</th>\n",
       "      <td>A8AE9169</td>\n",
       "      <td>Brand</td>\n",
       "      <td>Kartvelli</td>\n",
       "      <td>pop</td>\n",
       "      <td>Springfield</td>\n",
       "      <td>08:14:07</td>\n",
       "      <td>Friday</td>\n",
       "    </tr>\n",
       "    <tr>\n",
       "      <th>freq</th>\n",
       "      <td>76</td>\n",
       "      <td>136</td>\n",
       "      <td>136</td>\n",
       "      <td>8850</td>\n",
       "      <td>45360</td>\n",
       "      <td>14</td>\n",
       "      <td>23149</td>\n",
       "    </tr>\n",
       "  </tbody>\n",
       "</table>\n",
       "</div>"
      ],
      "text/plain": [
       "          userID  Track     artist  genre       City        time     Day\n",
       "count      65079  63736      57512  63881        65079     65079   65079\n",
       "unique     41748  39666      37806    268            2     20392       3\n",
       "top     A8AE9169  Brand  Kartvelli    pop  Springfield  08:14:07  Friday\n",
       "freq          76    136        136   8850        45360        14   23149"
      ]
     },
     "execution_count": 3,
     "metadata": {},
     "output_type": "execute_result"
    }
   ],
   "source": [
    "# reading the file and storing it to df\n",
    "df.describe()"
   ]
  },
  {
   "cell_type": "markdown",
   "metadata": {
    "id": "rDoOMd3uTqnZ"
   },
   "source": [
    "Print the first 10 table rows:"
   ]
  },
  {
   "cell_type": "code",
   "execution_count": 153,
   "metadata": {
    "id": "oWTVX3gW_Zct"
   },
   "outputs": [
    {
     "data": {
      "text/html": [
       "<div>\n",
       "<style scoped>\n",
       "    .dataframe tbody tr th:only-of-type {\n",
       "        vertical-align: middle;\n",
       "    }\n",
       "\n",
       "    .dataframe tbody tr th {\n",
       "        vertical-align: top;\n",
       "    }\n",
       "\n",
       "    .dataframe thead th {\n",
       "        text-align: right;\n",
       "    }\n",
       "</style>\n",
       "<table border=\"1\" class=\"dataframe\">\n",
       "  <thead>\n",
       "    <tr style=\"text-align: right;\">\n",
       "      <th></th>\n",
       "      <th>userID</th>\n",
       "      <th>Track</th>\n",
       "      <th>artist</th>\n",
       "      <th>genre</th>\n",
       "      <th>City</th>\n",
       "      <th>time</th>\n",
       "      <th>Day</th>\n",
       "    </tr>\n",
       "  </thead>\n",
       "  <tbody>\n",
       "    <tr>\n",
       "      <th>0</th>\n",
       "      <td>FFB692EC</td>\n",
       "      <td>Kamigata To Boots</td>\n",
       "      <td>The Mass Missile</td>\n",
       "      <td>rock</td>\n",
       "      <td>Shelbyville</td>\n",
       "      <td>20:28:33</td>\n",
       "      <td>Wednesday</td>\n",
       "    </tr>\n",
       "    <tr>\n",
       "      <th>1</th>\n",
       "      <td>55204538</td>\n",
       "      <td>Delayed Because of Accident</td>\n",
       "      <td>Andreas Rönnberg</td>\n",
       "      <td>rock</td>\n",
       "      <td>Springfield</td>\n",
       "      <td>14:07:09</td>\n",
       "      <td>Friday</td>\n",
       "    </tr>\n",
       "    <tr>\n",
       "      <th>2</th>\n",
       "      <td>20EC38</td>\n",
       "      <td>Funiculì funiculà</td>\n",
       "      <td>Mario Lanza</td>\n",
       "      <td>pop</td>\n",
       "      <td>Shelbyville</td>\n",
       "      <td>20:58:07</td>\n",
       "      <td>Wednesday</td>\n",
       "    </tr>\n",
       "    <tr>\n",
       "      <th>3</th>\n",
       "      <td>A3DD03C9</td>\n",
       "      <td>Dragons in the Sunset</td>\n",
       "      <td>Fire + Ice</td>\n",
       "      <td>folk</td>\n",
       "      <td>Shelbyville</td>\n",
       "      <td>08:37:09</td>\n",
       "      <td>Monday</td>\n",
       "    </tr>\n",
       "    <tr>\n",
       "      <th>4</th>\n",
       "      <td>E2DC1FAE</td>\n",
       "      <td>Soul People</td>\n",
       "      <td>Space Echo</td>\n",
       "      <td>dance</td>\n",
       "      <td>Springfield</td>\n",
       "      <td>08:34:34</td>\n",
       "      <td>Monday</td>\n",
       "    </tr>\n",
       "    <tr>\n",
       "      <th>5</th>\n",
       "      <td>842029A1</td>\n",
       "      <td>Chains</td>\n",
       "      <td>Obladaet</td>\n",
       "      <td>rusrap</td>\n",
       "      <td>Shelbyville</td>\n",
       "      <td>13:09:41</td>\n",
       "      <td>Friday</td>\n",
       "    </tr>\n",
       "    <tr>\n",
       "      <th>6</th>\n",
       "      <td>4CB90AA5</td>\n",
       "      <td>True</td>\n",
       "      <td>Roman Messer</td>\n",
       "      <td>dance</td>\n",
       "      <td>Springfield</td>\n",
       "      <td>13:00:07</td>\n",
       "      <td>Wednesday</td>\n",
       "    </tr>\n",
       "    <tr>\n",
       "      <th>7</th>\n",
       "      <td>F03E1C1F</td>\n",
       "      <td>Feeling This Way</td>\n",
       "      <td>Polina Griffith</td>\n",
       "      <td>dance</td>\n",
       "      <td>Springfield</td>\n",
       "      <td>20:47:49</td>\n",
       "      <td>Wednesday</td>\n",
       "    </tr>\n",
       "    <tr>\n",
       "      <th>8</th>\n",
       "      <td>8FA1D3BE</td>\n",
       "      <td>L’estate</td>\n",
       "      <td>Julia Dalia</td>\n",
       "      <td>ruspop</td>\n",
       "      <td>Springfield</td>\n",
       "      <td>09:17:40</td>\n",
       "      <td>Friday</td>\n",
       "    </tr>\n",
       "    <tr>\n",
       "      <th>9</th>\n",
       "      <td>E772D5C0</td>\n",
       "      <td>Pessimist</td>\n",
       "      <td>NaN</td>\n",
       "      <td>dance</td>\n",
       "      <td>Shelbyville</td>\n",
       "      <td>21:20:49</td>\n",
       "      <td>Wednesday</td>\n",
       "    </tr>\n",
       "  </tbody>\n",
       "</table>\n",
       "</div>"
      ],
      "text/plain": [
       "     userID                        Track            artist   genre  \\\n",
       "0  FFB692EC            Kamigata To Boots  The Mass Missile    rock   \n",
       "1  55204538  Delayed Because of Accident  Andreas Rönnberg    rock   \n",
       "2    20EC38            Funiculì funiculà       Mario Lanza     pop   \n",
       "3  A3DD03C9        Dragons in the Sunset        Fire + Ice    folk   \n",
       "4  E2DC1FAE                  Soul People        Space Echo   dance   \n",
       "5  842029A1                       Chains          Obladaet  rusrap   \n",
       "6  4CB90AA5                         True      Roman Messer   dance   \n",
       "7  F03E1C1F             Feeling This Way   Polina Griffith   dance   \n",
       "8  8FA1D3BE                     L’estate       Julia Dalia  ruspop   \n",
       "9  E772D5C0                    Pessimist               NaN   dance   \n",
       "\n",
       "        City        time        Day  \n",
       "0  Shelbyville  20:28:33  Wednesday  \n",
       "1  Springfield  14:07:09     Friday  \n",
       "2  Shelbyville  20:58:07  Wednesday  \n",
       "3  Shelbyville  08:37:09     Monday  \n",
       "4  Springfield  08:34:34     Monday  \n",
       "5  Shelbyville  13:09:41     Friday  \n",
       "6  Springfield  13:00:07  Wednesday  \n",
       "7  Springfield  20:47:49  Wednesday  \n",
       "8  Springfield  09:17:40     Friday  \n",
       "9  Shelbyville  21:20:49  Wednesday  "
      ]
     },
     "execution_count": 153,
     "metadata": {},
     "output_type": "execute_result"
    }
   ],
   "source": [
    "# obtaining the first 10 rows from the df table\n",
    "df.head(10)"
   ]
  },
  {
   "cell_type": "markdown",
   "metadata": {
    "id": "EO73Kwic_Zct"
   },
   "source": [
    "Obtaining the general information about the table with one command:"
   ]
  },
  {
   "cell_type": "code",
   "execution_count": 154,
   "metadata": {
    "id": "DSf2kIb-_Zct"
   },
   "outputs": [
    {
     "name": "stdout",
     "output_type": "stream",
     "text": [
      "<class 'pandas.core.frame.DataFrame'>\n",
      "RangeIndex: 65079 entries, 0 to 65078\n",
      "Data columns (total 7 columns):\n",
      " #   Column    Non-Null Count  Dtype \n",
      "---  ------    --------------  ----- \n",
      " 0     userID  65079 non-null  object\n",
      " 1   Track     63736 non-null  object\n",
      " 2   artist    57512 non-null  object\n",
      " 3   genre     63881 non-null  object\n",
      " 4     City    65079 non-null  object\n",
      " 5   time      65079 non-null  object\n",
      " 6   Day       65079 non-null  object\n",
      "dtypes: object(7)\n",
      "memory usage: 3.5+ MB\n"
     ]
    }
   ],
   "source": [
    "# obtaining general information about the data in df\n",
    "df.info()"
   ]
  },
  {
   "cell_type": "markdown",
   "metadata": {
    "id": "TaQ2Iwbr_Zct"
   },
   "source": [
    "The table contains seven columns. They all store the same data type: `object`.\n",
    "\n",
    "According to the documentation:\n",
    "- `'userID'` — user identifier\n",
    "- `'Track'` — track title\n",
    "- `'artist'` — artist's name\n",
    "- `'genre'`\n",
    "- `'City'` — user's city\n",
    "- `'time'` — the exact time the track was played\n",
    "- `'Day'` — day of the week\n",
    "\n",
    "We can see three issues with style in the column names:\n",
    "1. Some names are uppercase, some are lowercase.\n",
    "2. There are spaces in some names.\n",
    "3. Some names are combined into one word instead of using snake_case.\n",
    "\n",
    "The number of column values is different. This means the data contains missing values.\n"
   ]
  },
  {
   "cell_type": "markdown",
   "metadata": {
    "id": "MCB6-dXG_Zct"
   },
   "source": [
    "### Conclusions <a id='data_review_conclusions'></a> \n",
    "\n",
    "Each row in the table stores data on a track that was played. Some columns describe the track itself: its title, artist and genre. The rest convey information about the user: the city they come from, the time they played the track. \n",
    "\n",
    "It's clear that the data is sufficient to test the hypotheses. However, there are missing values.\n",
    "\n",
    "To move forward, we need to preprocess the data."
   ]
  },
  {
   "cell_type": "markdown",
   "metadata": {
    "id": "3eL__vcwViOi"
   },
   "source": [
    "[Back to Contents](#back)"
   ]
  },
  {
   "cell_type": "markdown",
   "metadata": {
    "id": "SjYF6Ub9_Zct"
   },
   "source": [
    "## Stage 2. Data preprocessing <a id='data_preprocessing'></a>\n",
    "Correct the formatting in the column headers and deal with the missing values. Then, check whether there are duplicates in the data."
   ]
  },
  {
   "cell_type": "markdown",
   "metadata": {
    "id": "dIaKXr29_Zct"
   },
   "source": [
    "### Header style <a id='header_style'></a>\n",
    "Print the column header:"
   ]
  },
  {
   "cell_type": "code",
   "execution_count": 155,
   "metadata": {
    "id": "oKOTdF_Q_Zct"
   },
   "outputs": [
    {
     "data": {
      "text/plain": [
       "Index(['  userID', 'Track', 'artist', 'genre', '  City  ', 'time', 'Day'], dtype='object')"
      ]
     },
     "execution_count": 155,
     "metadata": {},
     "output_type": "execute_result"
    }
   ],
   "source": [
    "# the list of column names in the df table\n",
    "df.columns"
   ]
  },
  {
   "cell_type": "markdown",
   "metadata": {
    "id": "zj5534cv_Zct"
   },
   "source": [
    "Change column names according to the rules of good style:\n",
    "* If the name has several words, use snake_case\n",
    "* All characters must be lowercase\n",
    "* Delete spaces"
   ]
  },
  {
   "cell_type": "code",
   "execution_count": 156,
   "metadata": {
    "id": "ISlFqs5y_Zct"
   },
   "outputs": [],
   "source": [
    "# renaming columns\n",
    "df=df.rename(\n",
    "    columns={\n",
    "    '  userID':'user_id',\n",
    "    'Track':'track',\n",
    "    '  City  ':'city',\n",
    "    'Day':'day'\n",
    "}\n",
    "         )"
   ]
  },
  {
   "cell_type": "markdown",
   "metadata": {
    "id": "1dqbh00J_Zct"
   },
   "source": [
    "Check the result. Print the names of the columns once more:"
   ]
  },
  {
   "cell_type": "code",
   "execution_count": 157,
   "metadata": {
    "id": "d4NOAmTW_Zct"
   },
   "outputs": [
    {
     "data": {
      "text/plain": [
       "Index(['user_id', 'track', 'artist', 'genre', 'city', 'time', 'day'], dtype='object')"
      ]
     },
     "execution_count": 157,
     "metadata": {},
     "output_type": "execute_result"
    }
   ],
   "source": [
    "# checking result: the list of column names\n",
    "df.columns"
   ]
  },
  {
   "cell_type": "markdown",
   "metadata": {
    "id": "xYJk6ksJVpOl"
   },
   "source": [
    "[Back to Contents](#back)"
   ]
  },
  {
   "cell_type": "markdown",
   "metadata": {
    "id": "5ISfbcfY_Zct"
   },
   "source": [
    "### Missing values <a id='missing_values'></a>\n",
    "First, find the number of missing values in the table. To do so, use two `pandas` methods:"
   ]
  },
  {
   "cell_type": "code",
   "execution_count": 158,
   "metadata": {
    "id": "RskX29qr_Zct"
   },
   "outputs": [
    {
     "data": {
      "text/plain": [
       "user_id     0.000000\n",
       "track       2.063646\n",
       "artist     11.627407\n",
       "genre       1.840840\n",
       "city        0.000000\n",
       "time        0.000000\n",
       "day         0.000000\n",
       "dtype: float64"
      ]
     },
     "execution_count": 158,
     "metadata": {},
     "output_type": "execute_result"
    }
   ],
   "source": [
    "# calculating missing values using isna() & .sum() pandas methods\n",
    "df.isna().sum()\n",
    "\n",
    "# calculating % of missing\n",
    "df.isna().sum()*100/len(df)\n",
    "\n",
    "#Only 1.85% of genre values are missing, so missing genre values shouldn't affect our analysis"
   ]
  },
  {
   "cell_type": "markdown",
   "metadata": {
    "id": "qubhgnlO_Zct"
   },
   "source": [
    "Not all missing values affect the research. For instance, the missing values in `track` and `artist` are not critical. You can simply replace them with clear markers.\n",
    "\n",
    "But missing values in `'genre'` can affect the comparison of music preferences in Springfield and Shelbyville. In real life, it would be useful to learn the reasons why the data is missing and try to make up for them. But we do not have that opportunity in this project. So you will have to:\n",
    "* Fill in these missing values with markers\n",
    "* Evaluate how much the missing values may affect your computations"
   ]
  },
  {
   "cell_type": "markdown",
   "metadata": {
    "id": "fSv2laPA_Zct"
   },
   "source": [
    "Replace the missing values in `'track'`, `'artist'`, and `'genre'` with the string `'unknown'`. To do this, create the `columns_to_replace` list, loop over it with `for`, and replace the missing values in each of the columns:"
   ]
  },
  {
   "cell_type": "code",
   "execution_count": 159,
   "metadata": {
    "id": "KplB5qWs_Zct"
   },
   "outputs": [],
   "source": [
    "# looping over column names and replacing missing values with 'unknown'\n",
    "columns_to_replace = ['track','artist','genre']\n",
    "for column in columns_to_replace:\n",
    "    df[column]=df[column].fillna('unknown')"
   ]
  },
  {
   "cell_type": "markdown",
   "metadata": {
    "id": "Ilsm-MZo_Zct"
   },
   "source": [
    "Make sure the table contains no more missing values. Count the missing values again."
   ]
  },
  {
   "cell_type": "code",
   "execution_count": 160,
   "metadata": {
    "id": "Tq4nYRX4_Zct"
   },
   "outputs": [
    {
     "data": {
      "text/plain": [
       "user_id    0\n",
       "track      0\n",
       "artist     0\n",
       "genre      0\n",
       "city       0\n",
       "time       0\n",
       "day        0\n",
       "dtype: int64"
      ]
     },
     "execution_count": 160,
     "metadata": {},
     "output_type": "execute_result"
    }
   ],
   "source": [
    "# counting missing values\n",
    "df.isna().sum()"
   ]
  },
  {
   "cell_type": "markdown",
   "metadata": {
    "id": "74ZIBmq9VrsK"
   },
   "source": [
    "[Back to Contents](#back)"
   ]
  },
  {
   "cell_type": "markdown",
   "metadata": {
    "id": "BWKRtBJ3_Zct"
   },
   "source": [
    "### Duplicates <a id='duplicates'></a>\n",
    "Find the number of obvious duplicates in the table using one command:"
   ]
  },
  {
   "cell_type": "code",
   "execution_count": 161,
   "metadata": {
    "id": "36eES_S0_Zct"
   },
   "outputs": [
    {
     "data": {
      "text/plain": [
       "3826"
      ]
     },
     "execution_count": 161,
     "metadata": {},
     "output_type": "execute_result"
    }
   ],
   "source": [
    "# counting clear duplicates\n",
    "df.duplicated().sum()"
   ]
  },
  {
   "cell_type": "markdown",
   "metadata": {
    "id": "Ot25h6XR_Zct"
   },
   "source": [
    "Call the `pandas` method for getting rid of obvious duplicates:"
   ]
  },
  {
   "cell_type": "code",
   "execution_count": 162,
   "metadata": {
    "id": "exFHq6tt_Zct"
   },
   "outputs": [],
   "source": [
    "# removing obvious duplicates\n",
    "df=df.drop_duplicates().reset_index(drop=True)"
   ]
  },
  {
   "cell_type": "markdown",
   "metadata": {
    "id": "Im2YwBEG_Zct"
   },
   "source": [
    "Count obvious duplicates once more to make sure you have removed all of them:"
   ]
  },
  {
   "cell_type": "code",
   "execution_count": 163,
   "metadata": {
    "id": "-8PuNWQ0_Zct"
   },
   "outputs": [
    {
     "data": {
      "text/plain": [
       "0"
      ]
     },
     "execution_count": 163,
     "metadata": {},
     "output_type": "execute_result"
    }
   ],
   "source": [
    "# checking for duplicates\n",
    "df.duplicated().sum()"
   ]
  },
  {
   "cell_type": "markdown",
   "metadata": {
    "id": "QlFBsxAr_Zct"
   },
   "source": [
    "Now get rid of implicit duplicates in the `genre` column. For example, the name of a genre can be written in different ways. Such errors will also affect the result."
   ]
  },
  {
   "cell_type": "markdown",
   "metadata": {
    "id": "eSjWwsOh_Zct"
   },
   "source": [
    "Print a list of unique genre names, sorted in alphabetical order. To do so:\n",
    "* Retrieve the intended DataFrame column \n",
    "* Apply a sorting method to it\n",
    "* For the sorted column, call the method that will return all unique column values"
   ]
  },
  {
   "cell_type": "code",
   "execution_count": 164,
   "metadata": {
    "id": "JIUcqzZN_Zct"
   },
   "outputs": [
    {
     "data": {
      "text/plain": [
       "array(['acid', 'acoustic', 'action', 'adult', 'africa', 'afrikaans',\n",
       "       'alternative', 'ambient', 'americana', 'animated', 'anime',\n",
       "       'arabesk', 'arabic', 'arena', 'argentinetango', 'art', 'audiobook',\n",
       "       'avantgarde', 'axé', 'baile', 'balkan', 'beats', 'bigroom',\n",
       "       'black', 'bluegrass', 'blues', 'bollywood', 'bossa', 'brazilian',\n",
       "       'breakbeat', 'breaks', 'broadway', 'cantautori', 'cantopop',\n",
       "       'canzone', 'caribbean', 'caucasian', 'celtic', 'chamber',\n",
       "       'children', 'chill', 'chinese', 'choral', 'christian', 'christmas',\n",
       "       'classical', 'classicmetal', 'club', 'colombian', 'comedy',\n",
       "       'conjazz', 'contemporary', 'country', 'cuban', 'dance',\n",
       "       'dancehall', 'dancepop', 'dark', 'death', 'deep', 'deutschrock',\n",
       "       'deutschspr', 'dirty', 'disco', 'dnb', 'documentary', 'downbeat',\n",
       "       'downtempo', 'drum', 'dub', 'dubstep', 'eastern', 'easy',\n",
       "       'electronic', 'electropop', 'emo', 'entehno', 'epicmetal',\n",
       "       'estrada', 'ethnic', 'eurofolk', 'european', 'experimental',\n",
       "       'extrememetal', 'fado', 'film', 'fitness', 'flamenco', 'folk',\n",
       "       'folklore', 'folkmetal', 'folkrock', 'folktronica', 'forró',\n",
       "       'frankreich', 'französisch', 'french', 'funk', 'future', 'gangsta',\n",
       "       'garage', 'german', 'ghazal', 'gitarre', 'glitch', 'gospel',\n",
       "       'gothic', 'grime', 'grunge', 'gypsy', 'handsup', \"hard'n'heavy\",\n",
       "       'hardcore', 'hardstyle', 'hardtechno', 'hip', 'hip-hop', 'hiphop',\n",
       "       'historisch', 'holiday', 'hop', 'horror', 'house', 'idm',\n",
       "       'independent', 'indian', 'indie', 'indipop', 'industrial',\n",
       "       'inspirational', 'instrumental', 'international', 'irish', 'jam',\n",
       "       'japanese', 'jazz', 'jewish', 'jpop', 'jungle', 'k-pop',\n",
       "       'karadeniz', 'karaoke', 'kayokyoku', 'korean', 'laiko', 'latin',\n",
       "       'latino', 'leftfield', 'local', 'lounge', 'loungeelectronic',\n",
       "       'lovers', 'malaysian', 'mandopop', 'marschmusik', 'meditative',\n",
       "       'mediterranean', 'melodic', 'metal', 'metalcore', 'mexican',\n",
       "       'middle', 'minimal', 'miscellaneous', 'modern', 'mood', 'mpb',\n",
       "       'muslim', 'native', 'neoklassik', 'neue', 'new', 'newage',\n",
       "       'newwave', 'nu', 'nujazz', 'numetal', 'oceania', 'old', 'opera',\n",
       "       'orchestral', 'other', 'piano', 'pop', 'popelectronic',\n",
       "       'popeurodance', 'post', 'posthardcore', 'postrock', 'power',\n",
       "       'progmetal', 'progressive', 'psychedelic', 'punjabi', 'punk',\n",
       "       'quebecois', 'ragga', 'ram', 'rancheras', 'rap', 'rave', 'reggae',\n",
       "       'reggaeton', 'regional', 'relax', 'religious', 'retro', 'rhythm',\n",
       "       'rnb', 'rnr', 'rock', 'rockabilly', 'romance', 'roots', 'ruspop',\n",
       "       'rusrap', 'rusrock', 'salsa', 'samba', 'schlager', 'self',\n",
       "       'sertanejo', 'shoegazing', 'showtunes', 'singer', 'ska', 'slow',\n",
       "       'smooth', 'soul', 'soulful', 'sound', 'soundtrack', 'southern',\n",
       "       'specialty', 'speech', 'spiritual', 'sport', 'stonerrock', 'surf',\n",
       "       'swing', 'synthpop', 'sängerportrait', 'tango', 'tanzorchester',\n",
       "       'taraftar', 'tech', 'techno', 'thrash', 'top', 'traditional',\n",
       "       'tradjazz', 'trance', 'tribal', 'trip', 'triphop', 'tropical',\n",
       "       'türk', 'türkçe', 'unknown', 'urban', 'uzbek', 'variété', 'vi',\n",
       "       'videogame', 'vocal', 'western', 'world', 'worldbeat', 'ïîï'],\n",
       "      dtype=object)"
      ]
     },
     "execution_count": 164,
     "metadata": {},
     "output_type": "execute_result"
    }
   ],
   "source": [
    "# viewing unique genre names\n",
    "df['genre'].sort_values().unique()"
   ]
  },
  {
   "cell_type": "markdown",
   "metadata": {
    "id": "qej-Qmuo_Zct"
   },
   "source": [
    "Look through the list to find implicit duplicates of the genre `hiphop`. These could be names written incorrectly or alternative names of the same genre.\n",
    "\n",
    "You will see the following implicit duplicates:\n",
    "* `hip`\n",
    "* `hop`\n",
    "* `hip-hop`\n",
    "\n",
    "To get rid of them, declare the function `replace_wrong_genres()` with two parameters: \n",
    "* `wrong_genres=` — the list of duplicates\n",
    "* `correct_genre=` — the string with the correct value\n",
    "\n",
    "The function should correct the names in the `'genre'` column from the `df` table, i.e. replace each value from the `wrong_genres` list with the value in `correct_genre`."
   ]
  },
  {
   "cell_type": "code",
   "execution_count": 165,
   "metadata": {
    "id": "ErNDkmns_Zct"
   },
   "outputs": [],
   "source": [
    "# function for replacing implicit duplicates\n",
    "def replace_wrong_genres(wrong_genres,correct_genre):\n",
    "    for genre in wrong_genres:\n",
    "        df['genre'] = df['genre'].replace(genre,correct_genre)"
   ]
  },
  {
   "cell_type": "markdown",
   "metadata": {
    "id": "aDoBJxbA_Zct"
   },
   "source": [
    "Call `replace_wrong_genres()` and pass it arguments so that it clears implicit duplcates (`hip`, `hop`, and `hip-hop`) and replaces them with `hiphop`:"
   ]
  },
  {
   "cell_type": "code",
   "execution_count": 166,
   "metadata": {
    "id": "YN5i2hpmSo09"
   },
   "outputs": [],
   "source": [
    "# removing implicit duplicates\n",
    "replace_wrong_genres(['hip','hop','hip-hop'],'hiphop')    "
   ]
  },
  {
   "cell_type": "markdown",
   "metadata": {
    "id": "zQKF16_RG15m"
   },
   "source": [
    "Make sure the duplicate names were removed. Print the list of unique values from the `'genre'` column:"
   ]
  },
  {
   "cell_type": "code",
   "execution_count": 167,
   "metadata": {
    "id": "wvixALnFG15m"
   },
   "outputs": [
    {
     "data": {
      "text/plain": [
       "array(['acid', 'acoustic', 'action', 'adult', 'africa', 'afrikaans',\n",
       "       'alternative', 'ambient', 'americana', 'animated', 'anime',\n",
       "       'arabesk', 'arabic', 'arena', 'argentinetango', 'art', 'audiobook',\n",
       "       'avantgarde', 'axé', 'baile', 'balkan', 'beats', 'bigroom',\n",
       "       'black', 'bluegrass', 'blues', 'bollywood', 'bossa', 'brazilian',\n",
       "       'breakbeat', 'breaks', 'broadway', 'cantautori', 'cantopop',\n",
       "       'canzone', 'caribbean', 'caucasian', 'celtic', 'chamber',\n",
       "       'children', 'chill', 'chinese', 'choral', 'christian', 'christmas',\n",
       "       'classical', 'classicmetal', 'club', 'colombian', 'comedy',\n",
       "       'conjazz', 'contemporary', 'country', 'cuban', 'dance',\n",
       "       'dancehall', 'dancepop', 'dark', 'death', 'deep', 'deutschrock',\n",
       "       'deutschspr', 'dirty', 'disco', 'dnb', 'documentary', 'downbeat',\n",
       "       'downtempo', 'drum', 'dub', 'dubstep', 'eastern', 'easy',\n",
       "       'electronic', 'electropop', 'emo', 'entehno', 'epicmetal',\n",
       "       'estrada', 'ethnic', 'eurofolk', 'european', 'experimental',\n",
       "       'extrememetal', 'fado', 'film', 'fitness', 'flamenco', 'folk',\n",
       "       'folklore', 'folkmetal', 'folkrock', 'folktronica', 'forró',\n",
       "       'frankreich', 'französisch', 'french', 'funk', 'future', 'gangsta',\n",
       "       'garage', 'german', 'ghazal', 'gitarre', 'glitch', 'gospel',\n",
       "       'gothic', 'grime', 'grunge', 'gypsy', 'handsup', \"hard'n'heavy\",\n",
       "       'hardcore', 'hardstyle', 'hardtechno', 'hiphop', 'historisch',\n",
       "       'holiday', 'horror', 'house', 'idm', 'independent', 'indian',\n",
       "       'indie', 'indipop', 'industrial', 'inspirational', 'instrumental',\n",
       "       'international', 'irish', 'jam', 'japanese', 'jazz', 'jewish',\n",
       "       'jpop', 'jungle', 'k-pop', 'karadeniz', 'karaoke', 'kayokyoku',\n",
       "       'korean', 'laiko', 'latin', 'latino', 'leftfield', 'local',\n",
       "       'lounge', 'loungeelectronic', 'lovers', 'malaysian', 'mandopop',\n",
       "       'marschmusik', 'meditative', 'mediterranean', 'melodic', 'metal',\n",
       "       'metalcore', 'mexican', 'middle', 'minimal', 'miscellaneous',\n",
       "       'modern', 'mood', 'mpb', 'muslim', 'native', 'neoklassik', 'neue',\n",
       "       'new', 'newage', 'newwave', 'nu', 'nujazz', 'numetal', 'oceania',\n",
       "       'old', 'opera', 'orchestral', 'other', 'piano', 'pop',\n",
       "       'popelectronic', 'popeurodance', 'post', 'posthardcore',\n",
       "       'postrock', 'power', 'progmetal', 'progressive', 'psychedelic',\n",
       "       'punjabi', 'punk', 'quebecois', 'ragga', 'ram', 'rancheras', 'rap',\n",
       "       'rave', 'reggae', 'reggaeton', 'regional', 'relax', 'religious',\n",
       "       'retro', 'rhythm', 'rnb', 'rnr', 'rock', 'rockabilly', 'romance',\n",
       "       'roots', 'ruspop', 'rusrap', 'rusrock', 'salsa', 'samba',\n",
       "       'schlager', 'self', 'sertanejo', 'shoegazing', 'showtunes',\n",
       "       'singer', 'ska', 'slow', 'smooth', 'soul', 'soulful', 'sound',\n",
       "       'soundtrack', 'southern', 'specialty', 'speech', 'spiritual',\n",
       "       'sport', 'stonerrock', 'surf', 'swing', 'synthpop',\n",
       "       'sängerportrait', 'tango', 'tanzorchester', 'taraftar', 'tech',\n",
       "       'techno', 'thrash', 'top', 'traditional', 'tradjazz', 'trance',\n",
       "       'tribal', 'trip', 'triphop', 'tropical', 'türk', 'türkçe',\n",
       "       'unknown', 'urban', 'uzbek', 'variété', 'vi', 'videogame', 'vocal',\n",
       "       'western', 'world', 'worldbeat', 'ïîï'], dtype=object)"
      ]
     },
     "execution_count": 167,
     "metadata": {},
     "output_type": "execute_result"
    }
   ],
   "source": [
    "# checking for implicit duplicates\n",
    "df['genre'].sort_values().unique()"
   ]
  },
  {
   "cell_type": "markdown",
   "metadata": {
    "id": "ALgNbvF3VtPA"
   },
   "source": [
    "[Back to Contents](#back)"
   ]
  },
  {
   "cell_type": "markdown",
   "metadata": {
    "id": "jz6a9-7HQUDd"
   },
   "source": [
    "### Conclusions <a id='data_preprocessing_conclusions'></a>\n",
    "We detected three issues with the data:\n",
    "\n",
    "- Incorrect header styles\n",
    "- Missing values\n",
    "- Obvious and implicit duplicates\n",
    "\n",
    "The headers have been cleaned up to make processing the table simpler.\n",
    "\n",
    "All missing values have been replaced with `'unknown'`. But we still have to see whether the missing values in `'genre'` will affect our calculations.\n",
    "\n",
    "The absence of duplicates will make the results more precise and easier to understand.\n",
    "\n",
    "Now we can move on to testing hypotheses. "
   ]
  },
  {
   "cell_type": "markdown",
   "metadata": {
    "id": "eK1es74rVujj"
   },
   "source": [
    "[Back to Contents](#back)"
   ]
  },
  {
   "cell_type": "markdown",
   "metadata": {
    "id": "WttZHXH0SqKk"
   },
   "source": [
    "## Stage 3. Testing hypotheses <a id='hypotheses'></a>"
   ]
  },
  {
   "cell_type": "markdown",
   "metadata": {
    "id": "Im936VVi_Zcu"
   },
   "source": [
    "### Hypothesis 1: comparing user behavior in two cities <a id='activity'></a>"
   ]
  },
  {
   "cell_type": "markdown",
   "metadata": {
    "id": "nwt_MuaL_Zcu"
   },
   "source": [
    "According to the first hypothesis, users from Springfield and Shelbyville listen to music differently. Test this using the data on three days of the week: Monday, Wednesday, and Friday.\n",
    "\n",
    "* Divide the users into groups by city.\n",
    "* Compare how many tracks each group played on Monday, Wednesday, and Friday.\n"
   ]
  },
  {
   "cell_type": "markdown",
   "metadata": {
    "id": "8Dw_YMmT_Zcu"
   },
   "source": [
    "For the sake of practice, perform each computation separately. \n",
    "\n",
    "Evaluate user activity in each city. Group the data by city and find the number of songs played in each group.\n",
    "\n"
   ]
  },
  {
   "cell_type": "code",
   "execution_count": 168,
   "metadata": {
    "id": "0_Qs96oh_Zcu"
   },
   "outputs": [
    {
     "name": "stdout",
     "output_type": "stream",
     "text": [
      "city\n",
      "Shelbyville    18512\n",
      "Springfield    42741\n",
      "Name: genre, dtype: int64\n"
     ]
    }
   ],
   "source": [
    "# Counting up the tracks played in each city\n",
    "print(df.groupby('city')['genre'].count())"
   ]
  },
  {
   "cell_type": "markdown",
   "metadata": {
    "id": "dzli3w8o_Zcu"
   },
   "source": [
    "Springfield has more tracks played than Shelbyville. But that does not imply that citizens of Springfield listen to music more often. This city is simply bigger, and there are more users.\n",
    "\n",
    "Now group the data by day of the week and find the number of tracks played on Monday, Wednesday, and Friday.\n"
   ]
  },
  {
   "cell_type": "code",
   "execution_count": 169,
   "metadata": {
    "id": "uZMKjiJz_Zcu"
   },
   "outputs": [
    {
     "name": "stdout",
     "output_type": "stream",
     "text": [
      "day\n",
      "Friday       21840\n",
      "Monday       21354\n",
      "Wednesday    18059\n",
      "Name: genre, dtype: int64\n"
     ]
    }
   ],
   "source": [
    "# Calculating tracks played on each of the three days\n",
    "print(df.groupby('day')['genre'].count())"
   ]
  },
  {
   "cell_type": "markdown",
   "metadata": {
    "id": "cC2tNrlL_Zcu"
   },
   "source": [
    "Wednesday is the quietest day overall. But if we consider the two cities separately, we might come to a different conclusion."
   ]
  },
  {
   "cell_type": "markdown",
   "metadata": {
    "id": "POzs8bGa_Zcu"
   },
   "source": [
    "You have seen how grouping by city or day works. Now write a function that will group by both.\n",
    "\n",
    "Create the `number_tracks()` function to calculate the number of songs played for a given day and city. It will require two parameters:\n",
    "* day of the week\n",
    "* name of the city\n",
    "\n",
    "In the function, use a variable to store the rows from the original table, where:\n",
    "  * `'day'` column value is equal to the `day` parameter\n",
    "  * `'city'` column value is equal to the `city` parameter\n",
    "\n",
    "Apply consecutive filtering with logical indexing.\n",
    "\n",
    "Then calculate the `'user_id'` column values in the resulting table. Store the result to a new variable. Return this variable from the function."
   ]
  },
  {
   "cell_type": "code",
   "execution_count": 170,
   "metadata": {
    "id": "Nz3GdQB1_Zcu"
   },
   "outputs": [
    {
     "name": "stdout",
     "output_type": "stream",
     "text": [
      "15740\n",
      "\n",
      "    Returns the # of tracks played on a particular day (Monday, Wednesay, or Friday) in the city (Springfield or Shelbyville).\n",
      "\n",
      "    Parameters:\n",
      "        str1 (str):value in 'day' column\n",
      "        city (str):value in 'city' column\n",
      "\n",
      "    Returns:\n",
      "        track_list_count(int64):The count of tracks played\n",
      "    \n"
     ]
    }
   ],
   "source": [
    "# <creating the function number_tracks()>\n",
    "def number_tracks(day,city):\n",
    "    '''\n",
    "    Returns the # of tracks played on a particular day (Monday, Wednesay, or Friday) in the city (Springfield or Shelbyville).\n",
    "\n",
    "    Parameters:\n",
    "        str1 (str):value in 'day' column\n",
    "        city (str):value in 'city' column\n",
    "\n",
    "    Returns:\n",
    "        track_list_count(int64):The count of tracks played\n",
    "    '''\n",
    "    \n",
    "    df_day = df[df['day'] == day]\n",
    "    track_list=df_day[df_day['city'] == city]\n",
    "    track_list_count = track_list['user_id'].count()\n",
    "    return track_list_count\n",
    "\n",
    "print(number_tracks('Monday','Springfield'))\n",
    "print(number_tracks.__doc__)"
   ]
  },
  {
   "cell_type": "markdown",
   "metadata": {
    "id": "ytf7xFrFJQ2r"
   },
   "source": [
    "Call `number_tracks()` six times, changing the parameter values, so that you retrieve the data on both cities for each of the three days."
   ]
  },
  {
   "cell_type": "code",
   "execution_count": 171,
   "metadata": {
    "id": "rJcRATNQ_Zcu"
   },
   "outputs": [
    {
     "data": {
      "text/plain": [
       "15740"
      ]
     },
     "execution_count": 171,
     "metadata": {},
     "output_type": "execute_result"
    }
   ],
   "source": [
    "# the number of songs played in Springfield on Monday\n",
    "number_tracks('Monday','Springfield')"
   ]
  },
  {
   "cell_type": "code",
   "execution_count": 172,
   "metadata": {
    "id": "hq_ncZ5T_Zcu"
   },
   "outputs": [
    {
     "data": {
      "text/plain": [
       "5614"
      ]
     },
     "execution_count": 172,
     "metadata": {},
     "output_type": "execute_result"
    }
   ],
   "source": [
    "# the number of songs played in Shelbyville on Monday\n",
    "number_tracks('Monday','Shelbyville')"
   ]
  },
  {
   "cell_type": "code",
   "execution_count": 173,
   "metadata": {
    "id": "_NTy2VPU_Zcu"
   },
   "outputs": [
    {
     "data": {
      "text/plain": [
       "11056"
      ]
     },
     "execution_count": 173,
     "metadata": {},
     "output_type": "execute_result"
    }
   ],
   "source": [
    "# the number of songs played in Springfield on Wednesday\n",
    "number_tracks('Wednesday','Springfield')"
   ]
  },
  {
   "cell_type": "code",
   "execution_count": 174,
   "metadata": {
    "id": "j2y3TAwo_Zcu"
   },
   "outputs": [
    {
     "data": {
      "text/plain": [
       "7003"
      ]
     },
     "execution_count": 174,
     "metadata": {},
     "output_type": "execute_result"
    }
   ],
   "source": [
    "# the number of songs played in Shelbyville on Wednesday\n",
    "number_tracks('Wednesday','Shelbyville')"
   ]
  },
  {
   "cell_type": "code",
   "execution_count": 175,
   "metadata": {
    "id": "vYDw5u_K_Zcu"
   },
   "outputs": [
    {
     "data": {
      "text/plain": [
       "15945"
      ]
     },
     "execution_count": 175,
     "metadata": {},
     "output_type": "execute_result"
    }
   ],
   "source": [
    "# the number of songs played in Springfield on Friday\n",
    "number_tracks('Friday','Springfield')"
   ]
  },
  {
   "cell_type": "code",
   "execution_count": 176,
   "metadata": {
    "id": "8_yzFtW3_Zcu"
   },
   "outputs": [
    {
     "data": {
      "text/plain": [
       "5895"
      ]
     },
     "execution_count": 176,
     "metadata": {},
     "output_type": "execute_result"
    }
   ],
   "source": [
    "# the number of songs played in Shelbyville on Friday\n",
    "number_tracks('Friday','Shelbyville')"
   ]
  },
  {
   "cell_type": "markdown",
   "metadata": {
    "id": "7QXffbO-_Zcu"
   },
   "source": [
    "Use `pd.DataFrame` to create a table, where\n",
    "* Column names are: `['city', 'monday', 'wednesday', 'friday']`\n",
    "* The data is the results you got from `number_tracks()`"
   ]
  },
  {
   "cell_type": "code",
   "execution_count": 177,
   "metadata": {
    "id": "APAcLpOr_Zcu"
   },
   "outputs": [
    {
     "name": "stdout",
     "output_type": "stream",
     "text": [
      "          city  monday  wednesday  friday\n",
      "0  Springfield   15740      11056   15945\n",
      "1  Shelbyville    5614       7003    5895\n"
     ]
    }
   ],
   "source": [
    "# table with results\n",
    "city_tracks_by_day = pd.DataFrame([['Springfield',15740,11056,15945],['Shelbyville',5614,7003,5895]],columns=['city', 'monday', 'wednesday', 'friday'])\n",
    "print(city_tracks_by_day)"
   ]
  },
  {
   "cell_type": "markdown",
   "metadata": {
    "id": "-EgPIHYu_Zcu"
   },
   "source": [
    "**Conclusions**\n",
    "\n",
    "The data reveals differences in user behavior:\n",
    "\n",
    "- In Springfield, the number of songs played peaks on Mondays and Fridays, while on Wednesday there is a decrease in activity.\n",
    "- In Shelbyville, on the contrary, users listen to music more on Wednesday. User activity on Monday and Friday is smaller.\n",
    "\n",
    "So the first hypothesis seems to be correct."
   ]
  },
  {
   "cell_type": "markdown",
   "metadata": {
    "id": "p7nFQajCVw5B"
   },
   "source": [
    "[Back to Contents](#back)"
   ]
  },
  {
   "cell_type": "markdown",
   "metadata": {
    "id": "atZAxtq4_Zcu"
   },
   "source": [
    "### Hypothesis 2: music at the beginning and end of the week <a id='week'></a>"
   ]
  },
  {
   "cell_type": "markdown",
   "metadata": {
    "id": "eXrQqXFH_Zcu"
   },
   "source": [
    "According to the second hypothesis, on Monday morning and Friday night, citizens of Springfield listen to genres that differ from ones users from Shelbyville enjoy."
   ]
  },
  {
   "cell_type": "markdown",
   "metadata": {
    "id": "S8UcW6Hw_Zcu"
   },
   "source": [
    "Get tables (make sure that the name of your combined table matches the DataFrame given in the two code blocks below):\n",
    "* For Springfield — `spr_general`\n",
    "* For Shelbyville — `shel_general`"
   ]
  },
  {
   "cell_type": "code",
   "execution_count": 178,
   "metadata": {
    "id": "qeaFfM_P_Zcu",
    "pycharm": {
     "is_executing": true
    }
   },
   "outputs": [],
   "source": [
    "# create the spr_general table from the df rows, \n",
    "# where the value in the 'city' column is 'Springfield'\n",
    "spr_general = df[df['city'] == 'Springfield']"
   ]
  },
  {
   "cell_type": "code",
   "execution_count": 179,
   "metadata": {
    "id": "ORaVRKto_Zcu"
   },
   "outputs": [],
   "source": [
    "# create the shel_general from the df rows,\n",
    "# where the value in the 'city' column is 'Shelbyville'\n",
    "shel_general = df[df['city'] == 'Shelbyville']"
   ]
  },
  {
   "cell_type": "markdown",
   "metadata": {
    "id": "MEJV-CX2_Zcu"
   },
   "source": [
    "Write the `genre_weekday()` function with four parameters:\n",
    "* A table for data (`df`)\n",
    "* The day of the week (`day`)\n",
    "* The first timestamp, in 'hh:mm' format (`time1`)\n",
    "* The last timestamp, in 'hh:mm' format (`time2`)\n",
    "\n",
    "The function should return info on the 15 most popular genres on a given day within the period between the two timestamps."
   ]
  },
  {
   "cell_type": "code",
   "execution_count": 180,
   "metadata": {
    "id": "laJT9BYl_Zcu"
   },
   "outputs": [],
   "source": [
    "# 1) Let the genre_df variable store the rows that meet several conditions:\n",
    "#    - the value in the 'day' column is equal to the value of the day= argument\n",
    "#    - the value in the 'time' column is greater than the value of the time1= argument\n",
    "#    - the value in the 'time' column is smaller than the value of the time2= argument\n",
    "#    Use consecutive filtering with logical indexing.\n",
    "\n",
    "# 2) Group genre_df by the 'genre' column, take one of its columns, \n",
    "#    and use the count() method to find the number of entries for each of \n",
    "#    the represented genres; store the resulting Series to the\n",
    "#    genre_df_count variable\n",
    "\n",
    "# 3) Sort genre_df_count in descending order of frequency and store the result\n",
    "#    to the genre_df_sorted variable\n",
    "\n",
    "# 4) Return a Series object with the first 15 genre_df_sorted value - the 15 most\n",
    "#    popular genres (on a given day, within a certain timeframe)\n",
    "\n",
    "# Write your function here\n",
    "def genre_weekday(df,day,time1,time2):\n",
    "    # consecutive filtering\n",
    "    # Create the variable genre_df which will store only those df rows where the day is equal to day=\n",
    "    genre_df = df[df['day'] == day]\n",
    "   \n",
    "    # filter again so that genre_df will store only those rows where the time is smaller than time2=\n",
    "    genre_df = genre_df[genre_df['time'] < time2]\n",
    "\n",
    "    # filter once more so that genre_df will store only rows where the time is greater than time1=\n",
    "    genre_df = genre_df[genre_df['time'] > time1]\n",
    "\n",
    "    # group the filtered DataFrame by the column with the names of genres, take the genre column, and find the number of rows for each genre with the count() method\n",
    "    genre_df_count = genre_df.groupby('genre')['genre'].count()\n",
    "\n",
    "    # sort the result in descending order (so that the most popular genres come first in the Series object)\n",
    "    genre_df_sorted = genre_df_count.sort_values(ascending=False)\n",
    "\n",
    "    # we will return the Series object storing the 15 most popular genres on a given day in a given timeframe\n",
    "    return genre_df_sorted[:15]"
   ]
  },
  {
   "cell_type": "markdown",
   "metadata": {
    "id": "la2s2_PF_Zcu"
   },
   "source": [
    "Compare the results of the `genre_weekday()` function for Springfield and Shelbyville on Monday morning (from 7AM to 11AM) and on Friday evening (from 17:00 to 23:00):"
   ]
  },
  {
   "cell_type": "code",
   "execution_count": 181,
   "metadata": {
    "id": "yz7itPUQ_Zcu"
   },
   "outputs": [
    {
     "data": {
      "text/plain": [
       "genre\n",
       "pop            781\n",
       "dance          549\n",
       "electronic     480\n",
       "rock           474\n",
       "hiphop         286\n",
       "ruspop         186\n",
       "world          181\n",
       "rusrap         175\n",
       "alternative    164\n",
       "unknown        161\n",
       "classical      157\n",
       "metal          120\n",
       "jazz           100\n",
       "folk            97\n",
       "soundtrack      95\n",
       "Name: genre, dtype: int64"
      ]
     },
     "execution_count": 181,
     "metadata": {},
     "output_type": "execute_result"
    }
   ],
   "source": [
    "# calling the function for Monday morning in Springfield (use spr_general instead of the df table)\n",
    "genre_weekday(spr_general,'Monday','07:00','11:00')"
   ]
  },
  {
   "cell_type": "code",
   "execution_count": 182,
   "metadata": {
    "id": "kwUcHPdy_Zcu"
   },
   "outputs": [
    {
     "data": {
      "text/plain": [
       "genre\n",
       "pop            218\n",
       "dance          182\n",
       "rock           162\n",
       "electronic     147\n",
       "hiphop          80\n",
       "ruspop          64\n",
       "alternative     58\n",
       "rusrap          55\n",
       "jazz            44\n",
       "classical       40\n",
       "world           36\n",
       "rap             32\n",
       "soundtrack      31\n",
       "rnb             27\n",
       "metal           27\n",
       "Name: genre, dtype: int64"
      ]
     },
     "execution_count": 182,
     "metadata": {},
     "output_type": "execute_result"
    }
   ],
   "source": [
    "# calling the function for Monday morning in Shelbyville (use shel_general instead of the df table)\n",
    "genre_weekday(shel_general,'Monday','07:00','11:00')\n"
   ]
  },
  {
   "cell_type": "code",
   "execution_count": 183,
   "metadata": {
    "id": "EzXVRE1o_Zcu"
   },
   "outputs": [
    {
     "data": {
      "text/plain": [
       "genre\n",
       "pop            713\n",
       "rock           517\n",
       "dance          495\n",
       "electronic     482\n",
       "hiphop         273\n",
       "world          208\n",
       "ruspop         170\n",
       "classical      163\n",
       "alternative    163\n",
       "rusrap         142\n",
       "jazz           111\n",
       "unknown        110\n",
       "soundtrack     105\n",
       "rnb             90\n",
       "metal           88\n",
       "Name: genre, dtype: int64"
      ]
     },
     "execution_count": 183,
     "metadata": {},
     "output_type": "execute_result"
    }
   ],
   "source": [
    "# calling the function for Friday evening in Springfield\n",
    "genre_weekday(spr_general,'Friday','17:00','23:00')\n"
   ]
  },
  {
   "cell_type": "code",
   "execution_count": 184,
   "metadata": {
    "id": "JZaEKu5v_Zcu"
   },
   "outputs": [
    {
     "data": {
      "text/plain": [
       "genre\n",
       "pop            256\n",
       "rock           216\n",
       "electronic     216\n",
       "dance          210\n",
       "hiphop          97\n",
       "alternative     63\n",
       "jazz            61\n",
       "classical       60\n",
       "rusrap          59\n",
       "world           54\n",
       "unknown         47\n",
       "ruspop          47\n",
       "soundtrack      40\n",
       "metal           39\n",
       "rap             36\n",
       "Name: genre, dtype: int64"
      ]
     },
     "execution_count": 184,
     "metadata": {},
     "output_type": "execute_result"
    }
   ],
   "source": [
    "# calling the function for Friday evening in Shelbyville\n",
    "genre_weekday(shel_general,'Friday','17:00','23:00')"
   ]
  },
  {
   "cell_type": "markdown",
   "metadata": {
    "id": "wrCe4MNX_Zcu"
   },
   "source": [
    "**Conclusion**\n",
    "\n",
    "Having compared the top 15 genres on Monday morning, we can draw the following conclusions:\n",
    "\n",
    "1. Users from Springfield and Shelbyville listen to similar music. The top five genres are the same, only rock and electronic have switched places.\n",
    "\n",
    "2. In Springfield, the number of missing values turned out to be so big that the value `'unknown'` came in 10th. This means that missing values make up a considerable portion of the data, which may be a basis for questioning the reliability of our conclusions.\n",
    "\n",
    "For Friday evening, the situation is similar. Individual genres vary somewhat, but on the whole, the top 15 is similar for the two cities.\n",
    "\n",
    "Thus, the second hypothesis has been partially proven true:\n",
    "* Users listen to similar music at the beginning and end of the week.\n",
    "* There is no major difference between Springfield and Shelbyville. In both cities, pop is the most popular genre.\n",
    "\n",
    "However, the number of missing values makes this result questionable. In Springfield, there are so many that they affect our top 15. Were we not missing these values, things might look different."
   ]
  },
  {
   "cell_type": "markdown",
   "metadata": {
    "id": "jLmXgdanVyhP"
   },
   "source": [
    "[Back to Contents](#back)"
   ]
  },
  {
   "cell_type": "markdown",
   "metadata": {
    "id": "JolODAqr_Zcu"
   },
   "source": [
    "### Hypothesis 3: genre preferences in Springfield and Shelbyville <a id='genre'></a>\n",
    "\n",
    "Hypothesis: Shelbyville loves rap music. Springfield's citizens are more into pop."
   ]
  },
  {
   "cell_type": "markdown",
   "metadata": {
    "id": "DlegSvaT_Zcu"
   },
   "source": [
    "Group the `spr_general` table by genre and find the number of songs played for each genre with the `count()` method. Then sort the result in descending order and store it to `spr_genres`."
   ]
  },
  {
   "cell_type": "code",
   "execution_count": 185,
   "metadata": {
    "id": "r19lIPke_Zcu"
   },
   "outputs": [],
   "source": [
    "# on one line: group the spr_general table by the 'genre' column, \n",
    "# count the 'genre' values with count() in the grouping, \n",
    "# sort the resulting Series in descending order, and store it to spr_genres\n",
    "spr_genres = spr_general.groupby('genre')['genre'].count().sort_values(ascending=False)"
   ]
  },
  {
   "cell_type": "markdown",
   "metadata": {
    "id": "6kMuomxTiIr8"
   },
   "source": [
    "Print the first 10 rows from `spr_genres`:"
   ]
  },
  {
   "cell_type": "code",
   "execution_count": 186,
   "metadata": {
    "id": "WhCSooF8_Zcv"
   },
   "outputs": [
    {
     "data": {
      "text/plain": [
       "genre\n",
       "pop            5892\n",
       "dance          4435\n",
       "rock           3965\n",
       "electronic     3786\n",
       "hiphop         2096\n",
       "classical      1616\n",
       "world          1432\n",
       "alternative    1379\n",
       "ruspop         1372\n",
       "rusrap         1161\n",
       "Name: genre, dtype: int64"
      ]
     },
     "execution_count": 186,
     "metadata": {},
     "output_type": "execute_result"
    }
   ],
   "source": [
    "# printing the first 10 rows of spr_genres\n",
    "spr_genres.head(10)"
   ]
  },
  {
   "cell_type": "markdown",
   "metadata": {
    "id": "cnPG2vnN_Zcv"
   },
   "source": [
    "Now do the same with the data on Shelbyville.\n",
    "\n",
    "Group the `shel_general` table by genre and find the number of songs played for each genre. Then sort the result in descending order and store it to the `shel_genres` table:\n"
   ]
  },
  {
   "cell_type": "code",
   "execution_count": 187,
   "metadata": {
    "id": "gluLIpE7_Zcv"
   },
   "outputs": [],
   "source": [
    "# on one line: group the shel_general table by the 'genre' column, \n",
    "# count the 'genre' values in the grouping with count(), \n",
    "# sort the resulting Series in descending order and store it to shel_genres\n",
    "shel_genres = shel_general.groupby('genre')['genre'].count().sort_values(ascending=False)"
   ]
  },
  {
   "cell_type": "markdown",
   "metadata": {
    "id": "5Doha_ODgyQ8"
   },
   "source": [
    "Print the first 10 rows of `shel_genres`:"
   ]
  },
  {
   "cell_type": "code",
   "execution_count": 188,
   "metadata": {
    "id": "uaGJHjVU_Zcv"
   },
   "outputs": [
    {
     "data": {
      "text/plain": [
       "genre\n",
       "pop            2431\n",
       "dance          1932\n",
       "rock           1879\n",
       "electronic     1736\n",
       "hiphop          960\n",
       "alternative     649\n",
       "classical       646\n",
       "rusrap          564\n",
       "ruspop          538\n",
       "world           515\n",
       "Name: genre, dtype: int64"
      ]
     },
     "execution_count": 188,
     "metadata": {},
     "output_type": "execute_result"
    }
   ],
   "source": [
    "# printing the first 10 rows from shel_genres\n",
    "shel_genres.head(10)"
   ]
  },
  {
   "cell_type": "markdown",
   "metadata": {
    "id": "RY51YJYu_Zcv"
   },
   "source": [
    "**Conclusion**"
   ]
  },
  {
   "cell_type": "markdown",
   "metadata": {
    "id": "nVhnJEm__Zcv"
   },
   "source": [
    "The hypothesis has been partially proven true:\n",
    "* Pop music is the most popular genre in Springfield, as expected.\n",
    "* However, pop music turned out to be equally popular in Springfield and Shelbyville, and rap wasn't in the top 5 for either city.\n"
   ]
  },
  {
   "cell_type": "markdown",
   "metadata": {
    "id": "Byr0RfpPVz14"
   },
   "source": [
    "[Back to Contents](#back)"
   ]
  },
  {
   "cell_type": "markdown",
   "metadata": {
    "id": "ykKQ0N65_Zcv"
   },
   "source": [
    "# Findings <a id='end'></a>"
   ]
  },
  {
   "cell_type": "markdown",
   "metadata": {
    "id": "tjUwbHb3_Zcv"
   },
   "source": [
    "We have tested the following three hypotheses:\n",
    "\n",
    "1. User activity differs depending on the day of the week and from city to city. \n",
    "2. On Monday mornings, Springfield and Shelbyville residents listen to different genres. This is also true for Friday evenings. \n",
    "3. Springfield and Shelbyville listeners have different preferences. In both Springfield and Shelbyville, they prefer pop.\n",
    "\n",
    "After analyzing the data, we concluded:\n",
    "\n",
    "1. User activity in Springfield and Shelbyville depends on the day of the week, though the cities vary in different ways. \n",
    "\n",
    "The first hypothesis is fully accepted.\n",
    "\n",
    "2. Musical preferences do not vary significantly over the course of the week in both Springfield and Shelbyville. We can see small differences in order on Mondays, but:\n",
    "* In Springfield and Shelbyville, people listen to pop music most.\n",
    "\n",
    "So we can't accept this hypothesis. We must also keep in mind that the result could have been different if not for the missing values.\n",
    "\n",
    "3. It turns out that the musical preferences of users from Springfield and Shelbyville are quite similar.\n",
    "\n",
    "The third hypothesis is rejected. If there is any difference in preferences, it cannot be seen from this data.\n",
    "\n",
    "### Note \n",
    "In real projects, research involves statistical hypothesis testing, which is more precise and more quantitative. Also note that you cannot always draw conclusions about an entire city based on the data from just one source.\n",
    "\n",
    "You will study hypothesis testing in the sprint on statistical data analysis."
   ]
  },
  {
   "cell_type": "markdown",
   "metadata": {
    "id": "Ju4AHDSgV1FE"
   },
   "source": [
    "[Back to Contents](#back)"
   ]
  }
 ],
 "metadata": {
  "ExecuteTimeLog": [
   {
    "duration": 269,
    "start_time": "2022-08-16T14:42:20.644Z"
   },
   {
    "duration": 65,
    "start_time": "2022-08-16T14:42:29.332Z"
   },
   {
    "duration": 427,
    "start_time": "2022-08-16T14:42:45.745Z"
   },
   {
    "duration": 537,
    "start_time": "2022-08-16T14:42:47.544Z"
   },
   {
    "duration": 261,
    "start_time": "2022-08-16T14:42:51.905Z"
   },
   {
    "duration": 8,
    "start_time": "2022-08-16T14:43:56.755Z"
   },
   {
    "duration": 48,
    "start_time": "2022-08-16T14:45:20.197Z"
   },
   {
    "duration": 4,
    "start_time": "2022-08-16T14:49:43.005Z"
   },
   {
    "duration": 25,
    "start_time": "2022-08-16T14:57:28.869Z"
   },
   {
    "duration": 5,
    "start_time": "2022-08-16T14:57:35.730Z"
   },
   {
    "duration": 15,
    "start_time": "2022-08-16T14:57:49.202Z"
   },
   {
    "duration": 5,
    "start_time": "2022-08-16T14:57:52.177Z"
   },
   {
    "duration": 35,
    "start_time": "2022-08-16T14:58:27.273Z"
   },
   {
    "duration": 27,
    "start_time": "2022-08-16T14:58:32.492Z"
   },
   {
    "duration": 78,
    "start_time": "2022-08-16T14:58:59.402Z"
   },
   {
    "duration": 48,
    "start_time": "2022-08-16T14:59:14.575Z"
   },
   {
    "duration": 28,
    "start_time": "2022-08-16T14:59:52.937Z"
   },
   {
    "duration": 29,
    "start_time": "2022-08-16T15:24:42.490Z"
   },
   {
    "duration": 34,
    "start_time": "2022-08-16T15:24:45.011Z"
   },
   {
    "duration": 19,
    "start_time": "2022-08-16T15:24:58.730Z"
   },
   {
    "duration": 31,
    "start_time": "2022-08-16T15:25:00.763Z"
   },
   {
    "duration": 93,
    "start_time": "2022-08-16T15:25:27.379Z"
   },
   {
    "duration": 105,
    "start_time": "2022-08-16T15:25:34.382Z"
   },
   {
    "duration": 84,
    "start_time": "2022-08-16T15:25:57.492Z"
   },
   {
    "duration": 79,
    "start_time": "2022-08-16T15:26:02.780Z"
   },
   {
    "duration": 90,
    "start_time": "2022-08-16T15:27:08.649Z"
   },
   {
    "duration": 77,
    "start_time": "2022-08-16T15:27:17.350Z"
   },
   {
    "duration": 82,
    "start_time": "2022-08-16T15:27:21.230Z"
   },
   {
    "duration": 94,
    "start_time": "2022-08-16T15:27:23.189Z"
   },
   {
    "duration": 9,
    "start_time": "2022-08-16T16:00:36.374Z"
   },
   {
    "duration": 35,
    "start_time": "2022-08-16T16:00:58.031Z"
   },
   {
    "duration": 12,
    "start_time": "2022-08-16T16:01:03.150Z"
   },
   {
    "duration": 85,
    "start_time": "2022-08-16T16:01:55.882Z"
   },
   {
    "duration": 3,
    "start_time": "2022-08-17T15:58:14.709Z"
   },
   {
    "duration": 4,
    "start_time": "2022-08-17T15:58:20.598Z"
   },
   {
    "duration": 8,
    "start_time": "2022-08-17T15:58:35.670Z"
   },
   {
    "duration": 15,
    "start_time": "2022-08-17T15:58:49.540Z"
   },
   {
    "duration": 3,
    "start_time": "2022-08-17T16:02:47.038Z"
   },
   {
    "duration": 10,
    "start_time": "2022-08-17T16:02:48.931Z"
   },
   {
    "duration": 46,
    "start_time": "2022-08-17T16:02:51.012Z"
   },
   {
    "duration": 69,
    "start_time": "2022-08-20T19:17:46.839Z"
   },
   {
    "duration": 455,
    "start_time": "2022-08-20T19:18:04.132Z"
   },
   {
    "duration": 233,
    "start_time": "2022-08-20T19:18:04.589Z"
   },
   {
    "duration": 125,
    "start_time": "2022-08-20T19:18:04.824Z"
   },
   {
    "duration": 10,
    "start_time": "2022-08-20T19:18:04.951Z"
   },
   {
    "duration": 35,
    "start_time": "2022-08-20T19:18:04.963Z"
   },
   {
    "duration": 4,
    "start_time": "2022-08-20T19:18:04.999Z"
   },
   {
    "duration": 14,
    "start_time": "2022-08-20T19:18:05.004Z"
   },
   {
    "duration": 7,
    "start_time": "2022-08-20T19:18:05.019Z"
   },
   {
    "duration": 62,
    "start_time": "2022-08-20T19:18:05.027Z"
   },
   {
    "duration": 16,
    "start_time": "2022-08-20T19:18:05.094Z"
   },
   {
    "duration": 20,
    "start_time": "2022-08-20T19:18:05.112Z"
   },
   {
    "duration": 90,
    "start_time": "2022-08-20T19:18:05.134Z"
   },
   {
    "duration": 87,
    "start_time": "2022-08-20T19:18:05.226Z"
   },
   {
    "duration": 77,
    "start_time": "2022-08-20T19:18:05.315Z"
   },
   {
    "duration": 43,
    "start_time": "2022-08-20T19:18:05.396Z"
   },
   {
    "duration": 4,
    "start_time": "2022-08-20T19:18:05.441Z"
   },
   {
    "duration": 25,
    "start_time": "2022-08-20T19:18:05.446Z"
   },
   {
    "duration": 69,
    "start_time": "2022-08-20T19:18:05.473Z"
   },
   {
    "duration": 5,
    "start_time": "2022-08-20T19:18:05.544Z"
   },
   {
    "duration": 10,
    "start_time": "2022-08-20T19:18:05.551Z"
   },
   {
    "duration": 29,
    "start_time": "2022-08-20T19:18:05.570Z"
   },
   {
    "duration": 47,
    "start_time": "2022-08-20T19:18:05.601Z"
   },
   {
    "duration": 9,
    "start_time": "2022-08-20T19:18:05.650Z"
   },
   {
    "duration": 49,
    "start_time": "2022-08-20T19:18:05.674Z"
   },
   {
    "duration": 12,
    "start_time": "2022-08-20T19:18:05.725Z"
   },
   {
    "duration": 6,
    "start_time": "2022-08-20T19:18:05.739Z"
   },
   {
    "duration": 8,
    "start_time": "2022-08-20T19:18:05.746Z"
   },
   {
    "duration": 53,
    "start_time": "2022-08-20T19:18:05.756Z"
   },
   {
    "duration": 5,
    "start_time": "2022-08-20T19:18:05.811Z"
   },
   {
    "duration": 8,
    "start_time": "2022-08-20T19:18:05.817Z"
   },
   {
    "duration": 95,
    "start_time": "2022-08-20T19:18:05.826Z"
   },
   {
    "duration": 0,
    "start_time": "2022-08-20T19:18:05.922Z"
   },
   {
    "duration": 0,
    "start_time": "2022-08-20T19:18:05.923Z"
   },
   {
    "duration": 0,
    "start_time": "2022-08-20T19:18:05.924Z"
   },
   {
    "duration": 0,
    "start_time": "2022-08-20T19:18:05.925Z"
   },
   {
    "duration": 0,
    "start_time": "2022-08-20T19:18:05.926Z"
   },
   {
    "duration": 0,
    "start_time": "2022-08-20T19:18:05.927Z"
   },
   {
    "duration": 0,
    "start_time": "2022-08-20T19:18:05.928Z"
   },
   {
    "duration": 0,
    "start_time": "2022-08-20T19:18:05.928Z"
   },
   {
    "duration": 12,
    "start_time": "2022-08-20T19:32:33.905Z"
   },
   {
    "duration": 35,
    "start_time": "2022-08-20T19:33:43.456Z"
   },
   {
    "duration": 27,
    "start_time": "2022-08-20T19:34:35.010Z"
   },
   {
    "duration": 26,
    "start_time": "2022-08-20T19:43:02.811Z"
   },
   {
    "duration": 145,
    "start_time": "2022-08-20T19:43:05.551Z"
   },
   {
    "duration": 2,
    "start_time": "2022-08-20T19:43:12.226Z"
   },
   {
    "duration": 18,
    "start_time": "2022-08-20T19:43:13.484Z"
   },
   {
    "duration": 14,
    "start_time": "2022-08-20T19:44:29.297Z"
   },
   {
    "duration": 5,
    "start_time": "2022-08-20T19:44:31.461Z"
   },
   {
    "duration": 24,
    "start_time": "2022-08-20T19:44:34.181Z"
   },
   {
    "duration": 3,
    "start_time": "2022-08-20T19:45:44.491Z"
   },
   {
    "duration": 3,
    "start_time": "2022-08-20T19:46:06.690Z"
   },
   {
    "duration": 14,
    "start_time": "2022-08-20T19:46:06.835Z"
   },
   {
    "duration": 2,
    "start_time": "2022-08-20T19:46:22.827Z"
   },
   {
    "duration": 16,
    "start_time": "2022-08-20T19:46:24.675Z"
   },
   {
    "duration": 3,
    "start_time": "2022-08-20T19:47:15.102Z"
   },
   {
    "duration": 18,
    "start_time": "2022-08-20T19:47:17.281Z"
   },
   {
    "duration": 3,
    "start_time": "2022-08-20T19:47:50.827Z"
   },
   {
    "duration": 1583,
    "start_time": "2022-08-20T19:47:52.783Z"
   },
   {
    "duration": 3,
    "start_time": "2022-08-20T19:47:59.004Z"
   },
   {
    "duration": 13,
    "start_time": "2022-08-20T19:48:00.539Z"
   },
   {
    "duration": 16,
    "start_time": "2022-08-20T19:48:13.314Z"
   },
   {
    "duration": 12,
    "start_time": "2022-08-20T19:48:22.091Z"
   },
   {
    "duration": 17,
    "start_time": "2022-08-20T19:48:31.242Z"
   },
   {
    "duration": 5,
    "start_time": "2022-08-20T19:48:31.373Z"
   },
   {
    "duration": 11,
    "start_time": "2022-08-20T19:48:37.427Z"
   },
   {
    "duration": 13,
    "start_time": "2022-08-20T19:48:52.525Z"
   },
   {
    "duration": 14,
    "start_time": "2022-08-20T19:48:54.699Z"
   },
   {
    "duration": 3,
    "start_time": "2022-08-20T19:49:38.087Z"
   },
   {
    "duration": 30,
    "start_time": "2022-08-20T19:49:40.153Z"
   },
   {
    "duration": 16,
    "start_time": "2022-08-20T19:49:41.874Z"
   },
   {
    "duration": 12,
    "start_time": "2022-08-20T19:49:42.989Z"
   },
   {
    "duration": 14,
    "start_time": "2022-08-20T19:49:44.629Z"
   },
   {
    "duration": 14,
    "start_time": "2022-08-20T19:49:46.283Z"
   },
   {
    "duration": 15,
    "start_time": "2022-08-20T19:49:48.806Z"
   },
   {
    "duration": 14,
    "start_time": "2022-08-20T19:49:50.027Z"
   },
   {
    "duration": 14,
    "start_time": "2022-08-20T19:49:51.009Z"
   },
   {
    "duration": 14,
    "start_time": "2022-08-20T19:49:51.783Z"
   },
   {
    "duration": 20,
    "start_time": "2022-08-20T19:49:52.671Z"
   },
   {
    "duration": 14,
    "start_time": "2022-08-20T19:49:53.684Z"
   },
   {
    "duration": 5,
    "start_time": "2022-08-20T19:59:44.318Z"
   },
   {
    "duration": 6,
    "start_time": "2022-08-20T19:59:55.117Z"
   },
   {
    "duration": 6,
    "start_time": "2022-08-20T20:00:16.719Z"
   },
   {
    "duration": 15,
    "start_time": "2022-08-20T20:04:40.705Z"
   },
   {
    "duration": 15,
    "start_time": "2022-08-20T20:04:43.731Z"
   },
   {
    "duration": 14,
    "start_time": "2022-08-20T20:04:45.828Z"
   },
   {
    "duration": 13,
    "start_time": "2022-08-20T20:04:46.823Z"
   },
   {
    "duration": 13,
    "start_time": "2022-08-20T20:04:47.770Z"
   },
   {
    "duration": 15,
    "start_time": "2022-08-20T20:04:49.027Z"
   },
   {
    "duration": 15,
    "start_time": "2022-08-20T20:04:50.205Z"
   },
   {
    "duration": 15,
    "start_time": "2022-08-20T20:05:39.327Z"
   },
   {
    "duration": 15,
    "start_time": "2022-08-20T20:05:46.932Z"
   },
   {
    "duration": 13,
    "start_time": "2022-08-20T20:05:48.220Z"
   },
   {
    "duration": 13,
    "start_time": "2022-08-20T20:05:49.546Z"
   },
   {
    "duration": 16,
    "start_time": "2022-08-20T20:05:50.915Z"
   },
   {
    "duration": 13,
    "start_time": "2022-08-20T20:05:52.435Z"
   },
   {
    "duration": 5,
    "start_time": "2022-08-20T20:05:54.604Z"
   },
   {
    "duration": 6,
    "start_time": "2022-08-20T20:05:56.219Z"
   },
   {
    "duration": 13,
    "start_time": "2022-08-21T01:39:45.130Z"
   },
   {
    "duration": 15,
    "start_time": "2022-08-21T01:40:17.404Z"
   },
   {
    "duration": 12,
    "start_time": "2022-08-21T01:40:19.704Z"
   },
   {
    "duration": 9,
    "start_time": "2022-08-21T01:40:31.315Z"
   },
   {
    "duration": 11,
    "start_time": "2022-08-21T01:40:34.036Z"
   },
   {
    "duration": 4,
    "start_time": "2022-08-21T01:49:07.532Z"
   },
   {
    "duration": 22,
    "start_time": "2022-08-21T01:50:09.358Z"
   },
   {
    "duration": 4,
    "start_time": "2022-08-21T01:51:21.374Z"
   },
   {
    "duration": 19,
    "start_time": "2022-08-21T01:51:24.067Z"
   },
   {
    "duration": 4,
    "start_time": "2022-08-21T01:52:18.953Z"
   },
   {
    "duration": 20,
    "start_time": "2022-08-21T01:52:20.683Z"
   },
   {
    "duration": 4,
    "start_time": "2022-08-21T01:53:22.631Z"
   },
   {
    "duration": 21,
    "start_time": "2022-08-21T01:53:24.341Z"
   },
   {
    "duration": 5,
    "start_time": "2022-08-21T01:54:08.767Z"
   },
   {
    "duration": 22,
    "start_time": "2022-08-21T01:54:10.844Z"
   },
   {
    "duration": 4,
    "start_time": "2022-08-21T01:54:55.989Z"
   },
   {
    "duration": 21,
    "start_time": "2022-08-21T01:54:57.997Z"
   },
   {
    "duration": 4,
    "start_time": "2022-08-21T01:55:11.382Z"
   },
   {
    "duration": 22,
    "start_time": "2022-08-21T01:55:12.944Z"
   },
   {
    "duration": 4,
    "start_time": "2022-08-21T01:55:20.334Z"
   },
   {
    "duration": 19,
    "start_time": "2022-08-21T01:55:23.309Z"
   },
   {
    "duration": 14,
    "start_time": "2022-08-21T01:55:43.412Z"
   },
   {
    "duration": 21,
    "start_time": "2022-08-21T01:56:20.069Z"
   },
   {
    "duration": 15,
    "start_time": "2022-08-21T01:56:45.861Z"
   },
   {
    "duration": 23,
    "start_time": "2022-08-21T13:51:06.832Z"
   },
   {
    "duration": 29,
    "start_time": "2022-08-21T13:51:14.871Z"
   },
   {
    "duration": 8,
    "start_time": "2022-08-21T13:51:53.096Z"
   },
   {
    "duration": 25,
    "start_time": "2022-08-21T13:51:56.640Z"
   },
   {
    "duration": 8,
    "start_time": "2022-08-21T13:51:59.121Z"
   },
   {
    "duration": 7,
    "start_time": "2022-08-21T13:52:40.762Z"
   },
   {
    "duration": 18,
    "start_time": "2022-08-21T13:52:44.715Z"
   },
   {
    "duration": 5,
    "start_time": "2022-08-21T13:52:46.793Z"
   },
   {
    "duration": 8,
    "start_time": "2022-08-21T13:52:52.217Z"
   },
   {
    "duration": 360,
    "start_time": "2022-08-22T06:41:50.923Z"
   },
   {
    "duration": 487,
    "start_time": "2022-08-22T06:41:51.284Z"
   },
   {
    "duration": 114,
    "start_time": "2022-08-22T06:41:51.772Z"
   },
   {
    "duration": 6,
    "start_time": "2022-08-22T06:41:51.888Z"
   },
   {
    "duration": 29,
    "start_time": "2022-08-22T06:41:51.895Z"
   },
   {
    "duration": 5,
    "start_time": "2022-08-22T06:41:51.926Z"
   },
   {
    "duration": 13,
    "start_time": "2022-08-22T06:41:51.932Z"
   },
   {
    "duration": 5,
    "start_time": "2022-08-22T06:41:51.947Z"
   },
   {
    "duration": 22,
    "start_time": "2022-08-22T06:41:51.953Z"
   },
   {
    "duration": 29,
    "start_time": "2022-08-22T06:41:51.978Z"
   },
   {
    "duration": 18,
    "start_time": "2022-08-22T06:41:52.008Z"
   },
   {
    "duration": 54,
    "start_time": "2022-08-22T06:41:52.028Z"
   },
   {
    "duration": 71,
    "start_time": "2022-08-22T06:41:52.083Z"
   },
   {
    "duration": 52,
    "start_time": "2022-08-22T06:41:52.156Z"
   },
   {
    "duration": 29,
    "start_time": "2022-08-22T06:41:52.210Z"
   },
   {
    "duration": 7,
    "start_time": "2022-08-22T06:41:52.241Z"
   },
   {
    "duration": 9,
    "start_time": "2022-08-22T06:41:52.249Z"
   },
   {
    "duration": 47,
    "start_time": "2022-08-22T06:41:52.259Z"
   },
   {
    "duration": 24,
    "start_time": "2022-08-22T06:41:52.308Z"
   },
   {
    "duration": 23,
    "start_time": "2022-08-22T06:41:52.333Z"
   },
   {
    "duration": 15,
    "start_time": "2022-08-22T06:41:52.357Z"
   },
   {
    "duration": 35,
    "start_time": "2022-08-22T06:41:52.374Z"
   },
   {
    "duration": 11,
    "start_time": "2022-08-22T06:41:52.411Z"
   },
   {
    "duration": 12,
    "start_time": "2022-08-22T06:41:52.423Z"
   },
   {
    "duration": 11,
    "start_time": "2022-08-22T06:41:52.436Z"
   },
   {
    "duration": 13,
    "start_time": "2022-08-22T06:41:52.448Z"
   },
   {
    "duration": 44,
    "start_time": "2022-08-22T06:41:52.463Z"
   },
   {
    "duration": 5,
    "start_time": "2022-08-22T06:41:52.509Z"
   },
   {
    "duration": 11,
    "start_time": "2022-08-22T06:41:52.515Z"
   },
   {
    "duration": 8,
    "start_time": "2022-08-22T06:41:52.528Z"
   },
   {
    "duration": 4,
    "start_time": "2022-08-22T06:41:52.537Z"
   },
   {
    "duration": 23,
    "start_time": "2022-08-22T06:41:52.542Z"
   },
   {
    "duration": 13,
    "start_time": "2022-08-22T06:41:52.567Z"
   },
   {
    "duration": 45,
    "start_time": "2022-08-22T06:41:52.582Z"
   },
   {
    "duration": 15,
    "start_time": "2022-08-22T06:41:52.628Z"
   },
   {
    "duration": 19,
    "start_time": "2022-08-22T06:41:52.645Z"
   },
   {
    "duration": 7,
    "start_time": "2022-08-22T06:41:52.665Z"
   },
   {
    "duration": 39,
    "start_time": "2022-08-22T06:41:52.673Z"
   },
   {
    "duration": 7,
    "start_time": "2022-08-22T06:41:52.714Z"
   },
   {
    "duration": 45,
    "start_time": "2022-08-23T16:09:54.581Z"
   },
   {
    "duration": 469,
    "start_time": "2022-08-23T16:10:04.485Z"
   },
   {
    "duration": 263,
    "start_time": "2022-08-23T16:10:04.958Z"
   },
   {
    "duration": 137,
    "start_time": "2022-08-23T16:10:05.224Z"
   },
   {
    "duration": 13,
    "start_time": "2022-08-23T16:10:05.364Z"
   },
   {
    "duration": 45,
    "start_time": "2022-08-23T16:10:05.379Z"
   },
   {
    "duration": 6,
    "start_time": "2022-08-23T16:10:05.426Z"
   },
   {
    "duration": 20,
    "start_time": "2022-08-23T16:10:05.434Z"
   },
   {
    "duration": 8,
    "start_time": "2022-08-23T16:10:05.456Z"
   },
   {
    "duration": 43,
    "start_time": "2022-08-23T16:10:05.467Z"
   },
   {
    "duration": 26,
    "start_time": "2022-08-23T16:10:05.514Z"
   },
   {
    "duration": 25,
    "start_time": "2022-08-23T16:10:05.542Z"
   },
   {
    "duration": 124,
    "start_time": "2022-08-23T16:10:05.569Z"
   },
   {
    "duration": 103,
    "start_time": "2022-08-23T16:10:05.700Z"
   },
   {
    "duration": 66,
    "start_time": "2022-08-23T16:10:05.805Z"
   },
   {
    "duration": 49,
    "start_time": "2022-08-23T16:10:05.873Z"
   },
   {
    "duration": 3,
    "start_time": "2022-08-23T16:10:05.924Z"
   },
   {
    "duration": 20,
    "start_time": "2022-08-23T16:10:05.929Z"
   },
   {
    "duration": 66,
    "start_time": "2022-08-23T16:10:05.952Z"
   },
   {
    "duration": 49,
    "start_time": "2022-08-23T16:10:06.020Z"
   },
   {
    "duration": 46,
    "start_time": "2022-08-23T16:10:06.071Z"
   },
   {
    "duration": 30,
    "start_time": "2022-08-23T16:10:06.120Z"
   },
   {
    "duration": 25,
    "start_time": "2022-08-23T16:10:06.153Z"
   },
   {
    "duration": 37,
    "start_time": "2022-08-23T16:10:06.180Z"
   },
   {
    "duration": 20,
    "start_time": "2022-08-23T16:10:06.219Z"
   },
   {
    "duration": 22,
    "start_time": "2022-08-23T16:10:06.241Z"
   },
   {
    "duration": 53,
    "start_time": "2022-08-23T16:10:06.265Z"
   },
   {
    "duration": 21,
    "start_time": "2022-08-23T16:10:06.320Z"
   },
   {
    "duration": 7,
    "start_time": "2022-08-23T16:10:06.345Z"
   },
   {
    "duration": 16,
    "start_time": "2022-08-23T16:10:06.353Z"
   },
   {
    "duration": 32,
    "start_time": "2022-08-23T16:10:06.371Z"
   },
   {
    "duration": 5,
    "start_time": "2022-08-23T16:10:06.405Z"
   },
   {
    "duration": 39,
    "start_time": "2022-08-23T16:10:06.411Z"
   },
   {
    "duration": 19,
    "start_time": "2022-08-23T16:10:06.452Z"
   },
   {
    "duration": 48,
    "start_time": "2022-08-23T16:10:06.473Z"
   },
   {
    "duration": 19,
    "start_time": "2022-08-23T16:10:06.523Z"
   },
   {
    "duration": 25,
    "start_time": "2022-08-23T16:10:06.544Z"
   },
   {
    "duration": 32,
    "start_time": "2022-08-23T16:10:06.570Z"
   },
   {
    "duration": 28,
    "start_time": "2022-08-23T16:10:06.604Z"
   },
   {
    "duration": 9,
    "start_time": "2022-08-23T16:10:06.635Z"
   },
   {
    "duration": 56,
    "start_time": "2022-08-23T16:11:14.377Z"
   },
   {
    "duration": 39,
    "start_time": "2022-08-23T16:11:29.177Z"
   },
   {
    "duration": 23,
    "start_time": "2022-08-23T16:11:47.377Z"
   },
   {
    "duration": 3,
    "start_time": "2022-08-23T16:12:02.896Z"
   },
   {
    "duration": 192,
    "start_time": "2022-08-23T16:12:02.901Z"
   },
   {
    "duration": 139,
    "start_time": "2022-08-23T16:12:03.096Z"
   },
   {
    "duration": 16,
    "start_time": "2022-08-23T16:12:03.236Z"
   },
   {
    "duration": 28,
    "start_time": "2022-08-23T16:12:03.255Z"
   },
   {
    "duration": 5,
    "start_time": "2022-08-23T16:12:03.299Z"
   },
   {
    "duration": 22,
    "start_time": "2022-08-23T16:12:03.305Z"
   },
   {
    "duration": 16,
    "start_time": "2022-08-23T16:12:03.329Z"
   },
   {
    "duration": 22,
    "start_time": "2022-08-23T16:12:05.647Z"
   },
   {
    "duration": 71,
    "start_time": "2022-08-23T16:12:09.882Z"
   },
   {
    "duration": 42,
    "start_time": "2022-08-23T16:12:33.570Z"
   },
   {
    "duration": 3,
    "start_time": "2022-08-23T16:16:25.163Z"
   },
   {
    "duration": 185,
    "start_time": "2022-08-23T16:16:25.168Z"
   },
   {
    "duration": 124,
    "start_time": "2022-08-23T16:16:25.355Z"
   },
   {
    "duration": 11,
    "start_time": "2022-08-23T16:16:25.480Z"
   },
   {
    "duration": 48,
    "start_time": "2022-08-23T16:16:25.501Z"
   },
   {
    "duration": 9,
    "start_time": "2022-08-23T16:16:25.551Z"
   },
   {
    "duration": 24,
    "start_time": "2022-08-23T16:16:25.562Z"
   },
   {
    "duration": 13,
    "start_time": "2022-08-23T16:16:25.588Z"
   },
   {
    "duration": 64,
    "start_time": "2022-08-23T16:16:25.604Z"
   },
   {
    "duration": 38,
    "start_time": "2022-08-23T16:16:25.670Z"
   },
   {
    "duration": 30,
    "start_time": "2022-08-23T16:16:25.710Z"
   },
   {
    "duration": 60,
    "start_time": "2022-08-23T16:16:29.679Z"
   },
   {
    "duration": 79,
    "start_time": "2022-08-23T16:16:31.679Z"
   },
   {
    "duration": 62,
    "start_time": "2022-08-23T16:16:34.064Z"
   },
   {
    "duration": 67,
    "start_time": "2022-08-23T16:17:15.988Z"
   },
   {
    "duration": 61,
    "start_time": "2022-08-23T16:17:17.809Z"
   },
   {
    "duration": 78,
    "start_time": "2022-08-23T16:17:30.562Z"
   },
   {
    "duration": 82,
    "start_time": "2022-08-23T16:17:35.402Z"
   },
   {
    "duration": 65,
    "start_time": "2022-08-23T16:17:43.241Z"
   },
   {
    "duration": 67,
    "start_time": "2022-08-23T16:17:50.840Z"
   },
   {
    "duration": 112,
    "start_time": "2022-08-23T16:18:00.938Z"
   },
   {
    "duration": 73,
    "start_time": "2022-08-23T16:18:02.523Z"
   },
   {
    "duration": 3,
    "start_time": "2022-08-23T16:18:24.591Z"
   },
   {
    "duration": 164,
    "start_time": "2022-08-23T16:18:24.595Z"
   },
   {
    "duration": 119,
    "start_time": "2022-08-23T16:18:24.761Z"
   },
   {
    "duration": 19,
    "start_time": "2022-08-23T16:18:24.881Z"
   },
   {
    "duration": 44,
    "start_time": "2022-08-23T16:18:24.902Z"
   },
   {
    "duration": 4,
    "start_time": "2022-08-23T16:18:24.949Z"
   },
   {
    "duration": 17,
    "start_time": "2022-08-23T16:18:24.955Z"
   },
   {
    "duration": 34,
    "start_time": "2022-08-23T16:18:24.974Z"
   },
   {
    "duration": 79,
    "start_time": "2022-08-23T16:18:25.010Z"
   },
   {
    "duration": 20,
    "start_time": "2022-08-23T16:18:25.091Z"
   },
   {
    "duration": 24,
    "start_time": "2022-08-23T16:18:25.114Z"
   },
   {
    "duration": 62,
    "start_time": "2022-08-23T16:18:27.099Z"
   },
   {
    "duration": 75,
    "start_time": "2022-08-23T16:18:28.841Z"
   },
   {
    "duration": 65,
    "start_time": "2022-08-23T16:18:30.314Z"
   },
   {
    "duration": 59,
    "start_time": "2022-08-23T16:18:35.715Z"
   },
   {
    "duration": 14,
    "start_time": "2022-08-23T16:19:19.086Z"
   },
   {
    "duration": 13,
    "start_time": "2022-08-23T16:19:40.181Z"
   },
   {
    "duration": 20,
    "start_time": "2022-08-23T16:22:59.745Z"
   },
   {
    "duration": 25,
    "start_time": "2022-08-23T16:23:11.722Z"
   },
   {
    "duration": 3,
    "start_time": "2022-08-23T16:33:35.435Z"
   },
   {
    "duration": 176,
    "start_time": "2022-08-23T16:33:35.439Z"
   },
   {
    "duration": 127,
    "start_time": "2022-08-23T16:33:35.618Z"
   },
   {
    "duration": 10,
    "start_time": "2022-08-23T16:33:35.746Z"
   },
   {
    "duration": 47,
    "start_time": "2022-08-23T16:33:35.758Z"
   },
   {
    "duration": 8,
    "start_time": "2022-08-23T16:33:35.807Z"
   },
   {
    "duration": 14,
    "start_time": "2022-08-23T16:33:35.817Z"
   },
   {
    "duration": 6,
    "start_time": "2022-08-23T16:33:35.832Z"
   },
   {
    "duration": 40,
    "start_time": "2022-08-23T16:33:35.840Z"
   },
   {
    "duration": 31,
    "start_time": "2022-08-23T16:33:35.881Z"
   },
   {
    "duration": 35,
    "start_time": "2022-08-23T16:33:35.915Z"
   },
   {
    "duration": 75,
    "start_time": "2022-08-23T16:33:35.952Z"
   },
   {
    "duration": 74,
    "start_time": "2022-08-23T16:33:36.028Z"
   },
   {
    "duration": 59,
    "start_time": "2022-08-23T16:33:36.104Z"
   },
   {
    "duration": 56,
    "start_time": "2022-08-23T16:33:36.164Z"
   },
   {
    "duration": 7,
    "start_time": "2022-08-23T16:33:36.222Z"
   },
   {
    "duration": 27,
    "start_time": "2022-08-23T16:33:36.231Z"
   },
   {
    "duration": 39,
    "start_time": "2022-08-23T16:33:36.260Z"
   },
   {
    "duration": 12,
    "start_time": "2022-08-23T16:33:36.306Z"
   },
   {
    "duration": 20,
    "start_time": "2022-08-23T16:33:36.320Z"
   },
   {
    "duration": 19,
    "start_time": "2022-08-23T16:33:36.344Z"
   },
   {
    "duration": 15,
    "start_time": "2022-08-23T16:33:36.365Z"
   },
   {
    "duration": 23,
    "start_time": "2022-08-23T16:33:36.399Z"
   },
   {
    "duration": 19,
    "start_time": "2022-08-23T16:33:36.426Z"
   },
   {
    "duration": 16,
    "start_time": "2022-08-23T16:33:36.447Z"
   },
   {
    "duration": 44,
    "start_time": "2022-08-23T16:33:36.464Z"
   },
   {
    "duration": 22,
    "start_time": "2022-08-23T16:33:36.511Z"
   },
   {
    "duration": 8,
    "start_time": "2022-08-23T16:33:36.536Z"
   },
   {
    "duration": 14,
    "start_time": "2022-08-23T16:33:36.547Z"
   },
   {
    "duration": 13,
    "start_time": "2022-08-23T16:33:36.562Z"
   },
   {
    "duration": 133,
    "start_time": "2022-08-23T16:33:38.598Z"
   },
   {
    "duration": 5,
    "start_time": "2022-08-23T16:34:18.754Z"
   },
   {
    "duration": 40,
    "start_time": "2022-08-23T16:34:22.518Z"
   },
   {
    "duration": 6,
    "start_time": "2022-08-23T16:34:32.094Z"
   },
   {
    "duration": 25,
    "start_time": "2022-08-23T16:34:33.917Z"
   },
   {
    "duration": 5,
    "start_time": "2022-08-23T16:34:48.695Z"
   },
   {
    "duration": 18,
    "start_time": "2022-08-23T16:34:50.690Z"
   },
   {
    "duration": 4,
    "start_time": "2022-08-23T16:34:57.459Z"
   },
   {
    "duration": 26,
    "start_time": "2022-08-23T16:34:59.397Z"
   },
   {
    "duration": 15,
    "start_time": "2022-08-23T16:35:03.511Z"
   },
   {
    "duration": 24,
    "start_time": "2022-08-23T16:35:05.903Z"
   },
   {
    "duration": 17,
    "start_time": "2022-08-23T16:35:08.277Z"
   },
   {
    "duration": 20,
    "start_time": "2022-08-23T16:35:25.184Z"
   },
   {
    "duration": 7,
    "start_time": "2022-08-23T16:35:39.191Z"
   },
   {
    "duration": 5,
    "start_time": "2022-08-23T16:35:41.686Z"
   },
   {
    "duration": 6,
    "start_time": "2022-08-23T16:36:00.129Z"
   },
   {
    "duration": 6,
    "start_time": "2022-08-23T16:36:02.352Z"
   },
   {
    "duration": 25,
    "start_time": "2022-08-23T16:41:05.030Z"
   },
   {
    "duration": 19,
    "start_time": "2022-08-23T16:41:18.216Z"
   },
   {
    "duration": 33,
    "start_time": "2022-08-23T16:41:38.384Z"
   },
   {
    "duration": 21,
    "start_time": "2022-08-23T16:42:14.336Z"
   },
   {
    "duration": 19,
    "start_time": "2022-08-23T16:42:22.014Z"
   },
   {
    "duration": 20,
    "start_time": "2022-08-23T16:42:56.144Z"
   },
   {
    "duration": 29,
    "start_time": "2022-08-23T16:43:09.004Z"
   },
   {
    "duration": 3,
    "start_time": "2022-08-23T16:43:26.355Z"
   },
   {
    "duration": 184,
    "start_time": "2022-08-23T16:43:26.362Z"
   },
   {
    "duration": 135,
    "start_time": "2022-08-23T16:43:26.549Z"
   },
   {
    "duration": 25,
    "start_time": "2022-08-23T16:43:26.686Z"
   },
   {
    "duration": 50,
    "start_time": "2022-08-23T16:43:26.716Z"
   },
   {
    "duration": 5,
    "start_time": "2022-08-23T16:43:26.768Z"
   },
   {
    "duration": 10,
    "start_time": "2022-08-23T16:43:26.775Z"
   },
   {
    "duration": 4,
    "start_time": "2022-08-23T16:43:26.787Z"
   },
   {
    "duration": 52,
    "start_time": "2022-08-23T16:43:26.793Z"
   },
   {
    "duration": 15,
    "start_time": "2022-08-23T16:43:26.847Z"
   },
   {
    "duration": 24,
    "start_time": "2022-08-23T16:43:26.864Z"
   },
   {
    "duration": 73,
    "start_time": "2022-08-23T16:43:26.890Z"
   },
   {
    "duration": 88,
    "start_time": "2022-08-23T16:43:26.965Z"
   },
   {
    "duration": 76,
    "start_time": "2022-08-23T16:43:27.055Z"
   },
   {
    "duration": 35,
    "start_time": "2022-08-23T16:43:27.135Z"
   },
   {
    "duration": 3,
    "start_time": "2022-08-23T16:43:27.172Z"
   },
   {
    "duration": 13,
    "start_time": "2022-08-23T16:43:27.177Z"
   },
   {
    "duration": 43,
    "start_time": "2022-08-23T16:43:27.204Z"
   },
   {
    "duration": 9,
    "start_time": "2022-08-23T16:43:27.249Z"
   },
   {
    "duration": 12,
    "start_time": "2022-08-23T16:43:27.259Z"
   },
   {
    "duration": 42,
    "start_time": "2022-08-23T16:43:27.272Z"
   },
   {
    "duration": 25,
    "start_time": "2022-08-23T16:43:27.315Z"
   },
   {
    "duration": 21,
    "start_time": "2022-08-23T16:43:27.343Z"
   },
   {
    "duration": 13,
    "start_time": "2022-08-23T16:43:27.365Z"
   },
   {
    "duration": 34,
    "start_time": "2022-08-23T16:43:27.380Z"
   },
   {
    "duration": 37,
    "start_time": "2022-08-23T16:43:27.415Z"
   },
   {
    "duration": 14,
    "start_time": "2022-08-23T16:43:27.454Z"
   },
   {
    "duration": 6,
    "start_time": "2022-08-23T16:43:27.470Z"
   },
   {
    "duration": 13,
    "start_time": "2022-08-23T16:43:27.478Z"
   },
   {
    "duration": 17,
    "start_time": "2022-08-23T16:43:27.503Z"
   },
   {
    "duration": 17,
    "start_time": "2022-08-23T16:43:27.521Z"
   },
   {
    "duration": 29,
    "start_time": "2022-08-23T16:43:27.540Z"
   },
   {
    "duration": 16,
    "start_time": "2022-08-23T16:43:27.572Z"
   },
   {
    "duration": 30,
    "start_time": "2022-08-23T16:43:27.592Z"
   },
   {
    "duration": 22,
    "start_time": "2022-08-23T16:43:27.628Z"
   },
   {
    "duration": 13,
    "start_time": "2022-08-23T16:43:27.651Z"
   },
   {
    "duration": 9,
    "start_time": "2022-08-23T16:43:27.665Z"
   },
   {
    "duration": 8,
    "start_time": "2022-08-23T16:43:27.675Z"
   },
   {
    "duration": 7,
    "start_time": "2022-08-23T16:43:27.685Z"
   }
  ],
  "colab": {
   "collapsed_sections": [
    "E0vqbgi9ay0H",
    "VUC88oWjTJw2",
    "atZAxtq4_Zcu"
   ],
   "name": "EmptyFinalProject.ipynb\"",
   "provenance": []
  },
  "kernelspec": {
   "display_name": "Python 3 (ipykernel)",
   "language": "python",
   "name": "python3"
  },
  "language_info": {
   "codemirror_mode": {
    "name": "ipython",
    "version": 3
   },
   "file_extension": ".py",
   "mimetype": "text/x-python",
   "name": "python",
   "nbconvert_exporter": "python",
   "pygments_lexer": "ipython3",
   "version": "3.11.5"
  },
  "toc": {
   "base_numbering": 1,
   "nav_menu": {},
   "number_sections": true,
   "sideBar": true,
   "skip_h1_title": true,
   "title_cell": "Table of Contents",
   "title_sidebar": "Contents",
   "toc_cell": false,
   "toc_position": {},
   "toc_section_display": true,
   "toc_window_display": false
  }
 },
 "nbformat": 4,
 "nbformat_minor": 4
}
